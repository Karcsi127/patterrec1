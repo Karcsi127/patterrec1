{
 "cells": [
  {
   "cell_type": "markdown",
   "metadata": {
    "collapsed": true
   },
   "source": [
    "# Exercise 1 Implementation"
   ]
  },
  {
   "cell_type": "markdown",
   "metadata": {},
   "source": [
    "Training"
   ]
  },
  {
   "cell_type": "code",
   "execution_count": 1,
   "metadata": {},
   "outputs": [
    {
     "data": {
      "text/plain": [
       "{'__header__': b'MATLAB 5.0 MAT-file, Platform: PCWIN, Created on: Sat May 27 02:07:24 2006',\n",
       " '__version__': '1.0',\n",
       " '__globals__': [],\n",
       " 'X': array([[106, 130, 191, ...,  70, 183,  77],\n",
       "        [103, 129, 185, ...,  62, 250,  72],\n",
       "        [103, 130, 174, ...,  83, 163,  68],\n",
       "        ...,\n",
       "        [ 37,  40,  22, ...,  87, 102,  93],\n",
       "        [ 36,  36,  19, ...,  89,  95, 103],\n",
       "        [ 41,  35,  17, ...,  94, 106, 110]], dtype=uint8),\n",
       " 'l': array([[ 1,  1,  1,  1,  1,  1,  1,  1,  1,  1,  2,  2,  2,  2,  2,  2,\n",
       "          2,  2,  2,  2,  3,  3,  3,  3,  3,  3,  3,  3,  3,  3,  4,  4,\n",
       "          4,  4,  4,  4,  4,  4,  4,  4,  5,  5,  5,  5,  5,  5,  5,  5,\n",
       "          5,  5,  6,  6,  6,  6,  6,  6,  6,  6,  6,  6,  7,  7,  7,  7,\n",
       "          7,  7,  7,  7,  7,  7,  8,  8,  8,  8,  8,  8,  8,  8,  8,  8,\n",
       "          9,  9,  9,  9,  9,  9,  9,  9,  9,  9, 10, 10, 10, 10, 10, 10,\n",
       "         10, 10, 10, 10, 11, 11, 11, 11, 11, 11, 11, 11, 11, 11, 12, 12,\n",
       "         12, 12, 12, 12, 12, 12, 12, 12, 13, 13, 13, 13, 13, 13, 13, 13,\n",
       "         13, 13, 14, 14, 14, 14, 14, 14, 14, 14, 14, 14, 15, 15, 15, 15,\n",
       "         15, 15, 15, 15, 15, 15, 16, 16, 16, 16, 16, 16, 16, 16, 16, 16,\n",
       "         17, 17, 17, 17, 17, 17, 17, 17, 17, 17, 18, 18, 18, 18, 18, 18,\n",
       "         18, 18, 18, 18, 19, 19, 19, 19, 19, 19, 19, 19, 19, 19, 20, 20,\n",
       "         20, 20, 20, 20, 20, 20, 20, 20, 21, 21, 21, 21, 21, 21, 21, 21,\n",
       "         21, 21, 22, 22, 22, 22, 22, 22, 22, 22, 22, 22, 23, 23, 23, 23,\n",
       "         23, 23, 23, 23, 23, 23, 24, 24, 24, 24, 24, 24, 24, 24, 24, 24,\n",
       "         25, 25, 25, 25, 25, 25, 25, 25, 25, 25, 26, 26, 26, 26, 26, 26,\n",
       "         26, 26, 26, 26, 27, 27, 27, 27, 27, 27, 27, 27, 27, 27, 28, 28,\n",
       "         28, 28, 28, 28, 28, 28, 28, 28, 29, 29, 29, 29, 29, 29, 29, 29,\n",
       "         29, 29, 30, 30, 30, 30, 30, 30, 30, 30, 30, 30, 31, 31, 31, 31,\n",
       "         31, 31, 31, 31, 31, 31, 32, 32, 32, 32, 32, 32, 32, 32, 32, 32,\n",
       "         33, 33, 33, 33, 33, 33, 33, 33, 33, 33, 34, 34, 34, 34, 34, 34,\n",
       "         34, 34, 34, 34, 35, 35, 35, 35, 35, 35, 35, 35, 35, 35, 36, 36,\n",
       "         36, 36, 36, 36, 36, 36, 36, 36, 37, 37, 37, 37, 37, 37, 37, 37,\n",
       "         37, 37, 38, 38, 38, 38, 38, 38, 38, 38, 38, 38, 39, 39, 39, 39,\n",
       "         39, 39, 39, 39, 39, 39, 40, 40, 40, 40, 40, 40, 40, 40, 40, 40,\n",
       "         41, 41, 41, 41, 41, 41, 41, 41, 41, 41, 42, 42, 42, 42, 42, 42,\n",
       "         42, 42, 42, 42, 43, 43, 43, 43, 43, 43, 43, 43, 43, 43, 44, 44,\n",
       "         44, 44, 44, 44, 44, 44, 44, 44, 45, 45, 45, 45, 45, 45, 45, 45,\n",
       "         45, 45, 46, 46, 46, 46, 46, 46, 46, 46, 46, 46, 47, 47, 47, 47,\n",
       "         47, 47, 47, 47, 47, 47, 48, 48, 48, 48, 48, 48, 48, 48, 48, 48,\n",
       "         49, 49, 49, 49, 49, 49, 49, 49, 49, 49, 50, 50, 50, 50, 50, 50,\n",
       "         50, 50, 50, 50, 51, 51, 51, 51, 51, 51, 51, 51, 51, 51, 52, 52,\n",
       "         52, 52, 52, 52, 52, 52, 52, 52]], dtype=uint8)}"
      ]
     },
     "execution_count": 1,
     "metadata": {},
     "output_type": "execute_result"
    }
   ],
   "source": [
    "# Imports\n",
    "import scipy.io as sio\n",
    "import numpy as np\n",
    "import matplotlib.pyplot as plt\n",
    "\n",
    "# Load the source file with the face data\n",
    "mat_content = sio.loadmat('face.mat')\n",
    "mat_content # Let's see the content..."
   ]
  },
  {
   "cell_type": "code",
   "execution_count": 2,
   "metadata": {},
   "outputs": [
    {
     "name": "stdout",
     "output_type": "stream",
     "text": [
      "[[106 130 191 ...  70 183  77]\n",
      " [103 129 185 ...  62 250  72]\n",
      " [103 130 174 ...  83 163  68]\n",
      " ...\n",
      " [ 37  40  22 ...  87 102  93]\n",
      " [ 36  36  19 ...  89  95 103]\n",
      " [ 41  35  17 ...  94 106 110]]\n",
      "(2576, 520)\n",
      "[[ 1  1  1  1  1  1  1  1  1  1  2  2  2  2  2  2  2  2  2  2  3  3  3  3\n",
      "   3  3  3  3  3  3  4  4  4  4  4  4  4  4  4  4  5  5  5  5  5  5  5  5\n",
      "   5  5  6  6  6  6  6  6  6  6  6  6  7  7  7  7  7  7  7  7  7  7  8  8\n",
      "   8  8  8  8  8  8  8  8  9  9  9  9  9  9  9  9  9  9 10 10 10 10 10 10\n",
      "  10 10 10 10 11 11 11 11 11 11 11 11 11 11 12 12 12 12 12 12 12 12 12 12\n",
      "  13 13 13 13 13 13 13 13 13 13 14 14 14 14 14 14 14 14 14 14 15 15 15 15\n",
      "  15 15 15 15 15 15 16 16 16 16 16 16 16 16 16 16 17 17 17 17 17 17 17 17\n",
      "  17 17 18 18 18 18 18 18 18 18 18 18 19 19 19 19 19 19 19 19 19 19 20 20\n",
      "  20 20 20 20 20 20 20 20 21 21 21 21 21 21 21 21 21 21 22 22 22 22 22 22\n",
      "  22 22 22 22 23 23 23 23 23 23 23 23 23 23 24 24 24 24 24 24 24 24 24 24\n",
      "  25 25 25 25 25 25 25 25 25 25 26 26 26 26 26 26 26 26 26 26 27 27 27 27\n",
      "  27 27 27 27 27 27 28 28 28 28 28 28 28 28 28 28 29 29 29 29 29 29 29 29\n",
      "  29 29 30 30 30 30 30 30 30 30 30 30 31 31 31 31 31 31 31 31 31 31 32 32\n",
      "  32 32 32 32 32 32 32 32 33 33 33 33 33 33 33 33 33 33 34 34 34 34 34 34\n",
      "  34 34 34 34 35 35 35 35 35 35 35 35 35 35 36 36 36 36 36 36 36 36 36 36\n",
      "  37 37 37 37 37 37 37 37 37 37 38 38 38 38 38 38 38 38 38 38 39 39 39 39\n",
      "  39 39 39 39 39 39 40 40 40 40 40 40 40 40 40 40 41 41 41 41 41 41 41 41\n",
      "  41 41 42 42 42 42 42 42 42 42 42 42 43 43 43 43 43 43 43 43 43 43 44 44\n",
      "  44 44 44 44 44 44 44 44 45 45 45 45 45 45 45 45 45 45 46 46 46 46 46 46\n",
      "  46 46 46 46 47 47 47 47 47 47 47 47 47 47 48 48 48 48 48 48 48 48 48 48\n",
      "  49 49 49 49 49 49 49 49 49 49 50 50 50 50 50 50 50 50 50 50 51 51 51 51\n",
      "  51 51 51 51 51 51 52 52 52 52 52 52 52 52 52 52]]\n",
      "(1, 520)\n",
      "[[106 130 191 ...  70 183  77]\n",
      " [103 129 185 ...  62 250  72]\n",
      " [103 130 174 ...  83 163  68]\n",
      " ...\n",
      " [ 36  36  19 ...  89  95 103]\n",
      " [ 41  35  17 ...  94 106 110]\n",
      " [  1   1   1 ...  52  52  52]]\n",
      "(2577, 520)\n",
      "[[106 103 103 ...  36  41   1]\n",
      " [130 129 130 ...  36  35   1]\n",
      " [191 185 174 ...  19  17   1]\n",
      " ...\n",
      " [ 70  62  83 ...  89  94  52]\n",
      " [183 250 163 ...  95 106  52]\n",
      " [ 77  72  68 ... 103 110  52]] (520, 2577)\n"
     ]
    }
   ],
   "source": [
    "# Store face data and classification\n",
    "face_data = mat_content['X']\n",
    "face_label = mat_content['l'] # Not actually used for PCA training, needed for testing\n",
    "\n",
    "# Append the matching data and labels into array 'faces': unnecessary for PCA training as the labels are not used (unsupervised learning)\n",
    "# But we need it later for assessing our algorithms during testing\n",
    "faces = np.append(face_data, face_label, axis=0)\n",
    "\n",
    "# Check data and correct dimensions\n",
    "print(face_data) # Each column represents one face image, each row a pixel value for a particular coordinate of the image\n",
    "print(face_data.shape) # 520 data points in 2576 dimensions\n",
    "print (face_label)\n",
    "print (face_label.shape) # 520 data points\n",
    "print(faces)\n",
    "print(faces.shape)\n",
    "\n",
    "#Transpose in preparation for division into training and testing material\n",
    "faces_transposed = faces.T\n",
    "print (faces_transposed, faces_transposed.shape)"
   ]
  },
  {
   "cell_type": "code",
   "execution_count": 3,
   "metadata": {},
   "outputs": [
    {
     "name": "stdout",
     "output_type": "stream",
     "text": [
      "[[152 146 147 ...  42  41  41]\n",
      " [116 125 131 ... 126 110   7]\n",
      " [110  88  89 ...  30  42  14]\n",
      " ...\n",
      " [ 93  92  88 ...  19  18  49]\n",
      " [136 118 105 ...  37  43  21]\n",
      " [ 92  82  80 ... 127 128  38]] (520, 2577)\n",
      "[[152 146 147 ...  42  41  41]\n",
      " [116 125 131 ... 126 110   7]\n",
      " [110  88  89 ...  30  42  14]\n",
      " ...\n",
      " [173 158 163 ...  36  37  41]\n",
      " [ 54  52  48 ... 202 204  22]\n",
      " [ 91  91  91 ... 144 155  35]] (416, 2577)\n",
      "[[ 85  85  86 ... 123 135  34]\n",
      " [106 103 103 ...  36  41   1]\n",
      " [138 141 138 ...  29  31  46]\n",
      " ...\n",
      " [ 93  92  88 ...  19  18  49]\n",
      " [136 118 105 ...  37  43  21]\n",
      " [ 92  82  80 ... 127 128  38]] (104, 2577)\n",
      "[ 47  48  49 ... 205 208  12] (2577,)\n",
      "[[ 47  48  49 ... 197 198 202]\n",
      " [ 57  55  52 ... 198 203 207]\n",
      " [ 54  53  53 ... 203 204 207]\n",
      " ...\n",
      " [135 115 130 ... 205 208 207]\n",
      " [122 105 207 ... 204 208 208]\n",
      " [ 96 192 246 ... 203 205 208]] (46, 56)\n"
     ]
    },
    {
     "data": {
      "text/plain": [
       "<matplotlib.image.AxesImage at 0xb1cca2048>"
      ]
     },
     "execution_count": 3,
     "metadata": {},
     "output_type": "execute_result"
    },
    {
     "data": {
      "image/png": "[encoded data removed]",
      "text/plain": [
       "<Figure size 432x288 with 1 Axes>"
      ]
     },
     "metadata": {
      "needs_background": "light"
     },
     "output_type": "display_data"
    },
    {
     "data": {
      "image/png": "[encoded data removed]",
      "text/plain": [
       "<Figure size 432x288 with 1 Axes>"
      ]
     },
     "metadata": {
      "needs_background": "light"
     },
     "output_type": "display_data"
    }
   ],
   "source": [
    "#Divide the data set into training and testing sets: 80% is training, 20% is testing\n",
    "\n",
    "np.random.shuffle(faces_transposed) # Shuffle the rows (This is why we transposed)\n",
    "print(faces_transposed, faces_transposed.shape)\n",
    "training, test = faces_transposed[:416,:], faces_transposed[416:,:]\n",
    "print (training, training.shape)\n",
    "print (test, test.shape)\n",
    "\n",
    "image_99 = faces_transposed[99]\n",
    "print(image_99, image_99.shape)\n",
    "image_99 = np.reshape(image_99[:2576], (46, 56))\n",
    "print (image_99, image_99.shape)\n",
    "plt.imshow(image_99.T, cmap = 'gist_gray') # It is a person, so the data manipulation makes sense so far\n",
    "plt.figure()\n",
    "plt.imshow(np.reshape(faces_transposed[100, :2576], (46,56)).T, cmap = 'gist_gray') # print 100th image as a sanity check to make sure we have shuffled along the right dimension of the array"
   ]
  },
  {
   "cell_type": "code",
   "execution_count": 4,
   "metadata": {},
   "outputs": [
    {
     "name": "stdout",
     "output_type": "stream",
     "text": [
      "[[152 146 147 ...  41  42  41]\n",
      " [116 125 131 ... 133 126 110]\n",
      " [110  88  89 ... 184  30  42]\n",
      " ...\n",
      " [173 158 163 ...  33  36  37]\n",
      " [ 54  52  48 ... 203 202 204]\n",
      " [ 91  91  91 ... 151 144 155]] (416, 2576)\n",
      "[121.58653846 121.44951923 119.25       ...  87.30048077  86.18990385\n",
      "  84.59375   ] (2576,)\n"
     ]
    },
    {
     "data": {
      "text/plain": [
       "<matplotlib.image.AxesImage at 0xb1cc51898>"
      ]
     },
     "execution_count": 4,
     "metadata": {},
     "output_type": "execute_result"
    },
    {
     "data": {
      "image/png": "[encoded data removed]",
      "text/plain": [
       "<Figure size 432x288 with 1 Axes>"
      ]
     },
     "metadata": {
      "needs_background": "light"
     },
     "output_type": "display_data"
    },
    {
     "data": {
      "image/png": "[encoded data removed]",
      "text/plain": [
       "<Figure size 432x288 with 1 Axes>"
      ]
     },
     "metadata": {
      "needs_background": "light"
     },
     "output_type": "display_data"
    }
   ],
   "source": [
    "# Now let's start image recognition by PCA\n",
    "# We have face images that are CENTERED and they are of the SAME SIZE (needed for PCA)\n",
    "# They are normalised for SCALE, ORIENTATION and TRANSLATION\n",
    "\n",
    "# First, we only need the training face set without the labels\n",
    "# Images are represented as rows of the array 'pca_train'\n",
    "pca_train = training [:, :2576]\n",
    "pca_test = test [:, :2576]\n",
    "print (pca_train, pca_train.shape)\n",
    "plt.imshow(np.reshape(pca_train[0, :], (46,56)).T, cmap = 'gist_gray') # show the first face image\n",
    "\n",
    "# Let's compute the average face vector\n",
    "avg_face = np.mean(pca_train, axis=0)\n",
    "print (avg_face, avg_face.shape)\n",
    "plt.figure()\n",
    "plt.imshow(np.reshape(avg_face, (46,56)).T, cmap = 'gist_gray')"
   ]
  },
  {
   "cell_type": "code",
   "execution_count": 5,
   "metadata": {},
   "outputs": [
    {
     "name": "stdout",
     "output_type": "stream",
     "text": [
      "[[152 146 147 ...  41  42  41]\n",
      " [116 125 131 ... 133 126 110]\n",
      " [110  88  89 ... 184  30  42]\n",
      " ...\n",
      " [173 158 163 ...  33  36  37]\n",
      " [ 54  52  48 ... 203 202 204]\n",
      " [ 91  91  91 ... 151 144 155]] (416, 2576)\n",
      "[121.58653846 121.44951923 119.25       ...  87.30048077  86.18990385\n",
      "  84.59375   ] (2576,)\n",
      "[[ 30.41346154  24.55048077  27.75       ... -46.30048077 -44.18990385\n",
      "  -43.59375   ]\n",
      " [ -5.58653846   3.55048077  11.75       ...  45.69951923  39.81009615\n",
      "   25.40625   ]\n",
      " [-11.58653846 -33.44951923 -30.25       ...  96.69951923 -56.18990385\n",
      "  -42.59375   ]\n",
      " ...\n",
      " [ 51.41346154  36.55048077  43.75       ... -54.30048077 -50.18990385\n",
      "  -47.59375   ]\n",
      " [-67.58653846 -69.44951923 -71.25       ... 115.69951923 115.81009615\n",
      "  119.40625   ]\n",
      " [-30.58653846 -30.44951923 -28.25       ...  63.69951923  57.81009615\n",
      "   70.40625   ]] (416, 2576)\n",
      "(2576, 416)\n",
      "[[1070054.88461538 1023468.31730769  941209.         ... -236146.31730769\n",
      "  -250265.33653846 -248472.875     ]\n",
      " [1023468.31730769 1127938.93990385 1070475.25       ... -231887.18990385\n",
      "  -247268.51201923 -248783.03125   ]\n",
      " [ 941209.         1070475.25       1124972.         ... -236761.25\n",
      "  -249212.75       -253484.75      ]\n",
      " ...\n",
      " [-236146.31730769 -231887.18990385 -236761.25       ... 1209405.43990385\n",
      "  1157473.26201923 1109196.78125   ]\n",
      " [-250265.33653846 -247268.51201923 -249212.75       ... 1157473.26201923\n",
      "  1267077.99759615 1216910.09375   ]\n",
      " [-248472.875      -248783.03125    -253484.75       ... 1109196.78125\n",
      "  1216910.09375    1253528.34375   ]] (2576, 2576)\n",
      "[[2572.24731879 2460.26037814 2262.52163462 ... -567.65941661\n",
      "  -601.59936668 -597.2905649 ]\n",
      " [2460.26037814 2711.39168246 2573.2578125  ... -557.42112958\n",
      "  -594.39546158 -598.03613281]\n",
      " [2262.52163462 2573.2578125  2704.25961538 ... -569.13762019\n",
      "  -599.06911058 -609.33834135]\n",
      " ...\n",
      " [-567.65941661 -557.42112958 -569.13762019 ... 2907.22461515\n",
      "  2782.38764908 2666.33841647]\n",
      " [-601.59936668 -594.39546158 -599.06911058 ... 2782.38764908\n",
      "  3045.86057114 2925.26464844]\n",
      " [-597.2905649  -598.03613281 -609.33834135 ... 2666.33841647\n",
      "  2925.26464844 3013.28928786]] (2576, 2576)\n"
     ]
    },
    {
     "data": {
      "image/png": "[encoded data removed]",
      "text/plain": [
       "<Figure size 432x288 with 1 Axes>"
      ]
     },
     "metadata": {
      "needs_background": "light"
     },
     "output_type": "display_data"
    }
   ],
   "source": [
    "# Now let's subtract the mean face from all of our face images\n",
    "print (pca_train, pca_train.shape)\n",
    "print (avg_face, avg_face.shape)\n",
    "pca_train_norm = pca_train-avg_face # works because of broadcasting\n",
    "print (pca_train_norm, pca_train_norm.shape)\n",
    "plt.imshow(np.reshape(pca_train_norm[0, :], (46,56)).T, cmap = 'gist_gray') \n",
    "# Show the first normalised face image and compare it to the previously printed image: not the same\n",
    "\n",
    "pca_train_norm_transposed = pca_train_norm.T\n",
    "print (pca_train_norm_transposed.shape)\n",
    "# Computing the covariance matrix\n",
    "cov = np.dot(pca_train_norm_transposed, pca_train_norm)\n",
    "print (cov, cov.shape)\n",
    "cov = cov/416\n",
    "print (cov, cov.shape)"
   ]
  },
  {
   "cell_type": "code",
   "execution_count": null,
   "metadata": {},
   "outputs": [],
   "source": [
    "# Computing the eigenvalues and eigenvectors of the covariance matrix\n",
    "eigvals, eigvecs = np.linalg.eig(cov) # these are not ordered, so we order them and the corresponding eigenvalues\n",
    "print (eigvals, eigvals.shape)\n",
    "print (eigvecs, eigvecs.shape)\n",
    "\n",
    "eig_test_1 = np.dot(cov, eigvecs[:, 0])\n",
    "eig_test_2 = eigvecs[:, 0]*eigvals[0]\n",
    "print (eig_test_1, eig_test_1.shape)\n",
    "print (eig_test_2, eig_test_2.shape)\n",
    "print (eig_test_1-eig_test_2, (eig_test_1-eig_test_2).shape) # Checking them: they are basically zero, so the eigenvalue computation is good\n"
   ]
  },
  {
   "cell_type": "code",
   "execution_count": null,
   "metadata": {},
   "outputs": [],
   "source": [
    "# take absolute value of the eigenvalues (complex eigenvalues are the result of calculation rounding errors)\n",
    "eigvals = np.real(eigvals)\n",
    "print (eigvals, eigvals.shape)\n",
    "eigvecs = np.real(eigvecs)\n",
    "print (eigvecs, eigvecs.shape)\n",
    "\n",
    "# order them\n",
    "print (eigvals.argsort(), eigvals.argsort().shape)\n",
    "index = eigvals.argsort()[::-1] # argsort returns the indices that would sort an array (in this case the vector eigvals)\n",
    "print (index, index.shape)\n",
    "eigvals = eigvals[index]\n",
    "eigvecs = eigvecs[:,index]\n",
    "\n",
    "x = np.arange(0, 2576)\n",
    "print (x, x.shape)\n",
    "print (eigvals, eigvals.shape)\n",
    "\n",
    "# plot them\n",
    "plt.subplot(3, 1, 1)\n",
    "plt.plot(x, eigvals) # clearly out of scale, so let's just take the first 200 of them\n",
    "plt.title('All eigenvalues of the covariance matrix')\n",
    "\n",
    "plt.subplot(3, 1, 2)\n",
    "plt.plot(x[:200], eigvals[:200]) # still out of scale, so let's just take the first 20 of them\n",
    "plt.title('First 200 eigenvalues of the covariance matrix')\n",
    "\n",
    "plt.subplot(3, 1, 3)\n",
    "plt.plot(x[:20], eigvals[:20])\n",
    "plt.title('First 20 eigenvalues of the covariance matrix')\n",
    "plt.show()"
   ]
  },
  {
   "cell_type": "code",
   "execution_count": null,
   "metadata": {},
   "outputs": [],
   "source": [
    "# We just keep the first n eigenvectors and eigenvalues\n",
    "\n",
    "n = 500\n",
    "eigvecs_best = eigvecs[:, :n]\n",
    "eigvals_best = eigvals[:n]\n",
    "print (eigvecs_best, eigvecs_best.shape)\n",
    "print (eigvals_best, eigvals_best.shape)\n",
    "\n",
    "# Projecting each training data point to the space spanned by the eigenvectors\n",
    "proj_pca_train_norm = np.zeros((416, n))\n",
    "for i in range(416):\n",
    "    proj_pca_train_norm [i, :] = np.dot(pca_train_norm[i, :], eigvecs_best)\n",
    "    \n",
    "print (proj_pca_train_norm, proj_pca_train_norm.shape)\n",
    "\n",
    "# Now in array proj_pca_train_norm, in each row, we have the projected coordinates for each face image"
   ]
  },
  {
   "cell_type": "code",
   "execution_count": null,
   "metadata": {
    "scrolled": true
   },
   "outputs": [],
   "source": [
    "# Let's try to reconstruct one face image, just as a sanity check to see if it is still the same face (worse quality of course, because we did a lossy transformation on it)\n",
    "face_check = avg_face + np.dot(eigvecs_best, proj_pca_train_norm[414, :])\n",
    "print (face_check, face_check.shape)\n",
    "plt.imshow(np.reshape(face_check, (46,56)).T, cmap = 'gist_gray')"
   ]
  },
  {
   "cell_type": "markdown",
   "metadata": {},
   "source": [
    "Training"
   ]
  },
  {
   "cell_type": "code",
   "execution_count": null,
   "metadata": {},
   "outputs": [],
   "source": [
    "# Now that we've trained our model, let's test it on our testing data set\n",
    "# First, let's normalise the testing set (subtract the average face from all face images)\n",
    "\n",
    "pca_test_norm = pca_test-avg_face # Works because of broadcasting\n",
    "print (pca_test_norm, pca_test_norm.shape)\n",
    "\n",
    "# Then let's project each testing image to the eigenspace (space spanned by the best eigenvectors)\n",
    "proj_pca_test_norm = np.zeros((104, n))\n",
    "for i in range(104):\n",
    "    proj_pca_test_norm [i, :] = np.dot(pca_test_norm[i, :], eigvecs_best)\n",
    "\n",
    "print (proj_pca_test_norm, proj_pca_test_norm.shape)\n",
    "\n",
    "# Now in array proj_pca_test_norm, in each row, we have the projected coordinates for each face image"
   ]
  },
  {
   "cell_type": "code",
   "execution_count": null,
   "metadata": {
    "scrolled": false
   },
   "outputs": [],
   "source": [
    "# Let's classify the first image\n",
    "plt.imshow(np.reshape(pca_test[0, :], (46,56)).T, cmap = 'gist_gray')\n",
    "plt.figure()\n",
    "\n",
    "distances = np.zeros(416)\n",
    "\n",
    "for i in range(416):\n",
    "    distances[i] = np.linalg.norm(proj_pca_train_norm[i, :]-proj_pca_test_norm[0, :])\n",
    "    \n",
    "print (distances, distances.shape)\n",
    "\n",
    "smallest_distance = distances.min()\n",
    "smallest_index = distances.argmin()\n",
    "print (smallest_distance, smallest_index)\n",
    "\n",
    "# Which identity does it belong to according to the learning set?\n",
    "print (training[smallest_index, 2576])\n",
    "# Which identity does it actually belong to?\n",
    "print (test[0, 2576])\n",
    "\n",
    "# Print the picture that our picture is the closest to\n",
    "plt.imshow(np.reshape(pca_train[smallest_index, :], (46,56)).T, cmap = 'gist_gray')\n",
    "plt.figure()\n",
    "\n",
    "# Print our actual image\n",
    "plt.imshow(np.reshape(pca_test[0, :], (46,56)).T, cmap = 'gist_gray')"
   ]
  },
  {
   "cell_type": "code",
   "execution_count": null,
   "metadata": {},
   "outputs": [],
   "source": [
    "# Now let's do this for all of the testing images\n",
    "\n",
    "distances = np.zeros((416, 104)) # In each row we store the distances (1 column = 1 testing image's distances)\n",
    "\n",
    "for k in range (104):\n",
    "    for i in range(416):\n",
    "        distances[i, k] = np.linalg.norm(proj_pca_train_norm[i, :]-proj_pca_test_norm[k, :])\n",
    "        \n",
    "# Now we have in each column the distances of the testing images from each of the training images.\n",
    "# Next step is to find the minimum of each column, and the corresponding row index (per column)\n",
    "print (distances, distances.shape)\n",
    "\n",
    "smallest_distance = distances.min(axis=0) # min per columns\n",
    "smallest_index = distances.argmin(axis=0)\n",
    "print (smallest_distance, smallest_distance.shape)\n",
    "print (smallest_index, smallest_index.shape)\n",
    "\n",
    "# Get the smallest distance image's label\n",
    "#detected_label = np.zeros (104)\n",
    "#for j in range(104):\n",
    "#    detected_label[j] = training[smallest_index[j], 2576]\n",
    "#print (detected_label, detected_label.shape)\n",
    "\n",
    "actual_label = test [:, 2576].T\n",
    "\n",
    "print (actual_label, actual_label.shape)\n",
    "\n",
    "\n",
    "# Which identity does it belong to according to the learning set?\n",
    "print (training[smallest_index, 2576], training[smallest_index, 2576].shape)\n",
    "\n",
    "same = (training[smallest_index, 2576]==actual_label)\n",
    "\n",
    "print (same, same.shape)\n",
    "\n",
    "percentage = np.sum(same)/104\n",
    "\n",
    "print (percentage)\n"
   ]
  },
  {
   "cell_type": "code",
   "execution_count": null,
   "metadata": {},
   "outputs": [],
   "source": []
  },
  {
   "cell_type": "code",
   "execution_count": null,
   "metadata": {},
   "outputs": [],
   "source": []
  },
  {
   "cell_type": "code",
   "execution_count": null,
   "metadata": {},
   "outputs": [],
   "source": [
    "# Let's try to reconstruct one testing face image, just as a sanity check to see if it is still the same face (worse quality of course, because we did a lossy transformation on it)\n",
    "face_check_test = avg_face + np.dot(abs(eigvecs_best), proj_pca_train_norm[414, :])\n",
    "print (face_check, face_check.shape)\n",
    "plt.imshow(np.reshape(face_check, (46,56)).T, cmap = 'gist_gray')"
   ]
  },
  {
   "cell_type": "code",
   "execution_count": null,
   "metadata": {},
   "outputs": [],
   "source": []
  },
  {
   "cell_type": "code",
   "execution_count": null,
   "metadata": {},
   "outputs": [],
   "source": []
  }
 ],
 "metadata": {
  "kernelspec": {
   "display_name": "Python 3",
   "language": "python",
   "name": "python3"
  },
  "language_info": {
   "codemirror_mode": {
    "name": "ipython",
    "version": 3
   },
   "file_extension": ".py",
   "mimetype": "text/x-python",
   "name": "python",
   "nbconvert_exporter": "python",
   "pygments_lexer": "ipython3",
   "version": "3.7.0"
  }
 },
 "nbformat": 4,
 "nbformat_minor": 2
}
