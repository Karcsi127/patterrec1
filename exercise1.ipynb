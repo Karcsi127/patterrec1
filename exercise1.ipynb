{
 "cells": [
  {
   "cell_type": "markdown",
   "metadata": {
    "collapsed": true
   },
   "source": [
    "# Exercise 1 Implementation"
   ]
  },
  {
   "cell_type": "code",
   "execution_count": 12,
   "metadata": {},
   "outputs": [
    {
     "data": {
      "text/plain": [
       "{'__header__': b'MATLAB 5.0 MAT-file, Platform: PCWIN, Created on: Sat May 27 02:07:24 2006',\n",
       " '__version__': '1.0',\n",
       " '__globals__': [],\n",
       " 'X': array([[106, 130, 191, ...,  70, 183,  77],\n",
       "        [103, 129, 185, ...,  62, 250,  72],\n",
       "        [103, 130, 174, ...,  83, 163,  68],\n",
       "        ...,\n",
       "        [ 37,  40,  22, ...,  87, 102,  93],\n",
       "        [ 36,  36,  19, ...,  89,  95, 103],\n",
       "        [ 41,  35,  17, ...,  94, 106, 110]], dtype=uint8),\n",
       " 'l': array([[ 1,  1,  1,  1,  1,  1,  1,  1,  1,  1,  2,  2,  2,  2,  2,  2,\n",
       "          2,  2,  2,  2,  3,  3,  3,  3,  3,  3,  3,  3,  3,  3,  4,  4,\n",
       "          4,  4,  4,  4,  4,  4,  4,  4,  5,  5,  5,  5,  5,  5,  5,  5,\n",
       "          5,  5,  6,  6,  6,  6,  6,  6,  6,  6,  6,  6,  7,  7,  7,  7,\n",
       "          7,  7,  7,  7,  7,  7,  8,  8,  8,  8,  8,  8,  8,  8,  8,  8,\n",
       "          9,  9,  9,  9,  9,  9,  9,  9,  9,  9, 10, 10, 10, 10, 10, 10,\n",
       "         10, 10, 10, 10, 11, 11, 11, 11, 11, 11, 11, 11, 11, 11, 12, 12,\n",
       "         12, 12, 12, 12, 12, 12, 12, 12, 13, 13, 13, 13, 13, 13, 13, 13,\n",
       "         13, 13, 14, 14, 14, 14, 14, 14, 14, 14, 14, 14, 15, 15, 15, 15,\n",
       "         15, 15, 15, 15, 15, 15, 16, 16, 16, 16, 16, 16, 16, 16, 16, 16,\n",
       "         17, 17, 17, 17, 17, 17, 17, 17, 17, 17, 18, 18, 18, 18, 18, 18,\n",
       "         18, 18, 18, 18, 19, 19, 19, 19, 19, 19, 19, 19, 19, 19, 20, 20,\n",
       "         20, 20, 20, 20, 20, 20, 20, 20, 21, 21, 21, 21, 21, 21, 21, 21,\n",
       "         21, 21, 22, 22, 22, 22, 22, 22, 22, 22, 22, 22, 23, 23, 23, 23,\n",
       "         23, 23, 23, 23, 23, 23, 24, 24, 24, 24, 24, 24, 24, 24, 24, 24,\n",
       "         25, 25, 25, 25, 25, 25, 25, 25, 25, 25, 26, 26, 26, 26, 26, 26,\n",
       "         26, 26, 26, 26, 27, 27, 27, 27, 27, 27, 27, 27, 27, 27, 28, 28,\n",
       "         28, 28, 28, 28, 28, 28, 28, 28, 29, 29, 29, 29, 29, 29, 29, 29,\n",
       "         29, 29, 30, 30, 30, 30, 30, 30, 30, 30, 30, 30, 31, 31, 31, 31,\n",
       "         31, 31, 31, 31, 31, 31, 32, 32, 32, 32, 32, 32, 32, 32, 32, 32,\n",
       "         33, 33, 33, 33, 33, 33, 33, 33, 33, 33, 34, 34, 34, 34, 34, 34,\n",
       "         34, 34, 34, 34, 35, 35, 35, 35, 35, 35, 35, 35, 35, 35, 36, 36,\n",
       "         36, 36, 36, 36, 36, 36, 36, 36, 37, 37, 37, 37, 37, 37, 37, 37,\n",
       "         37, 37, 38, 38, 38, 38, 38, 38, 38, 38, 38, 38, 39, 39, 39, 39,\n",
       "         39, 39, 39, 39, 39, 39, 40, 40, 40, 40, 40, 40, 40, 40, 40, 40,\n",
       "         41, 41, 41, 41, 41, 41, 41, 41, 41, 41, 42, 42, 42, 42, 42, 42,\n",
       "         42, 42, 42, 42, 43, 43, 43, 43, 43, 43, 43, 43, 43, 43, 44, 44,\n",
       "         44, 44, 44, 44, 44, 44, 44, 44, 45, 45, 45, 45, 45, 45, 45, 45,\n",
       "         45, 45, 46, 46, 46, 46, 46, 46, 46, 46, 46, 46, 47, 47, 47, 47,\n",
       "         47, 47, 47, 47, 47, 47, 48, 48, 48, 48, 48, 48, 48, 48, 48, 48,\n",
       "         49, 49, 49, 49, 49, 49, 49, 49, 49, 49, 50, 50, 50, 50, 50, 50,\n",
       "         50, 50, 50, 50, 51, 51, 51, 51, 51, 51, 51, 51, 51, 51, 52, 52,\n",
       "         52, 52, 52, 52, 52, 52, 52, 52]], dtype=uint8)}"
      ]
     },
     "execution_count": 12,
     "metadata": {},
     "output_type": "execute_result"
    }
   ],
   "source": [
    "# Imports\n",
    "import scipy.io as sio\n",
    "import numpy as np\n",
    "import matplotlib.pyplot as plt\n",
    "\n",
    "# Load the source file with the face data\n",
    "mat_content = sio.loadmat('face.mat')\n",
    "mat_content # Let's see the content..."
   ]
  },
  {
   "cell_type": "code",
   "execution_count": 13,
   "metadata": {},
   "outputs": [
    {
     "name": "stdout",
     "output_type": "stream",
     "text": [
      "[[106 130 191 ...  70 183  77]\n",
      " [103 129 185 ...  62 250  72]\n",
      " [103 130 174 ...  83 163  68]\n",
      " ...\n",
      " [ 37  40  22 ...  87 102  93]\n",
      " [ 36  36  19 ...  89  95 103]\n",
      " [ 41  35  17 ...  94 106 110]]\n",
      "(2576, 520)\n",
      "[[ 1  1  1  1  1  1  1  1  1  1  2  2  2  2  2  2  2  2  2  2  3  3  3  3\n",
      "   3  3  3  3  3  3  4  4  4  4  4  4  4  4  4  4  5  5  5  5  5  5  5  5\n",
      "   5  5  6  6  6  6  6  6  6  6  6  6  7  7  7  7  7  7  7  7  7  7  8  8\n",
      "   8  8  8  8  8  8  8  8  9  9  9  9  9  9  9  9  9  9 10 10 10 10 10 10\n",
      "  10 10 10 10 11 11 11 11 11 11 11 11 11 11 12 12 12 12 12 12 12 12 12 12\n",
      "  13 13 13 13 13 13 13 13 13 13 14 14 14 14 14 14 14 14 14 14 15 15 15 15\n",
      "  15 15 15 15 15 15 16 16 16 16 16 16 16 16 16 16 17 17 17 17 17 17 17 17\n",
      "  17 17 18 18 18 18 18 18 18 18 18 18 19 19 19 19 19 19 19 19 19 19 20 20\n",
      "  20 20 20 20 20 20 20 20 21 21 21 21 21 21 21 21 21 21 22 22 22 22 22 22\n",
      "  22 22 22 22 23 23 23 23 23 23 23 23 23 23 24 24 24 24 24 24 24 24 24 24\n",
      "  25 25 25 25 25 25 25 25 25 25 26 26 26 26 26 26 26 26 26 26 27 27 27 27\n",
      "  27 27 27 27 27 27 28 28 28 28 28 28 28 28 28 28 29 29 29 29 29 29 29 29\n",
      "  29 29 30 30 30 30 30 30 30 30 30 30 31 31 31 31 31 31 31 31 31 31 32 32\n",
      "  32 32 32 32 32 32 32 32 33 33 33 33 33 33 33 33 33 33 34 34 34 34 34 34\n",
      "  34 34 34 34 35 35 35 35 35 35 35 35 35 35 36 36 36 36 36 36 36 36 36 36\n",
      "  37 37 37 37 37 37 37 37 37 37 38 38 38 38 38 38 38 38 38 38 39 39 39 39\n",
      "  39 39 39 39 39 39 40 40 40 40 40 40 40 40 40 40 41 41 41 41 41 41 41 41\n",
      "  41 41 42 42 42 42 42 42 42 42 42 42 43 43 43 43 43 43 43 43 43 43 44 44\n",
      "  44 44 44 44 44 44 44 44 45 45 45 45 45 45 45 45 45 45 46 46 46 46 46 46\n",
      "  46 46 46 46 47 47 47 47 47 47 47 47 47 47 48 48 48 48 48 48 48 48 48 48\n",
      "  49 49 49 49 49 49 49 49 49 49 50 50 50 50 50 50 50 50 50 50 51 51 51 51\n",
      "  51 51 51 51 51 51 52 52 52 52 52 52 52 52 52 52]]\n",
      "(1, 520)\n",
      "[[106 130 191 ...  70 183  77]\n",
      " [103 129 185 ...  62 250  72]\n",
      " [103 130 174 ...  83 163  68]\n",
      " ...\n",
      " [ 36  36  19 ...  89  95 103]\n",
      " [ 41  35  17 ...  94 106 110]\n",
      " [  1   1   1 ...  52  52  52]]\n",
      "(2577, 520)\n",
      "[[106 103 103 ...  36  41   1]\n",
      " [130 129 130 ...  36  35   1]\n",
      " [191 185 174 ...  19  17   1]\n",
      " ...\n",
      " [ 70  62  83 ...  89  94  52]\n",
      " [183 250 163 ...  95 106  52]\n",
      " [ 77  72  68 ... 103 110  52]] (520, 2577)\n"
     ]
    }
   ],
   "source": [
    "# Store face data and classification\n",
    "face_data = mat_content['X']\n",
    "face_label = mat_content['l'] # Not actually used for PCA training, needed for testing\n",
    "\n",
    "# Append the matching data and labels into array 'faces': unnecessary for PCA training as the labels are not used (unsupervised learning)\n",
    "# But we need it later for assessing our algorithms during testing\n",
    "faces = np.append(face_data, face_label, axis=0)\n",
    "\n",
    "# Check data and correct dimensions\n",
    "print(face_data) # Each column represents one face image, each row a pixel value for a particular coordinate of the image\n",
    "print(face_data.shape) # 520 data points in 2576 dimensions\n",
    "print (face_label)\n",
    "print (face_label.shape) # 520 data points\n",
    "print(faces)\n",
    "print(faces.shape)\n",
    "\n",
    "#Transpose in preparation for division into training and testing material\n",
    "faces_transposed = faces.T\n",
    "print (faces_transposed, faces_transposed.shape)"
   ]
  },
  {
   "cell_type": "code",
   "execution_count": 14,
   "metadata": {},
   "outputs": [
    {
     "name": "stdout",
     "output_type": "stream",
     "text": [
      "[[100 102 132 ...  44  47  20]\n",
      " [ 87  61  67 ...  11  12  13]\n",
      " [ 90  91  91 ...  98  97  43]\n",
      " ...\n",
      " [141 151 158 ...  21  20  51]\n",
      " [ 51  76  74 ...  26  25   2]\n",
      " [250 249 240 ...  35  32  18]] (520, 2577)\n",
      "[[100 102 132 ...  44  47  20]\n",
      " [ 87  61  67 ...  11  12  13]\n",
      " [ 90  91  91 ...  98  97  43]\n",
      " ...\n",
      " [138 129 117 ...  22  24  30]\n",
      " [193 193 192 ...  21  21  24]\n",
      " [ 89  93  91 ...  37  36  45]] (416, 2577)\n",
      "[[101 108 105 ...  11  10  41]\n",
      " [210 158 123 ...  31  31  32]\n",
      " [251 253 253 ... 153 165  35]\n",
      " ...\n",
      " [141 151 158 ...  21  20  51]\n",
      " [ 51  76  74 ...  26  25   2]\n",
      " [250 249 240 ...  35  32  18]] (104, 2577)\n",
      "[126 118 124 ...  33  25  31] (2577,)\n",
      "[[126 118 124 ...  25  23  21]\n",
      " [126 122 126 ...  21  19  21]\n",
      " [123 124 122 ...  22  19  20]\n",
      " ...\n",
      " [142 139 146 ...  40  39  31]\n",
      " [143 141 146 ...  45  36  34]\n",
      " [144 141 149 ...  51  33  25]] (46, 56)\n"
     ]
    },
    {
     "data": {
      "text/plain": [
       "<matplotlib.image.AxesImage at 0x10eb7a898>"
      ]
     },
     "execution_count": 14,
     "metadata": {},
     "output_type": "execute_result"
    },
    {
     "data": {
      "image/png": "[encoded data removed]",
      "text/plain": [
       "<Figure size 432x288 with 1 Axes>"
      ]
     },
     "metadata": {
      "needs_background": "light"
     },
     "output_type": "display_data"
    },
    {
     "data": {
      "image/png": "[encoded data removed]",
      "text/plain": [
       "<Figure size 432x288 with 1 Axes>"
      ]
     },
     "metadata": {
      "needs_background": "light"
     },
     "output_type": "display_data"
    }
   ],
   "source": [
    "#Divide the data set into training and testing sets: 80% is training, 20% is testing\n",
    "\n",
    "np.random.shuffle(faces_transposed) # Shuffle the rows (This is why we transposed)\n",
    "print(faces_transposed, faces_transposed.shape)\n",
    "training, test = faces_transposed[:416,:], faces_transposed[416:,:]\n",
    "print (training, training.shape)\n",
    "print (test, test.shape)\n",
    "\n",
    "image_99 = faces_transposed[99]\n",
    "print(image_99, image_99.shape)\n",
    "image_99 = np.reshape(image_99[:2576], (46, 56))\n",
    "print (image_99, image_99.shape)\n",
    "plt.imshow(image_99.T, cmap = 'gist_gray') # It is a person, so the data manipulation makes sense so far\n",
    "plt.figure()\n",
    "plt.imshow(np.reshape(faces_transposed[100, :2576], (46,56)).T, cmap = 'gist_gray') # print 100th image as a sanity check to make sure we have shuffled along the right dimension of the array"
   ]
  },
  {
   "cell_type": "code",
   "execution_count": 15,
   "metadata": {},
   "outputs": [
    {
     "name": "stdout",
     "output_type": "stream",
     "text": [
      "[[100 102 132 ...  44  44  47]\n",
      " [ 87  61  67 ...  12  11  12]\n",
      " [ 90  91  91 ... 105  98  97]\n",
      " ...\n",
      " [138 129 117 ...  22  22  24]\n",
      " [193 193 192 ...  21  21  21]\n",
      " [ 89  93  91 ...  37  37  36]] (416, 2576)\n",
      "[122.54326923 123.         120.22596154 ...  84.32692308  82.76201923\n",
      "  81.20913462] (2576,)\n"
     ]
    },
    {
     "data": {
      "text/plain": [
       "<matplotlib.image.AxesImage at 0x10eba6da0>"
      ]
     },
     "execution_count": 15,
     "metadata": {},
     "output_type": "execute_result"
    },
    {
     "data": {
      "image/png": "[encoded data removed]",
      "text/plain": [
       "<Figure size 432x288 with 1 Axes>"
      ]
     },
     "metadata": {
      "needs_background": "light"
     },
     "output_type": "display_data"
    },
    {
     "data": {
      "image/png": "[encoded data removed]",
      "text/plain": [
       "<Figure size 432x288 with 1 Axes>"
      ]
     },
     "metadata": {
      "needs_background": "light"
     },
     "output_type": "display_data"
    }
   ],
   "source": [
    "# Now let's start image recognition by PCA\n",
    "# We have face images that are CENTERED and they are of the SAME SIZE (needed for PCA)\n",
    "# They are normalised for SCALE, ORIENTATION and TRANSLATION\n",
    "\n",
    "# First, we only need the training face set without the labels\n",
    "# Images are represented as rows of the array 'pca_train'\n",
    "pca_train = training [:, :2576]\n",
    "pca_test = test [:, :2576]\n",
    "print (pca_train, pca_train.shape)\n",
    "plt.imshow(np.reshape(pca_train[0, :], (46,56)).T, cmap = 'gist_gray') # show the first face image\n",
    "\n",
    "# Let's compute the average face vector\n",
    "avg_face = np.mean(pca_train, axis=0)\n",
    "print (avg_face, avg_face.shape)\n",
    "plt.figure()\n",
    "plt.imshow(np.reshape(avg_face, (46,56)).T, cmap = 'gist_gray')"
   ]
  },
  {
   "cell_type": "code",
   "execution_count": 16,
   "metadata": {},
   "outputs": [
    {
     "name": "stdout",
     "output_type": "stream",
     "text": [
      "[[100 102 132 ...  44  44  47]\n",
      " [ 87  61  67 ...  12  11  12]\n",
      " [ 90  91  91 ... 105  98  97]\n",
      " ...\n",
      " [138 129 117 ...  22  22  24]\n",
      " [193 193 192 ...  21  21  21]\n",
      " [ 89  93  91 ...  37  37  36]] (416, 2576)\n",
      "[122.54326923 123.         120.22596154 ...  84.32692308  82.76201923\n",
      "  81.20913462] (2576,)\n",
      "[[-22.54326923 -21.          11.77403846 ... -40.32692308 -38.76201923\n",
      "  -34.20913462]\n",
      " [-35.54326923 -62.         -53.22596154 ... -72.32692308 -71.76201923\n",
      "  -69.20913462]\n",
      " [-32.54326923 -32.         -29.22596154 ...  20.67307692  15.23798077\n",
      "   15.79086538]\n",
      " ...\n",
      " [ 15.45673077   6.          -3.22596154 ... -62.32692308 -60.76201923\n",
      "  -57.20913462]\n",
      " [ 70.45673077  70.          71.77403846 ... -63.32692308 -61.76201923\n",
      "  -60.20913462]\n",
      " [-33.54326923 -30.         -29.22596154 ... -47.32692308 -45.76201923\n",
      "  -45.20913462]] (416, 2576)\n",
      "(2576, 416)\n",
      "[[1026487.22115385  967168.          872986.93269231 ... -199959.88461538\n",
      "  -223634.21634615 -222209.26442308]\n",
      " [ 967168.         1080258.         1013700.         ... -204298.\n",
      "  -229073.         -231444.        ]\n",
      " [ 872986.93269231 1013700.         1072372.75961538 ... -223484.73076923\n",
      "  -243278.62980769 -241678.65865385]\n",
      " ...\n",
      " [-199959.88461538 -204298.         -223484.73076923 ... 1127489.53846154\n",
      "  1068479.36538462 1028056.55769231]\n",
      " [-223634.21634615 -229073.         -243278.62980769 ... 1068479.36538462\n",
      "  1177657.43990385 1140229.70432692]\n",
      " [-222209.26442308 -231444.         -241678.65865385 ... 1028056.55769231\n",
      "  1140229.70432692 1182288.80528846]] (2576, 2576)\n",
      "[[2467.51735854 2324.92307692 2098.52628051 ... -480.67279956\n",
      "  -537.58225083 -534.15688563]\n",
      " [2324.92307692 2596.77403846 2436.77884615 ... -491.10096154\n",
      "  -550.65625    -556.35576923]\n",
      " [2098.52628051 2436.77884615 2577.81913369 ... -537.2229105\n",
      "  -584.80439858 -580.95831407]\n",
      " ...\n",
      " [-480.67279956 -491.10096154 -537.2229105  ... 2710.31139053\n",
      "  2568.46001294 2471.28980214]\n",
      " [-537.58225083 -550.65625    -584.80439858 ... 2568.46001294\n",
      "  2830.90730746 2740.93678925]\n",
      " [-534.15688563 -556.35576923 -580.95831407 ... 2471.28980214\n",
      "  2740.93678925 2842.04039733]] (2576, 2576)\n"
     ]
    },
    {
     "data": {
      "image/png": "[encoded data removed]",
      "text/plain": [
       "<Figure size 432x288 with 1 Axes>"
      ]
     },
     "metadata": {
      "needs_background": "light"
     },
     "output_type": "display_data"
    }
   ],
   "source": [
    "# Now let's subtract the mean face from all of our face images\n",
    "print (pca_train, pca_train.shape)\n",
    "print (avg_face, avg_face.shape)\n",
    "pca_train_norm = pca_train-avg_face # works because of broadcasting\n",
    "print (pca_train_norm, pca_train_norm.shape)\n",
    "plt.imshow(np.reshape(pca_train_norm[0, :], (46,56)).T, cmap = 'gist_gray') \n",
    "# Show the first normalised face image and compare it to the previously printed image: not the same\n",
    "\n",
    "pca_train_norm_transposed = pca_train_norm.T\n",
    "print (pca_train_norm_transposed.shape)\n",
    "# Computing the covariance matrix\n",
    "cov = np.dot(pca_train_norm_transposed, pca_train_norm)\n",
    "print (cov, cov.shape)\n",
    "cov = cov/416\n",
    "print (cov, cov.shape)"
   ]
  },
  {
   "cell_type": "code",
   "execution_count": 25,
   "metadata": {},
   "outputs": [
    {
     "name": "stdout",
     "output_type": "stream",
     "text": [
      "[ 8.74127044e+05+0.00000000e+00j  5.28699548e+05+0.00000000e+00j\n",
      "  4.46022042e+05+0.00000000e+00j ...  6.67576292e-14-7.42934891e-14j\n",
      " -2.91498814e-14+0.00000000e+00j -5.37603944e-13+0.00000000e+00j] (2576,)\n",
      "[[-0.0126596 +0.00000000e+00j  0.01316925+0.00000000e+00j\n",
      "  -0.0151215 +0.00000000e+00j ...  0.00268952-2.09619917e-03j\n",
      "   0.00126139+0.00000000e+00j -0.00067021+0.00000000e+00j]\n",
      " [-0.01418063+0.00000000e+00j  0.01335282+0.00000000e+00j\n",
      "  -0.01614476+0.00000000e+00j ...  0.00044461-1.20810849e-03j\n",
      "  -0.00026114+0.00000000e+00j -0.00148068+0.00000000e+00j]\n",
      " [-0.01489821+0.00000000e+00j  0.01367529+0.00000000e+00j\n",
      "  -0.0176914 +0.00000000e+00j ...  0.00141712-8.36893085e-05j\n",
      "  -0.00092195+0.00000000e+00j -0.00016851+0.00000000e+00j]\n",
      " ...\n",
      " [ 0.00921228+0.00000000e+00j -0.04491236+0.00000000e+00j\n",
      "   0.00204616+0.00000000e+00j ... -0.01501319+1.11230560e-02j\n",
      "   0.00827052+0.00000000e+00j  0.00466322+0.00000000e+00j]\n",
      " [ 0.00869456+0.00000000e+00j -0.0446391 +0.00000000e+00j\n",
      "   0.00223799+0.00000000e+00j ... -0.0015198 +1.07577244e-02j\n",
      "   0.01990239+0.00000000e+00j  0.00101812+0.00000000e+00j]\n",
      " [ 0.00822806+0.00000000e+00j -0.04561479+0.00000000e+00j\n",
      "   0.00329355+0.00000000e+00j ... -0.00358591-1.83212616e-02j\n",
      "   0.01828026+0.00000000e+00j  0.01344327+0.00000000e+00j]] (2576, 2576)\n",
      "[-11066.09750269+0.j -12395.67158839+0.j -13022.92543497+0.j ...\n",
      "   8052.7029671 +0.j   7600.15138831+0.j   7192.37242563+0.j] (2576,)\n",
      "[-11066.09750269+0.j -12395.67158839+0.j -13022.92543497+0.j ...\n",
      "   8052.7029671 +0.j   7600.15138831+0.j   7192.37242563+0.j] (2576,)\n",
      "[-1.56433089e-10+0.j  5.45696821e-11+0.j -1.32786226e-10+0.j ...\n",
      " -6.36646291e-12+0.j  9.09494702e-13+0.j  1.81898940e-12+0.j] (2576,)\n"
     ]
    }
   ],
   "source": [
    "# Computing the eigenvalues and eigenvectors of the covariance matrix\n",
    "eigvals, eigvecs = np.linalg.eig(cov) # these are not ordered, so we order them and the corresponding eigenvalues\n",
    "print (eigvals, eigvals.shape)\n",
    "print (eigvecs, eigvecs.shape)\n",
    "\n",
    "eig_test_1 = np.dot(cov, eigvecs[:, 0])\n",
    "eig_test_2 = eigvecs[:, 0]*eigvals[0]\n",
    "print (eig_test_1, eig_test_1.shape)\n",
    "print (eig_test_2, eig_test_2.shape)\n",
    "print (eig_test_1-eig_test_2, (eig_test_1-eig_test_2).shape) # Checking them: they are basically zero, so the eigenvalue computation is good\n"
   ]
  },
  {
   "cell_type": "code",
   "execution_count": 27,
   "metadata": {},
   "outputs": [
    {
     "name": "stdout",
     "output_type": "stream",
     "text": [
      "[ 8.74127044e+05  5.28699548e+05  4.46022042e+05 ...  6.67576292e-14\n",
      " -2.91498814e-14 -5.37603944e-13] (2576,)\n",
      "[[-0.0126596   0.01316925 -0.0151215  ...  0.00268952  0.00126139\n",
      "  -0.00067021]\n",
      " [-0.01418063  0.01335282 -0.01614476 ...  0.00044461 -0.00026114\n",
      "  -0.00148068]\n",
      " [-0.01489821  0.01367529 -0.0176914  ...  0.00141712 -0.00092195\n",
      "  -0.00016851]\n",
      " ...\n",
      " [ 0.00921228 -0.04491236  0.00204616 ... -0.01501319  0.00827052\n",
      "   0.00466322]\n",
      " [ 0.00869456 -0.0446391   0.00223799 ... -0.0015198   0.01990239\n",
      "   0.00101812]\n",
      " [ 0.00822806 -0.04561479  0.00329355 ... -0.00358591  0.01828026\n",
      "   0.01344327]] (2576, 2576)\n",
      "[415 419 420 ...   2   1   0] (2576,)\n",
      "[  0   1   2 ... 420 419 415] (2576,)\n",
      "[   0    1    2 ... 2573 2574 2575] (2576,)\n",
      "[ 8.74127044e+05  5.28699548e+05  4.46022042e+05 ... -2.57359794e-11\n",
      " -2.72023569e-11 -3.29270684e-11] (2576,)\n"
     ]
    },
    {
     "data": {
      "image/png": "[encoded data removed]",
      "text/plain": [
       "<Figure size 432x288 with 3 Axes>"
      ]
     },
     "metadata": {
      "needs_background": "light"
     },
     "output_type": "display_data"
    }
   ],
   "source": [
    "# take absolute value of the eigenvalues (complex eigenvalues are the result of calculation rounding errors)\n",
    "eigvals = np.real(eigvals)\n",
    "print (eigvals, eigvals.shape)\n",
    "eigvecs = np.real(eigvecs)\n",
    "print (eigvecs, eigvecs.shape)\n",
    "\n",
    "# order them\n",
    "print (eigvals.argsort(), eigvals.argsort().shape)\n",
    "index = eigvals.argsort()[::-1] # argsort returns the indices that would sort an array (in this case the vector eigvals)\n",
    "print (index, index.shape)\n",
    "eigvals = eigvals[index]\n",
    "eigvecs = eigvecs[:,index]\n",
    "\n",
    "x = np.arange(0, 2576)\n",
    "print (x, x.shape)\n",
    "print (eigvals, eigvals.shape)\n",
    "\n",
    "# plot them\n",
    "plt.subplot(3, 1, 1)\n",
    "plt.plot(x, eigvals) # clearly out of scale, so let's just take the first 200 of them\n",
    "plt.title('All eigenvalues of the covariance matrix')\n",
    "\n",
    "plt.subplot(3, 1, 2)\n",
    "plt.plot(x[:200], eigvals[:200]) # still out of scale, so let's just take the first 20 of them\n",
    "plt.title('First 200 eigenvalues of the covariance matrix')\n",
    "\n",
    "plt.subplot(3, 1, 3)\n",
    "plt.plot(x[:20], eigvals[:20])\n",
    "plt.title('First 20 eigenvalues of the covariance matrix')\n",
    "plt.show()"
   ]
  },
  {
   "cell_type": "code",
   "execution_count": 29,
   "metadata": {},
   "outputs": [
    {
     "name": "stdout",
     "output_type": "stream",
     "text": [
      "[[-1.26595986e-02  1.31692452e-02 -1.51214959e-02 ... -2.56431551e-03\n",
      "   3.01614281e-03  3.01614281e-03]\n",
      " [-1.41806293e-02  1.33528151e-02 -1.61447622e-02 ... -6.94223416e-05\n",
      "   1.53029881e-03  1.53029881e-03]\n",
      " [-1.48982068e-02  1.36752944e-02 -1.76913957e-02 ... -1.55184138e-03\n",
      "  -1.93902594e-03 -1.93902594e-03]\n",
      " ...\n",
      " [ 9.21227987e-03 -4.49123612e-02  2.04615819e-03 ...  1.08373117e-02\n",
      "   1.62577372e-02  1.62577372e-02]\n",
      " [ 8.69456155e-03 -4.46390994e-02  2.23799461e-03 ...  3.30160862e-02\n",
      "   8.64871610e-03  8.64871610e-03]\n",
      " [ 8.22806305e-03 -4.56147892e-02  3.29355134e-03 ...  4.10800594e-04\n",
      "  -1.48856083e-02 -1.48856083e-02]] (2576, 500)\n",
      "[8.74127044e+05 5.28699548e+05 4.46022042e+05 2.53294059e+05\n",
      " 2.08582681e+05 1.49610847e+05 1.28274533e+05 1.14349167e+05\n",
      " 8.78693480e+04 8.10627149e+04 6.40721467e+04 5.98482690e+04\n",
      " 5.21432420e+04 5.00777046e+04 4.52918666e+04 4.30563171e+04\n",
      " 3.69530112e+04 3.50568631e+04 3.33587086e+04 3.01239951e+04\n",
      " 2.96913017e+04 2.70120661e+04 2.50216970e+04 2.37697143e+04\n",
      " 2.21310368e+04 2.16899393e+04 2.10128876e+04 1.97400404e+04\n",
      " 1.95929023e+04 1.85783952e+04 1.72855510e+04 1.63442001e+04\n",
      " 1.58215832e+04 1.51827268e+04 1.48014822e+04 1.42220922e+04\n",
      " 1.37688050e+04 1.34199962e+04 1.26187503e+04 1.23448587e+04\n",
      " 1.17529233e+04 1.14021074e+04 1.09357908e+04 1.06862599e+04\n",
      " 1.06516807e+04 1.02139856e+04 1.01832915e+04 9.80218942e+03\n",
      " 9.71297830e+03 9.04970689e+03 8.77470039e+03 8.55610132e+03\n",
      " 8.27281168e+03 7.93247500e+03 7.73967987e+03 7.56889354e+03\n",
      " 7.38937947e+03 7.30027318e+03 6.94654314e+03 6.89542340e+03\n",
      " 6.78175128e+03 6.60683250e+03 6.40054390e+03 6.31494719e+03\n",
      " 6.15329759e+03 6.06860400e+03 5.99761991e+03 5.80267941e+03\n",
      " 5.72395051e+03 5.62412360e+03 5.48341383e+03 5.35740912e+03\n",
      " 5.19571685e+03 5.08614987e+03 5.00898606e+03 4.84330773e+03\n",
      " 4.78689020e+03 4.74476260e+03 4.69673996e+03 4.65835390e+03\n",
      " 4.55886015e+03 4.50663025e+03 4.41081482e+03 4.33989225e+03\n",
      " 4.20956924e+03 4.12302758e+03 4.00595847e+03 3.91585111e+03\n",
      " 3.83478219e+03 3.81514720e+03 3.77731123e+03 3.74466859e+03\n",
      " 3.65707954e+03 3.56881987e+03 3.50174489e+03 3.45047329e+03\n",
      " 3.36443522e+03 3.31266365e+03 3.25128347e+03 3.21689922e+03\n",
      " 3.19765769e+03 3.11673119e+03 3.09684866e+03 3.03107462e+03\n",
      " 3.00611245e+03 2.96229217e+03 2.92067340e+03 2.87265045e+03\n",
      " 2.82692903e+03 2.77943997e+03 2.72491981e+03 2.68471226e+03\n",
      " 2.64232396e+03 2.62188508e+03 2.58313225e+03 2.53560919e+03\n",
      " 2.50666683e+03 2.50124360e+03 2.46148026e+03 2.41591512e+03\n",
      " 2.40159494e+03 2.36085425e+03 2.34677530e+03 2.30384624e+03\n",
      " 2.26419202e+03 2.24981010e+03 2.23335095e+03 2.19542899e+03\n",
      " 2.16976747e+03 2.14481479e+03 2.13152547e+03 2.12179530e+03\n",
      " 2.08848853e+03 2.05508160e+03 2.05020937e+03 2.04084030e+03\n",
      " 1.96637401e+03 1.94567476e+03 1.93369622e+03 1.91963077e+03\n",
      " 1.88652583e+03 1.86125526e+03 1.84097119e+03 1.82453647e+03\n",
      " 1.80747791e+03 1.78701831e+03 1.77216060e+03 1.75463758e+03\n",
      " 1.73352471e+03 1.72220154e+03 1.69004767e+03 1.67949496e+03\n",
      " 1.64058474e+03 1.61819765e+03 1.60921809e+03 1.59075912e+03\n",
      " 1.58374054e+03 1.56320549e+03 1.56072988e+03 1.52677198e+03\n",
      " 1.50568404e+03 1.49385190e+03 1.48472603e+03 1.44771819e+03\n",
      " 1.43111854e+03 1.41590781e+03 1.40074958e+03 1.38416741e+03\n",
      " 1.38049190e+03 1.37365538e+03 1.34392049e+03 1.33920371e+03\n",
      " 1.31845942e+03 1.30589378e+03 1.30301667e+03 1.28453387e+03\n",
      " 1.27144008e+03 1.26414322e+03 1.25082150e+03 1.22827285e+03\n",
      " 1.22521776e+03 1.19766749e+03 1.19088832e+03 1.17230393e+03\n",
      " 1.16220232e+03 1.15422072e+03 1.14325610e+03 1.13440743e+03\n",
      " 1.13384960e+03 1.11997045e+03 1.09766543e+03 1.08649123e+03\n",
      " 1.07985688e+03 1.07200542e+03 1.06112431e+03 1.05460631e+03\n",
      " 1.04513069e+03 1.04307834e+03 1.02117289e+03 1.01782252e+03\n",
      " 1.01078670e+03 9.99293047e+02 9.89923147e+02 9.70000271e+02\n",
      " 9.68575468e+02 9.58780239e+02 9.43392704e+02 9.40937509e+02\n",
      " 9.22740910e+02 9.15466856e+02 9.06978356e+02 9.01403274e+02\n",
      " 8.98172316e+02 8.92385280e+02 8.81173786e+02 8.75782306e+02\n",
      " 8.59386103e+02 8.57274825e+02 8.51481749e+02 8.42254843e+02\n",
      " 8.36756232e+02 8.22596951e+02 8.18314059e+02 8.16013606e+02\n",
      " 8.08222786e+02 8.02324708e+02 7.94530102e+02 7.89904564e+02\n",
      " 7.80316356e+02 7.67231116e+02 7.62861744e+02 7.53133988e+02\n",
      " 7.45804466e+02 7.45020259e+02 7.40732255e+02 7.30650919e+02\n",
      " 7.27145252e+02 7.25759530e+02 7.11498753e+02 7.09960403e+02\n",
      " 7.04098918e+02 6.93382159e+02 6.83303613e+02 6.78662858e+02\n",
      " 6.76513287e+02 6.70994443e+02 6.63105200e+02 6.57298055e+02\n",
      " 6.53817609e+02 6.45509880e+02 6.39313596e+02 6.33905275e+02\n",
      " 6.29840391e+02 6.25599265e+02 6.21080525e+02 6.13920017e+02\n",
      " 6.09123186e+02 6.05114508e+02 5.97661363e+02 5.94650445e+02\n",
      " 5.86193116e+02 5.83746765e+02 5.77547240e+02 5.71394504e+02\n",
      " 5.70244123e+02 5.60535562e+02 5.59901088e+02 5.56024962e+02\n",
      " 5.53914662e+02 5.47963824e+02 5.46448852e+02 5.37838084e+02\n",
      " 5.34891869e+02 5.33198356e+02 5.27193856e+02 5.17527958e+02\n",
      " 5.14723065e+02 5.13844742e+02 5.05846043e+02 5.01687474e+02\n",
      " 4.97220557e+02 4.93047391e+02 4.90618777e+02 4.85304586e+02\n",
      " 4.78447753e+02 4.74895983e+02 4.68994558e+02 4.66257309e+02\n",
      " 4.59579759e+02 4.54999190e+02 4.50294699e+02 4.48552639e+02\n",
      " 4.45515169e+02 4.41406134e+02 4.36285115e+02 4.33931184e+02\n",
      " 4.29033319e+02 4.28028251e+02 4.25792034e+02 4.18230893e+02\n",
      " 4.13486638e+02 4.07115470e+02 4.05059133e+02 4.01949128e+02\n",
      " 3.97324768e+02 3.95260356e+02 3.93807377e+02 3.89571545e+02\n",
      " 3.86255505e+02 3.84546203e+02 3.82898518e+02 3.81948741e+02\n",
      " 3.72315035e+02 3.71041167e+02 3.65234967e+02 3.58256122e+02\n",
      " 3.57823416e+02 3.54949011e+02 3.53696760e+02 3.50944821e+02\n",
      " 3.48790560e+02 3.40170875e+02 3.37013909e+02 3.34254235e+02\n",
      " 3.32932756e+02 3.29057276e+02 3.26761167e+02 3.24751501e+02\n",
      " 3.21611646e+02 3.19635260e+02 3.14573999e+02 3.12468580e+02\n",
      " 3.11687727e+02 3.08096487e+02 3.02906737e+02 2.99324543e+02\n",
      " 2.98172673e+02 2.94961058e+02 2.94481264e+02 2.89572125e+02\n",
      " 2.89015516e+02 2.87144667e+02 2.84109553e+02 2.78536547e+02\n",
      " 2.75924974e+02 2.73065993e+02 2.70307996e+02 2.69692496e+02\n",
      " 2.64759009e+02 2.61357133e+02 2.60040260e+02 2.58282867e+02\n",
      " 2.56413231e+02 2.52643777e+02 2.49919919e+02 2.48047501e+02\n",
      " 2.44859695e+02 2.41472971e+02 2.40535909e+02 2.39947734e+02\n",
      " 2.37678551e+02 2.34375193e+02 2.33173008e+02 2.31998146e+02\n",
      " 2.29775154e+02 2.24835378e+02 2.22944818e+02 2.22000150e+02\n",
      " 2.17389587e+02 2.13734624e+02 2.11076675e+02 2.09246035e+02\n",
      " 2.07827824e+02 2.03329967e+02 2.00848854e+02 2.00379185e+02\n",
      " 1.97207288e+02 1.96026046e+02 1.92937323e+02 1.88764984e+02\n",
      " 1.84930033e+02 1.84506268e+02 1.82210994e+02 1.80051925e+02\n",
      " 1.79535096e+02 1.78331130e+02 1.74553627e+02 1.73417280e+02\n",
      " 1.70273192e+02 1.68259755e+02 1.64267926e+02 1.62194814e+02\n",
      " 1.59921840e+02 1.58245093e+02 1.54771068e+02 1.51051993e+02\n",
      " 1.49972754e+02 1.48619929e+02 1.47514537e+02 1.43470695e+02\n",
      " 1.41078513e+02 1.38247409e+02 1.36609585e+02 1.34342836e+02\n",
      " 1.27958047e+02 1.26776226e+02 1.25282604e+02 1.18872787e+02\n",
      " 1.12978181e+02 1.11776995e+02 1.10369692e+02 1.08213480e+02\n",
      " 1.04399049e+02 9.36854017e+01 8.11832102e+01 3.23348957e-11\n",
      " 2.84511548e-11 2.63618706e-11 2.16100046e-11 2.04839492e-11\n",
      " 2.04839492e-11 1.99952655e-11 1.99952655e-11 1.86306780e-11\n",
      " 1.86306780e-11 1.79953927e-11 1.79953927e-11 1.71249819e-11\n",
      " 1.71249819e-11 1.69236768e-11 1.66939816e-11 1.66939816e-11\n",
      " 1.61975610e-11 1.60895770e-11 1.60895770e-11 1.58910660e-11\n",
      " 1.58910660e-11 1.52722847e-11 1.52722847e-11 1.51200977e-11\n",
      " 1.51200977e-11 1.49792993e-11 1.49046573e-11 1.49046573e-11\n",
      " 1.46542567e-11 1.46542567e-11 1.44619185e-11 1.44619185e-11\n",
      " 1.43263054e-11 1.43263054e-11 1.42567458e-11 1.42567458e-11\n",
      " 1.41213366e-11 1.41213366e-11 1.38495894e-11 1.38495894e-11\n",
      " 1.36635346e-11 1.36635346e-11 1.36426825e-11 1.36426825e-11\n",
      " 1.34270385e-11 1.34270385e-11 1.33735331e-11 1.33735331e-11\n",
      " 1.32210516e-11 1.32210516e-11 1.31416380e-11 1.31117184e-11\n",
      " 1.31117184e-11 1.29312464e-11 1.29312464e-11 1.28184982e-11\n",
      " 1.28184982e-11 1.26731362e-11 1.26716516e-11 1.26716516e-11\n",
      " 1.25703132e-11 1.25703132e-11 1.24591934e-11 1.20791482e-11\n",
      " 1.20791482e-11 1.20724577e-11 1.20724577e-11 1.20416673e-11\n",
      " 1.20416673e-11 1.20132130e-11 1.20132130e-11 1.19748859e-11\n",
      " 1.19748859e-11 1.19359398e-11 1.19359398e-11 1.17772089e-11\n",
      " 1.15798386e-11 1.15798386e-11 1.15710366e-11 1.15710366e-11\n",
      " 1.15155088e-11 1.15155088e-11 1.14629968e-11 1.14629968e-11] (500,)\n",
      "[[ 1.15199053e+02  1.30835904e+03  3.82689922e+02 ... -2.45137244e-13\n",
      "   2.27373675e-13  2.27373675e-13]\n",
      " [ 2.03910330e+02  1.15626291e+03 -1.04497282e+02 ... -1.83852933e-13\n",
      "  -2.46025422e-13 -2.46025422e-13]\n",
      " [ 2.39768971e+02 -5.98259941e+02 -1.16450292e+02 ... -1.35003120e-13\n",
      "  -9.05941988e-14 -9.05941988e-14]\n",
      " ...\n",
      " [-6.54109016e+02 -1.20003645e+02 -4.54709913e+02 ... -1.24344979e-14\n",
      "  -1.86517468e-14 -1.86517468e-14]\n",
      " [ 1.53640265e+03  9.57369321e+02 -3.04977630e+02 ...  4.65405492e-13\n",
      "   3.00204306e-13  3.00204306e-13]\n",
      " [-7.54256284e+02  1.26977621e+03  2.83354899e+02 ... -1.84741111e-13\n",
      "  -1.19015908e-13 -1.19015908e-13]] (416, 500)\n"
     ]
    }
   ],
   "source": [
    "# We just keep the first n eigenvectors and eigenvalues\n",
    "\n",
    "n = 500\n",
    "eigvecs_best = eigvecs[:, :n]\n",
    "eigvals_best = eigvals[:n]\n",
    "print (eigvecs_best, eigvecs_best.shape)\n",
    "print (eigvals_best, eigvals_best.shape)\n",
    "\n",
    "# Projecting each training data point to the space spanned by the eigenvectors\n",
    "proj_pca_train_norm = np.zeros((416, n))\n",
    "for i in range(416):\n",
    "    proj_pca_train_norm [i, :] = np.dot(pca_train_norm[i, :], eigvecs_best)\n",
    "    \n",
    "print (proj_pca_train_norm, proj_pca_train_norm.shape)\n",
    "\n",
    "# Now in array proj_pca_train_norm, in each row, we have the projected coordinates for each face image"
   ]
  },
  {
   "cell_type": "code",
   "execution_count": 33,
   "metadata": {
    "scrolled": true
   },
   "outputs": [
    {
     "name": "stdout",
     "output_type": "stream",
     "text": [
      "[193. 193. 192. ...  21.  21.  21.] (2576,)\n"
     ]
    },
    {
     "data": {
      "text/plain": [
       "<matplotlib.image.AxesImage at 0xb21ceb0b8>"
      ]
     },
     "execution_count": 33,
     "metadata": {},
     "output_type": "execute_result"
    },
    {
     "data": {
      "image/png": "[encoded data removed]",
      "text/plain": [
       "<Figure size 432x288 with 1 Axes>"
      ]
     },
     "metadata": {
      "needs_background": "light"
     },
     "output_type": "display_data"
    }
   ],
   "source": [
    "# Let's try to reconstruct one face image, just as a sanity check to see if it is still the same face (worse quality of course, because we did a lossy transformation on it)\n",
    "face_check = avg_face + np.dot(eigvecs_best, proj_pca_train_norm[414, :])\n",
    "print (face_check, face_check.shape)\n",
    "plt.imshow(np.reshape(face_check, (46,56)).T, cmap = 'gist_gray')"
   ]
  },
  {
   "cell_type": "code",
   "execution_count": 22,
   "metadata": {},
   "outputs": [
    {
     "name": "stdout",
     "output_type": "stream",
     "text": [
      "[[-21.54326923 -15.         -15.22596154 ... -71.32692308 -71.76201923\n",
      "  -71.20913462]\n",
      " [ 87.45673077  35.           2.77403846 ... -56.32692308 -51.76201923\n",
      "  -50.20913462]\n",
      " [128.45673077 130.         132.77403846 ...  73.67307692  70.23798077\n",
      "   83.79086538]\n",
      " ...\n",
      " [ 18.45673077  28.          37.77403846 ... -61.32692308 -61.76201923\n",
      "  -61.20913462]\n",
      " [-71.54326923 -47.         -46.22596154 ... -58.32692308 -56.76201923\n",
      "  -56.20913462]\n",
      " [127.45673077 126.         119.77403846 ... -48.32692308 -47.76201923\n",
      "  -49.20913462]] (104, 2576)\n",
      "[[ -419.38879229 -1250.7474567   -549.85236247 ...  -712.33228484\n",
      "   -728.36465827  -728.36465827]\n",
      " [  985.82480322  -597.64819031   520.16889474 ...   400.67785469\n",
      "    469.92508766   469.92508766]\n",
      " [  433.16275869   449.44765692   591.64919979 ...   469.44270856\n",
      "    427.22608937   427.22608937]\n",
      " ...\n",
      " [-1463.03633692 -1349.14298607 -1551.30267942 ... -1525.03115501\n",
      "  -1540.83608849 -1540.83608849]\n",
      " [  204.47577934    65.103477     504.94023797 ...   257.90215772\n",
      "    199.05047753   199.05047753]\n",
      " [-1288.99218513 -1354.94329054  -466.03192066 ... -1265.78308117\n",
      "  -1201.7478978  -1201.7478978 ]] (104, 500)\n"
     ]
    }
   ],
   "source": [
    "# Now that we've trained our model, let's test it on our testing data set\n",
    "# First, let's normalise the testing set (subtract the average face from all face images)\n",
    "\n",
    "pca_test_norm = pca_test-avg_face # Works because of broadcasting\n",
    "print (pca_test_norm, pca_test_norm.shape)\n",
    "\n",
    "# Then let's project each testing image to the eigenspace (space spanned by the best eigenvectors)\n",
    "proj_pca_test_norm = np.zeros((104, n))\n",
    "for i in range(104):\n",
    "    proj_pca_test_norm [i, :] = np.dot(pca_test_norm[i, :], abs(eigvecs_best))\n",
    "    \n",
    "print (proj_pca_test_norm, proj_pca_test_norm.shape)\n",
    "\n",
    "# Now in array proj_pca_train_norm, in each row, we have the projected coordinates for each face image"
   ]
  },
  {
   "cell_type": "code",
   "execution_count": null,
   "metadata": {},
   "outputs": [],
   "source": [
    "# Let's try to reconstruct one testing face image, just as a sanity check to see if it is still the same face (worse quality of course, because we did a lossy transformation on it)\n",
    "face_check_test = avg_face + np.dot(abs(eigvecs_best), proj_pca_train_norm[414, :])\n",
    "print (face_check, face_check.shape)\n",
    "plt.imshow(np.reshape(face_check, (46,56)).T, cmap = 'gist_gray')"
   ]
  },
  {
   "cell_type": "code",
   "execution_count": null,
   "metadata": {},
   "outputs": [],
   "source": [
    "# Let's try to reconstruct one face image, just as a sanity check to see if it is still the same face (worse quality of course, because we did a lossy transformation on it)\n",
    "face_check_test = avg_face + np.dot(abs(eigvecs_best), proj_pca_train_norm[414, :])\n",
    "print (face_check, face_check.shape)\n",
    "plt.imshow(np.reshape(face_check, (46,56)).T, cmap = 'gist_gray')"
   ]
  },
  {
   "cell_type": "code",
   "execution_count": null,
   "metadata": {},
   "outputs": [],
   "source": []
  },
  {
   "cell_type": "code",
   "execution_count": 30,
   "metadata": {},
   "outputs": [
    {
     "name": "stdout",
     "output_type": "stream",
     "text": [
      "(2576,)\n",
      "[ 55  55  54 ... 168 168 174]\n"
     ]
    }
   ],
   "source": [
    "face_157 = face_data[:,157]\n",
    "\n",
    "print(face_157.shape)\n",
    "print(face_157)"
   ]
  },
  {
   "cell_type": "code",
   "execution_count": null,
   "metadata": {},
   "outputs": [],
   "source": []
  },
  {
   "cell_type": "code",
   "execution_count": 5,
   "metadata": {},
   "outputs": [
    {
     "data": {
      "text/plain": [
       "<matplotlib.image.AxesImage at 0x7f6493c92470>"
      ]
     },
     "execution_count": 5,
     "metadata": {},
     "output_type": "execute_result"
    },
    {
     "data": {
      "image/png": "[encoded data removed]",
      "text/plain": [
       "<matplotlib.figure.Figure at 0x7f649409ab38>"
      ]
     },
     "metadata": {},
     "output_type": "display_data"
    }
   ],
   "source": [
    "# face data is in 46x56 format\n",
    "\n",
    "face_157 = np.reshape(face_157,(46,56))\n",
    "\n",
    "plt.imshow(face_157, cmap = 'gist_gray')"
   ]
  },
  {
   "cell_type": "code",
   "execution_count": 6,
   "metadata": {},
   "outputs": [
    {
     "data": {
      "text/plain": [
       "<matplotlib.image.AxesImage at 0x7f64939e3ba8>"
      ]
     },
     "execution_count": 6,
     "metadata": {},
     "output_type": "execute_result"
    },
    {
     "data": {
      "image/png": "[encoded data removed]",
      "text/plain": [
       "<matplotlib.figure.Figure at 0x7f649407a400>"
      ]
     },
     "metadata": {},
     "output_type": "display_data"
    }
   ],
   "source": [
    "face_157 = face_157.T\n",
    "plt.imshow(face_157,cmap = 'gist_gray')"
   ]
  },
  {
   "cell_type": "code",
   "execution_count": 7,
   "metadata": {},
   "outputs": [
    {
     "name": "stdout",
     "output_type": "stream",
     "text": [
      "16\n"
     ]
    }
   ],
   "source": [
    "face_labels = mat_content['l']\n",
    "print(face_labels[0,157])"
   ]
  },
  {
   "cell_type": "code",
   "execution_count": 8,
   "metadata": {},
   "outputs": [
    {
     "name": "stdout",
     "output_type": "stream",
     "text": [
      "[[ 55  53  56 ...  70  69  75]\n",
      " [ 55  54  54 ...  70  69  66]\n",
      " [ 54  55  55 ...  69  70  69]\n",
      " ...\n",
      " [188 185 176 ... 172 172 168]\n",
      " [184 185 180 ... 178 179 168]\n",
      " [182 184 184 ... 181 181 174]]\n",
      "(56, 46)\n"
     ]
    }
   ],
   "source": [
    "print(face_157)\n",
    "print(face_157.shape)"
   ]
  },
  {
   "cell_type": "code",
   "execution_count": 9,
   "metadata": {},
   "outputs": [
    {
     "name": "stdout",
     "output_type": "stream",
     "text": [
      "104\n"
     ]
    }
   ],
   "source": [
    "pixel_row = 21\n",
    "pixel_column = 33\n",
    "print(face_157[pixel_row,pixel_column])"
   ]
  },
  {
   "cell_type": "code",
   "execution_count": 10,
   "metadata": {},
   "outputs": [
    {
     "name": "stdout",
     "output_type": "stream",
     "text": [
      "[105. 108. 122. ...  83.  67.  58.]\n"
     ]
    },
    {
     "data": {
      "image/png": "[encoded data removed]",
      "text/plain": [
       "<matplotlib.figure.Figure at 0x7f64939f9a58>"
      ]
     },
     "metadata": {},
     "output_type": "display_data"
    }
   ],
   "source": [
    "face_1 = face_data[:,5]\n",
    "face_2 = face_data[:,180]\n",
    "\n",
    "avg_face = (0.5*face_1 + 0.5*face_2)\n",
    "\n",
    "plt.subplot(311),plt.imshow(np.reshape(face_1,(46,56)).T, cmap = 'gist_gray')\n",
    "plt.title('Face 1'), plt.xticks([]), plt.yticks([])\n",
    "plt.subplot(312),plt.imshow(np.reshape(face_2,(46,56)).T, cmap = 'gist_gray')\n",
    "plt.title('Face 2'), plt.xticks([]), plt.yticks([])\n",
    "plt.subplot(313),plt.imshow(np.reshape(avg_face,(46,56)).T, cmap = 'gist_gray')\n",
    "plt.title('Face 2'), plt.xticks([]), plt.yticks([])\n",
    "\n",
    "print(avg_face)\n",
    "plt.show()"
   ]
  },
  {
   "cell_type": "code",
   "execution_count": 11,
   "metadata": {},
   "outputs": [
    {
     "name": "stdout",
     "output_type": "stream",
     "text": [
      "(2576,)\n",
      "(2, 2576)\n"
     ]
    },
    {
     "data": {
      "text/plain": [
       "<matplotlib.image.AxesImage at 0x7f6493885908>"
      ]
     },
     "execution_count": 11,
     "metadata": {},
     "output_type": "execute_result"
    },
    {
     "data": {
      "image/png": "[encoded data removed]",
      "text/plain": [
       "<matplotlib.figure.Figure at 0x7f64939f34a8>"
      ]
     },
     "metadata": {},
     "output_type": "display_data"
    }
   ],
   "source": [
    "face_stack = np.vstack((face_1,face_2))\n",
    "print(face_1.shape)\n",
    "print(face_stack.shape)\n",
    "\n",
    "avg_face_numpy = np.mean(face_stack, axis = 0)\n",
    "plt.imshow(np.reshape(avg_face_numpy,(46,56)).T, cmap = 'gist_gray')"
   ]
  },
  {
   "cell_type": "code",
   "execution_count": null,
   "metadata": {},
   "outputs": [],
   "source": []
  }
 ],
 "metadata": {
  "kernelspec": {
   "display_name": "Python 3",
   "language": "python",
   "name": "python3"
  },
  "language_info": {
   "codemirror_mode": {
    "name": "ipython",
    "version": 3
   },
   "file_extension": ".py",
   "mimetype": "text/x-python",
   "name": "python",
   "nbconvert_exporter": "python",
   "pygments_lexer": "ipython3",
   "version": "3.7.0"
  }
 },
 "nbformat": 4,
 "nbformat_minor": 2
}
