{
 "cells": [
  {
   "cell_type": "markdown",
   "metadata": {
    "collapsed": true
   },
   "source": [
    "# Exercise 1 Implementation"
   ]
  },
  {
   "cell_type": "markdown",
   "metadata": {},
   "source": [
    "Training"
   ]
  },
  {
   "cell_type": "code",
   "execution_count": 1,
   "metadata": {},
   "outputs": [],
   "source": [
    "# Imports\n",
    "import scipy.io as sio\n",
    "import numpy as np\n",
    "import matplotlib.pyplot as plt\n",
    "import time\n",
    "from memory_profiler import memory_usage\n",
    "\n",
    "# Load the source file with the face data\n",
    "mat_content = sio.loadmat('face.mat')"
   ]
  },
  {
   "cell_type": "code",
   "execution_count": 2,
   "metadata": {},
   "outputs": [
    {
     "name": "stdout",
     "output_type": "stream",
     "text": [
      "[[106 130 191 ...  70 183  77]\n",
      " [103 129 185 ...  62 250  72]\n",
      " [103 130 174 ...  83 163  68]\n",
      " ...\n",
      " [ 36  36  19 ...  89  95 103]\n",
      " [ 41  35  17 ...  94 106 110]\n",
      " [  1   1   1 ...  52  52  52]] (2577, 520)\n",
      "[[106 103 103 ...  36  41   1]\n",
      " [130 129 130 ...  36  35   1]\n",
      " [191 185 174 ...  19  17   1]\n",
      " ...\n",
      " [ 70  62  83 ...  89  94  52]\n",
      " [183 250 163 ...  95 106  52]\n",
      " [ 77  72  68 ... 103 110  52]] (520, 2577)\n"
     ]
    }
   ],
   "source": [
    "# Store face data and classification\n",
    "face_data = mat_content['X']\n",
    "face_label = mat_content['l']\n",
    "\n",
    "# Append the matching data and labels into array 'faces': labels are not needed for PCA training (unsupervised learning)\n",
    "# but we need it for assessing our algorithms during testing\n",
    "faces = np.append(face_data, face_label, axis=0)\n",
    "print(faces, faces.shape)\n",
    "\n",
    "# Transpose in preparation for division into training and testing material\n",
    "faces_transposed = faces.T\n",
    "print (faces_transposed, faces_transposed.shape)"
   ]
  },
  {
   "cell_type": "code",
   "execution_count": 3,
   "metadata": {},
   "outputs": [
    {
     "name": "stdout",
     "output_type": "stream",
     "text": [
      "[[129 141 146 ...  84  83   6]\n",
      " [ 90  92  93 ...  54  47   5]\n",
      " [ 77  75  77 ...  51  50  32]\n",
      " ...\n",
      " [ 80  90  92 ...  31  26  25]\n",
      " [ 96  97 124 ... 137 146  32]\n",
      " [ 97  96  90 ...  57  54  32]] (416, 2577)\n",
      "[[138 142 144 ... 139 125  43]\n",
      " [125 126 120 ... 115 117  35]\n",
      " [ 88 113 131 ...  55  58  46]\n",
      " ...\n",
      " [ 91  88  85 ... 168 170  10]\n",
      " [219 228 238 ...  76  76  18]\n",
      " [135 161 167 ...  19  19  45]] (104, 2577)\n"
     ]
    },
    {
     "data": {
      "text/plain": [
       "<matplotlib.image.AxesImage at 0xb1faece48>"
      ]
     },
     "execution_count": 3,
     "metadata": {},
     "output_type": "execute_result"
    },
    {
     "data": {
      "image/png": "[encoded data removed]",
      "text/plain": [
       "<Figure size 432x288 with 1 Axes>"
      ]
     },
     "metadata": {
      "needs_background": "light"
     },
     "output_type": "display_data"
    }
   ],
   "source": [
    "# Divide the data set into training and testing sets: 80% is training, 20% is testing\n",
    "\n",
    "np.random.shuffle(faces_transposed) # Shuffle the rows (This is why we transposed)\n",
    "training, test = faces_transposed[:416,:], faces_transposed[416:,:]\n",
    "print (training, training.shape)\n",
    "print (test, test.shape)\n",
    "\n",
    "plt.imshow(np.reshape(training[100, :2576], (46,56)).T, cmap = 'gist_gray') # print 100th image of the training set as a sanity check to make sure we have shuffled along the right dimension of the array"
   ]
  },
  {
   "cell_type": "code",
   "execution_count": 4,
   "metadata": {},
   "outputs": [
    {
     "data": {
      "text/plain": [
       "<matplotlib.image.AxesImage at 0xb1fc30080>"
      ]
     },
     "execution_count": 4,
     "metadata": {},
     "output_type": "execute_result"
    },
    {
     "data": {
      "image/png": "[encoded data removed]",
      "text/plain": [
       "<Figure size 432x288 with 1 Axes>"
      ]
     },
     "metadata": {
      "needs_background": "light"
     },
     "output_type": "display_data"
    }
   ],
   "source": [
    "# Now let's start training our image recognition PCA algorithm\n",
    "# We have face images that are CENTERED and they are of the SAME SIZE (needed for PCA)\n",
    "# They are normalised for SCALE, ORIENTATION and TRANSLATION\n",
    "\n",
    "# First, we only need the training and testing set without the labels\n",
    "# Images are represented as rows\n",
    "pca_train = training [:, :2576]\n",
    "pca_test = test [:, :2576]\n",
    "\n",
    "# Let's compute the mean face image\n",
    "avg_face = np.mean(pca_train, axis=0)\n",
    "plt.imshow(np.reshape(avg_face, (46,56)).T, cmap = 'gist_gray')"
   ]
  },
  {
   "cell_type": "code",
   "execution_count": 5,
   "metadata": {},
   "outputs": [
    {
     "name": "stdout",
     "output_type": "stream",
     "text": [
      "[[2488.44748521 2369.7745932  2096.85230214 ... -552.76206546\n",
      "  -587.34629253 -571.51317493]\n",
      " [2369.7745932  2590.42150518 2391.63842918 ... -532.60523761\n",
      "  -571.8193186  -561.45666143]\n",
      " [2096.85230214 2391.63842918 2504.77934888 ... -530.9771808\n",
      "  -553.44987172 -538.5440031 ]\n",
      " ...\n",
      " [-552.76206546 -532.60523761 -530.9771808  ... 2747.87906227\n",
      "  2608.7264296  2455.90714566]\n",
      " [-587.34629253 -571.8193186  -553.44987172 ... 2608.7264296\n",
      "  2848.47466138 2716.54505478]\n",
      " [-571.51317493 -561.45666143 -538.5440031  ... 2455.90714566\n",
      "  2716.54505478 2868.15370169]] (2576, 2576)\n"
     ]
    },
    {
     "data": {
      "image/png": "[encoded data removed]",
      "text/plain": [
       "<Figure size 432x288 with 1 Axes>"
      ]
     },
     "metadata": {
      "needs_background": "light"
     },
     "output_type": "display_data"
    }
   ],
   "source": [
    "# Now let's subtract the mean face image from all of our training face images\n",
    "pca_train_norm = pca_train-avg_face # works because of broadcasting\n",
    "plt.imshow(np.reshape(pca_train_norm[0, :], (46,56)).T, cmap = 'gist_gray') \n",
    "# Show the first normalised face image and notice that it is distorted\n",
    "\n",
    "# Computing the covariance matrix\n",
    "cov = (np.dot(pca_train_norm.T, pca_train_norm))/416\n",
    "print (cov, cov.shape)"
   ]
  },
  {
   "cell_type": "code",
   "execution_count": 6,
   "metadata": {},
   "outputs": [
    {
     "name": "stdout",
     "output_type": "stream",
     "text": [
      "5.9937450885772705\n",
      "[9.02743756e+05+0.00000000e+00j 5.24054250e+05+0.00000000e+00j\n",
      " 4.53834790e+05+0.00000000e+00j ... 1.87271136e-13+6.03862926e-14j\n",
      " 1.87271136e-13-6.03862926e-14j 2.96322102e-13+0.00000000e+00j] (2576,)\n",
      "[[-0.01293549+0.00000000e+00j  0.01427159+0.00000000e+00j\n",
      "   0.01661356+0.00000000e+00j ...  0.00049661+9.90205487e-04j\n",
      "   0.00049661-9.90205487e-04j -0.00571158+0.00000000e+00j]\n",
      " [-0.01356583+0.00000000e+00j  0.01398264+0.00000000e+00j\n",
      "   0.01731498+0.00000000e+00j ... -0.00030587+2.37956668e-06j\n",
      "  -0.00030587-2.37956668e-06j -0.00105041+0.00000000e+00j]\n",
      " [-0.01420075+0.00000000e+00j  0.01339943+0.00000000e+00j\n",
      "   0.01989956+0.00000000e+00j ...  0.00036858+1.06264617e-04j\n",
      "   0.00036858-1.06264617e-04j -0.00119008+0.00000000e+00j]\n",
      " ...\n",
      " [ 0.0037316 +0.00000000e+00j -0.04673737+0.00000000e+00j\n",
      "  -0.01088498+0.00000000e+00j ... -0.00507451-6.32302287e-03j\n",
      "  -0.00507451+6.32302287e-03j  0.00962774+0.00000000e+00j]\n",
      " [ 0.00337591+0.00000000e+00j -0.04727781+0.00000000e+00j\n",
      "  -0.01046072+0.00000000e+00j ...  0.01781911-4.24903473e-04j\n",
      "   0.01781911+4.24903473e-04j -0.01761472+0.00000000e+00j]\n",
      " [ 0.00363365+0.00000000e+00j -0.04755506+0.00000000e+00j\n",
      "  -0.01268753+0.00000000e+00j ... -0.01367966+6.27587065e-03j\n",
      "  -0.01367966-6.27587065e-03j  0.00424322+0.00000000e+00j]] (2576, 2576)\n"
     ]
    }
   ],
   "source": [
    "# Computing the eigenvalues and eigenvectors of the covariance matrix directly and measuring how long it takes\n",
    "\n",
    "start = time.time()\n",
    "eigvals, eigvecs = np.linalg.eig(cov) # these are not ordered, so we order them according to the eigenvalues\n",
    "end = time.time()\n",
    "print (end-start) # Execution time in seconds\n",
    "\n",
    "print (eigvals, eigvals.shape)\n",
    "print (eigvecs, eigvecs.shape)"
   ]
  },
  {
   "cell_type": "code",
   "execution_count": 7,
   "metadata": {},
   "outputs": [
    {
     "name": "stdout",
     "output_type": "stream",
     "text": [
      "[-2.51020538e-10+0.j  1.16415322e-10+0.j  1.61890057e-10+0.j ...\n",
      " -2.72848411e-12+0.j -3.63797881e-12+0.j -6.36646291e-12+0.j] (2576,)\n"
     ]
    }
   ],
   "source": [
    "# Proving that the eigenvalues and eigenvectors make sense\n",
    "\n",
    "eig_test_1 = np.dot(cov, eigvecs[:, 0])\n",
    "eig_test_2 = eigvecs[:, 0]*eigvals[0]\n",
    "\n",
    "print (eig_test_1-eig_test_2, (eig_test_1-eig_test_2).shape) # The values are basically zero, so the eigenvalue computation is correct"
   ]
  },
  {
   "cell_type": "code",
   "execution_count": 8,
   "metadata": {},
   "outputs": [
    {
     "name": "stdout",
     "output_type": "stream",
     "text": [
      "[9.02743756e+05 5.24054250e+05 4.53834790e+05 ... 1.87271136e-13\n",
      " 1.87271136e-13 2.96322102e-13] (2576,)\n",
      "[[-0.01293549  0.01427159  0.01661356 ...  0.00049661  0.00049661\n",
      "  -0.00571158]\n",
      " [-0.01356583  0.01398264  0.01731498 ... -0.00030587 -0.00030587\n",
      "  -0.00105041]\n",
      " [-0.01420075  0.01339943  0.01989956 ...  0.00036858  0.00036858\n",
      "  -0.00119008]\n",
      " ...\n",
      " [ 0.0037316  -0.04673737 -0.01088498 ... -0.00507451 -0.00507451\n",
      "   0.00962774]\n",
      " [ 0.00337591 -0.04727781 -0.01046072 ...  0.01781911  0.01781911\n",
      "  -0.01761472]\n",
      " [ 0.00363365 -0.04755506 -0.01268753 ... -0.01367966 -0.01367966\n",
      "   0.00424322]] (2576, 2576)\n"
     ]
    }
   ],
   "source": [
    "# Taking the real part of the eigenvalues (complex eigenvalues are the result of calculation rounding errors, because the covariance matrix is symmetric)\n",
    "\n",
    "eigvals = np.real(eigvals)\n",
    "print (eigvals, eigvals.shape)\n",
    "eigvecs = np.real(eigvecs)\n",
    "print (eigvecs, eigvecs.shape)"
   ]
  },
  {
   "cell_type": "code",
   "execution_count": 9,
   "metadata": {},
   "outputs": [
    {
     "name": "stdout",
     "output_type": "stream",
     "text": [
      "[   0    1    2 ... 2572 2138 2137] (2576,)\n",
      "[9.02743756e+05 5.24054250e+05 4.53834790e+05 ... 2.22805546e-14\n",
      " 7.58957354e-15 7.58957354e-15] (2576,)\n",
      "415\n",
      "0\n",
      "415\n",
      "902743.755886979\n",
      "89.59231094154774\n",
      "3.758917098377232e-11\n"
     ]
    }
   ],
   "source": [
    "# Order eigenvalues and eigenvectors according to the size of the eigenvalues\n",
    "\n",
    "eigvals = np.abs(eigvals)\n",
    "index = eigvals.argsort()[::-1] # argsort returns the indices that would sort an array (in this case the vector eigvals)\n",
    "eigvals = eigvals[index]\n",
    "eigvecs = eigvecs[:,index]\n",
    "print (index, index.shape)\n",
    "print (eigvals, eigvals.shape)\n",
    "\n",
    "# How many zero eigenvalues do we have?\n",
    "\n",
    "print (np.linalg.matrix_rank(cov)) # We should have 2576 - 415 = 2161 zero eigenvalues\n",
    "print ((eigvals == np.zeros(eigvals.shape)).sum()) # The rounding errors will give 0 eigenvalues that are precisely zero\n",
    "print ((eigvals >= np.ones(eigvals.shape)/100000).sum()) # However there are 415 eigenvalues that are larger than 1e-05, which can be considered zero eigenvectors.\n",
    "print (eigvals.max()) # The largest eigenvalue\n",
    "print (eigvals[414])\n",
    "print (eigvals[415])"
   ]
  },
  {
   "cell_type": "code",
   "execution_count": 10,
   "metadata": {},
   "outputs": [
    {
     "data": {
      "image/png": "[encoded data removed]",
      "text/plain": [
       "<Figure size 432x288 with 1 Axes>"
      ]
     },
     "metadata": {
      "needs_background": "light"
     },
     "output_type": "display_data"
    },
    {
     "data": {
      "image/png": "[encoded data removed]",
      "text/plain": [
       "<Figure size 432x288 with 1 Axes>"
      ]
     },
     "metadata": {
      "needs_background": "light"
     },
     "output_type": "display_data"
    },
    {
     "data": {
      "image/png": "[encoded data removed]",
      "text/plain": [
       "<Figure size 432x288 with 1 Axes>"
      ]
     },
     "metadata": {
      "needs_background": "light"
     },
     "output_type": "display_data"
    },
    {
     "data": {
      "image/png": "[encoded data removed]",
      "text/plain": [
       "<Figure size 432x288 with 1 Axes>"
      ]
     },
     "metadata": {
      "needs_background": "light"
     },
     "output_type": "display_data"
    },
    {
     "data": {
      "text/plain": [
       "<Figure size 432x288 with 0 Axes>"
      ]
     },
     "metadata": {},
     "output_type": "display_data"
    }
   ],
   "source": [
    "# Let's visualise the eigenvalues\n",
    "\n",
    "x = np.arange(0, 2576)\n",
    "\n",
    "# All of them\n",
    "plt.plot(x, eigvals) # Clearly out of scale\n",
    "plt.title('All eigenvalues of the covariance matrix')\n",
    "plt.figure()\n",
    "\n",
    "# First 415 of them\n",
    "plt.plot(x[:415], eigvals[:415]) # Still out of scale\n",
    "plt.title('First 415 eigenvalues of the covariance matrix')\n",
    "plt.figure()\n",
    "\n",
    "# First 200 of them\n",
    "plt.plot(x[:200], eigvals[:200])\n",
    "plt.title('First 200 eigenvalues of the covariance matrix')\n",
    "plt.figure()\n",
    "\n",
    "# First 20 of them\n",
    "plt.plot(x[:20], eigvals[:20])\n",
    "plt.title('First 20 eigenvalues of the covariance matrix')\n",
    "plt.figure()\n",
    "\n",
    "plt.show()"
   ]
  },
  {
   "cell_type": "code",
   "execution_count": 11,
   "metadata": {},
   "outputs": [
    {
     "name": "stdout",
     "output_type": "stream",
     "text": [
      "[[ 6.65652940e+02 -9.61576853e+02 -8.87258719e-01 ...  7.75282070e-01\n",
      "  -4.43725111e+01  3.71411489e+00]\n",
      " [-6.88353045e+02  7.15790640e+02 -2.18633198e+02 ...  2.61694974e+01\n",
      "  -1.57429173e+01  6.63083090e-02]\n",
      " [ 7.66194578e+01  6.08206970e+02 -4.55120935e+02 ...  1.69311161e+01\n",
      "  -7.62501843e+00 -5.82924552e+01]\n",
      " ...\n",
      " [-2.24568579e+02 -4.72903751e+01  1.16380837e+03 ... -7.59455136e+00\n",
      "   1.13097652e+01 -1.85063774e+01]\n",
      " [-1.34323029e+03 -2.11675626e+02  3.37198441e+02 ... -8.12500491e+00\n",
      "  -1.55309704e+01 -3.16031874e+00]\n",
      " [-4.66774805e+02  1.05117210e+02 -1.98430853e+02 ...  3.45637437e+00\n",
      "   3.77269664e+00  1.97667790e+00]] (416, 400)\n"
     ]
    }
   ],
   "source": [
    "# We keep the largest n eigenvalues and theeir corresponding eigenvectors n<=415, the other eigenvalues are zero\n",
    "\n",
    "n = 400\n",
    "eigvecs_best = eigvecs[:, :n]\n",
    "eigvals_best = eigvals[:n]\n",
    "\n",
    "# Projecting each training data point to the space spanned by the eigenvectors\n",
    "proj_pca_train_norm = np.zeros((416, n))\n",
    "for i in range(416):\n",
    "    proj_pca_train_norm [i, :] = np.dot(pca_train_norm[i, :], eigvecs_best)\n",
    "    \n",
    "print (proj_pca_train_norm, proj_pca_train_norm.shape)\n",
    "\n",
    "# Now in array proj_pca_train_norm, in each row, we have the projected coordinates for each face image"
   ]
  },
  {
   "cell_type": "code",
   "execution_count": 12,
   "metadata": {},
   "outputs": [
    {
     "name": "stdout",
     "output_type": "stream",
     "text": [
      "[[ 9548.80226526 -2982.02668606  -102.64281032 ...  -678.70033505\n",
      "   -233.79864427   432.46334607]\n",
      " [-2982.02668606  7238.01695877  1524.73737297 ...   136.90580978\n",
      "   1109.87480825   886.52862552]\n",
      " [ -102.64281032  1524.73737297  4479.1933641  ... -2055.49877602\n",
      "    373.97983784  2579.94375126]\n",
      " ...\n",
      " [ -678.70033505   136.90580978 -2055.49877602 ...  9277.09994925\n",
      "   2325.41510157 -1357.74358117]\n",
      " [ -233.79864427  1109.87480825   373.97983784 ...  2325.41510157\n",
      "  12931.33361928  1039.06435961]\n",
      " [  432.46334607   886.52862552  2579.94375126 ... -1357.74358117\n",
      "   1039.06435961  7822.03548457]] (416, 416)\n"
     ]
    }
   ],
   "source": [
    "# Let's try to compute the eigenvalues using the low-dimensional method\n",
    "\n",
    "# First we need to compute the new covariance matrix (1/N)A^T*A\n",
    "cov_ld = np.dot(pca_train_norm, pca_train_norm.T)/416\n",
    "print (cov_ld, cov_ld.shape) # as we can see it is NxN (and not DxD as the covariance matrix we had before)"
   ]
  },
  {
   "cell_type": "code",
   "execution_count": 13,
   "metadata": {},
   "outputs": [
    {
     "name": "stdout",
     "output_type": "stream",
     "text": [
      "0.05795598030090332\n",
      "5.9937450885772705\n",
      "[9.02743756e+05 5.24054250e+05 4.53834790e+05 2.61833559e+05\n",
      " 2.15727700e+05 1.48353006e+05 1.25918899e+05 1.14048076e+05\n",
      " 9.31484366e+04 8.12222147e+04 6.50859558e+04 5.81762316e+04\n",
      " 5.52253005e+04 5.10535605e+04 4.63916726e+04 4.17691529e+04\n",
      " 3.81714296e+04 3.43286230e+04 3.22459247e+04 3.19407832e+04\n",
      " 2.91754304e+04 2.69620287e+04 2.51429291e+04 2.30627560e+04\n",
      " 2.26218063e+04 2.21951500e+04 2.07823378e+04 1.94694338e+04\n",
      " 1.85514164e+04 1.80425861e+04 1.74664472e+04 1.65181050e+04\n",
      " 1.60017895e+04 1.56888109e+04 1.42067833e+04 1.35313601e+04\n",
      " 1.30510921e+04 1.29065696e+04 1.26708825e+04 1.24815194e+04\n",
      " 1.21431647e+04 1.18279157e+04 1.11466977e+04 1.08873660e+04\n",
      " 1.05506267e+04 1.03012393e+04 1.00631126e+04 9.69859942e+03\n",
      " 9.29810280e+03 9.11766766e+03 8.95372669e+03 8.77545126e+03\n",
      " 8.60262363e+03 8.23256843e+03 8.04038032e+03 7.85424919e+03\n",
      " 7.34036245e+03 7.31096507e+03 7.30583750e+03 7.16998894e+03\n",
      " 7.00117374e+03 6.66527525e+03 6.51430098e+03 6.38122223e+03\n",
      " 6.21061205e+03 6.15811694e+03 6.04843754e+03 5.98186706e+03\n",
      " 5.76707828e+03 5.67481740e+03 5.59897773e+03 5.48619669e+03\n",
      " 5.41036602e+03 5.33748359e+03 5.17512014e+03 5.09431113e+03\n",
      " 4.96430968e+03 4.80428140e+03 4.72193099e+03 4.69894026e+03\n",
      " 4.56831013e+03 4.38891401e+03 4.36016424e+03 4.32921528e+03\n",
      " 4.23456253e+03 4.11052839e+03 4.02965647e+03 3.98125889e+03\n",
      " 3.89826549e+03 3.86173569e+03 3.78211233e+03 3.75909195e+03\n",
      " 3.65668608e+03 3.60200177e+03 3.52556290e+03 3.50399335e+03\n",
      " 3.42017220e+03 3.38932985e+03 3.32555557e+03 3.31204388e+03\n",
      " 3.22458280e+03 3.20215511e+03 3.14642680e+03 3.11038061e+03\n",
      " 3.01785199e+03 2.96907660e+03 2.96427392e+03 2.89032785e+03\n",
      " 2.85574993e+03 2.83996311e+03 2.80609747e+03 2.72093746e+03\n",
      " 2.68341391e+03 2.66152031e+03 2.65328053e+03 2.60122548e+03\n",
      " 2.56862104e+03 2.54995815e+03 2.48140534e+03 2.45374632e+03\n",
      " 2.44693896e+03 2.40193541e+03 2.37851299e+03 2.32323871e+03\n",
      " 2.30520251e+03 2.26195441e+03 2.21426447e+03 2.18769050e+03\n",
      " 2.17510306e+03 2.16363607e+03 2.12557655e+03 2.11885293e+03\n",
      " 2.09250427e+03 2.07924294e+03 2.07208303e+03 2.04531567e+03\n",
      " 2.01685632e+03 1.98629901e+03 1.96702056e+03 1.95729513e+03\n",
      " 1.93483509e+03 1.91128498e+03 1.89290289e+03 1.87182224e+03\n",
      " 1.84701164e+03 1.82157223e+03 1.80823400e+03 1.80270804e+03\n",
      " 1.76695594e+03 1.75183980e+03 1.72992004e+03 1.71677669e+03\n",
      " 1.70504523e+03 1.69467896e+03 1.65773497e+03 1.62121583e+03\n",
      " 1.61716376e+03 1.59551790e+03 1.58581606e+03 1.55732974e+03\n",
      " 1.53053061e+03 1.51656874e+03 1.50143055e+03 1.49548944e+03\n",
      " 1.48343368e+03 1.46639778e+03 1.44440575e+03 1.43054920e+03\n",
      " 1.41959725e+03 1.40109633e+03 1.38609575e+03 1.37357038e+03\n",
      " 1.36015593e+03 1.35484568e+03 1.33771559e+03 1.32338904e+03\n",
      " 1.31323964e+03 1.29300643e+03 1.28615508e+03 1.27127008e+03\n",
      " 1.25754267e+03 1.24740940e+03 1.23555214e+03 1.22131613e+03\n",
      " 1.20384619e+03 1.18793056e+03 1.18613306e+03 1.17355842e+03\n",
      " 1.16429915e+03 1.15636994e+03 1.14736248e+03 1.14122836e+03\n",
      " 1.12743156e+03 1.11425500e+03 1.10933521e+03 1.08898450e+03\n",
      " 1.08616083e+03 1.07637086e+03 1.05893926e+03 1.04703518e+03\n",
      " 1.03084245e+03 1.02046702e+03 1.00986719e+03 9.97740528e+02\n",
      " 9.85227850e+02 9.83748632e+02 9.74823427e+02 9.71471200e+02\n",
      " 9.68628281e+02 9.52107933e+02 9.42245062e+02 9.31962343e+02\n",
      " 9.26672586e+02 9.18447068e+02 9.08085612e+02 8.97563241e+02\n",
      " 8.91474270e+02 8.87579547e+02 8.82002015e+02 8.78573819e+02\n",
      " 8.62516140e+02 8.50690235e+02 8.40886099e+02 8.35794604e+02\n",
      " 8.30775690e+02 8.27793591e+02 8.19124291e+02 8.12937001e+02\n",
      " 8.07507752e+02 7.99721033e+02 7.98661875e+02 7.87602904e+02\n",
      " 7.81438194e+02 7.69229352e+02 7.66363020e+02 7.58747129e+02\n",
      " 7.49347691e+02 7.46622253e+02 7.44128480e+02 7.34201000e+02\n",
      " 7.30008794e+02 7.22390809e+02 7.20095620e+02 7.06114321e+02\n",
      " 7.02116970e+02 6.98476364e+02 6.94065023e+02 6.86916947e+02\n",
      " 6.84598157e+02 6.78250526e+02 6.64256912e+02 6.59475843e+02\n",
      " 6.54530914e+02 6.45869385e+02 6.39705724e+02 6.35704405e+02\n",
      " 6.28383404e+02 6.28227593e+02 6.17207227e+02 6.12063054e+02\n",
      " 6.09341855e+02 6.05305433e+02 6.02898511e+02 5.90774495e+02\n",
      " 5.85325284e+02 5.84302673e+02 5.79777995e+02 5.69079688e+02\n",
      " 5.59933330e+02 5.55360670e+02 5.53981101e+02 5.49983072e+02\n",
      " 5.48764543e+02 5.43408711e+02 5.42536886e+02 5.39752785e+02\n",
      " 5.29564237e+02 5.22080151e+02 5.18921240e+02 5.13772512e+02\n",
      " 5.07887101e+02 5.05471049e+02 4.97166375e+02 4.95781324e+02\n",
      " 4.91817665e+02 4.87147254e+02 4.83125553e+02 4.76511329e+02\n",
      " 4.74392118e+02 4.69940005e+02 4.65831905e+02 4.62881725e+02\n",
      " 4.59668386e+02 4.55111424e+02 4.49748189e+02 4.45659730e+02\n",
      " 4.42017190e+02 4.39330255e+02 4.37918168e+02 4.32664302e+02\n",
      " 4.28242781e+02 4.22308942e+02 4.20601463e+02 4.16260034e+02\n",
      " 4.13015128e+02 4.07666065e+02 4.04559335e+02 3.97401763e+02\n",
      " 3.95169814e+02 3.94740603e+02 3.87831497e+02 3.85497767e+02\n",
      " 3.82468948e+02 3.78718722e+02 3.76687519e+02 3.71379348e+02\n",
      " 3.67439445e+02 3.65489671e+02 3.65062394e+02 3.59682201e+02\n",
      " 3.58025660e+02 3.55106833e+02 3.52413271e+02 3.46552037e+02\n",
      " 3.43525622e+02 3.37881725e+02 3.37174346e+02 3.32942797e+02\n",
      " 3.31596341e+02 3.29380402e+02 3.25323264e+02 3.21888684e+02\n",
      " 3.17786283e+02 3.12750414e+02 3.07384211e+02 3.06473279e+02\n",
      " 3.02948557e+02 2.98660148e+02 2.97179919e+02 2.94379385e+02\n",
      " 2.93001616e+02 2.90267859e+02 2.89092341e+02 2.83098923e+02\n",
      " 2.78950384e+02 2.77943330e+02 2.75747977e+02 2.72084527e+02\n",
      " 2.69898480e+02 2.68453760e+02 2.66144963e+02 2.63526126e+02\n",
      " 2.61352146e+02 2.58865712e+02 2.54731607e+02 2.54077698e+02\n",
      " 2.51657940e+02 2.47990789e+02 2.44237903e+02 2.42464124e+02\n",
      " 2.39823948e+02 2.38082445e+02 2.35141059e+02 2.31019913e+02\n",
      " 2.27587509e+02 2.25416872e+02 2.24891956e+02 2.23075266e+02\n",
      " 2.21508216e+02 2.17453468e+02 2.15832614e+02 2.14615509e+02\n",
      " 2.11288867e+02 2.05545871e+02 2.04705055e+02 2.02679239e+02\n",
      " 2.01745153e+02 1.98009139e+02 1.93969439e+02 1.92592573e+02\n",
      " 1.90994007e+02 1.87133377e+02 1.86631637e+02 1.83415998e+02\n",
      " 1.81408203e+02 1.80622566e+02 1.78773474e+02 1.75176300e+02\n",
      " 1.72880711e+02 1.69447286e+02 1.67910188e+02 1.66183494e+02\n",
      " 1.65709012e+02 1.60678048e+02 1.59733422e+02 1.56783481e+02\n",
      " 1.52664369e+02 1.50541345e+02 1.48457777e+02 1.46126232e+02\n",
      " 1.45048985e+02 1.41751037e+02 1.39805269e+02 1.38337898e+02\n",
      " 1.30066954e+02 1.27733612e+02 1.23775239e+02 1.18869791e+02\n",
      " 1.15460250e+02 1.14686858e+02 1.11905046e+02 1.08163804e+02\n",
      " 1.05228096e+02 9.49441753e+01 8.95923109e+01 4.07613857e-12] (416,)\n"
     ]
    }
   ],
   "source": [
    "# Now we compute the eigenvalues and eigenvectors of the new covariance matrix and measure the elapsed time\n",
    "\n",
    "start_ld = time.time()\n",
    "eigvals_ld, eigvecs_ld = np.linalg.eig(cov_ld) # these are not ordered, so we order them and the corresponding eigenvalues\n",
    "end_ld = time.time()\n",
    "print (end_ld-start_ld)\n",
    "print (end-start)\n",
    "\n",
    "# Taking the real part of the eigenvalues (complex eigenvalues are the result of calculation rounding errors, because the covariance matrix is symmetric)\n",
    "\n",
    "eigvals_ld = np.real(eigvals_ld)\n",
    "eigvecs_ld = np.real(eigvecs_ld)\n",
    "\n",
    "# Order eigenvalues and eigenvectors according to the size of the eigenvalues\n",
    "\n",
    "eigvals_ld = np.abs(eigvals_ld)\n",
    "index_ld = eigvals_ld.argsort()[::-1] # argsort returns the indices that would sort an array (in this case the vector eigvals)\n",
    "eigvals_ld = eigvals_ld[index_ld]\n",
    "eigvecs_ld = eigvecs_ld[:,index_ld]\n",
    "print (eigvals_ld, eigvals_ld.shape)"
   ]
  },
  {
   "cell_type": "code",
   "execution_count": 14,
   "metadata": {},
   "outputs": [
    {
     "name": "stdout",
     "output_type": "stream",
     "text": [
      "415\n",
      "0\n",
      "415\n",
      "902743.7558869808\n",
      "89.59231094154747\n",
      "4.0761385664547945e-12\n"
     ]
    },
    {
     "data": {
      "image/png": "[encoded data removed]",
      "text/plain": [
       "<Figure size 432x288 with 1 Axes>"
      ]
     },
     "metadata": {
      "needs_background": "light"
     },
     "output_type": "display_data"
    },
    {
     "data": {
      "image/png": "[encoded data removed]",
      "text/plain": [
       "<Figure size 432x288 with 1 Axes>"
      ]
     },
     "metadata": {
      "needs_background": "light"
     },
     "output_type": "display_data"
    },
    {
     "data": {
      "image/png": "[encoded data removed]",
      "text/plain": [
       "<Figure size 432x288 with 1 Axes>"
      ]
     },
     "metadata": {
      "needs_background": "light"
     },
     "output_type": "display_data"
    },
    {
     "data": {
      "image/png": "[encoded data removed]",
      "text/plain": [
       "<Figure size 432x288 with 1 Axes>"
      ]
     },
     "metadata": {
      "needs_background": "light"
     },
     "output_type": "display_data"
    },
    {
     "data": {
      "text/plain": [
       "<Figure size 432x288 with 0 Axes>"
      ]
     },
     "metadata": {},
     "output_type": "display_data"
    }
   ],
   "source": [
    "# How many zero eigenvalues do we have this time?\n",
    "\n",
    "print (np.linalg.matrix_rank(cov_ld)) # We should have 2576 - 415 = 2161 zero eigenvalues\n",
    "print ((eigvals_ld == np.zeros(eigvals_ld.shape)).sum()) # The rounding errors will give 0 eigenvalues that are precisely zero\n",
    "print ((eigvals_ld >= np.ones(eigvals_ld.shape)/100000).sum()) # However there are 415 eigenvalues that are larger than 1e-05, which can be considered zero eigenvectors.\n",
    "print (eigvals_ld.max()) # The largest eigenvalue\n",
    "print (eigvals_ld[414])\n",
    "print (eigvals_ld[415])\n",
    "\n",
    "# Let's visualise the eigenvalues\n",
    "\n",
    "x = np.arange(0, 416)\n",
    "\n",
    "# All of them\n",
    "plt.plot(x, eigvals_ld) # Clearly out of scale\n",
    "plt.title('All eigenvalues of the covariance matrix')\n",
    "plt.figure()\n",
    "\n",
    "# First 415 of them\n",
    "plt.plot(x[:415], eigvals_ld[:415]) # Still out of scale\n",
    "plt.title('First 415 eigenvalues of the covariance matrix')\n",
    "plt.figure()\n",
    "\n",
    "# First 200 of them\n",
    "plt.plot(x[:200], eigvals_ld[:200])\n",
    "plt.title('First 200 eigenvalues of the covariance matrix')\n",
    "plt.figure()\n",
    "\n",
    "# First 20 of them\n",
    "plt.plot(x[:20], eigvals_ld[:20])\n",
    "plt.title('First 20 eigenvalues of the covariance matrix')\n",
    "plt.figure()\n",
    "\n",
    "plt.show()"
   ]
  },
  {
   "cell_type": "code",
   "execution_count": 15,
   "metadata": {},
   "outputs": [
    {
     "name": "stdout",
     "output_type": "stream",
     "text": [
      "[-1.74622983e-09 -1.80443749e-09 -2.91038305e-10 -1.45519152e-10\n",
      "  2.61934474e-10  2.91038305e-10 -3.05590220e-10  0.00000000e+00\n",
      "  4.80213203e-10 -1.45519152e-11 -1.45519152e-11 -8.73114914e-11\n",
      "  5.09317033e-11  0.00000000e+00 -2.25554686e-10  2.61934474e-10\n",
      "  3.63797881e-10 -7.27595761e-11 -8.00355338e-11  3.27418093e-11\n",
      "  2.83762347e-10  1.30967237e-10  1.34605216e-10 -1.45519152e-11\n",
      " -4.36557457e-11 -8.36735126e-11  1.45519152e-11  1.09139364e-11\n",
      " -3.27418093e-11 -5.45696821e-11  1.45519152e-11  5.45696821e-11\n",
      "  1.03682396e-10  1.14596332e-10 -2.00088834e-11 -3.63797881e-11\n",
      " -1.03682396e-10  4.36557457e-11  3.63797881e-12  3.63797881e-12\n",
      "  4.72937245e-11 -1.81898940e-12  7.63975549e-11 -2.18278728e-11\n",
      "  3.45607987e-11 -7.27595761e-12 -4.18367563e-11  3.81987775e-11\n",
      " -2.72848411e-11  1.45519152e-11  3.09228199e-11 -9.09494702e-12\n",
      "  3.63797881e-11 -7.27595761e-12  2.72848411e-12 -1.72803993e-11\n",
      " -1.81898940e-12  3.54702934e-11  1.36424205e-11  0.00000000e+00\n",
      " -3.54702934e-11 -2.81943358e-11 -3.63797881e-11 -4.54747351e-11\n",
      " -4.63842298e-11  2.00088834e-11  2.18278728e-11 -1.54614099e-11\n",
      " -9.09494702e-12  9.09494702e-13  4.00177669e-11  1.81898940e-12\n",
      " -3.63797881e-12 -1.18234311e-11  1.36424205e-11  1.27329258e-11\n",
      " -1.81898940e-11 -2.54658516e-11 -3.09228199e-11  1.27329258e-11\n",
      "  2.00088834e-11  3.27418093e-11 -2.36468622e-11 -1.09139364e-11\n",
      "  1.36424205e-11  3.27418093e-11  3.63797881e-12  1.27329258e-11\n",
      "  1.72803993e-11  8.18545232e-12  1.00044417e-11  1.04591891e-11\n",
      " -3.18323146e-11 -6.36646291e-12 -1.77351467e-11 -3.63797881e-12\n",
      "  2.72848411e-12  1.54614099e-11  1.09139364e-11  2.77395884e-11\n",
      " -2.27373675e-12  1.13686838e-11  2.95585778e-11  2.68300937e-11\n",
      " -1.31876732e-11 -1.27329258e-11 -7.73070497e-12  1.50066626e-11\n",
      " -1.68256520e-11  9.54969437e-12 -1.95541361e-11 -9.54969437e-12\n",
      "  7.27595761e-12 -1.13686838e-11  4.54747351e-13 -2.50111043e-11\n",
      " -1.81898940e-11 -2.72848411e-12 -9.54969437e-12 -2.13731255e-11\n",
      "  1.90993887e-11  4.54747351e-12 -8.64019967e-12  1.13686838e-11\n",
      "  2.72848411e-12 -5.00222086e-12 -5.45696821e-12 -1.22781785e-11\n",
      " -4.54747351e-13 -3.63797881e-12 -5.00222086e-12 -1.81898940e-11\n",
      " -4.54747351e-12 -4.54747351e-13 -1.18234311e-11 -1.63709046e-11\n",
      "  4.09272616e-12  0.00000000e+00  1.81898940e-12 -3.41060513e-12\n",
      " -8.18545232e-12  1.52340363e-11  1.75077730e-11  9.09494702e-12\n",
      "  1.52340363e-11  1.09139364e-11  5.00222086e-12 -2.72848411e-12\n",
      "  0.00000000e+00  8.41282599e-12 -1.81898940e-12  6.82121026e-13\n",
      " -2.72848411e-12 -4.54747351e-13 -9.09494702e-13 -4.77484718e-12\n",
      " -1.52340363e-11  2.27373675e-12  4.54747351e-13  5.00222086e-12\n",
      " -1.13686838e-12 -1.34150469e-11 -1.81898940e-12 -7.04858394e-12\n",
      " -5.22959454e-12 -9.09494702e-13 -6.59383659e-12 -1.31876732e-11\n",
      "  0.00000000e+00  5.68434189e-12 -9.09494702e-13  5.22959454e-12\n",
      "  9.09494702e-13  4.09272616e-12 -8.86757334e-12 -7.73070497e-12\n",
      "  8.18545232e-12 -6.13908924e-12  1.36424205e-11 -1.13686838e-12\n",
      " -5.68434189e-12 -6.82121026e-13  6.13908924e-12 -1.36424205e-12\n",
      "  1.15960574e-11 -1.22781785e-11 -5.22959454e-12 -1.59161573e-12\n",
      "  5.00222086e-12 -1.11413101e-11 -2.27373675e-13  1.81898940e-12\n",
      " -9.09494702e-13 -1.81898940e-12  6.13908924e-12  4.54747351e-12\n",
      "  1.02318154e-11  5.68434189e-12  4.54747351e-13 -4.32009983e-12\n",
      " -5.68434189e-12 -5.00222086e-12 -3.52429197e-12  6.82121026e-13\n",
      "  1.47792889e-12  5.68434189e-13  3.52429197e-12 -1.93267624e-12\n",
      "  5.57065505e-12  2.27373675e-13 -1.40971679e-11 -3.75166564e-12\n",
      " -1.59161573e-12 -3.29691829e-12 -1.02318154e-12  1.59161573e-12\n",
      "  1.13686838e-12  2.04636308e-12  5.79802872e-12  4.54747351e-13\n",
      " -1.13686838e-12  1.02318154e-12  2.38742359e-12 -2.27373675e-13\n",
      " -7.95807864e-13 -2.27373675e-13 -2.27373675e-12  2.72848411e-12\n",
      " -1.70530257e-12  5.91171556e-12  1.59161573e-12 -7.95807864e-13\n",
      "  2.27373675e-12  8.07176548e-12  1.81898940e-12  2.27373675e-13\n",
      "  3.63797881e-12  1.93267624e-12  1.47792889e-12 -1.93267624e-12\n",
      " -3.63797881e-12  1.81898940e-12  5.57065505e-12  2.84217094e-12\n",
      "  9.09494702e-12  3.75166564e-12  5.00222086e-12 -6.59383659e-12\n",
      "  5.00222086e-12 -1.13686838e-12  3.52429197e-12  2.27373675e-13\n",
      " -3.06954462e-12 -2.95585778e-12 -2.27373675e-13  7.04858394e-12\n",
      " -1.47792889e-12  1.13686838e-13  3.18323146e-12  1.59161573e-12\n",
      " -3.97903932e-12 -2.72848411e-12 -2.50111043e-12 -1.93267624e-12\n",
      " -1.59161573e-12 -1.59161573e-12 -3.41060513e-13  2.04636308e-12\n",
      "  5.68434189e-13  1.02318154e-12  1.47792889e-12 -6.59383659e-12\n",
      "  1.59161573e-12  3.41060513e-13 -7.95807864e-13  1.02318154e-12\n",
      " -2.72848411e-12 -1.13686838e-12  4.43378667e-12 -7.95807864e-12\n",
      "  1.93267624e-12  2.95585778e-12  4.03588274e-12 -1.25055521e-12\n",
      "  2.78532752e-12 -2.61479727e-12 -2.67164069e-12  2.33058017e-12\n",
      "  1.13686838e-13  2.84217094e-13  8.52651283e-13  8.52651283e-13\n",
      " -2.10320650e-12 -9.09494702e-13  1.47792889e-12  3.58113539e-12\n",
      " -3.01270120e-12 -5.68434189e-13  1.42108547e-12  9.09494702e-13\n",
      " -4.03588274e-12  2.84217094e-13 -1.98951966e-12  2.27373675e-12\n",
      " -1.02318154e-12  2.33058017e-12  6.82121026e-13  2.04636308e-12\n",
      " -4.77484718e-12 -1.08002496e-12 -5.79802872e-12  7.95807864e-13\n",
      " -1.13686838e-13 -3.80850906e-12  1.08002496e-12 -6.82121026e-13\n",
      "  3.97903932e-13 -2.84217094e-13  5.11590770e-13  4.54747351e-13\n",
      " -2.84217094e-12 -1.93267624e-12  3.18323146e-12 -3.97903932e-13\n",
      "  4.54747351e-13  1.02318154e-12  5.51381163e-12  1.02318154e-12\n",
      "  1.13686838e-13  5.68434189e-13  7.95807864e-13  3.97903932e-13\n",
      "  1.98951966e-12  4.94537744e-12  2.21689334e-12  3.24007488e-12\n",
      "  1.19371180e-12  3.12638804e-12 -1.87583282e-12 -1.02318154e-12\n",
      "  3.41060513e-13 -4.49063009e-12  2.21689334e-12 -9.66338121e-13\n",
      "  2.78532752e-12  1.13686838e-13 -3.06954462e-12  1.47792889e-12\n",
      "  1.81898940e-12 -6.82121026e-13  3.29691829e-12 -6.25277607e-13\n",
      " -2.89901436e-12  1.13686838e-12 -1.25055521e-12  0.00000000e+00\n",
      " -1.42108547e-13  3.43902684e-12  1.42108547e-13  2.16004992e-12\n",
      "  2.13162821e-12  3.63797881e-12 -5.68434189e-14  1.10844667e-12\n",
      " -1.22213351e-12 -5.68434189e-14  1.02318154e-12  4.14956958e-12\n",
      "  4.71800377e-12  1.70530257e-13  1.90425453e-12  7.10542736e-13\n",
      "  1.36424205e-12  4.17799129e-12  2.04636308e-12  1.30739863e-12\n",
      "  1.73372428e-12  2.04636308e-12 -4.06430445e-12  5.68434189e-14\n",
      "  1.30739863e-12  2.27373675e-13 -2.35900188e-12  9.37916411e-13\n",
      " -5.68434189e-14 -1.30739863e-12 -3.69482223e-13  1.70530257e-13\n",
      " -5.68434189e-14 -9.37916411e-13  1.10844667e-12 -3.41060513e-13\n",
      " -2.50111043e-12  3.35376171e-12  7.67386155e-13 -2.84217094e-14\n",
      "  1.10844667e-12 -2.84217094e-13  2.35900188e-12 -5.82645043e-12\n",
      "  3.60955710e-12  1.70530257e-13 -2.55795385e-13  2.27373675e-12\n",
      " -3.97903932e-13 -2.07478479e-12 -1.12265752e-12  1.42108547e-13\n",
      "  4.26325641e-14  1.25055521e-12 -1.43529633e-12 -3.38218342e-12\n",
      " -1.83320026e-12 -1.74793513e-12  2.70006240e-13  3.35130324e-11] (416,)\n",
      "[[ 0.01293549 -0.01427159  0.01661356 ... -0.01308542  0.00350068\n",
      "   0.02201934]\n",
      " [ 0.01356583 -0.01398264  0.01731498 ...  0.00203465 -0.00529105\n",
      "   0.03441327]\n",
      " [ 0.01420075 -0.01339943  0.01989956 ... -0.0108984  -0.01617806\n",
      "  -0.01777   ]\n",
      " ...\n",
      " [-0.0037316   0.04673737 -0.01088498 ... -0.06600259  0.03864325\n",
      "  -0.06258129]\n",
      " [-0.00337591  0.04727781 -0.01046072 ... -0.00702426  0.01196818\n",
      "  -0.01867137]\n",
      " [-0.00363365  0.04755506 -0.01268753 ...  0.00225386 -0.03343278\n",
      "  -0.02910159]] (2576, 416)\n",
      "[[-0.01293549  0.01427159  0.01661356 ...  0.01308542  0.00350068\n",
      "  -0.00861929]\n",
      " [-0.01356583  0.01398264  0.01731498 ... -0.00203465 -0.00529105\n",
      "   0.00832003]\n",
      " [-0.01420075  0.01339943  0.01989956 ...  0.0108984  -0.01617806\n",
      "   0.01154064]\n",
      " ...\n",
      " [ 0.0037316  -0.04673737 -0.01088498 ...  0.06600259  0.03864325\n",
      "   0.00574395]\n",
      " [ 0.00337591 -0.04727781 -0.01046072 ...  0.00702426  0.01196818\n",
      "   0.00810711]\n",
      " [ 0.00363365 -0.04755506 -0.01268753 ... -0.00225386 -0.03343278\n",
      "  -0.00720744]] (2576, 416)\n",
      "[[-2.58709842e-02  2.85431846e-02 -1.17961196e-16 ...  2.61708470e-02\n",
      "  -2.12200049e-15 -3.06386356e-02]\n",
      " [-2.71316521e-02  2.79652886e-02 -3.12250226e-17 ... -4.06929602e-03\n",
      "  -4.18068358e-16 -2.60932423e-02]\n",
      " [-2.84015009e-02  2.67988525e-02 -3.46944695e-18 ...  2.17967921e-02\n",
      "  -1.02348685e-15  2.93106392e-02]\n",
      " ...\n",
      " [ 7.46320267e-03 -9.34747315e-02 -6.41847686e-17 ...  1.32005173e-01\n",
      "   1.14075416e-14  6.83252380e-02]\n",
      " [ 6.75181615e-03 -9.45556190e-02 -7.63278329e-17 ...  1.40485153e-02\n",
      "   7.01695646e-15  2.67784809e-02]\n",
      " [ 7.26729197e-03 -9.51101213e-02 -7.45931095e-17 ... -4.50771259e-03\n",
      "   2.00534034e-15  2.18941460e-02]]\n"
     ]
    }
   ],
   "source": [
    "# What is the relationship between the eigenvalues and the eigenvectors resulting from the two methods\n",
    "\n",
    "print (eigvals[:416]-eigvals_ld, (eigvals[:416]-eigvals_ld).shape)\n",
    "# Therefore the eigenvalues are identical\n",
    "\n",
    "eigvecs_ld_cmp = np.dot(pca_train_norm.T, eigvecs_ld)\n",
    "eigvecs_ld_cmp = eigvecs_ld_cmp/np.linalg.norm(eigvecs_ld_cmp,axis=0)\n",
    "print (eigvecs_ld_cmp, eigvecs_ld_cmp.shape)\n",
    "print (eigvecs[:, :416], eigvecs[:, :416].shape)\n",
    "print (eigvecs[:, :416]-eigvecs_ld_cmp)"
   ]
  },
  {
   "cell_type": "code",
   "execution_count": 16,
   "metadata": {
    "scrolled": true
   },
   "outputs": [
    {
     "data": {
      "text/plain": [
       "<matplotlib.image.AxesImage at 0xb31c28da0>"
      ]
     },
     "execution_count": 16,
     "metadata": {},
     "output_type": "execute_result"
    },
    {
     "data": {
      "image/png": "[encoded data removed]",
      "text/plain": [
       "<Figure size 432x288 with 1 Axes>"
      ]
     },
     "metadata": {
      "needs_background": "light"
     },
     "output_type": "display_data"
    }
   ],
   "source": [
    "# Let's try to reconstruct one face image, just as a sanity check to see if we can still see a face (worse quality of course, because we did a lossy transformation on it)\n",
    "face_check = avg_face + np.dot(eigvecs_best, proj_pca_train_norm[0, :])\n",
    "plt.imshow(np.reshape(face_check, (46,56)).T, cmap = 'gist_gray')"
   ]
  },
  {
   "cell_type": "code",
   "execution_count": null,
   "metadata": {},
   "outputs": [],
   "source": []
  },
  {
   "cell_type": "markdown",
   "metadata": {},
   "source": [
    "Testing"
   ]
  },
  {
   "cell_type": "code",
   "execution_count": 17,
   "metadata": {},
   "outputs": [
    {
     "name": "stdout",
     "output_type": "stream",
     "text": [
      "[[ 15.40384615  19.85576923  24.77644231 ...  76.88701923  56.53605769\n",
      "   44.05048077]\n",
      " [  2.40384615   3.85576923   0.77644231 ...  29.88701923  32.53605769\n",
      "   36.05048077]\n",
      " [-34.59615385  -9.14423077  11.77644231 ... -19.11298077 -27.46394231\n",
      "  -22.94951923]\n",
      " ...\n",
      " [-31.59615385 -34.14423077 -34.22355769 ...  80.88701923  85.53605769\n",
      "   89.05048077]\n",
      " [ 96.40384615 105.85576923 118.77644231 ...  -8.11298077  -6.46394231\n",
      "   -4.94951923]\n",
      " [ 12.40384615  38.85576923  47.77644231 ... -62.11298077 -63.46394231\n",
      "  -61.94951923]] (104, 2576)\n",
      "[[  541.05488808  -848.41749348   121.59180844 ...    -5.53125991\n",
      "     18.7559589     38.44108441]\n",
      " [ -776.0223618   -488.2718446   -346.27638881 ...   -28.80187119\n",
      "     11.84399584     6.66799972]\n",
      " [-1095.44250085  -507.07375612    92.71379804 ...   -13.39532359\n",
      "    -25.34077329    17.94562386]\n",
      " ...\n",
      " [  971.37999113  -977.14864781  -105.44616561 ...   -17.10770641\n",
      "    -31.70566172    28.687647  ]\n",
      " [-1075.37913567   510.92190366   543.35283071 ...    -7.06348635\n",
      "     28.41716729    -3.92996155]\n",
      " [-1111.14578003  1297.67291471   372.18978854 ...   -13.42819743\n",
      "      8.49956591    34.10154493]] (104, 400)\n"
     ]
    }
   ],
   "source": [
    "# Now that we've trained our model, let's test it on our testing data set\n",
    "# First, let's normalise the testing set (subtract the average face from all face images)\n",
    "\n",
    "pca_test_norm = pca_test-avg_face # Works because of broadcasting\n",
    "print (pca_test_norm, pca_test_norm.shape)\n",
    "\n",
    "# Then let's project each testing image to the eigenspace (space spanned by the best eigenvectors)\n",
    "proj_pca_test_norm = np.zeros((104, n))\n",
    "for i in range(104):\n",
    "    proj_pca_test_norm [i, :] = np.dot(pca_test_norm[i, :], eigvecs_best)\n",
    "\n",
    "print (proj_pca_test_norm, proj_pca_test_norm.shape)\n",
    "\n",
    "# Now in array proj_pca_test_norm, in each row, we have the projected coordinates for each face image"
   ]
  },
  {
   "cell_type": "code",
   "execution_count": 18,
   "metadata": {
    "scrolled": false
   },
   "outputs": [
    {
     "name": "stdout",
     "output_type": "stream",
     "text": [
      "[2565.21143527 2876.81050875 2747.84577667 2621.41241703 3656.0725475\n",
      " 3078.10436181 2385.2105087  2514.5985293  3267.71305893 3077.24859621\n",
      " 3354.98103707 2511.41565442 2828.00700399 2440.81550345 3491.95535558\n",
      " 2884.25134324 2867.70770908 3272.73599902 3004.25750731 2887.20983918\n",
      " 3596.78686505 2734.62894748 2518.53683572 2715.66402911 2779.636169\n",
      " 2538.27270018 2606.1382818  3069.8483192  2815.66389989 3236.02854247\n",
      " 3943.71570076 3563.66192334 3218.67445165 2381.0173008  2896.39753345\n",
      " 2918.00443926 2599.52912844 2792.18562048 2961.29449744 2475.08127313\n",
      " 2839.01502375 2661.66268492 2568.50176879 2268.30694755 3772.88708909\n",
      " 2334.29678942 3125.71719561 3687.41510368 3346.49356727 2940.69882628\n",
      " 3273.47898529 2968.93465448 3543.43903463 2895.72913523 2865.73438694\n",
      " 3271.25843913 2916.18425681 3447.69451732 2844.99211549 3260.23667507\n",
      " 2765.51688529 3226.43699139 3121.08341694 2620.28994866 2900.92968605\n",
      " 3161.97093755 2671.55294647 3260.95507195 2626.71814794 2752.69427413\n",
      " 3417.36441608 2823.17387793 2336.80968133 2875.90967845 3728.44273311\n",
      " 3246.47195907 3098.33586118 2716.02758915 2785.07439924 2593.13373694\n",
      " 3242.92144221 3403.57524142 2802.06824297 3507.79429159 3570.14571085\n",
      " 3985.80103895 2999.92279883 2902.87276324 4033.65086318 3454.00264493\n",
      " 2869.04885057 3012.70546868 3515.70829617 4096.96349688 2931.63151104\n",
      " 3021.51178027 2487.40822524 3064.00779394 3203.78100205 2421.19544871\n",
      " 2468.98227033 4132.71754293 3080.31598872 3015.91761409 3259.53599588\n",
      " 2303.30302401 3006.73761406 2909.73315307 2684.58043609 2876.43726539\n",
      " 2802.91072017 2783.21218874 3337.39202363 2261.84495478 2754.3542148\n",
      " 3330.4784717  2811.31361736 2407.14984395 2648.05197476 2941.52792992\n",
      " 3115.27143967 3810.74363475 2582.01046513 2907.85730811 2799.32985307\n",
      " 2523.60360069 3861.76115985 3144.65915595 3276.62159349 2701.23563141\n",
      " 2498.65702909 3816.81421776 2985.69087757 2838.60219416 3920.31244682\n",
      " 3335.90133006 2419.77216383 2410.55546112 2719.3040044  2600.38534418\n",
      " 3205.20726563 2635.07502258 2980.95946726 2984.57873909 3145.7234668\n",
      " 2602.58113685 3100.16995014 3124.05085234 3177.6162903  2604.36256139\n",
      " 3350.08798768 3332.39340922 3469.89988238 2730.76686636 2365.18673634\n",
      " 2397.63375309 2947.89614241 2275.98757564 2761.98949096 2090.73842321\n",
      " 3223.59164709 3262.42237172 3281.31374952 2541.49592802 2715.26337079\n",
      " 2835.52510043 3125.71063171 2807.98784052 2741.04550128 2473.94316797\n",
      " 3370.91830231 2277.48123262 2317.67757184 2677.75983452 3156.65894335\n",
      " 2997.30033671 2900.70880772 3251.0810649  2312.18678421 2817.94359273\n",
      " 3006.89448599 2851.05555478 2011.9600561  3033.70297958 3568.77892449\n",
      " 2544.15664967 2300.68606842 3591.41441774 3212.28069203 2932.78407221\n",
      " 2689.86201809 2922.4402904  3004.81140303 3249.32184407 3084.05918591\n",
      " 3038.85785212 2536.13365981 2446.66420032 2714.20147256 3470.62918022\n",
      " 3252.07228741 3215.67873712 2745.33699786 3609.88612389 2784.41312618\n",
      " 2927.74707491 2582.1939776  2437.84610874 2777.2917749  2541.62642233\n",
      " 3577.62188183 2837.15371446 2766.79630764 2571.97983811 2922.49107169\n",
      " 2308.18354482 3196.78654543 2435.79651341 3387.92604177 3502.32736882\n",
      " 2558.73811053 3330.62974609 2681.19512909 3010.66890683 2659.35523363\n",
      " 3254.05827542 3162.22959762 2706.29875426 2789.36273216 2877.39777849\n",
      " 3723.88981448 3433.41209598 3212.50197489 2535.1958879  3047.18610695\n",
      " 2520.13702884 2989.71679202 2831.8115503  3156.91909365 3400.3245446\n",
      " 3225.20242864 2362.36312884 3115.38921415 2762.46438194 2476.43262727\n",
      " 3331.30368749 2891.20597877 3226.95415645 3363.83069682 2938.13255698\n",
      " 3192.8413487  3113.43305814 2927.70974482 3346.77198117 3767.66809089\n",
      " 2381.59233308 3078.92189106 2858.00552592 3332.71763412 3052.5390383\n",
      " 3975.72457632 3185.11039982 2642.6453303  2267.6933623  2147.85205583\n",
      " 2459.09343153 3141.49374832 2598.16920885 3137.63008606 2644.45728155\n",
      " 3230.31665806 3202.56726963 2777.16862513 2722.86840076 2838.91953487\n",
      " 4926.47574216 2884.22106094 3528.17852514 2708.1264416  2167.34771526\n",
      " 3004.63948456 2626.15386242 2836.45516115 3649.90982032 2557.51856396\n",
      " 3255.63609013 2880.72237942 2673.2485985  3377.2992724  3344.39232227\n",
      " 2437.97241295 2570.90998578 3149.35816155 3541.48640657 3316.58442282\n",
      " 3039.18521654 3325.04909427 2842.96060764 2778.19814522 3116.88201816\n",
      " 2533.83904036 3663.04674959 2693.37434513 2171.74925604 4294.16197162\n",
      " 3202.35749198 2333.35465052 2301.51081555 3690.30361905 3588.51931859\n",
      " 2515.1648233  3238.27934809 3419.82846397 2979.51625443 3042.19333006\n",
      " 2326.29977405 3166.24424901 2998.21040839 2266.79912058 2657.28753339\n",
      " 2809.88349171 2585.45029916 2353.87512949 3191.08297497 3088.09662437\n",
      " 2758.68788066 4138.47498774 2515.26167503 2875.00665508 2488.03085719\n",
      " 2700.34847559 3272.42471986 3125.84135439 2800.31397555 2206.86119655\n",
      " 3039.675646   3268.39447668 2105.46782887 2588.97586697 3295.82394164\n",
      " 2690.74902888 2620.49736018 2776.0793795  2735.92659888 3084.301166\n",
      " 3065.57544009 2935.51396298 3209.89555091 3204.82980573 3202.03049908\n",
      " 3776.85136449 3407.5027359  2985.64068103 2573.64382826 2700.77358634\n",
      " 3595.20719571 3007.24542459 2938.28549382 2943.77838912 2402.47828462\n",
      " 3022.59242733 3348.42199542 3073.05862392 3179.92266343 2733.4187889\n",
      " 2630.76073035 3497.49842349 2598.70977055 3205.55585484 2922.15108363\n",
      " 2468.93555728 2484.58375208 2816.42796519 2776.4380958  2787.87230118\n",
      " 2778.42796801 2633.55891584 2808.66274663 2408.87385916 2342.90371222\n",
      " 2736.89393019 3389.78342301 2301.84325783 2437.16006982 2527.59007836\n",
      " 2602.57160027 3464.57863387 3728.11569355 2546.74796228 3122.23205453\n",
      " 2857.25822685 3223.30197257 2414.73425386 2778.77260192 3149.22409586\n",
      " 2651.12758983 2719.17033889 2692.34312712 3590.69506832 2449.18760685\n",
      " 4165.22951128 2713.11928635 2736.44046257 3268.68624583 2916.46464507\n",
      " 3427.70085507 3293.46430962 3260.8333824  2957.72973882 2565.12225083\n",
      " 3196.76015663 2652.77348921 2673.93209696 2934.6508904  3067.99962367\n",
      " 3082.12091956] (416,)\n",
      "2011.9600561034656 182\n",
      "36\n",
      "43\n"
     ]
    },
    {
     "data": {
      "text/plain": [
       "<matplotlib.image.AxesImage at 0xb330fe668>"
      ]
     },
     "execution_count": 18,
     "metadata": {},
     "output_type": "execute_result"
    },
    {
     "data": {
      "image/png": "[encoded data removed]",
      "text/plain": [
       "<Figure size 432x288 with 1 Axes>"
      ]
     },
     "metadata": {
      "needs_background": "light"
     },
     "output_type": "display_data"
    },
    {
     "data": {
      "image/png": "[encoded data removed]",
      "text/plain": [
       "<Figure size 432x288 with 1 Axes>"
      ]
     },
     "metadata": {
      "needs_background": "light"
     },
     "output_type": "display_data"
    },
    {
     "data": {
      "image/png": "[encoded data removed]",
      "text/plain": [
       "<Figure size 432x288 with 1 Axes>"
      ]
     },
     "metadata": {
      "needs_background": "light"
     },
     "output_type": "display_data"
    }
   ],
   "source": [
    "# Let's classify the first image\n",
    "plt.imshow(np.reshape(pca_test[0, :], (46,56)).T, cmap = 'gist_gray')\n",
    "plt.figure()\n",
    "\n",
    "distances = np.zeros(416)\n",
    "\n",
    "for i in range(416):\n",
    "    distances[i] = np.linalg.norm(proj_pca_train_norm[i, :]-proj_pca_test_norm[0, :])\n",
    "    \n",
    "print (distances, distances.shape)\n",
    "\n",
    "smallest_distance = distances.min()\n",
    "smallest_index = distances.argmin()\n",
    "print (smallest_distance, smallest_index)\n",
    "\n",
    "# Which identity does it belong to according to the learning set?\n",
    "print (training[smallest_index, 2576])\n",
    "# Which identity does it actually belong to?\n",
    "print (test[0, 2576])\n",
    "\n",
    "# Print the picture that our picture is the closest to\n",
    "plt.imshow(np.reshape(pca_train[smallest_index, :], (46,56)).T, cmap = 'gist_gray')\n",
    "plt.figure()\n",
    "\n",
    "# Print our actual image\n",
    "plt.imshow(np.reshape(pca_test[0, :], (46,56)).T, cmap = 'gist_gray')"
   ]
  },
  {
   "cell_type": "code",
   "execution_count": 19,
   "metadata": {},
   "outputs": [
    {
     "name": "stdout",
     "output_type": "stream",
     "text": [
      "[[2565.21143527 2832.3715342  2927.11457719 ... 1801.24983413\n",
      "  3444.19653393 3909.41119379]\n",
      " [2876.81050875 2460.14044115 2627.98669571 ... 2882.02107485\n",
      "  2420.13575235 2235.15018207]\n",
      " [2747.84577667 2360.61439052 2772.27954454 ... 2395.117221\n",
      "  2792.78482064 2785.42149104]\n",
      " ...\n",
      " [2934.6508904  2848.48861331 2555.89018745 ... 2760.58178494\n",
      "  2599.73690727 3319.80372183]\n",
      " [3067.99962367 2445.18366928 2896.89753371 ... 3222.71710511\n",
      "  2557.00144051 3152.56756261]\n",
      " [3082.12091956 2331.5703048  2577.77876283 ... 2679.23329892\n",
      "  3083.5829309  3004.17285892]] (416, 104)\n",
      "[2011.9600561  1513.0843252  1355.14951791 1329.65075329 1437.76066508\n",
      " 1533.6682313  1376.75037347 1486.0008228  1687.02425005 1224.68198862\n",
      " 1533.7931933  1606.31283056 1662.61881723 1308.58429619 1779.9929432\n",
      " 1446.95045796 1548.5945602  1482.21371453 1313.28612139 1544.1843259\n",
      " 1312.35971651 1870.6444883  2001.79806759 2054.22381251  998.82159999\n",
      " 1237.02594752 1732.3014117  1498.52170922 1060.8148119  2184.29232688\n",
      " 1621.16624575 1313.41232411 1826.95022649  950.47476136 1808.99067223\n",
      " 1717.93739361  875.26523057 1144.46361768 1739.04619783 1095.0011281\n",
      " 1688.26005575 1704.1630048  1940.33395571 1445.64553463 1109.27066929\n",
      " 1452.35487495 1611.52534323 1579.62103568 1324.89020924 2024.77952343\n",
      " 1563.33871281 1723.11173367 1559.90002185 1797.1658998  1687.46131337\n",
      " 1187.5443598  1848.18066766 1500.32625214 1528.83773611 1493.44541971\n",
      " 1284.10363407  803.69487829 1063.14390412 1662.41759506 1607.19980171\n",
      " 1522.84392145 1045.20191908 1527.71975251 1858.46755906 1568.31482636\n",
      " 1640.38898318 1397.5022694  2442.46788797 2054.48305145 1605.23484665\n",
      " 1806.80513807 1128.6268185  1557.91556716 1538.50511849 1747.42714023\n",
      " 1474.08659409 2140.64914745 1803.31389502 1681.07761946 1434.21068306\n",
      " 1109.52275692 1631.7950444  1743.6190967  1435.83548288  806.39404576\n",
      " 1851.98785137 2169.07538592 1789.4778014  1909.9347124   823.25218405\n",
      " 1273.53776311 1558.54328521  944.46614503 1603.46075363 1622.00740102\n",
      " 1419.25185131 1022.99563724 1977.35326326 1917.35664219] (104,)\n",
      "[182 110 170  28 107 305 139 349 275 323  90 403 220  65  92 315 212 189\n",
      " 291  25  22 264 218  92 162 295 102 342  90  36 220 187 304 315 170 178\n",
      " 244 109 325 113 332 186   0 272  39 393  37 171 227 383 104  41 334  43\n",
      "  85 353 409 230 196 233 306 315 404 120 321 345 140 380 151 352  31 137\n",
      " 177 338  95  96 272 338  27 138  29 157 303 284 136 385  15  83 171 113\n",
      "  43  17   9 335 127 191  90  43 321 103  22 113 146   4] (104,)\n",
      "[43 35 46 49 38 46 49 18 13 21 15 34 44 10 28 39  3 31 12 47 12 33  2 28\n",
      "  9 43  3 51 14 30 29 35 34 39 46 44  7  6 50 10  5 48  7 16 14 29 48 11\n",
      "  9  7  2 34 42 23 15 38 19  6 15 40 14 39  8  2 33 39 27 52 50 51 13 17\n",
      " 45 52 22 22 16 52 13 33 35 17 46 24  4 52 18 46 30 10 35 14 28  1  4 23\n",
      "  3 29 33 48 12 10 18 45] (104,)\n",
      "[36 35 46 16 27 46 49 20 13 21 14 34 29 10 28 39  3 31 14 30 12 10 11 28\n",
      "  9  4  3 25 14 36 29 35 34 39 46 11  7  6 39 10  5 42  6 16 16 29 48 11\n",
      "  9  7  5 34 16 29 15 38 49  6 15 41 14 39  8 40  1 39 27 41 50 51 13 51\n",
      "  5 52 22 25 16 52 19  1 40 17 11  7  3 52 18 36 11 10 29  8 28  1  4 23\n",
      " 14 29  1 36 12 10 18 45] (104,)\n",
      "[False  True  True False False  True  True False  True  True False  True\n",
      " False  True  True  True  True  True False False  True False False  True\n",
      "  True False  True False  True False  True  True  True  True  True False\n",
      "  True  True False  True  True False False  True False  True  True  True\n",
      "  True  True False  True False False  True  True False  True  True False\n",
      "  True  True  True False False  True  True False  True  True  True False\n",
      " False  True  True False  True  True False False False  True False False\n",
      " False  True  True False False  True False False  True  True  True  True\n",
      " False  True False False  True  True  True  True] (104,)\n",
      "0.5961538461538461\n"
     ]
    }
   ],
   "source": [
    "# Now let's do this for all of the testing images\n",
    "\n",
    "distances = np.zeros((416, 104)) # In each row we store the distances (1 column = 1 testing image's distances)\n",
    "\n",
    "for k in range (104):\n",
    "    for i in range(416):\n",
    "        distances[i, k] = np.linalg.norm(proj_pca_train_norm[i, :]-proj_pca_test_norm[k, :])\n",
    "        \n",
    "# Now we have in each column the distances of the testing images from each of the training images.\n",
    "# Next step is to find the minimum of each column, and the corresponding row index (per column)\n",
    "print (distances, distances.shape)\n",
    "\n",
    "smallest_distance = distances.min(axis=0) # min per columns\n",
    "smallest_index = distances.argmin(axis=0)\n",
    "print (smallest_distance, smallest_distance.shape)\n",
    "print (smallest_index, smallest_index.shape)\n",
    "\n",
    "# Get the smallest distance image's label\n",
    "#detected_label = np.zeros (104)\n",
    "#for j in range(104):\n",
    "#    detected_label[j] = training[smallest_index[j], 2576]\n",
    "#print (detected_label, detected_label.shape)\n",
    "\n",
    "actual_label = test [:, 2576].T\n",
    "\n",
    "print (actual_label, actual_label.shape)\n",
    "\n",
    "\n",
    "# Which identity does it belong to according to the learning set?\n",
    "print (training[smallest_index, 2576], training[smallest_index, 2576].shape)\n",
    "\n",
    "same = (training[smallest_index, 2576]==actual_label)\n",
    "\n",
    "print (same, same.shape)\n",
    "\n",
    "percentage = np.sum(same)/104\n",
    "\n",
    "print (percentage)\n"
   ]
  },
  {
   "cell_type": "code",
   "execution_count": null,
   "metadata": {},
   "outputs": [],
   "source": []
  },
  {
   "cell_type": "code",
   "execution_count": null,
   "metadata": {},
   "outputs": [],
   "source": []
  },
  {
   "cell_type": "code",
   "execution_count": 20,
   "metadata": {},
   "outputs": [
    {
     "name": "stdout",
     "output_type": "stream",
     "text": [
      "Maximum memory used by high dimension way: 638.59765625 MiB\n",
      "Maximum memory used by donothing: 434.76953125 MiB\n"
     ]
    }
   ],
   "source": [
    "def highdimension():\n",
    "    eigvals_hd, eigvecs_hd = np.linalg.eig(cov)\n",
    "    return\n",
    "\n",
    "#def lowdimension():\n",
    "#    eigvals2_ld, eigvecs2_ld = np.linalg.eig(cov2)\n",
    "#    return\n",
    "\n",
    "def donothing():\n",
    "    x=1123\n",
    "    return\n",
    "\n",
    "#mem_low = max(memory_usage(proc=lowdimension))\n",
    "mem_high = max(memory_usage(proc=highdimension))\n",
    "mem_nothing = max(memory_usage(proc=donothing))\n",
    "\n",
    "#print(\"Maximum memory used by low dimension way: {0} MiB\".format(str(mem_low)))\n",
    "print(\"Maximum memory used by high dimension way: {0} MiB\".format(str(mem_high)))\n",
    "print(\"Maximum memory used by donothing: {0} MiB\".format(str(mem_nothing)))\n",
    "\n",
    "# Check it tomorrow, strange that the memory usage of donothing and lowdimension if the same, but don't know why yet"
   ]
  },
  {
   "cell_type": "code",
   "execution_count": null,
   "metadata": {},
   "outputs": [],
   "source": []
  },
  {
   "cell_type": "code",
   "execution_count": null,
   "metadata": {},
   "outputs": [],
   "source": []
  }
 ],
 "metadata": {
  "kernelspec": {
   "display_name": "Python 3",
   "language": "python",
   "name": "python3"
  },
  "language_info": {
   "codemirror_mode": {
    "name": "ipython",
    "version": 3
   },
   "file_extension": ".py",
   "mimetype": "text/x-python",
   "name": "python",
   "nbconvert_exporter": "python",
   "pygments_lexer": "ipython3",
   "version": "3.7.0"
  }
 },
 "nbformat": 4,
 "nbformat_minor": 2
}
