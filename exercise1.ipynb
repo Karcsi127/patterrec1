{
 "cells": [
  {
   "cell_type": "markdown",
   "metadata": {
    "collapsed": true
   },
   "source": [
    "# Exercise 1 Implementation"
   ]
  },
  {
   "cell_type": "markdown",
   "metadata": {},
   "source": [
    "Training"
   ]
  },
  {
   "cell_type": "code",
   "execution_count": 3,
   "metadata": {},
   "outputs": [],
   "source": [
    "# Imports\n",
    "import numpy as np\n",
    "import matplotlib.pyplot as plt\n",
    "import time\n",
    "from memory_profiler import memory_usage"
   ]
  },
  {
   "cell_type": "code",
   "execution_count": 7,
   "metadata": {},
   "outputs": [
    {
     "name": "stdout",
     "output_type": "stream",
     "text": [
      "[[199 211 216 ...  27  25  11]\n",
      " [246 228 180 ... 152 138  15]\n",
      " [ 89  87  84 ... 171 171  10]\n",
      " ...\n",
      " [ 80  71  68 ... 166 166  36]\n",
      " [120 122 130 ...  38  39  14]\n",
      " [251 249 239 ...  42  43   5]] (416, 2577)\n",
      "[[ 96  90 105 ... 203 122  37]\n",
      " [106 105 104 ...  57  56  11]\n",
      " [173 158 163 ...  36  37  41]\n",
      " ...\n",
      " [252 253 250 ... 146 155  30]\n",
      " [130 108  86 ... 109 101  10]\n",
      " [ 90 117 124 ...  15  26  10]] (104, 2577)\n"
     ]
    },
    {
     "data": {
      "text/plain": [
       "<matplotlib.image.AxesImage at 0x119167240>"
      ]
     },
     "execution_count": 7,
     "metadata": {},
     "output_type": "execute_result"
    },
    {
     "data": {
      "image/png": "[encoded data removed]",
      "text/plain": [
       "<Figure size 432x288 with 1 Axes>"
      ]
     },
     "metadata": {
      "needs_background": "light"
     },
     "output_type": "display_data"
    }
   ],
   "source": [
    "# Load the training and testing sets: 80% is training, 20% is testing\n",
    "\n",
    "splittype = 'whole'\n",
    "\n",
    "if (splittype == 'whole'):\n",
    "    training = np.loadtxt('split_whole_train.gzip', dtype = 'uint8')\n",
    "    test = np.loadtxt('split_whole_test.gzip', dtype = 'uint8')\n",
    "elif (splittype == 'class'):\n",
    "    training = np.loadtxt('split_class_train.gzip', dtype = 'uint8')\n",
    "    test = np.loadtxt('split_class_test.gzip', dtype = 'uint8')\n",
    "    \n",
    "print (training, training.shape)\n",
    "print (test, test.shape)\n",
    "\n",
    "plt.imshow(np.reshape(training[100, :2576], (46,56)).T, cmap = 'gist_gray') \n",
    "# Print 100th image of the training set as a sanity check to make sure we have shuffled along the right dimension of the array"
   ]
  },
  {
   "cell_type": "code",
   "execution_count": 8,
   "metadata": {},
   "outputs": [
    {
     "data": {
      "text/plain": [
       "<matplotlib.image.AxesImage at 0x119311630>"
      ]
     },
     "execution_count": 8,
     "metadata": {},
     "output_type": "execute_result"
    },
    {
     "data": {
      "image/png": "[encoded data removed]",
      "text/plain": [
       "<Figure size 432x288 with 1 Axes>"
      ]
     },
     "metadata": {
      "needs_background": "light"
     },
     "output_type": "display_data"
    }
   ],
   "source": [
    "# Now let's start training our image recognition PCA algorithm\n",
    "# We have face images that are CENTERED and they are of the SAME SIZE (needed for PCA)\n",
    "# They are normalised for SCALE, ORIENTATION and TRANSLATION\n",
    "\n",
    "# First, we only need the training and testing set without the labels\n",
    "# Images are represented as rows\n",
    "pca_train = training [:, :2576]\n",
    "pca_test = test [:, :2576]\n",
    "\n",
    "# Let's compute the mean face image\n",
    "avg_face = np.mean(pca_train, axis=0)\n",
    "plt.imshow(np.reshape(avg_face, (46,56)).T, cmap = 'gist_gray')"
   ]
  },
  {
   "cell_type": "code",
   "execution_count": 9,
   "metadata": {},
   "outputs": [
    {
     "name": "stdout",
     "output_type": "stream",
     "text": [
      "[[2549.32201715 2401.31097448 2202.99881541 ... -481.31266758\n",
      "  -524.07125439 -529.76968149]\n",
      " [2401.31097448 2649.16974852 2510.97425111 ... -533.35766457\n",
      "  -561.2323872  -568.32331731]\n",
      " [2202.99881541 2510.97425111 2631.03831708 ... -562.22416443\n",
      "  -580.54844097 -576.12605168]\n",
      " ...\n",
      " [-481.31266758 -533.35766457 -562.22416443 ... 2793.86283631\n",
      "  2607.22587486 2473.54942909]\n",
      " [-524.07125439 -561.2323872  -580.54844097 ... 2607.22587486\n",
      "  2743.7138903  2638.72100361]\n",
      " [-529.76968149 -568.32331731 -576.12605168 ... 2473.54942909\n",
      "  2638.72100361 2787.29176683]] (2576, 2576)\n"
     ]
    },
    {
     "data": {
      "image/png": "[encoded data removed]",
      "text/plain": [
       "<Figure size 432x288 with 1 Axes>"
      ]
     },
     "metadata": {
      "needs_background": "light"
     },
     "output_type": "display_data"
    }
   ],
   "source": [
    "# Now let's subtract the mean face image from all of our training face images\n",
    "pca_train_norm = pca_train-avg_face # works because of broadcasting\n",
    "plt.imshow(np.reshape(pca_train_norm[0, :], (46,56)).T, cmap = 'gist_gray') \n",
    "# Show the first normalised face image and notice that it is distorted\n",
    "\n",
    "# Computing the covariance matrix\n",
    "cov = (np.dot(pca_train_norm.T, pca_train_norm))/416\n",
    "print (cov, cov.shape)"
   ]
  },
  {
   "cell_type": "code",
   "execution_count": 10,
   "metadata": {},
   "outputs": [
    {
     "name": "stdout",
     "output_type": "stream",
     "text": [
      "6.296204090118408\n",
      "[ 9.61191797e+05+0.0000000e+00j  5.25402886e+05+0.0000000e+00j\n",
      "  4.62439919e+05+0.0000000e+00j ... -9.66034009e-14-1.5395907e-13j\n",
      "  1.40986533e-13+0.0000000e+00j  2.89023305e-14+0.0000000e+00j] (2576,)\n",
      "[[-1.40677772e-02+0.j         -1.54123151e-02+0.j\n",
      "  -1.77773383e-02+0.j         ... -1.80818333e-03-0.00065591j\n",
      "   4.85097891e-03+0.j          3.81455970e-04+0.j        ]\n",
      " [-1.56243925e-02+0.j         -1.58231115e-02+0.j\n",
      "  -1.84859796e-02+0.j         ... -1.07187276e-03-0.00109151j\n",
      "   1.51640411e-03+0.j          6.03121222e-04+0.j        ]\n",
      " [-1.65187450e-02+0.j         -1.53439659e-02+0.j\n",
      "  -2.01298153e-02+0.j         ...  1.48045374e-04+0.00016606j\n",
      "   5.79046013e-04+0.j          7.18395181e-05+0.j        ]\n",
      " ...\n",
      " [ 1.37067272e-03+0.j          4.76649349e-02+0.j\n",
      "   3.79681662e-03+0.j         ...  1.58231222e-02-0.0140985j\n",
      "   9.07967788e-03+0.j          1.22551878e-02+0.j        ]\n",
      " [ 1.37379468e-03+0.j          4.68988847e-02+0.j\n",
      "   4.03436171e-03+0.j         ...  5.76104580e-03-0.00743727j\n",
      "  -5.18914719e-03+0.j          1.57803034e-02+0.j        ]\n",
      " [ 1.35106934e-03+0.j          4.73688283e-02+0.j\n",
      "   5.51753350e-03+0.j         ... -4.42100706e-03-0.00132894j\n",
      "   6.46717173e-03+0.j          4.04693337e-03+0.j        ]] (2576, 2576)\n",
      "(-3.502452786472629e-11+0j)\n"
     ]
    }
   ],
   "source": [
    "# Computing the eigenvalues and eigenvectors of the covariance matrix directly and measuring how long it takes\n",
    "\n",
    "start = time.time()\n",
    "eigvals, eigvecs = np.linalg.eig(cov) # these are not ordered, so we need to order them according to the eigenvalues\n",
    "end = time.time()\n",
    "print (end-start) # Execution time in seconds\n",
    "\n",
    "print (eigvals, eigvals.shape)\n",
    "print (eigvecs, eigvecs.shape)\n",
    "print (eigvals.min()) # Note that the smallest eigenvalue (most negative) is a zero eigenvalue (rounding error)"
   ]
  },
  {
   "cell_type": "code",
   "execution_count": 11,
   "metadata": {},
   "outputs": [
    {
     "name": "stdout",
     "output_type": "stream",
     "text": [
      "[-1.69166015e-10+0.j -8.18545232e-11+0.j -2.91038305e-11+0.j ...\n",
      " -1.09139364e-11+0.j -5.68434189e-12+0.j -6.59383659e-12+0.j] (2576,)\n"
     ]
    }
   ],
   "source": [
    "# Proving that the eigenvalues and eigenvectors make sense\n",
    "\n",
    "eig_test_1 = np.dot(cov, eigvecs[:, 0])\n",
    "eig_test_2 = eigvecs[:, 0]*eigvals[0]\n",
    "\n",
    "print (eig_test_1-eig_test_2, (eig_test_1-eig_test_2).shape) # The values are basically zero, so the eigenvalue computation is correct"
   ]
  },
  {
   "cell_type": "code",
   "execution_count": 12,
   "metadata": {},
   "outputs": [
    {
     "name": "stdout",
     "output_type": "stream",
     "text": [
      "[ 9.61191797e+05  5.25402886e+05  4.62439919e+05 ... -9.66034009e-14\n",
      "  1.40986533e-13  2.89023305e-14] (2576,)\n",
      "[[-1.40677772e-02 -1.54123151e-02 -1.77773383e-02 ... -1.80818333e-03\n",
      "   4.85097891e-03  3.81455970e-04]\n",
      " [-1.56243925e-02 -1.58231115e-02 -1.84859796e-02 ... -1.07187276e-03\n",
      "   1.51640411e-03  6.03121222e-04]\n",
      " [-1.65187450e-02 -1.53439659e-02 -2.01298153e-02 ...  1.48045374e-04\n",
      "   5.79046013e-04  7.18395181e-05]\n",
      " ...\n",
      " [ 1.37067272e-03  4.76649349e-02  3.79681662e-03 ...  1.58231222e-02\n",
      "   9.07967788e-03  1.22551878e-02]\n",
      " [ 1.37379468e-03  4.68988847e-02  4.03436171e-03 ...  5.76104580e-03\n",
      "  -5.18914719e-03  1.57803034e-02]\n",
      " [ 1.35106934e-03  4.73688283e-02  5.51753350e-03 ... -4.42100706e-03\n",
      "   6.46717173e-03  4.04693337e-03]] (2576, 2576)\n"
     ]
    }
   ],
   "source": [
    "# Taking the real part of the eigenvalues (complex eigenvalues are the result of calculation rounding errors, because the covariance matrix is symmetric)\n",
    "\n",
    "eigvals = np.real(eigvals)\n",
    "print (eigvals, eigvals.shape)\n",
    "eigvecs = np.real(eigvecs)\n",
    "print (eigvecs, eigvecs.shape)"
   ]
  },
  {
   "cell_type": "code",
   "execution_count": 9,
   "metadata": {},
   "outputs": [
    {
     "name": "stdout",
     "output_type": "stream",
     "text": [
      "[   0    1    2 ... 2523 2015 2016] (2576,)\n",
      "[ 9.46910940e+05  5.32814234e+05  4.33036434e+05 ... -3.56098065e-16\n",
      " -4.60981504e-18 -4.60981504e-18] (2576,)\n",
      "415\n",
      "0\n",
      "415\n",
      "946910.9402704749\n",
      "89.60926018772778\n",
      "3.182512501058776e-11\n"
     ]
    }
   ],
   "source": [
    "# Order eigenvalues and eigenvectors according to the size of the eigenvalues\n",
    "\n",
    "index = (abs(eigvals)).argsort()[::-1] # argsort returns the indices that would sort an array (in this case the vector eigvals)\n",
    "eigvals = eigvals[index]\n",
    "eigvecs = eigvecs[:,index]\n",
    "print (index, index.shape)\n",
    "print (eigvals, eigvals.shape)\n",
    "\n",
    "# How many zero eigenvalues do we have?\n",
    "\n",
    "print (np.linalg.matrix_rank(cov)) # We should have 2576 - 415 = 2161 zero eigenvalues\n",
    "print ((eigvals == np.zeros(eigvals.shape)).sum()) # The rounding errors will give 0 eigenvalues that are precisely zero\n",
    "print ((abs(eigvals) >= np.ones(eigvals.shape)/100000).sum()) # However there are 415 eigenvalues that are larger than 1e-05, which can be considered zero eigenvectors.\n",
    "print (eigvals.max()) # The largest eigenvalue\n",
    "print (eigvals[414])\n",
    "print (eigvals[415]) # Zero eigenvalue"
   ]
  },
  {
   "cell_type": "code",
   "execution_count": 10,
   "metadata": {},
   "outputs": [
    {
     "data": {
      "image/png": "[encoded data removed]",
      "text/plain": [
       "<Figure size 432x288 with 1 Axes>"
      ]
     },
     "metadata": {
      "needs_background": "light"
     },
     "output_type": "display_data"
    },
    {
     "data": {
      "image/png": "[encoded data removed]",
      "text/plain": [
       "<Figure size 432x288 with 1 Axes>"
      ]
     },
     "metadata": {
      "needs_background": "light"
     },
     "output_type": "display_data"
    },
    {
     "data": {
      "image/png": "[encoded data removed]",
      "text/plain": [
       "<Figure size 432x288 with 1 Axes>"
      ]
     },
     "metadata": {
      "needs_background": "light"
     },
     "output_type": "display_data"
    },
    {
     "data": {
      "image/png": "[encoded data removed]",
      "text/plain": [
       "<Figure size 432x288 with 1 Axes>"
      ]
     },
     "metadata": {
      "needs_background": "light"
     },
     "output_type": "display_data"
    },
    {
     "data": {
      "text/plain": [
       "<Figure size 432x288 with 0 Axes>"
      ]
     },
     "metadata": {},
     "output_type": "display_data"
    }
   ],
   "source": [
    "# Let's visualise the eigenvalues\n",
    "\n",
    "x = np.arange(0, 2576)\n",
    "\n",
    "# All of them\n",
    "plt.plot(x, eigvals) # Clearly out of scale\n",
    "plt.title('All eigenvalues of the covariance matrix')\n",
    "plt.figure()\n",
    "\n",
    "# First 415 of them\n",
    "plt.plot(x[:415], eigvals[:415]) # Still out of scale\n",
    "plt.title('First 415 eigenvalues of the covariance matrix')\n",
    "plt.figure()\n",
    "\n",
    "# First 200 of them\n",
    "plt.plot(x[:200], eigvals[:200])\n",
    "plt.title('First 200 eigenvalues of the covariance matrix')\n",
    "plt.figure()\n",
    "\n",
    "# First 20 of them\n",
    "plt.plot(x[:20], eigvals[:20])\n",
    "plt.title('First 20 eigenvalues of the covariance matrix')\n",
    "plt.figure()\n",
    "\n",
    "plt.show()"
   ]
  },
  {
   "cell_type": "code",
   "execution_count": 11,
   "metadata": {},
   "outputs": [
    {
     "name": "stdout",
     "output_type": "stream",
     "text": [
      "[[-2.54104010e+01  6.73924776e+01 -4.91269264e+02 ...  3.67037285e+01\n",
      "   8.91357556e+00 -1.96134946e+01]\n",
      " [ 1.79112484e+02 -6.44821661e+02  7.03083718e+02 ...  2.63210232e+01\n",
      "   4.81402357e+00  2.47495544e+00]\n",
      " [ 3.01549053e+02  1.77561906e+03 -7.83742971e+02 ... -5.25624766e+00\n",
      "   5.07999143e+00 -9.31833767e-01]\n",
      " ...\n",
      " [ 8.98507365e+02  5.73297145e+02  8.66936601e+02 ... -1.50734595e+00\n",
      "   1.39640157e+01  2.29757290e+00]\n",
      " [-1.38194396e+03  8.38834444e+02 -5.39555740e+02 ... -1.37186993e+01\n",
      "  -7.47153261e-01  3.05525545e+00]\n",
      " [ 2.42239358e+03 -4.65755050e+02  1.54435913e+02 ... -8.26993480e+00\n",
      "  -3.54549087e+00  1.26193964e+01]] (416, 400)\n"
     ]
    }
   ],
   "source": [
    "# We keep the largest n eigenvalues and their corresponding eigenvectors n<=415, the other eigenvalues are zero\n",
    "\n",
    "n = 400\n",
    "eigvecs_best = eigvecs[:, :n]\n",
    "eigvals_best = eigvals[:n]\n",
    "\n",
    "# Projecting each training data point to the space spanned by the eigenvectors\n",
    "proj_pca_train_norm = np.zeros((416, n))\n",
    "for i in range(416):\n",
    "    proj_pca_train_norm [i, :] = np.dot(pca_train_norm[i, :], eigvecs_best)\n",
    "    \n",
    "print (proj_pca_train_norm, proj_pca_train_norm.shape)\n",
    "\n",
    "# Now in array proj_pca_train_norm, in each row, we have the projected coordinates for each face image"
   ]
  },
  {
   "cell_type": "code",
   "execution_count": 12,
   "metadata": {},
   "outputs": [
    {
     "name": "stdout",
     "output_type": "stream",
     "text": [
      "[[ 4932.63014907  -296.09431585   844.71151001 ...  -918.05711979\n",
      "   1884.17249952    90.13712369]\n",
      " [ -296.09431585  7122.81102693 -2864.34949336 ...  1558.79293452\n",
      "  -3090.38129232  1289.91746647]\n",
      " [  844.71151001 -2864.34949336 18641.03325558 ...  2193.20933731\n",
      "   3628.08799508   544.97569617]\n",
      " ...\n",
      " [ -918.05711979  1558.79293452  2193.20933731 ...  8421.19551519\n",
      "  -3390.90659626  4369.07725867]\n",
      " [ 1884.17249952 -3090.38129232  3628.08799508 ... -3390.90659626\n",
      "  13921.69081151 -7865.2964874 ]\n",
      " [   90.13712369  1289.91746647   544.97569617 ...  4369.07725867\n",
      "  -7865.2964874  17786.24746369]] (416, 416)\n"
     ]
    }
   ],
   "source": [
    "# Let's try to compute the eigenvalues using the low-dimensional method\n",
    "\n",
    "# First we need to compute the new covariance matrix (1/N)A^T*A\n",
    "cov_ld = np.dot(pca_train_norm, pca_train_norm.T)/416\n",
    "print (cov_ld, cov_ld.shape) # as we can see it is NxN (and not DxD as the covariance matrix we had before)"
   ]
  },
  {
   "cell_type": "code",
   "execution_count": 13,
   "metadata": {
    "scrolled": false
   },
   "outputs": [
    {
     "name": "stdout",
     "output_type": "stream",
     "text": [
      "0.05948591232299805\n",
      "6.463191032409668\n",
      "[9.46910940e+05 5.32814234e+05 4.33036434e+05 2.65784728e+05\n",
      " 2.16247383e+05 1.43875638e+05 1.28580904e+05 1.12703134e+05\n",
      " 9.25243224e+04 8.25353155e+04 6.11323797e+04 5.38649246e+04\n",
      " 5.28142224e+04 5.14001928e+04 4.73130487e+04 4.28397956e+04\n",
      " 3.65387455e+04 3.55307611e+04 3.28823443e+04 3.17906785e+04\n",
      " 2.89088570e+04 2.72362501e+04 2.61444556e+04 2.28382821e+04\n",
      " 2.26588962e+04 2.13923288e+04 2.05647289e+04 1.98882569e+04\n",
      " 1.85278596e+04 1.75189581e+04 1.71498924e+04 1.62543643e+04\n",
      " 1.57575721e+04 1.50544166e+04 1.47587119e+04 1.40069383e+04\n",
      " 1.37044286e+04 1.30820815e+04 1.26865474e+04 1.21354632e+04\n",
      " 1.16947406e+04 1.14815068e+04 1.11347421e+04 1.09455166e+04\n",
      " 1.04995276e+04 1.02721319e+04 9.91276751e+03 9.79063994e+03\n",
      " 9.61253102e+03 9.30356468e+03 8.75915524e+03 8.65635469e+03\n",
      " 8.41247445e+03 8.08624685e+03 7.91465926e+03 7.85198573e+03\n",
      " 7.58979113e+03 7.37635392e+03 7.22688740e+03 6.96575765e+03\n",
      " 6.77569422e+03 6.57869115e+03 6.48164304e+03 6.42234033e+03\n",
      " 6.27108368e+03 6.16076961e+03 6.00248329e+03 5.79250800e+03\n",
      " 5.65788201e+03 5.63438477e+03 5.53981079e+03 5.49510489e+03\n",
      " 5.30700959e+03 5.20468453e+03 5.06414296e+03 4.86644241e+03\n",
      " 4.81541180e+03 4.77557064e+03 4.73744358e+03 4.54898622e+03\n",
      " 4.48399622e+03 4.38088160e+03 4.35994661e+03 4.25655307e+03\n",
      " 4.23875814e+03 4.14675416e+03 4.09875530e+03 3.99382231e+03\n",
      " 3.89673646e+03 3.86523153e+03 3.81212979e+03 3.69886477e+03\n",
      " 3.64708074e+03 3.54577294e+03 3.51819731e+03 3.48350351e+03\n",
      " 3.40774814e+03 3.39069273e+03 3.30708320e+03 3.23434894e+03\n",
      " 3.20387927e+03 3.14233904e+03 3.11421892e+03 3.07382900e+03\n",
      " 3.02365764e+03 2.96003588e+03 2.94155361e+03 2.87114679e+03\n",
      " 2.86462901e+03 2.81274237e+03 2.78056297e+03 2.75464916e+03\n",
      " 2.70249327e+03 2.67742066e+03 2.61774654e+03 2.59431742e+03\n",
      " 2.55350474e+03 2.53551028e+03 2.49897686e+03 2.47455269e+03\n",
      " 2.45999014e+03 2.41114079e+03 2.35835722e+03 2.34467624e+03\n",
      " 2.30827756e+03 2.26553019e+03 2.25773223e+03 2.22157453e+03\n",
      " 2.20580444e+03 2.19098946e+03 2.16992115e+03 2.13222072e+03\n",
      " 2.10569766e+03 2.05335641e+03 2.02706274e+03 2.00694603e+03\n",
      " 1.99433038e+03 1.96121509e+03 1.94647271e+03 1.92595398e+03\n",
      " 1.89612701e+03 1.88492241e+03 1.87541340e+03 1.85148725e+03\n",
      " 1.82491930e+03 1.79832242e+03 1.77185982e+03 1.74116864e+03\n",
      " 1.73088560e+03 1.71234979e+03 1.69793724e+03 1.67340355e+03\n",
      " 1.66588595e+03 1.65485284e+03 1.64086539e+03 1.63045505e+03\n",
      " 1.62323365e+03 1.60453589e+03 1.57776350e+03 1.56643963e+03\n",
      " 1.53087195e+03 1.51375933e+03 1.50372250e+03 1.49064030e+03\n",
      " 1.48347425e+03 1.45099449e+03 1.44636967e+03 1.42714342e+03\n",
      " 1.41749527e+03 1.40236015e+03 1.38909195e+03 1.36232734e+03\n",
      " 1.35064328e+03 1.33357321e+03 1.33207160e+03 1.32159777e+03\n",
      " 1.30533197e+03 1.27348368e+03 1.27109279e+03 1.26128570e+03\n",
      " 1.23399386e+03 1.21690312e+03 1.21553917e+03 1.20521323e+03\n",
      " 1.18646243e+03 1.17824973e+03 1.16745531e+03 1.15540626e+03\n",
      " 1.14533044e+03 1.13715188e+03 1.12158523e+03 1.11231616e+03\n",
      " 1.09744363e+03 1.08838472e+03 1.08462555e+03 1.07355480e+03\n",
      " 1.06716423e+03 1.05708591e+03 1.03923238e+03 1.03582161e+03\n",
      " 1.02174435e+03 1.00739287e+03 9.97530448e+02 9.92023127e+02\n",
      " 9.86652399e+02 9.77690844e+02 9.71291829e+02 9.66134538e+02\n",
      " 9.62612848e+02 9.43570948e+02 9.40417238e+02 9.34863136e+02\n",
      " 9.20975423e+02 9.09450572e+02 9.05657335e+02 8.96953543e+02\n",
      " 8.85694016e+02 8.78528099e+02 8.70906827e+02 8.61462533e+02\n",
      " 8.56413266e+02 8.54121333e+02 8.46043724e+02 8.40127706e+02\n",
      " 8.26317637e+02 8.14107657e+02 8.10908055e+02 8.04320620e+02\n",
      " 7.97197650e+02 7.89207034e+02 7.84498937e+02 7.72377917e+02\n",
      " 7.63072670e+02 7.61118679e+02 7.49245625e+02 7.43582632e+02\n",
      " 7.30667415e+02 7.28561754e+02 7.23741724e+02 7.19784220e+02\n",
      " 7.10583928e+02 7.05001644e+02 7.00236749e+02 6.86222284e+02\n",
      " 6.80652331e+02 6.76511786e+02 6.67104957e+02 6.66151747e+02\n",
      " 6.56324465e+02 6.53391163e+02 6.49694442e+02 6.42913959e+02\n",
      " 6.36257827e+02 6.28459027e+02 6.27398811e+02 6.22867634e+02\n",
      " 6.16641352e+02 6.10508111e+02 6.06113309e+02 6.02777401e+02\n",
      " 6.00926851e+02 5.90425733e+02 5.83612455e+02 5.79702410e+02\n",
      " 5.72259748e+02 5.66798086e+02 5.63670000e+02 5.61612817e+02\n",
      " 5.59533524e+02 5.50841589e+02 5.46549933e+02 5.43302451e+02\n",
      " 5.38320656e+02 5.30520749e+02 5.26916294e+02 5.23893115e+02\n",
      " 5.23268128e+02 5.17852607e+02 5.15818189e+02 5.09509116e+02\n",
      " 5.03966614e+02 4.97753528e+02 4.90901895e+02 4.84617739e+02\n",
      " 4.79774956e+02 4.76521716e+02 4.74218279e+02 4.72114413e+02\n",
      " 4.65152249e+02 4.60086478e+02 4.58816786e+02 4.53766416e+02\n",
      " 4.49988921e+02 4.43107899e+02 4.35968996e+02 4.31574850e+02\n",
      " 4.30957098e+02 4.25022357e+02 4.20827207e+02 4.17898818e+02\n",
      " 4.11097198e+02 4.09243423e+02 4.08435537e+02 4.02857990e+02\n",
      " 3.97684750e+02 3.96198445e+02 3.92400181e+02 3.91270955e+02\n",
      " 3.86011264e+02 3.84784655e+02 3.81409191e+02 3.79389815e+02\n",
      " 3.76856464e+02 3.73061895e+02 3.67421178e+02 3.62017480e+02\n",
      " 3.59433604e+02 3.58043425e+02 3.55951039e+02 3.51913733e+02\n",
      " 3.46445687e+02 3.43546304e+02 3.39147812e+02 3.37264598e+02\n",
      " 3.34462699e+02 3.33227008e+02 3.30035507e+02 3.24765365e+02\n",
      " 3.23658864e+02 3.21319585e+02 3.19240443e+02 3.17001973e+02\n",
      " 3.14965005e+02 3.10448637e+02 3.08672668e+02 3.02199633e+02\n",
      " 2.99334081e+02 2.96795160e+02 2.94964236e+02 2.93713427e+02\n",
      " 2.91521831e+02 2.87570805e+02 2.84224693e+02 2.81743410e+02\n",
      " 2.78290610e+02 2.77196588e+02 2.75176073e+02 2.71855678e+02\n",
      " 2.71178627e+02 2.66925101e+02 2.63690182e+02 2.58409499e+02\n",
      " 2.58352361e+02 2.55552699e+02 2.50640884e+02 2.48230804e+02\n",
      " 2.47136368e+02 2.44079034e+02 2.42618043e+02 2.39259630e+02\n",
      " 2.36884349e+02 2.34157155e+02 2.32324648e+02 2.28229615e+02\n",
      " 2.27884154e+02 2.26690999e+02 2.25426285e+02 2.22000469e+02\n",
      " 2.18963532e+02 2.16823880e+02 2.13458481e+02 2.11805774e+02\n",
      " 2.10545085e+02 2.06820558e+02 2.04535742e+02 1.99339035e+02\n",
      " 1.98501356e+02 1.93239980e+02 1.92496400e+02 1.89829598e+02\n",
      " 1.87980107e+02 1.86403688e+02 1.83741899e+02 1.81954616e+02\n",
      " 1.78483494e+02 1.77093901e+02 1.75485772e+02 1.73471726e+02\n",
      " 1.70693292e+02 1.67075958e+02 1.64647536e+02 1.62176757e+02\n",
      " 1.58110066e+02 1.57690253e+02 1.54761528e+02 1.48948089e+02\n",
      " 1.46407695e+02 1.45613481e+02 1.43880689e+02 1.41644773e+02\n",
      " 1.36505699e+02 1.36226814e+02 1.34170472e+02 1.32330540e+02\n",
      " 1.27323158e+02 1.24221745e+02 1.22648452e+02 1.18936956e+02\n",
      " 1.17423156e+02 1.12941259e+02 1.09191899e+02 1.06515292e+02\n",
      " 1.00148958e+02 9.41876124e+01 8.96092602e+01 7.41257022e-12] (416,)\n"
     ]
    }
   ],
   "source": [
    "# Now we compute the eigenvalues and eigenvectors of the new covariance matrix and measure the elapsed time\n",
    "\n",
    "start_ld = time.time()\n",
    "eigvals_ld, eigvecs_ld = np.linalg.eig(cov_ld) # these are not ordered, so we order them and the corresponding eigenvalues\n",
    "end_ld = time.time()\n",
    "print (end_ld-start_ld)\n",
    "print (end-start)\n",
    "\n",
    "# Taking the real part of the eigenvalues (complex eigenvalues are the result of calculation rounding errors, because the covariance matrix is symmetric)\n",
    "\n",
    "eigvals_ld = np.real(eigvals_ld)\n",
    "eigvecs_ld = np.real(eigvecs_ld)\n",
    "\n",
    "# Order eigenvalues and eigenvectors according to the size of the eigenvalues\n",
    "\n",
    "index_ld = abs(eigvals_ld).argsort()[::-1] # argsort returns the indices that would sort an array (in this case the vector eigvals)\n",
    "eigvals_ld = eigvals_ld[index_ld]\n",
    "eigvecs_ld = eigvecs_ld[:,index_ld]\n",
    "print (eigvals_ld, eigvals_ld.shape)"
   ]
  },
  {
   "cell_type": "code",
   "execution_count": 14,
   "metadata": {},
   "outputs": [
    {
     "name": "stdout",
     "output_type": "stream",
     "text": [
      "415\n",
      "0\n",
      "415\n",
      "946910.9402704724\n",
      "89.60926018772636\n",
      "7.412570216033425e-12\n"
     ]
    },
    {
     "data": {
      "image/png": "[encoded data removed]",
      "text/plain": [
       "<Figure size 432x288 with 1 Axes>"
      ]
     },
     "metadata": {
      "needs_background": "light"
     },
     "output_type": "display_data"
    },
    {
     "data": {
      "image/png": "[encoded data removed]",
      "text/plain": [
       "<Figure size 432x288 with 1 Axes>"
      ]
     },
     "metadata": {
      "needs_background": "light"
     },
     "output_type": "display_data"
    },
    {
     "data": {
      "image/png": "[encoded data removed]",
      "text/plain": [
       "<Figure size 432x288 with 1 Axes>"
      ]
     },
     "metadata": {
      "needs_background": "light"
     },
     "output_type": "display_data"
    },
    {
     "data": {
      "image/png": "[encoded data removed]",
      "text/plain": [
       "<Figure size 432x288 with 1 Axes>"
      ]
     },
     "metadata": {
      "needs_background": "light"
     },
     "output_type": "display_data"
    },
    {
     "data": {
      "text/plain": [
       "<Figure size 432x288 with 0 Axes>"
      ]
     },
     "metadata": {},
     "output_type": "display_data"
    }
   ],
   "source": [
    "# How many zero eigenvalues do we have this time?\n",
    "\n",
    "print (np.linalg.matrix_rank(cov_ld)) # We should have 2576 - 415 = 2161 zero eigenvalues\n",
    "print ((eigvals_ld == np.zeros(eigvals_ld.shape)).sum()) # The rounding errors will give 0 eigenvalues that are precisely zero\n",
    "print ((abs(eigvals_ld) >= np.ones(eigvals_ld.shape)/100000).sum()) # However there are 415 eigenvalues that are larger than 1e-05, which can be considered zero eigenvectors.\n",
    "print (eigvals_ld.max()) # The largest eigenvalue\n",
    "print (eigvals_ld[414])\n",
    "print (eigvals_ld[415])\n",
    "\n",
    "# Let's visualise the eigenvalues\n",
    "\n",
    "x = np.arange(0, 416)\n",
    "\n",
    "# All of them\n",
    "plt.plot(x, eigvals_ld) # Clearly out of scale\n",
    "plt.title('All eigenvalues of the covariance matrix')\n",
    "plt.figure()\n",
    "\n",
    "# First 415 of them\n",
    "plt.plot(x[:415], eigvals_ld[:415]) # Still out of scale\n",
    "plt.title('First 415 eigenvalues of the covariance matrix')\n",
    "plt.figure()\n",
    "\n",
    "# First 200 of them\n",
    "plt.plot(x[:200], eigvals_ld[:200])\n",
    "plt.title('First 200 eigenvalues of the covariance matrix')\n",
    "plt.figure()\n",
    "\n",
    "# First 20 of them\n",
    "plt.plot(x[:20], eigvals_ld[:20])\n",
    "plt.title('First 20 eigenvalues of the covariance matrix')\n",
    "plt.figure()\n",
    "\n",
    "plt.show()"
   ]
  },
  {
   "cell_type": "code",
   "execution_count": 21,
   "metadata": {
    "scrolled": false
   },
   "outputs": [
    {
     "name": "stdout",
     "output_type": "stream",
     "text": [
      "[ 2.44472176e-09 -1.16415322e-10  1.16415322e-10 -1.74622983e-10\n",
      "  1.45519152e-10  2.61934474e-10 -2.91038305e-11  3.49245965e-10\n",
      "  1.30967237e-10 -1.16415322e-10 -9.45874490e-11 -8.73114914e-11\n",
      " -4.36557457e-10  2.18278728e-10  4.36557457e-11 -1.67347025e-10\n",
      "  1.89174898e-10 -8.73114914e-11  2.91038305e-11  1.78260962e-10\n",
      "  8.73114914e-11  1.63709046e-10  8.00355338e-11  6.18456397e-11\n",
      " -1.81898940e-11 -9.09494702e-11  1.27329258e-10  9.82254278e-11\n",
      "  2.14640750e-10 -5.45696821e-11 -3.27418093e-11  1.63709046e-10\n",
      " -5.45696821e-11 -1.56433089e-10 -2.36468622e-11 -1.81898940e-11\n",
      " -1.07320375e-10  3.81987775e-11  5.09317033e-11 -1.00044417e-10\n",
      "  5.82076609e-11 -5.82076609e-11 -1.45519152e-11  6.18456397e-11\n",
      "  1.63709046e-11  1.10958354e-10  1.09139364e-11  1.45519152e-11\n",
      "  7.45785655e-11  5.45696821e-12  6.00266503e-11  9.09494702e-12\n",
      "  2.91038305e-11  6.63931132e-11  7.27595761e-12 -4.36557457e-11\n",
      "  3.63797881e-12 -9.09494702e-12 -2.18278728e-11  1.81898940e-11\n",
      " -1.36424205e-11  1.00044417e-11 -2.72848411e-12 -1.81898940e-12\n",
      " -2.72848411e-11 -3.27418093e-11 -1.09139364e-11 -1.18234311e-11\n",
      " -1.81898940e-11 -3.45607987e-11  0.00000000e+00  2.72848411e-12\n",
      " -1.72803993e-11 -1.18234311e-11  4.54747351e-12  9.09494702e-13\n",
      "  2.27373675e-11 -1.36424205e-11 -9.09494702e-13  2.09183781e-11\n",
      "  6.36646291e-12  9.09494702e-12  2.72848411e-12 -2.00088834e-11\n",
      "  3.63797881e-12 -1.09139364e-11  6.36646291e-12 -1.81898940e-12\n",
      "  1.00044417e-11  2.18278728e-11  3.63797881e-12 -1.27329258e-11\n",
      "  2.77395884e-11  5.00222086e-12 -1.50066626e-11  2.22826202e-11\n",
      " -1.54614099e-11 -5.91171556e-12 -4.54747351e-12 -7.73070497e-12\n",
      "  9.54969437e-12 -4.54747351e-12 -1.77351467e-11  1.50066626e-11\n",
      "  5.45696821e-12 -2.27373675e-12 -1.36424205e-12  7.73070497e-12\n",
      "  7.73070497e-12  1.31876732e-11  1.09139364e-11  2.27373675e-12\n",
      "  7.27595761e-12  9.09494702e-13 -6.36646291e-12 -4.09272616e-12\n",
      "  1.09139364e-11 -3.63797881e-12  1.59161573e-11  7.73070497e-12\n",
      "  2.27373675e-12  8.18545232e-12 -3.63797881e-12  1.50066626e-11\n",
      "  9.54969437e-12  1.00044417e-11  5.91171556e-12 -1.22781785e-11\n",
      " -4.54747351e-12  5.00222086e-12 -4.09272616e-12  4.54747351e-12\n",
      " -1.63709046e-11  6.36646291e-12  1.70530257e-11  1.68256520e-11\n",
      "  2.50111043e-12  6.82121026e-12  1.63709046e-11  1.15960574e-11\n",
      " -1.81898940e-12 -1.36424205e-12 -7.95807864e-12  9.77706804e-12\n",
      "  1.11413101e-11 -5.45696821e-12  9.09494702e-13  1.15960574e-11\n",
      " -7.27595761e-12 -1.59161573e-12  2.95585778e-12  2.27373675e-13\n",
      "  2.27373675e-13  7.27595761e-12  1.47792889e-11  8.86757334e-12\n",
      " -3.41060513e-12  2.04636308e-12 -4.54747351e-12 -5.00222086e-12\n",
      " -1.29602995e-11  1.36424205e-12  1.43245416e-11  6.82121026e-12\n",
      " -2.04636308e-12 -7.04858394e-12  6.36646291e-12 -4.32009983e-12\n",
      " -7.73070497e-12 -1.04591891e-11 -4.32009983e-12 -9.32232069e-12\n",
      " -6.82121026e-12 -5.00222086e-12 -2.72848411e-12 -4.32009983e-12\n",
      " -7.27595761e-12 -2.27373675e-12  8.64019967e-12  2.72848411e-12\n",
      "  3.18323146e-12 -1.13686838e-12  9.09494702e-12  7.27595761e-12\n",
      "  4.09272616e-12 -4.32009983e-12 -1.31876732e-11 -2.50111043e-12\n",
      " -1.45519152e-11  6.36646291e-12 -5.00222086e-12  1.04591891e-11\n",
      " -1.13686838e-12  3.41060513e-12  2.95585778e-12  2.72848411e-12\n",
      "  8.64019967e-12  4.54747351e-12 -2.95585778e-12 -8.41282599e-12\n",
      "  3.86535248e-12  1.93267624e-12  2.61479727e-12 -7.95807864e-12\n",
      " -1.59161573e-12  2.84217094e-12 -5.00222086e-12  0.00000000e+00\n",
      "  1.81898940e-12  1.81898940e-12 -1.13686838e-12  3.06954462e-12\n",
      "  3.18323146e-12  5.68434189e-13 -3.06954462e-12 -2.16004992e-12\n",
      " -7.95807864e-13 -1.81898940e-12 -1.59161573e-12 -3.06954462e-12\n",
      "  4.54747351e-13  2.04636308e-12  3.18323146e-12 -7.04858394e-12\n",
      " -2.84217094e-12  9.66338121e-12 -6.48014975e-12  3.52429197e-12\n",
      "  5.68434189e-13 -1.81898940e-12  3.63797881e-12 -3.75166564e-12\n",
      " -4.77484718e-12 -5.45696821e-12 -7.27595761e-12  3.41060513e-12\n",
      "  6.59383659e-12  1.13686838e-13  5.68434189e-13 -6.82121026e-13\n",
      "  4.20641300e-12  6.25277607e-12  6.82121026e-13 -1.13686838e-13\n",
      "  1.93267624e-12  6.48014975e-12  1.25055521e-12 -1.36424205e-12\n",
      "  2.61479727e-12 -1.59161573e-12 -2.72848411e-12  4.20641300e-12\n",
      "  2.16004992e-12 -6.82121026e-13 -2.72848411e-12  7.95807864e-13\n",
      "  2.04636308e-12  2.27373675e-13 -4.54747351e-12  4.32009983e-12\n",
      "  2.27373675e-13  2.16004992e-12 -6.48014975e-12 -1.13686838e-13\n",
      " -4.20641300e-12 -9.09494702e-13 -5.68434189e-13 -1.13686838e-12\n",
      " -1.02318154e-12  1.81898940e-12  3.63797881e-12 -1.13686838e-12\n",
      " -3.41060513e-12 -2.27373675e-13  7.16227078e-12 -5.34328137e-12\n",
      "  0.00000000e+00  1.36424205e-12 -1.70530257e-12 -2.67164069e-12\n",
      "  3.63797881e-12  4.54747351e-12  2.84217094e-13  2.27373675e-13\n",
      " -1.64845915e-12 -3.41060513e-13 -3.29691829e-12 -4.09272616e-12\n",
      "  2.04636308e-12  2.55795385e-12  2.78532752e-12  1.25055521e-12\n",
      " -1.59161573e-12  4.54747351e-13  1.13686838e-13 -2.50111043e-12\n",
      " -1.19371180e-12 -5.68434189e-14 -3.80850906e-12  9.66338121e-13\n",
      "  1.25055521e-12 -3.63797881e-12 -2.33058017e-12 -7.38964445e-13\n",
      " -1.36424205e-12 -1.76214598e-12 -1.70530257e-12 -9.66338121e-13\n",
      "  3.12638804e-12 -3.97903932e-13 -5.11590770e-13 -5.68434189e-13\n",
      "  2.38742359e-12 -4.60431693e-12 -9.09494702e-13 -2.04636308e-12\n",
      " -6.48014975e-12  3.69482223e-12 -1.47792889e-12 -2.67164069e-12\n",
      "  9.09494702e-13  2.10320650e-12  2.27373675e-12  7.16227078e-12\n",
      "  1.70530257e-13  3.01270120e-12  3.35376171e-12 -1.02318154e-12\n",
      " -2.33058017e-12  5.68434189e-14 -2.27373675e-13  7.38964445e-13\n",
      " -2.61479727e-12  4.54747351e-13  2.27373675e-12  1.25055521e-12\n",
      "  1.70530257e-12  2.27373675e-13  8.52651283e-13  3.41060513e-12\n",
      " -1.64845915e-12  1.47792889e-12 -2.10320650e-12  1.98951966e-12\n",
      "  1.70530257e-13  1.13686838e-12  9.09494702e-13 -1.02318154e-12\n",
      "  6.82121026e-13  1.02318154e-12 -1.87583282e-12  2.16004992e-12\n",
      " -3.92219590e-12  2.30215846e-12  3.97903932e-13 -1.44950718e-12\n",
      "  1.70530257e-13  1.84741111e-12 -1.53477231e-12  2.70006240e-12\n",
      "  1.70530257e-13  8.52651283e-13  3.97903932e-13 -2.27373675e-13\n",
      " -1.16529009e-12 -1.76214598e-12 -2.27373675e-13 -2.18847163e-12\n",
      "  2.78532752e-12 -8.24229573e-13  1.05160325e-12  3.24007488e-12\n",
      "  3.83693077e-12 -3.49587026e-12 -7.67386155e-13 -3.09796633e-12\n",
      " -3.12638804e-13 -2.10320650e-12  1.84741111e-12  2.52953214e-12\n",
      " -1.10844667e-12 -4.26325641e-13  1.13686838e-13  5.96855898e-13\n",
      "  1.84741111e-12  6.82121026e-13 -2.41584530e-12  9.09494702e-13\n",
      "  2.18847163e-12 -1.27897692e-12 -1.42108547e-13  1.70530257e-13\n",
      " -9.66338121e-13  1.64845915e-12 -2.10320650e-12  5.00222086e-12\n",
      " -1.39266376e-12  1.67688086e-12  1.50635060e-12  2.92743607e-12\n",
      " -8.81072992e-13  1.19371180e-12 -7.67386155e-13 -7.10542736e-13\n",
      " -7.38964445e-13  1.27897692e-13 -1.03739239e-12 -1.16529009e-12\n",
      "  1.74793513e-12 -2.55795385e-13  7.53175300e-13 -1.17950094e-12\n",
      "  3.52429197e-12 -2.04636308e-12  1.42108547e-12  2.44125548e-11] (416,)\n",
      "[[ 1.17961196e-16  2.25514052e-17 -3.95516953e-16 ...  2.67737221e-14\n",
      "  -2.03205508e-14  5.18092257e-03]\n",
      " [-3.33066907e-16 -2.01227923e-16 -3.12250226e-17 ... -1.10939903e-14\n",
      "  -2.04246342e-14  1.27644044e-02]\n",
      " [-1.59594560e-16 -8.67361738e-18  2.15105711e-16 ...  6.80011603e-15\n",
      "  -2.60000355e-14  2.22927766e-03]\n",
      " ...\n",
      " [ 1.04083409e-17  0.00000000e+00 -1.47451495e-17 ...  6.50347831e-15\n",
      "  -2.48412402e-15 -2.06633318e-02]\n",
      " [ 1.73472348e-17  4.16333634e-17 -3.25260652e-17 ... -1.69864123e-14\n",
      "   3.56208119e-14 -1.14285491e-02]\n",
      " [ 8.67361738e-18  3.46944695e-17 -6.50521303e-18 ...  1.38916656e-14\n",
      "  -5.48918550e-14  1.83777029e-02]]\n"
     ]
    }
   ],
   "source": [
    "# What is the relationship between the eigenvalues and the eigenvectors resulting from the two methods\n",
    "\n",
    "print (eigvals[:416]-eigvals_ld, (eigvals[:416]-eigvals_ld).shape)\n",
    "# The results are zero therefore the eigenvalues are identical\n",
    "\n",
    "eigvecs_ld_cmp = np.dot(pca_train_norm.T, eigvecs_ld)\n",
    "eigvecs_ld_cmp = eigvecs_ld_cmp/np.linalg.norm(eigvecs_ld_cmp,axis=0)\n",
    "print (abs(eigvecs[:, :416])-abs(eigvecs_ld_cmp))\n",
    "# Note that the values that correspond to the non-zero eigenvalues are zero.\n",
    "# This means that the direction of the eigenvectors corresponding to the nonzero eigenvalues are the same!"
   ]
  },
  {
   "cell_type": "code",
   "execution_count": 23,
   "metadata": {
    "scrolled": true
   },
   "outputs": [
    {
     "data": {
      "text/plain": [
       "<matplotlib.image.AxesImage at 0xb2f126eb8>"
      ]
     },
     "execution_count": 23,
     "metadata": {},
     "output_type": "execute_result"
    },
    {
     "data": {
      "image/png": "[encoded data removed]",
      "text/plain": [
       "<Figure size 432x288 with 1 Axes>"
      ]
     },
     "metadata": {
      "needs_background": "light"
     },
     "output_type": "display_data"
    }
   ],
   "source": [
    "# Let's try to reconstruct one face image, just as a sanity check to see if we can still see a face (worse quality of course, because we did a lossy transformation on it)\n",
    "face_check = avg_face + np.dot(eigvecs_best, proj_pca_train_norm[0, :])\n",
    "plt.imshow(np.reshape(face_check, (46,56)).T, cmap = 'gist_gray')"
   ]
  },
  {
   "cell_type": "markdown",
   "metadata": {},
   "source": [
    "Testing"
   ]
  },
  {
   "cell_type": "code",
   "execution_count": 17,
   "metadata": {},
   "outputs": [
    {
     "name": "stdout",
     "output_type": "stream",
     "text": [
      "[[ 7.95913462e+00  4.78485577e+01 -4.41826923e+00 ... -6.83028846e+01\n",
      "  -6.68701923e+01 -6.54927885e+01]\n",
      " [-1.00408654e+01 -1.01514423e+01 -5.41826923e+00 ...  5.76971154e+01\n",
      "   5.01298077e+01  5.55072115e+01]\n",
      " [ 6.69591346e+01  6.48485577e+01  7.65817308e+01 ... -2.73028846e+01\n",
      "  -2.38701923e+01 -2.64927885e+01]\n",
      " ...\n",
      " [ 8.95913462e+00  1.08485577e+01  1.45817308e+01 ... -9.30288462e+00\n",
      "  -2.88701923e+01 -2.94927885e+01]\n",
      " [-4.08653846e-02 -1.51442308e-01  5.81730769e-01 ... -2.73028846e+01\n",
      "  -2.68701923e+01 -2.54927885e+01]\n",
      " [-1.30408654e+01 -2.41514423e+01 -5.34182692e+01 ...  4.26971154e+01\n",
      "   2.31298077e+01  3.85072115e+01]] (104, 2576)\n",
      "[[ -100.39055795  -945.99035314 -1408.05654249 ...    34.59095889\n",
      "      5.51766439     8.22856717]\n",
      " [  327.38836781   657.66134944  -432.86432675 ...    -5.0870525\n",
      "     14.10194686    22.57623521]\n",
      " [ -775.7538293   -479.79835341   137.12959003 ...   -26.14914478\n",
      "      3.15943808    31.05050216]\n",
      " ...\n",
      " [ -382.48165463  -794.94140959   966.62182096 ...    29.48881035\n",
      "    -34.02728583     9.10547865]\n",
      " [ -190.41973914    73.89377235  -180.75757673 ...   -17.7778107\n",
      "      8.4287058    -22.95453685]\n",
      " [  345.23303413  1075.13143165   632.57928534 ...     1.59208401\n",
      "     22.3807411     15.20978037]] (104, 400)\n"
     ]
    }
   ],
   "source": [
    "# Now that we've trained our model, let's test it on our testing data set\n",
    "# First, let's normalise the testing set (subtract the average face from all face images)\n",
    "\n",
    "pca_test_norm = pca_test-avg_face # Works because of broadcasting\n",
    "print (pca_test_norm, pca_test_norm.shape)\n",
    "\n",
    "# Then let's project each testing image to the eigenspace (space spanned by the best eigenvectors)\n",
    "proj_pca_test_norm = np.zeros((104, n))\n",
    "for i in range(104):\n",
    "    proj_pca_test_norm [i, :] = np.dot(pca_test_norm[i, :], eigvecs_best)\n",
    "\n",
    "print (proj_pca_test_norm, proj_pca_test_norm.shape)\n",
    "\n",
    "# Now in array proj_pca_test_norm, in each row, we have the projected coordinates for each face image"
   ]
  },
  {
   "cell_type": "code",
   "execution_count": 18,
   "metadata": {
    "scrolled": false
   },
   "outputs": [
    {
     "name": "stdout",
     "output_type": "stream",
     "text": [
      "[2463.31014883 2850.22843355 3799.83126065 2051.07203751 3150.71956779\n",
      " 2872.91475959 3164.01742245 3350.9121652  2990.27974084 3450.86026059\n",
      " 3725.38478811 3386.15662955 3534.84060679 3032.09005285 2239.05833163\n",
      " 3466.79986025 3622.03176374 3020.5684818  3307.30027954 2624.56823191\n",
      " 2356.95853436 3000.0902828  3570.84166941 2433.94936791 2751.50101384\n",
      " 3568.4808266  2086.43306309 2440.40704185 2320.96918033 2801.82416523\n",
      " 2805.97232382 3230.87204316 2525.6536013  2891.75201456 3077.52178913\n",
      " 3262.96167299 2790.72255801 3014.88624752 3009.17420021 2992.10320592\n",
      " 2016.89221158 2908.6742693  2736.67532935 3734.30412115 2226.878793\n",
      " 1799.3869945  3054.34245365 2877.54287018 3422.68611353 3140.16910431\n",
      " 3781.79774384 3252.21586957 2494.14720355 2558.62489962 3078.27022138\n",
      " 2584.32327529 2825.16769061 3002.15027516 2214.86788862 2470.5229012\n",
      " 3543.80969236 2448.69900649 2573.14566098 3696.72200733 3009.95073599\n",
      " 3439.30227223 2525.7997114  3200.39292482 3820.49766796 2170.56652017\n",
      " 2768.2685233  2516.8643843  2892.20459749 3002.63761387 3134.76021896\n",
      " 3496.51530859 3328.09620381 3759.10667447 2631.58012872 2599.50874314\n",
      " 2793.64249457 3093.95365609 3618.87360526 2332.7517934  3234.36897904\n",
      " 2658.70032425 2948.31375588 2864.04197794 3214.7101933  3590.23901384\n",
      " 3056.73523177 3427.21658739 2959.24998277 3338.36841831 2987.44010067\n",
      " 2282.87875502 3362.5494731  3539.77294071 2983.80772356 3329.42426544\n",
      " 2981.16626852 2872.40775336 3177.38709846 3158.45373132 3277.23893966\n",
      " 3001.86019495 2383.69389746 2515.96344723 3660.4927813  3184.68630254\n",
      " 3857.4423214  2773.70205273 3506.8020159  3703.92159907 2508.71416421\n",
      " 2765.95796306 2948.78944191 1869.38836251 3607.70937686 3868.33757302\n",
      " 2286.20804208 3514.86949781 2890.74988734 3106.2750025  2545.04617437\n",
      " 2562.38565845 2448.35411379 5191.70938696 3698.23653275 3274.81098908\n",
      " 2086.24829946 2735.44079274 3407.42742101 3660.37673644 2716.94896036\n",
      " 4373.27029506 2603.51615222 2928.10849602 3289.69901674 2690.67956574\n",
      " 3715.1917823  2131.73956115 2952.19234266 3603.12398095 2651.09777217\n",
      " 2993.42040048 2572.87396927 3564.32373116 3060.78647785 2946.07171584\n",
      " 2677.74005276 2938.28775239 3260.34902973 2244.24771023 2754.01774127\n",
      " 3078.68244899 2912.78416183 3801.20180834 2872.03205482 3429.20312846\n",
      " 2625.63581971 3204.0731595  2899.25412231 3187.54954218 4215.72398284\n",
      " 2065.77269683 2586.29130504 3575.29886603 2535.37242771 3422.935445\n",
      " 2941.14074539 2513.5469226  2995.22310969 4020.45653763 2843.78343335\n",
      " 3699.63456171 2436.37113588 3315.51728449 3421.96172655 3255.43688931\n",
      " 2053.99079543 2694.20882178 3422.1496525  4135.81646539 2677.50438061\n",
      " 2669.50562061 2144.44459835 3340.28862839 3603.78421858 3388.81026391\n",
      " 2432.27319368 3346.96312601 4053.34213163 3291.79496108 2514.06289649\n",
      " 3124.98134432 2106.12274087 3692.08542324 2687.93908027 2471.9273055\n",
      " 3443.51135309 3808.90690559 3177.37052962 3545.61618922 2600.33114732\n",
      " 3206.47520756 2875.45525349 3490.85732345 2477.10504727 2312.73902801\n",
      " 3441.37824712 3002.49686885 2957.4968607  2776.26736163 2999.5279917\n",
      " 2998.7652354  3588.16313479 2945.29790825 2858.02663199 3075.41591745\n",
      " 3137.22349045 3131.93411648 2070.56454426 3259.90480738 3042.20048285\n",
      " 3379.45857919 3521.25461728 2839.61770283 2679.8293866  2710.65890878\n",
      " 2688.37078335 2804.47082649 3296.31005452 2953.79151599 3354.01857384\n",
      " 3077.31088014 3022.29224052 2639.11086882 3105.17741365 3271.65900105\n",
      " 2353.21739498 3261.95103371 2870.17850827 2565.2922844  2948.24292052\n",
      " 2973.34543819 3934.0260239  2205.42510648 3166.40391392 4190.37457031\n",
      " 2444.78299827 3196.0890293  2552.65581157 2583.96063253 3011.1720923\n",
      " 3245.18741265 2768.02865959 2737.29233656 2473.90293313 4004.8851098\n",
      " 2945.24232853 3488.02571257 2995.89888895 4226.89222007 3552.18574436\n",
      " 2172.02876172 2595.43514618 3968.55810663 3881.49458752 2466.47299691\n",
      " 3140.58992932 3957.57843325 2642.79352681 3458.18746758 3003.00253097\n",
      " 4252.80788403 3087.82554167 3439.79888991 2632.39194902 2892.61765529\n",
      " 2463.9962967  2476.1388692  2249.17853987 2876.89356713 3378.07650878\n",
      " 3064.01170292 3351.79909313 3304.84273287 2638.855756   3572.23961829\n",
      " 2579.5687452  2865.58113622 3081.43975123 2027.92804059 3822.78003475\n",
      " 3390.54767223 3660.99155135 3262.36288196 2340.66464476 3004.4096538\n",
      " 3719.54615015 2947.47924962 3552.93791079 3087.118172   3211.74513035\n",
      " 2910.89590369 3468.55727772 3985.75945611 3534.43620462 3968.57355051\n",
      " 3352.00448535 3389.07987722 2611.68504094 2690.78299543 2983.47415996\n",
      " 2894.79088724 3120.89233792 2620.95333096 3673.43743941 4137.74422983\n",
      " 3625.02279718 2112.42887313 3654.39071878 3013.11724661 2866.05129212\n",
      " 3133.90852714 2180.60530211 3528.69168036 2253.61801398 3800.29220296\n",
      " 2606.39627013 3312.79759317 3517.53342151 3273.86832261 3219.39239831\n",
      " 2409.93864359 3611.17854473 3333.93737684 3405.5739183  3894.69740438\n",
      " 2380.07707906 3634.98934774 2879.54332263 3043.1950347  3000.04974228\n",
      " 3168.53785441 2449.32417041 2819.84334817 2631.70701571 3260.19479848\n",
      " 2280.89528629 3469.53003419 2929.0615181  3396.4984582  2138.02254683\n",
      " 2779.85896371 2559.45927421 2561.51919935 4282.24702689 3443.60350374\n",
      " 3623.84028931 2877.36326407 3338.24257271 2434.31661528 3132.23038928\n",
      " 3202.70082749 2865.80340206 3582.83358928 3614.64932639 3086.90212512\n",
      " 2555.32069667 3784.9957704  3955.28189964 3385.60842029 2652.59971948\n",
      " 2137.86454539 2788.78624192 2105.80660413 3145.10149751 3889.20637506\n",
      " 3125.3196456  3409.54307623 3320.63549125 2824.93491314 3468.88709268\n",
      " 3748.99044129 3759.35898505 2654.35163509 2884.61380698 3656.94506894\n",
      " 2953.17494211 2446.64021211 3434.20574255 3434.72459022 2783.95364543\n",
      " 3308.11108137 3067.21443121 2551.56682095 3638.18734839 4668.87912351\n",
      " 3187.71266935 3086.86138113 3146.5000007  2527.55926472 3569.21207925\n",
      " 2679.36980394 3160.48126719 2330.95429063 3651.51771751 3562.92290883\n",
      " 3292.61938962 3555.34585867 2216.57670721 3594.91727797 3214.34954223\n",
      " 3524.17983687] (416,)\n",
      "1799.3869944975363 45\n",
      "50\n",
      "50\n"
     ]
    },
    {
     "data": {
      "text/plain": [
       "<matplotlib.image.AxesImage at 0xb2f1cb518>"
      ]
     },
     "execution_count": 18,
     "metadata": {},
     "output_type": "execute_result"
    },
    {
     "data": {
      "image/png": "[encoded data removed]",
      "text/plain": [
       "<Figure size 432x288 with 1 Axes>"
      ]
     },
     "metadata": {
      "needs_background": "light"
     },
     "output_type": "display_data"
    },
    {
     "data": {
      "image/png": "[encoded data removed]",
      "text/plain": [
       "<Figure size 432x288 with 1 Axes>"
      ]
     },
     "metadata": {
      "needs_background": "light"
     },
     "output_type": "display_data"
    },
    {
     "data": {
      "image/png": "[encoded data removed]",
      "text/plain": [
       "<Figure size 432x288 with 1 Axes>"
      ]
     },
     "metadata": {
      "needs_background": "light"
     },
     "output_type": "display_data"
    }
   ],
   "source": [
    "# Let's classify the first image\n",
    "plt.imshow(np.reshape(pca_test[0, :], (46,56)).T, cmap = 'gist_gray')\n",
    "plt.figure()\n",
    "\n",
    "distances = np.zeros(416)\n",
    "\n",
    "for i in range(416):\n",
    "    distances[i] = np.linalg.norm(proj_pca_train_norm[i, :]-proj_pca_test_norm[0, :])\n",
    "    \n",
    "print (distances, distances.shape)\n",
    "\n",
    "smallest_distance = distances.min()\n",
    "smallest_index = distances.argmin()\n",
    "print (smallest_distance, smallest_index)\n",
    "\n",
    "# Which identity does it belong to according to the learning set?\n",
    "print (training[smallest_index, 2576])\n",
    "# Which identity does it actually belong to?\n",
    "print (test[0, 2576])\n",
    "\n",
    "# Print the picture that our picture is the closest to\n",
    "plt.imshow(np.reshape(pca_train[smallest_index, :], (46,56)).T, cmap = 'gist_gray')\n",
    "plt.figure()\n",
    "\n",
    "# Print our actual image\n",
    "plt.imshow(np.reshape(pca_test[0, :], (46,56)).T, cmap = 'gist_gray')"
   ]
  },
  {
   "cell_type": "code",
   "execution_count": 19,
   "metadata": {},
   "outputs": [
    {
     "name": "stdout",
     "output_type": "stream",
     "text": [
      "[[2463.31014883 2540.03386006 2255.3867446  ... 2565.93124532\n",
      "  2402.17142795 2775.56659548]\n",
      " [2850.22843355 2913.25618807 2517.38379006 ... 2157.60251417\n",
      "  2580.89780883 2754.18182655]\n",
      " [3799.83126065 2651.30100106 3921.4404475  ... 4085.49597949\n",
      "  3178.15682693 3281.07685844]\n",
      " ...\n",
      " [3594.91727797 2407.60781618 3053.76654148 ... 2623.02968812\n",
      "  2494.2187365  2220.37086426]\n",
      " [3214.34954223 3146.72617647 2805.62861939 ... 3250.11665644\n",
      "  3060.17221034 3412.73587945]\n",
      " [3524.17983687 3146.59048291 3830.77894029 ... 3466.06233648\n",
      "  3382.68354518 3551.73283848]] (416, 104)\n",
      "[1799.3869945  1700.29710537 2058.63559528 1595.99839316 1770.18386083\n",
      " 1527.71532026 2110.71719829 1187.46840935 1672.24588494 1247.416949\n",
      " 1782.62733369 1571.00310051 1869.03065892 1808.68568446 1588.58710349\n",
      " 1754.18346593 1797.10734519 1608.2311544  1242.78704374 1572.27977025\n",
      " 1715.89851614 1809.98287858 1705.75452877  811.60722577 1232.93127385\n",
      " 1436.82869373 1754.51335884 1697.07273808 1411.31513768 1973.41294806\n",
      "  801.08687953  876.97908402 1410.53314089 1727.39883862 1460.20760565\n",
      " 1939.95541054 1825.65918823 1348.4469376  1188.14788998 1655.02397195\n",
      " 1602.19589553 1464.0246807  1629.86953033 2185.13011594 1878.18957992\n",
      " 1703.41900885 1288.98483896 1415.66159154 1876.06504848 1316.14386491\n",
      " 1694.2606831  1778.63216379 1490.39673778 1859.31526267 1581.71030168\n",
      " 1479.02202743 1758.47648252 1820.1946455  1171.85203114 2201.80326282\n",
      " 1231.81956676 1256.3055794  1712.27614413  998.58982532  857.96409098\n",
      " 1321.83679577 1889.46686016 1126.60807165 1377.73393315 1912.55084147\n",
      " 1445.58983344 1378.86986359 1319.36544783 1484.96768832 1560.06617637\n",
      " 1600.15563164 1217.38965564 1448.71434852 1539.64736877 1689.86187233\n",
      " 1504.60036184 1705.92598833 1715.60604557 1352.21884704 1110.30384529\n",
      " 1111.40503256 1596.26458086 1863.08006248 1561.82048979 1275.79374152\n",
      " 1633.89758261 1183.99821512 1126.1386025  1428.68668315 1774.87499985\n",
      " 1931.53897132 1942.93500882 1748.49524787 1745.13593199 1930.32451051\n",
      " 1583.2979665  1657.14267569 1534.90256352 1556.49982544] (104,)\n",
      "[ 45  61 375 345 256 291 373  61  94 405 319 335   6 289 408  80 280  34\n",
      "  42 280 226 235   5  17 126  37 260 374  73 368 397 213 393 264 137 405\n",
      "  17 175 345 280 277 291 238 320 301   0 265  62  78  54 263 387 170 310\n",
      " 332  44 280  62  43 301 265 241 291 360 258 251 343 281 343  81 412 171\n",
      " 307 153 375 192 344 141  72 127   1 314 408 235 328 213  59 280  41  81\n",
      "  59 354 192 314 148 361 316 374 188 146 340 314 162 261] (104,)\n",
      "[50 47 52 14 28 33 49 48 22 36 17 38 42 13 24 43 23  9 20 44 20 46  3 10\n",
      " 38  5  6 36  8 22 32  5 30 17 33 11  6  6 14 44 30 34 17 30  2 11 49 43\n",
      " 32 15 15 43 29 32  1  7 23 43 39 18 27 19 33  9  8 20  2 33 16 12 49 49\n",
      " 13 23 52 19 21 31 13 13 15 32 19 46 16  5 31 23 44 12 31 20 21 32 40 41\n",
      " 45 46 12 43 37 16 46 51] (104,)\n",
      "[50 48 52 14 28 35 40 48 22 36 30 26 42 13  6 38 29  9 20 29 20 46  3 10\n",
      " 38  5 51 36  8 22 32  5 11 47 33 36 10  6 14 29 33 35 17 36  8 12 27 42\n",
      " 32 15 15 29 41 34 16  1 29 42 39  8 27  4 35  9  8 18  2 33  2 12 38 49\n",
      " 13 23 52 21 16 29 19 13 15 46  6 46 14  5 31 29 11 12 31 20 21 46 40 30\n",
      " 45 36 12 14 37 46 46 51] (104,)\n",
      "[ True False  True  True  True False False  True  True  True False False\n",
      "  True  True False False False  True  True False  True  True  True  True\n",
      "  True  True False  True  True  True  True  True False False  True False\n",
      " False  True  True False False False  True False False False False False\n",
      "  True  True  True False False False False False False False  True False\n",
      "  True False False  True  True False  True  True False  True False  True\n",
      "  True  True  True False False False False  True  True False False  True\n",
      " False  True  True False False  True  True  True  True False  True False\n",
      "  True False  True False  True False  True  True] (104,)\n",
      "0.5288461538461539\n"
     ]
    }
   ],
   "source": [
    "# Now let's do this for all of the testing images\n",
    "\n",
    "distances = np.zeros((416, 104)) # In each row we store the distances (1 column = 1 testing image's distances)\n",
    "\n",
    "for k in range (104):\n",
    "    for i in range(416):\n",
    "        distances[i, k] = np.linalg.norm(proj_pca_train_norm[i, :]-proj_pca_test_norm[k, :])\n",
    "        \n",
    "# Now we have in each column the distances of the testing images from each of the training images.\n",
    "# Next step is to find the minimum of each column, and the corresponding row index (per column)\n",
    "print (distances, distances.shape)\n",
    "\n",
    "smallest_distance = distances.min(axis=0) # min per columns\n",
    "smallest_index = distances.argmin(axis=0)\n",
    "print (smallest_distance, smallest_distance.shape)\n",
    "print (smallest_index, smallest_index.shape)\n",
    "\n",
    "# Get the smallest distance image's label\n",
    "#detected_label = np.zeros (104)\n",
    "#for j in range(104):\n",
    "#    detected_label[j] = training[smallest_index[j], 2576]\n",
    "#print (detected_label, detected_label.shape)\n",
    "\n",
    "actual_label = test [:, 2576].T\n",
    "\n",
    "print (actual_label, actual_label.shape)\n",
    "\n",
    "\n",
    "# Which identity does it belong to according to the learning set?\n",
    "print (training[smallest_index, 2576], training[smallest_index, 2576].shape)\n",
    "\n",
    "same = (training[smallest_index, 2576]==actual_label)\n",
    "\n",
    "print (same, same.shape)\n",
    "\n",
    "percentage = np.sum(same)/104\n",
    "\n",
    "print (percentage)\n"
   ]
  },
  {
   "cell_type": "code",
   "execution_count": null,
   "metadata": {},
   "outputs": [],
   "source": []
  },
  {
   "cell_type": "code",
   "execution_count": null,
   "metadata": {},
   "outputs": [],
   "source": []
  },
  {
   "cell_type": "code",
   "execution_count": 20,
   "metadata": {},
   "outputs": [
    {
     "name": "stdout",
     "output_type": "stream",
     "text": [
      "Maximum memory used by high dimension way: 646.0 MiB\n",
      "Maximum memory used by donothing: 442.17578125 MiB\n"
     ]
    }
   ],
   "source": [
    "def highdimension():\n",
    "    eigvals_hd, eigvecs_hd = np.linalg.eig(cov)\n",
    "    return\n",
    "\n",
    "#def lowdimension():\n",
    "#    eigvals2_ld, eigvecs2_ld = np.linalg.eig(cov2)\n",
    "#    return\n",
    "\n",
    "def donothing():\n",
    "    x=1123\n",
    "    return\n",
    "\n",
    "#mem_low = max(memory_usage(proc=lowdimension))\n",
    "mem_high = max(memory_usage(proc=highdimension))\n",
    "mem_nothing = max(memory_usage(proc=donothing))\n",
    "\n",
    "#print(\"Maximum memory used by low dimension way: {0} MiB\".format(str(mem_low)))\n",
    "print(\"Maximum memory used by high dimension way: {0} MiB\".format(str(mem_high)))\n",
    "print(\"Maximum memory used by donothing: {0} MiB\".format(str(mem_nothing)))\n",
    "\n",
    "# Check it tomorrow, strange that the memory usage of donothing and lowdimension if the same, but don't know why yet"
   ]
  },
  {
   "cell_type": "code",
   "execution_count": null,
   "metadata": {},
   "outputs": [],
   "source": []
  },
  {
   "cell_type": "code",
   "execution_count": null,
   "metadata": {},
   "outputs": [],
   "source": []
  }
 ],
 "metadata": {
  "kernelspec": {
   "display_name": "Python 3",
   "language": "python",
   "name": "python3"
  },
  "language_info": {
   "codemirror_mode": {
    "name": "ipython",
    "version": 3
   },
   "file_extension": ".py",
   "mimetype": "text/x-python",
   "name": "python",
   "nbconvert_exporter": "python",
   "pygments_lexer": "ipython3",
   "version": "3.7.0"
  }
 },
 "nbformat": 4,
 "nbformat_minor": 2
}
