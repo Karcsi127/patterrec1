{
 "cells": [
  {
   "cell_type": "markdown",
   "metadata": {
    "collapsed": true
   },
   "source": [
    "# Exercise 1 Implementation"
   ]
  },
  {
   "cell_type": "markdown",
   "metadata": {},
   "source": [
    "Training"
   ]
  },
  {
   "cell_type": "code",
   "execution_count": 1,
   "metadata": {},
   "outputs": [],
   "source": [
    "# Imports\n",
    "import numpy as np\n",
    "import matplotlib.pyplot as plt\n",
    "import time\n",
    "from memory_profiler import memory_usage"
   ]
  },
  {
   "cell_type": "code",
   "execution_count": 2,
   "metadata": {},
   "outputs": [
    {
     "name": "stdout",
     "output_type": "stream",
     "text": [
      "[[172 179 153 ...  28  32  44]\n",
      " [132 139 140 ...  45  38  44]\n",
      " [134 133 134 ... 228 226  36]\n",
      " ...\n",
      " [ 74  68  64 ...  47  48  19]\n",
      " [118 117 115 ...  50  50  15]\n",
      " [128 129 133 ...  17  14  16]] (416, 2577)\n",
      "[[ 68  82  57 ... 213 185   4]\n",
      " [111 110 117 ...  25  25  14]\n",
      " [130 132 131 ...  62  65  38]\n",
      " ...\n",
      " [117 121 137 ... 128 128  17]\n",
      " [122 109 119 ...  60  61  35]\n",
      " [104 104 105 ... 111 109  23]] (104, 2577)\n"
     ]
    },
    {
     "data": {
      "text/plain": [
       "<matplotlib.image.AxesImage at 0x11fd39c88>"
      ]
     },
     "execution_count": 2,
     "metadata": {},
     "output_type": "execute_result"
    },
    {
     "data": {
      "image/png": "[encoded data removed]",
      "text/plain": [
       "<Figure size 432x288 with 1 Axes>"
      ]
     },
     "metadata": {
      "needs_background": "light"
     },
     "output_type": "display_data"
    }
   ],
   "source": [
    "# Load the training and testing sets: 80% is training, 20% is testing\n",
    "\n",
    "splittype = 'whole'\n",
    "\n",
    "if (splittype == 'whole'):\n",
    "    training = np.loadtxt('split_whole_train.gzip', dtype = 'uint8')\n",
    "    test = np.loadtxt('split_whole_test.gzip', dtype = 'uint8')\n",
    "elif (splittype == 'class'):\n",
    "    training = np.loadtxt('split_class_train.gzip', dtype = 'uint8')\n",
    "    test = np.loadtxt('split_class_test.gzip', dtype = 'uint8')\n",
    "    \n",
    "print (training, training.shape)\n",
    "print (test, test.shape)\n",
    "\n",
    "plt.imshow(np.reshape(training[100, :2576], (46,56)).T, cmap = 'gist_gray') \n",
    "# Print 100th image of the training set as a sanity check to make sure we have shuffled along the right dimension of the array"
   ]
  },
  {
   "cell_type": "code",
   "execution_count": 3,
   "metadata": {},
   "outputs": [
    {
     "data": {
      "text/plain": [
       "<matplotlib.image.AxesImage at 0x120199160>"
      ]
     },
     "execution_count": 3,
     "metadata": {},
     "output_type": "execute_result"
    },
    {
     "data": {
      "image/png": "[encoded data removed]",
      "text/plain": [
       "<Figure size 432x288 with 1 Axes>"
      ]
     },
     "metadata": {
      "needs_background": "light"
     },
     "output_type": "display_data"
    }
   ],
   "source": [
    "# Now let's start training our image recognition PCA algorithm\n",
    "# We have face images that are CENTERED and they are of the SAME SIZE (needed for PCA)\n",
    "# They are normalised for SCALE, ORIENTATION and TRANSLATION\n",
    "\n",
    "# First, we only need the training and testing set without the labels\n",
    "# Images are represented as rows\n",
    "pca_train = training [:, :2576]\n",
    "pca_test = test [:, :2576]\n",
    "\n",
    "# Let's compute the mean face image\n",
    "avg_face = np.mean(pca_train, axis=0)\n",
    "plt.imshow(np.reshape(avg_face, (46,56)).T, cmap = 'gist_gray')"
   ]
  },
  {
   "cell_type": "code",
   "execution_count": 4,
   "metadata": {},
   "outputs": [
    {
     "name": "stdout",
     "output_type": "stream",
     "text": [
      "[[2760.26113512 2647.77910619 2400.84481902 ... -453.14017428\n",
      "  -511.70410156 -527.89369915]\n",
      " [2647.77910619 2834.85215768 2638.40635979 ... -475.14528245\n",
      "  -557.1778095  -576.06774686]\n",
      " [2400.84481902 2638.40635979 2715.89575051 ... -485.58338341\n",
      "  -556.49541767 -572.12867511]\n",
      " ...\n",
      " [-453.14017428 -475.14528245 -485.58338341 ... 2781.7749399\n",
      "  2649.00886418 2564.18449519]\n",
      " [-511.70410156 -557.1778095  -556.49541767 ... 2649.00886418\n",
      "  2827.68051382 2768.19320913]\n",
      " [-527.89369915 -576.06774686 -572.12867511 ... 2564.18449519\n",
      "  2768.19320913 2886.69258506]] (2576, 2576)\n"
     ]
    },
    {
     "data": {
      "image/png": "[encoded data removed]",
      "text/plain": [
       "<Figure size 432x288 with 1 Axes>"
      ]
     },
     "metadata": {
      "needs_background": "light"
     },
     "output_type": "display_data"
    }
   ],
   "source": [
    "# Now let's subtract the mean face image from all of our training face images\n",
    "pca_train_norm = pca_train-avg_face # works because of broadcasting\n",
    "plt.imshow(np.reshape(pca_train_norm[0, :], (46,56)).T, cmap = 'gist_gray') \n",
    "# Show the first normalised face image and notice that it is distorted\n",
    "\n",
    "# Computing the covariance matrix\n",
    "cov = (np.dot(pca_train_norm.T, pca_train_norm))/416\n",
    "print (cov, cov.shape)"
   ]
  },
  {
   "cell_type": "code",
   "execution_count": 5,
   "metadata": {},
   "outputs": [
    {
     "name": "stdout",
     "output_type": "stream",
     "text": [
      "6.078167915344238\n",
      "[ 9.49883240e+05+0.00000000e+00j  5.58084596e+05+0.00000000e+00j\n",
      "  4.71115612e+05+0.00000000e+00j ... -2.68608884e-13-5.01701859e-14j\n",
      "  1.62899547e-13+0.00000000e+00j -1.20352067e-13+0.00000000e+00j] (2576,)\n",
      "[[-1.44173827e-02+0.00000000e+00j  1.02441457e-02+0.00000000e+00j\n",
      "   1.73988440e-02+0.00000000e+00j ...  2.42313208e-03-6.22329464e-04j\n",
      "  -2.81722163e-03+0.00000000e+00j  1.77144738e-03+0.00000000e+00j]\n",
      " [-1.56054889e-02+0.00000000e+00j  1.00944216e-02+0.00000000e+00j\n",
      "   1.89844973e-02+0.00000000e+00j ...  8.16957636e-04+4.20553553e-05j\n",
      "   3.05149106e-05+0.00000000e+00j -1.66201096e-04+0.00000000e+00j]\n",
      " [-1.53411709e-02+0.00000000e+00j  9.11954358e-03+0.00000000e+00j\n",
      "   2.10304473e-02+0.00000000e+00j ... -6.89522926e-04+1.14020923e-04j\n",
      "  -1.50250325e-03+0.00000000e+00j -9.57084214e-04+0.00000000e+00j]\n",
      " ...\n",
      " [ 7.21394628e-03+0.00000000e+00j -4.53964738e-02+0.00000000e+00j\n",
      "  -9.93319232e-03+0.00000000e+00j ...  7.70913600e-04+8.02562871e-04j\n",
      "  -8.10225815e-03+0.00000000e+00j  2.77974439e-03+0.00000000e+00j]\n",
      " [ 6.82396025e-03+0.00000000e+00j -4.50830398e-02+0.00000000e+00j\n",
      "  -1.13844581e-02+0.00000000e+00j ... -8.10407591e-03-5.62628513e-03j\n",
      "  -1.76132776e-02+0.00000000e+00j  1.15998892e-02+0.00000000e+00j]\n",
      " [ 7.13323254e-03+0.00000000e+00j -4.54430839e-02+0.00000000e+00j\n",
      "  -1.32537568e-02+0.00000000e+00j ...  8.96691253e-03+3.49968629e-03j\n",
      "   1.05081888e-02+0.00000000e+00j -9.25712541e-03+0.00000000e+00j]] (2576, 2576)\n",
      "(-3.6704245606959014e-11+0j)\n"
     ]
    }
   ],
   "source": [
    "# Computing the eigenvalues and eigenvectors of the covariance matrix directly and measuring how long it takes\n",
    "\n",
    "start = time.time()\n",
    "eigvals, eigvecs = np.linalg.eig(cov) # these are not ordered, so we need to order them according to the eigenvalues\n",
    "end = time.time()\n",
    "print (end-start) # Execution time in seconds\n",
    "\n",
    "print (eigvals, eigvals.shape)\n",
    "print (eigvecs, eigvecs.shape)\n",
    "print (eigvals.min()) # Note that the smallest eigenvalue (most negative) is a zero eigenvalue (rounding error)"
   ]
  },
  {
   "cell_type": "code",
   "execution_count": 6,
   "metadata": {},
   "outputs": [
    {
     "name": "stdout",
     "output_type": "stream",
     "text": [
      "[-5.27506927e-11+0.j  2.96495273e-10+0.j -8.36735126e-11+0.j ...\n",
      "  1.00044417e-11+0.j  5.45696821e-12+0.j  2.72848411e-12+0.j] (2576,)\n"
     ]
    }
   ],
   "source": [
    "# Proving that the eigenvalues and eigenvectors make sense\n",
    "\n",
    "eig_test_1 = np.dot(cov, eigvecs[:, 0])\n",
    "eig_test_2 = eigvecs[:, 0]*eigvals[0]\n",
    "\n",
    "print (eig_test_1-eig_test_2, (eig_test_1-eig_test_2).shape) # The values are basically zero, so the eigenvalue computation is correct"
   ]
  },
  {
   "cell_type": "code",
   "execution_count": 7,
   "metadata": {},
   "outputs": [
    {
     "name": "stdout",
     "output_type": "stream",
     "text": [
      "[ 9.49883240e+05  5.58084596e+05  4.71115612e+05 ... -2.68608884e-13\n",
      "  1.62899547e-13 -1.20352067e-13] (2576,)\n",
      "[[-1.44173827e-02  1.02441457e-02  1.73988440e-02 ...  2.42313208e-03\n",
      "  -2.81722163e-03  1.77144738e-03]\n",
      " [-1.56054889e-02  1.00944216e-02  1.89844973e-02 ...  8.16957636e-04\n",
      "   3.05149106e-05 -1.66201096e-04]\n",
      " [-1.53411709e-02  9.11954358e-03  2.10304473e-02 ... -6.89522926e-04\n",
      "  -1.50250325e-03 -9.57084214e-04]\n",
      " ...\n",
      " [ 7.21394628e-03 -4.53964738e-02 -9.93319232e-03 ...  7.70913600e-04\n",
      "  -8.10225815e-03  2.77974439e-03]\n",
      " [ 6.82396025e-03 -4.50830398e-02 -1.13844581e-02 ... -8.10407591e-03\n",
      "  -1.76132776e-02  1.15998892e-02]\n",
      " [ 7.13323254e-03 -4.54430839e-02 -1.32537568e-02 ...  8.96691253e-03\n",
      "   1.05081888e-02 -9.25712541e-03]] (2576, 2576)\n"
     ]
    }
   ],
   "source": [
    "# Taking the real part of the eigenvalues (complex eigenvalues are the result of calculation rounding errors, because the covariance matrix is symmetric)\n",
    "\n",
    "eigvals = np.real(eigvals)\n",
    "print (eigvals, eigvals.shape)\n",
    "eigvecs = np.real(eigvecs)\n",
    "print (eigvecs, eigvecs.shape)"
   ]
  },
  {
   "cell_type": "code",
   "execution_count": 8,
   "metadata": {},
   "outputs": [
    {
     "name": "stdout",
     "output_type": "stream",
     "text": [
      "[   0    1    2 ... 2223 2128 2127] (2576,)\n",
      "[ 9.49883240e+05  5.58084596e+05  4.71115612e+05 ... -4.32706689e-15\n",
      "  3.32034457e-15  3.32034457e-15] (2576,)\n",
      "415\n",
      "0\n",
      "415\n",
      "949883.2400231005\n",
      "85.83448543784169\n",
      "3.714091941010863e-11\n"
     ]
    }
   ],
   "source": [
    "# Order eigenvalues and eigenvectors according to the size of the eigenvalues\n",
    "\n",
    "index = (abs(eigvals)).argsort()[::-1] # argsort returns the indices that would sort an array (in this case the vector eigvals)\n",
    "eigvals = eigvals[index]\n",
    "eigvecs = eigvecs[:,index]\n",
    "print (index, index.shape)\n",
    "print (eigvals, eigvals.shape)\n",
    "\n",
    "# How many zero eigenvalues do we have?\n",
    "\n",
    "print (np.linalg.matrix_rank(cov)) # We should have 2576 - 415 = 2161 zero eigenvalues\n",
    "print ((eigvals == np.zeros(eigvals.shape)).sum()) # The rounding errors will give 0 eigenvalues that are precisely zero\n",
    "print ((abs(eigvals) >= np.ones(eigvals.shape)/100000).sum()) # However there are 415 eigenvalues that are larger than 1e-05, which can be considered zero eigenvectors.\n",
    "print (eigvals.max()) # The largest eigenvalue\n",
    "print (eigvals[414])\n",
    "print (eigvals[415]) # Zero eigenvalue"
   ]
  },
  {
   "cell_type": "code",
   "execution_count": 9,
   "metadata": {},
   "outputs": [
    {
     "data": {
      "image/png": "[encoded data removed]",
      "text/plain": [
       "<Figure size 432x288 with 1 Axes>"
      ]
     },
     "metadata": {
      "needs_background": "light"
     },
     "output_type": "display_data"
    },
    {
     "data": {
      "image/png": "[encoded data removed]",
      "text/plain": [
       "<Figure size 432x288 with 1 Axes>"
      ]
     },
     "metadata": {
      "needs_background": "light"
     },
     "output_type": "display_data"
    },
    {
     "data": {
      "image/png": "[encoded data removed]",
      "text/plain": [
       "<Figure size 432x288 with 1 Axes>"
      ]
     },
     "metadata": {
      "needs_background": "light"
     },
     "output_type": "display_data"
    },
    {
     "data": {
      "image/png": "[encoded data removed]",
      "text/plain": [
       "<Figure size 432x288 with 1 Axes>"
      ]
     },
     "metadata": {
      "needs_background": "light"
     },
     "output_type": "display_data"
    },
    {
     "data": {
      "text/plain": [
       "<Figure size 432x288 with 0 Axes>"
      ]
     },
     "metadata": {},
     "output_type": "display_data"
    }
   ],
   "source": [
    "# Let's visualise the eigenvalues\n",
    "\n",
    "x = np.arange(0, 2576)\n",
    "\n",
    "# All of them\n",
    "plt.plot(x, eigvals) # Clearly out of scale\n",
    "plt.title('All eigenvalues of the covariance matrix')\n",
    "plt.figure()\n",
    "\n",
    "# First 415 of them\n",
    "plt.plot(x[:415], eigvals[:415]) # Still out of scale\n",
    "plt.title('First 415 eigenvalues of the covariance matrix')\n",
    "plt.figure()\n",
    "\n",
    "# First 200 of them\n",
    "plt.plot(x[:200], eigvals[:200])\n",
    "plt.title('First 200 eigenvalues of the covariance matrix')\n",
    "plt.figure()\n",
    "\n",
    "# First 20 of them\n",
    "plt.plot(x[:20], eigvals[:20])\n",
    "plt.title('First 20 eigenvalues of the covariance matrix')\n",
    "plt.figure()\n",
    "\n",
    "plt.show()"
   ]
  },
  {
   "cell_type": "code",
   "execution_count": 10,
   "metadata": {},
   "outputs": [
    {
     "name": "stdout",
     "output_type": "stream",
     "text": [
      "[[ -575.27013877  -189.51711811   447.80932411 ...    62.4075252\n",
      "   -192.99384804  -249.60692521]\n",
      " [  314.11390912  -633.16342342  -251.77076104 ...   107.41377653\n",
      "    -54.724141    -110.53174332]\n",
      " [ -680.49387894 -1256.54323561   -25.99821496 ...    74.00579455\n",
      "   -162.85745477    89.49376271]\n",
      " ...\n",
      " [ 1347.41691416   910.08242648  -117.651151   ...    44.22392155\n",
      "     -6.15300424   -24.94682837]\n",
      " [-1158.34609813  -323.57574212 -1562.47118376 ...    77.84015618\n",
      "     28.76140567   214.15097667]\n",
      " [  725.18357702   599.61286397  1187.73516029 ...   135.45369823\n",
      "    -27.04996851   -70.0376006 ]] (416, 50)\n"
     ]
    }
   ],
   "source": [
    "# We keep the largest n eigenvalues and their corresponding eigenvectors n<=415, the other eigenvalues are zero\n",
    "\n",
    "n = 50\n",
    "eigvecs_best = eigvecs[:, :n]\n",
    "eigvals_best = eigvals[:n]\n",
    "\n",
    "# Projecting each training data point to the space spanned by the eigenvectors\n",
    "proj_pca_train_norm = np.zeros((416, n))\n",
    "for i in range(416):\n",
    "    proj_pca_train_norm [i, :] = np.dot(pca_train_norm[i, :], eigvecs_best)\n",
    "    \n",
    "print (proj_pca_train_norm, proj_pca_train_norm.shape)\n",
    "\n",
    "# Now in array proj_pca_train_norm, in each row, we have the projected coordinates for each face image"
   ]
  },
  {
   "cell_type": "code",
   "execution_count": 11,
   "metadata": {},
   "outputs": [
    {
     "name": "stdout",
     "output_type": "stream",
     "text": [
      "[[ 8.95093136e+03 -3.33506734e+02  1.64240108e+01 ... -1.04175675e+03\n",
      "   1.04554848e+03 -9.07851700e+01]\n",
      " [-3.33506734e+02  7.12646382e+03  2.96061080e+01 ... -1.03210831e+03\n",
      "   1.06895174e+03 -2.72670381e+02]\n",
      " [ 1.64240108e+01  2.96061080e+01  1.25252893e+04 ... -5.30315593e+03\n",
      "   9.40904116e+02 -3.92727089e+03]\n",
      " ...\n",
      " [-1.04175675e+03 -1.03210831e+03 -5.30315593e+03 ...  9.63282677e+03\n",
      "  -3.27047617e+03  3.13733441e+03]\n",
      " [ 1.04554848e+03  1.06895174e+03  9.40904116e+02 ... -3.27047617e+03\n",
      "   1.87222113e+04 -6.99917285e+03]\n",
      " [-9.07851700e+01 -2.72670381e+02 -3.92727089e+03 ...  3.13733441e+03\n",
      "  -6.99917285e+03  8.02109686e+03]] (416, 416)\n"
     ]
    }
   ],
   "source": [
    "# Let's try to compute the eigenvalues using the low-dimensional method\n",
    "\n",
    "# First we need to compute the new covariance matrix (1/N)A^T*A\n",
    "cov_ld = np.dot(pca_train_norm, pca_train_norm.T)/416\n",
    "print (cov_ld, cov_ld.shape) # as we can see it is NxN (and not DxD as the covariance matrix we had before)"
   ]
  },
  {
   "cell_type": "code",
   "execution_count": 12,
   "metadata": {
    "scrolled": false
   },
   "outputs": [
    {
     "name": "stdout",
     "output_type": "stream",
     "text": [
      "0.053465843200683594\n",
      "6.078167915344238\n",
      "[9.49883240e+05 5.58084596e+05 4.71115612e+05 2.52967882e+05\n",
      " 2.17330801e+05 1.50695096e+05 1.28373823e+05 1.09547138e+05\n",
      " 8.93777970e+04 8.16543848e+04 6.43531883e+04 5.84297920e+04\n",
      " 5.58034829e+04 5.21603563e+04 4.89267150e+04 4.41669655e+04\n",
      " 3.81533910e+04 3.64231474e+04 3.37158868e+04 3.29521138e+04\n",
      " 2.97809950e+04 2.67178512e+04 2.53582101e+04 2.40236468e+04\n",
      " 2.29969353e+04 2.21514985e+04 2.06869775e+04 1.97979009e+04\n",
      " 1.89499579e+04 1.83968299e+04 1.66471057e+04 1.64231845e+04\n",
      " 1.61162237e+04 1.57698651e+04 1.46372388e+04 1.41860199e+04\n",
      " 1.36782888e+04 1.33257070e+04 1.28420380e+04 1.22982204e+04\n",
      " 1.20146619e+04 1.17046744e+04 1.16563135e+04 1.13264982e+04\n",
      " 1.06405575e+04 1.05732746e+04 1.02612121e+04 9.94290857e+03\n",
      " 9.38010256e+03 9.37396414e+03 8.89481576e+03 8.54520270e+03\n",
      " 8.40913441e+03 8.15859150e+03 7.85500077e+03 7.77205861e+03\n",
      " 7.54670997e+03 7.32247059e+03 7.21019334e+03 7.02508112e+03\n",
      " 6.96043568e+03 6.82611568e+03 6.73149142e+03 6.52556944e+03\n",
      " 6.36148222e+03 6.25407247e+03 6.14128370e+03 5.99232598e+03\n",
      " 5.85127864e+03 5.73376347e+03 5.56904142e+03 5.40136436e+03\n",
      " 5.38854066e+03 5.15383356e+03 5.11071426e+03 4.95540577e+03\n",
      " 4.84570934e+03 4.82106375e+03 4.74856221e+03 4.64349627e+03\n",
      " 4.50504997e+03 4.46666427e+03 4.44684914e+03 4.38609121e+03\n",
      " 4.18130164e+03 4.14059334e+03 4.12852874e+03 4.06212983e+03\n",
      " 3.95200877e+03 3.93594299e+03 3.82243184e+03 3.80286083e+03\n",
      " 3.71274482e+03 3.67525511e+03 3.60371388e+03 3.57801375e+03\n",
      " 3.53380309e+03 3.46480510e+03 3.41427780e+03 3.38721183e+03\n",
      " 3.26105917e+03 3.19451679e+03 3.11411627e+03 3.08041356e+03\n",
      " 3.05517281e+03 2.99470758e+03 2.98540702e+03 2.89063963e+03\n",
      " 2.86819686e+03 2.82076361e+03 2.78536003e+03 2.75453939e+03\n",
      " 2.75021916e+03 2.71886437e+03 2.69564143e+03 2.66599821e+03\n",
      " 2.62011924e+03 2.59512526e+03 2.57540157e+03 2.52812761e+03\n",
      " 2.45619834e+03 2.43819072e+03 2.38672239e+03 2.35852167e+03\n",
      " 2.31483109e+03 2.29252214e+03 2.25670966e+03 2.22947480e+03\n",
      " 2.20043944e+03 2.17566166e+03 2.15670739e+03 2.12064542e+03\n",
      " 2.10469346e+03 2.07829970e+03 2.03778373e+03 2.01504540e+03\n",
      " 2.00530566e+03 1.98225403e+03 1.96519449e+03 1.93196525e+03\n",
      " 1.91904470e+03 1.88669697e+03 1.88217314e+03 1.85466619e+03\n",
      " 1.83057002e+03 1.80350084e+03 1.79189009e+03 1.77084328e+03\n",
      " 1.75277657e+03 1.73680038e+03 1.70537598e+03 1.69156352e+03\n",
      " 1.67505300e+03 1.66555174e+03 1.65061563e+03 1.64711685e+03\n",
      " 1.60596391e+03 1.59648537e+03 1.58036256e+03 1.55850647e+03\n",
      " 1.53007045e+03 1.52448109e+03 1.51816252e+03 1.49839176e+03\n",
      " 1.47809946e+03 1.45880687e+03 1.45613239e+03 1.43556954e+03\n",
      " 1.41856429e+03 1.38806473e+03 1.38053802e+03 1.35714851e+03\n",
      " 1.35369806e+03 1.33371796e+03 1.32529939e+03 1.28994513e+03\n",
      " 1.27351658e+03 1.26416298e+03 1.26027990e+03 1.25191109e+03\n",
      " 1.23913976e+03 1.22176796e+03 1.21408857e+03 1.21152270e+03\n",
      " 1.19954417e+03 1.18037806e+03 1.17185162e+03 1.15781542e+03\n",
      " 1.14920633e+03 1.14394581e+03 1.12774775e+03 1.11823612e+03\n",
      " 1.10309647e+03 1.09644651e+03 1.07681083e+03 1.06746237e+03\n",
      " 1.06296698e+03 1.05833409e+03 1.05406660e+03 1.04539583e+03\n",
      " 1.04183761e+03 1.03006831e+03 1.01393972e+03 1.00505722e+03\n",
      " 1.00084675e+03 9.86290053e+02 9.70838690e+02 9.64307986e+02\n",
      " 9.59999366e+02 9.47458939e+02 9.38551312e+02 9.31776006e+02\n",
      " 9.20594532e+02 9.14550476e+02 9.10869552e+02 9.04391597e+02\n",
      " 8.94918591e+02 8.81971060e+02 8.72806845e+02 8.62327666e+02\n",
      " 8.60265571e+02 8.53387678e+02 8.46372591e+02 8.29768679e+02\n",
      " 8.20377539e+02 8.17068384e+02 8.07800565e+02 8.01400822e+02\n",
      " 7.95334578e+02 7.91605865e+02 7.78684309e+02 7.78404601e+02\n",
      " 7.70446746e+02 7.59820105e+02 7.56048008e+02 7.41155814e+02\n",
      " 7.37784898e+02 7.29504549e+02 7.28004028e+02 7.23177856e+02\n",
      " 7.13736159e+02 7.07487216e+02 7.03273926e+02 7.00001752e+02\n",
      " 6.96647296e+02 6.90448534e+02 6.82836628e+02 6.78039489e+02\n",
      " 6.70353767e+02 6.63078123e+02 6.58023497e+02 6.51751373e+02\n",
      " 6.46881974e+02 6.41987981e+02 6.35132349e+02 6.33400309e+02\n",
      " 6.29475286e+02 6.28695084e+02 6.18435048e+02 6.16335735e+02\n",
      " 6.10286209e+02 5.98228287e+02 5.93363449e+02 5.89834951e+02\n",
      " 5.80697809e+02 5.77325487e+02 5.72897968e+02 5.70085276e+02\n",
      " 5.64878934e+02 5.57859386e+02 5.51607915e+02 5.43802774e+02\n",
      " 5.42461131e+02 5.36863563e+02 5.36203357e+02 5.27961649e+02\n",
      " 5.22632619e+02 5.19728203e+02 5.16543240e+02 5.08685895e+02\n",
      " 5.07880228e+02 5.02970415e+02 4.95100461e+02 4.91571671e+02\n",
      " 4.88601581e+02 4.83063452e+02 4.79029624e+02 4.76999551e+02\n",
      " 4.72547955e+02 4.66363540e+02 4.59760978e+02 4.57512455e+02\n",
      " 4.53105745e+02 4.50253879e+02 4.43689951e+02 4.37806592e+02\n",
      " 4.34253988e+02 4.32187488e+02 4.27446354e+02 4.23185286e+02\n",
      " 4.20241704e+02 4.15236260e+02 4.11694684e+02 4.10275368e+02\n",
      " 4.06642812e+02 4.05025192e+02 4.02922418e+02 3.96656592e+02\n",
      " 3.93067378e+02 3.91033263e+02 3.86927652e+02 3.81665556e+02\n",
      " 3.80851560e+02 3.78359041e+02 3.71990164e+02 3.66761854e+02\n",
      " 3.65709740e+02 3.64386527e+02 3.61994887e+02 3.53850347e+02\n",
      " 3.49638106e+02 3.48011846e+02 3.47110157e+02 3.44084489e+02\n",
      " 3.43294283e+02 3.38146035e+02 3.34253814e+02 3.30299092e+02\n",
      " 3.29271159e+02 3.26902315e+02 3.22718686e+02 3.21268715e+02\n",
      " 3.17525451e+02 3.15307611e+02 3.12940182e+02 3.10471449e+02\n",
      " 3.06677518e+02 3.01840303e+02 2.99750850e+02 2.98863805e+02\n",
      " 2.96794650e+02 2.94650479e+02 2.91055089e+02 2.87577538e+02\n",
      " 2.86931965e+02 2.81054384e+02 2.77078360e+02 2.74230325e+02\n",
      " 2.71752074e+02 2.70436094e+02 2.65717901e+02 2.64278415e+02\n",
      " 2.61431989e+02 2.58748567e+02 2.56832901e+02 2.54630575e+02\n",
      " 2.51794361e+02 2.49686435e+02 2.43351790e+02 2.40831126e+02\n",
      " 2.38910270e+02 2.37046675e+02 2.33684206e+02 2.32866824e+02\n",
      " 2.28662170e+02 2.28358722e+02 2.25517994e+02 2.22942213e+02\n",
      " 2.21105753e+02 2.18500535e+02 2.17018184e+02 2.15485114e+02\n",
      " 2.11532877e+02 2.09255916e+02 2.08319486e+02 2.02225697e+02\n",
      " 2.00979175e+02 2.00608939e+02 1.97278697e+02 1.92683353e+02\n",
      " 1.90307484e+02 1.89190339e+02 1.86610678e+02 1.85082040e+02\n",
      " 1.81046176e+02 1.75414428e+02 1.73769804e+02 1.73350667e+02\n",
      " 1.69656234e+02 1.69519449e+02 1.66321596e+02 1.64955411e+02\n",
      " 1.61655780e+02 1.59793385e+02 1.56263995e+02 1.55384480e+02\n",
      " 1.53458495e+02 1.51041777e+02 1.48129260e+02 1.42118058e+02\n",
      " 1.40964000e+02 1.38464837e+02 1.37753315e+02 1.36058851e+02\n",
      " 1.32732510e+02 1.29925700e+02 1.26086729e+02 1.23095328e+02\n",
      " 1.21694885e+02 1.15964720e+02 1.15564967e+02 1.07287250e+02\n",
      " 1.04033562e+02 9.45415440e+01 8.58344854e+01 3.05809140e-12] (416,)\n"
     ]
    }
   ],
   "source": [
    "# Now we compute the eigenvalues and eigenvectors of the new covariance matrix and measure the elapsed time\n",
    "\n",
    "start_ld = time.time()\n",
    "eigvals_ld, eigvecs_ld = np.linalg.eig(cov_ld) # these are not ordered, so we order them and the corresponding eigenvalues\n",
    "end_ld = time.time()\n",
    "print (end_ld-start_ld)\n",
    "print (end-start)\n",
    "\n",
    "# Taking the real part of the eigenvalues (complex eigenvalues are the result of calculation rounding errors, because the covariance matrix is symmetric)\n",
    "\n",
    "eigvals_ld = np.real(eigvals_ld)\n",
    "eigvecs_ld = np.real(eigvecs_ld)\n",
    "\n",
    "# Order eigenvalues and eigenvectors according to the size of the eigenvalues\n",
    "\n",
    "index_ld = abs(eigvals_ld).argsort()[::-1] # argsort returns the indices that would sort an array (in this case the vector eigvals)\n",
    "eigvals_ld = eigvals_ld[index_ld]\n",
    "eigvecs_ld = eigvecs_ld[:,index_ld]\n",
    "print (eigvals_ld, eigvals_ld.shape)"
   ]
  },
  {
   "cell_type": "code",
   "execution_count": 13,
   "metadata": {},
   "outputs": [
    {
     "name": "stdout",
     "output_type": "stream",
     "text": [
      "415\n",
      "0\n",
      "415\n",
      "949883.240023101\n",
      "85.83448543784219\n",
      "3.0580914029784136e-12\n"
     ]
    },
    {
     "data": {
      "image/png": "[encoded data removed]",
      "text/plain": [
       "<Figure size 432x288 with 1 Axes>"
      ]
     },
     "metadata": {
      "needs_background": "light"
     },
     "output_type": "display_data"
    },
    {
     "data": {
      "image/png": "[encoded data removed]",
      "text/plain": [
       "<Figure size 432x288 with 1 Axes>"
      ]
     },
     "metadata": {
      "needs_background": "light"
     },
     "output_type": "display_data"
    },
    {
     "data": {
      "image/png": "[encoded data removed]",
      "text/plain": [
       "<Figure size 432x288 with 1 Axes>"
      ]
     },
     "metadata": {
      "needs_background": "light"
     },
     "output_type": "display_data"
    },
    {
     "data": {
      "image/png": "[encoded data removed]",
      "text/plain": [
       "<Figure size 432x288 with 1 Axes>"
      ]
     },
     "metadata": {
      "needs_background": "light"
     },
     "output_type": "display_data"
    },
    {
     "data": {
      "text/plain": [
       "<Figure size 432x288 with 0 Axes>"
      ]
     },
     "metadata": {},
     "output_type": "display_data"
    }
   ],
   "source": [
    "# How many zero eigenvalues do we have this time?\n",
    "\n",
    "print (np.linalg.matrix_rank(cov_ld)) # We should have 2576 - 415 = 2161 zero eigenvalues\n",
    "print ((eigvals_ld == np.zeros(eigvals_ld.shape)).sum()) # The rounding errors will give 0 eigenvalues that are precisely zero\n",
    "print ((abs(eigvals_ld) >= np.ones(eigvals_ld.shape)/100000).sum()) # However there are 415 eigenvalues that are larger than 1e-05, which can be considered zero eigenvectors.\n",
    "print (eigvals_ld.max()) # The largest eigenvalue\n",
    "print (eigvals_ld[414])\n",
    "print (eigvals_ld[415])\n",
    "\n",
    "# Let's visualise the eigenvalues\n",
    "\n",
    "x = np.arange(0, 416)\n",
    "\n",
    "# All of them\n",
    "plt.plot(x, eigvals_ld) # Clearly out of scale\n",
    "plt.title('All eigenvalues of the covariance matrix')\n",
    "plt.figure()\n",
    "\n",
    "# First 415 of them\n",
    "plt.plot(x[:415], eigvals_ld[:415]) # Still out of scale\n",
    "plt.title('First 415 eigenvalues of the covariance matrix')\n",
    "plt.figure()\n",
    "\n",
    "# First 200 of them\n",
    "plt.plot(x[:200], eigvals_ld[:200])\n",
    "plt.title('First 200 eigenvalues of the covariance matrix')\n",
    "plt.figure()\n",
    "\n",
    "# First 20 of them\n",
    "plt.plot(x[:20], eigvals_ld[:20])\n",
    "plt.title('First 20 eigenvalues of the covariance matrix')\n",
    "plt.figure()\n",
    "\n",
    "plt.show()"
   ]
  },
  {
   "cell_type": "code",
   "execution_count": 14,
   "metadata": {
    "scrolled": false
   },
   "outputs": [
    {
     "name": "stdout",
     "output_type": "stream",
     "text": [
      "[-4.65661287e-10 -3.49245965e-10  9.89530236e-10 -5.52972779e-10\n",
      " -8.73114914e-11 -6.98491931e-10  2.32830644e-10 -4.07453626e-10\n",
      " -1.01863407e-10 -1.01863407e-10 -2.32830644e-10  1.38243195e-10\n",
      "  2.18278728e-11  4.22005542e-10  1.23691279e-10 -2.91038305e-11\n",
      "  3.20142135e-10  8.73114914e-11 -1.89174898e-10  4.87489160e-10\n",
      "  1.38243195e-10  1.12777343e-10  1.45519152e-11 -5.45696821e-11\n",
      "  1.45519152e-11  1.23691279e-10 -1.81898940e-10  5.45696821e-11\n",
      " -4.00177669e-11 -2.14640750e-10  9.45874490e-11  0.00000000e+00\n",
      " -1.81898940e-11 -9.09494702e-12 -1.07320375e-10  7.45785655e-11\n",
      " -2.72848411e-11  2.54658516e-11 -2.36468622e-11 -5.45696821e-12\n",
      " -6.54836185e-11  5.27506927e-11  1.09139364e-11 -1.20053301e-10\n",
      " -1.27329258e-11 -5.45696821e-12 -5.45696821e-11 -6.18456397e-11\n",
      " -4.72937245e-11 -3.09228199e-11  1.81898940e-11 -2.91038305e-11\n",
      "  4.36557457e-11  6.00266503e-11  3.91082722e-11  1.54614099e-11\n",
      " -5.45696821e-11  2.00088834e-11 -2.45563569e-11 -1.63709046e-11\n",
      " -2.72848411e-12 -1.09139364e-11 -2.09183781e-11 -6.18456397e-11\n",
      "  5.45696821e-12 -3.45607987e-11  3.81987775e-11 -1.00044417e-11\n",
      " -9.09494702e-13  1.45519152e-11  1.81898940e-11  2.72848411e-12\n",
      "  1.00044417e-11  2.54658516e-11  4.27462510e-11 -5.36601874e-11\n",
      " -2.54658516e-11 -8.18545232e-12 -3.00133252e-11  3.63797881e-12\n",
      "  8.18545232e-12  4.72937245e-11  1.54614099e-11 -4.54747351e-12\n",
      " -2.54658516e-11 -1.36424205e-11  4.54747351e-12 -5.45696821e-12\n",
      "  1.09139364e-11 -7.73070497e-12 -6.82121026e-12 -7.73070497e-12\n",
      " -6.82121026e-12 -2.54658516e-11 -1.40971679e-11  3.63797881e-12\n",
      "  4.09272616e-12  3.59250407e-11 -1.36424205e-12 -1.63709046e-11\n",
      "  9.54969437e-12 -5.00222086e-12 -5.91171556e-12  7.73070497e-12\n",
      "  9.09494702e-13  1.68256520e-11 -1.09139364e-11  1.22781785e-11\n",
      "  1.09139364e-11  8.64019967e-12  4.54747351e-13  1.22781785e-11\n",
      "  8.18545232e-12 -1.81898940e-12 -1.00044417e-11 -9.09494702e-13\n",
      "  9.54969437e-12  1.13686838e-11 -5.91171556e-12  4.09272616e-12\n",
      "  7.27595761e-12  1.54614099e-11 -3.18323146e-12  4.54747351e-12\n",
      "  1.27329258e-11  3.18323146e-12 -1.81898940e-12  2.72848411e-12\n",
      " -1.00044417e-11 -1.86446414e-11 -1.36424205e-12 -4.54747351e-12\n",
      "  3.63797881e-12 -9.09494702e-13  8.86757334e-12  1.11413101e-11\n",
      "  8.86757334e-12 -2.27373675e-12 -3.86535248e-12 -7.73070497e-12\n",
      "  1.02318154e-11  7.95807864e-12 -7.50333129e-12 -4.77484718e-12\n",
      "  7.73070497e-12  4.77484718e-12 -1.70530257e-11 -4.54747351e-12\n",
      "  3.86535248e-12  4.32009983e-12 -1.27329258e-11 -2.27373675e-13\n",
      "  6.36646291e-12 -2.27373675e-12  9.54969437e-12 -4.54747351e-13\n",
      "  5.91171556e-12  7.27595761e-12  8.41282599e-12  3.18323146e-12\n",
      " -4.09272616e-12 -1.77351467e-11  6.59383659e-12 -7.95807864e-12\n",
      "  6.82121026e-13 -1.18234311e-11 -1.36424205e-11  0.00000000e+00\n",
      "  1.13686838e-11  9.09494702e-13  4.54747351e-13 -9.09494702e-13\n",
      " -2.72848411e-12 -9.09494702e-13  7.27595761e-12 -1.36424205e-12\n",
      "  5.68434189e-12  8.86757334e-12 -5.22959454e-12  7.27595761e-12\n",
      " -4.54747351e-13  7.73070497e-12 -9.09494702e-13 -7.04858394e-12\n",
      "  3.86535248e-12 -9.54969437e-12  1.00044417e-11 -2.72848411e-12\n",
      "  2.27373675e-13 -1.15960574e-11 -6.59383659e-12 -3.63797881e-12\n",
      "  4.54747351e-13  2.04636308e-12  2.95585778e-12  6.82121026e-13\n",
      "  2.95585778e-12 -2.27373675e-12  1.81898940e-12 -7.27595761e-12\n",
      " -5.22959454e-12 -9.09494702e-13  3.63797881e-12  6.82121026e-13\n",
      "  6.82121026e-13  1.59161573e-12  6.13908924e-12 -3.29691829e-12\n",
      "  1.02318154e-12 -5.79802872e-12  6.48014975e-12  6.36646291e-12\n",
      "  1.13686838e-13  5.79802872e-12  6.93489710e-12 -2.95585778e-12\n",
      "  6.82121026e-12 -5.11590770e-12 -4.54747351e-13 -1.13686838e-12\n",
      "  7.61701813e-12  2.04636308e-12 -1.70530257e-12  7.84439180e-12\n",
      " -6.82121026e-13  6.82121026e-13 -4.54747351e-13  1.25055521e-12\n",
      " -2.50111043e-12 -2.38742359e-12  2.27373675e-13  4.66116035e-12\n",
      "  4.32009983e-12  1.59161573e-12  1.59161573e-12 -5.22959454e-12\n",
      "  3.18323146e-12  3.41060513e-12  3.97903932e-12 -2.38742359e-12\n",
      " -5.91171556e-12 -1.93267624e-12 -2.27373675e-13  2.04636308e-12\n",
      "  3.86535248e-12  3.86535248e-12 -6.25277607e-12  2.38742359e-12\n",
      "  1.70530257e-12  9.09494702e-13 -3.63797881e-12  1.25055521e-12\n",
      " -2.04636308e-12 -1.81898940e-12 -2.72848411e-12 -2.16004992e-12\n",
      "  7.95807864e-13 -1.13686838e-12 -1.70530257e-12  0.00000000e+00\n",
      " -3.41060513e-13  3.63797881e-12 -1.02318154e-12 -3.29691829e-12\n",
      " -2.84217094e-12  4.66116035e-12  2.04636308e-12 -2.27373675e-13\n",
      "  2.72848411e-12  1.70530257e-12  4.43378667e-12  2.27373675e-13\n",
      " -2.04636308e-12  1.25055521e-12  2.16004992e-12  6.82121026e-13\n",
      "  1.47792889e-12 -6.13908924e-12 -7.95807864e-13  2.27373675e-12\n",
      " -8.07176548e-12  7.95807864e-13 -1.08002496e-12  3.46744855e-12\n",
      " -1.87583282e-12 -1.08002496e-12 -2.84217094e-12 -1.70530257e-13\n",
      " -9.66338121e-13  2.61479727e-12  3.41060513e-13 -2.27373675e-13\n",
      "  2.95585778e-12  1.13686838e-12  4.03588274e-12 -2.72848411e-12\n",
      " -3.29691829e-12  5.68434189e-13 -1.36424205e-12 -5.68434189e-13\n",
      "  4.26325641e-12  2.04636308e-12 -2.44426701e-12  1.70530257e-12\n",
      " -1.25055521e-12 -2.04636308e-12 -7.95807864e-13  9.66338121e-13\n",
      " -1.70530257e-13  2.27373675e-13  4.60431693e-12  1.87583282e-12\n",
      "  1.13686838e-13  5.68434189e-14  5.11590770e-13 -3.41060513e-13\n",
      "  1.47792889e-12  0.00000000e+00  1.42108547e-12  0.00000000e+00\n",
      "  2.44426701e-12  2.10320650e-12  1.13686838e-13 -1.08002496e-12\n",
      "  1.08002496e-12 -3.18323146e-12  1.76214598e-12 -7.38964445e-13\n",
      " -5.68434189e-13  2.33058017e-12 -3.29691829e-12  1.25055521e-12\n",
      "  5.68434189e-13 -1.47792889e-12  2.67164069e-12 -1.36424205e-12\n",
      " -2.84217094e-13  1.42108547e-12  2.10320650e-12 -3.29691829e-12\n",
      " -6.02540240e-12 -1.81898940e-12  2.72848411e-12  5.68434189e-14\n",
      " -3.41060513e-13 -4.20641300e-12  9.66338121e-13 -1.64845915e-12\n",
      " -7.38964445e-13  1.19371180e-12 -5.68434189e-14  1.02318154e-12\n",
      " -1.81898940e-12  1.08002496e-12  2.27373675e-13 -4.26325641e-13\n",
      " -1.08002496e-12 -4.54747351e-13  4.54747351e-13  1.13686838e-13\n",
      "  9.09494702e-13  3.21165317e-12  2.21689334e-12  4.83169060e-13\n",
      " -3.55271368e-12  2.84217094e-14 -1.76214598e-12 -7.38964445e-13\n",
      "  1.67688086e-12 -1.56319402e-12  1.13686838e-13  3.80850906e-12\n",
      "  9.37916411e-13  6.82121026e-13 -1.90425453e-12 -4.09272616e-12\n",
      " -3.12638804e-12 -6.53699317e-13  1.53477231e-12  1.76214598e-12\n",
      " -3.09796633e-12 -1.02318154e-12 -1.53477231e-12 -2.27373675e-13\n",
      " -4.54747351e-13  9.94759830e-13 -3.09796633e-12  5.11590770e-13\n",
      " -2.24531505e-12 -1.64845915e-12 -1.16529009e-12 -4.83169060e-13\n",
      " -1.67688086e-12 -8.81072992e-13 -2.35900188e-12  1.10844667e-12\n",
      "  3.95061761e-12 -1.16529009e-12 -1.90425453e-12 -2.98427949e-12\n",
      "  1.70530257e-13 -1.10844667e-12 -2.75690581e-12 -1.13686838e-12\n",
      "  1.05160325e-12  1.05160325e-12  2.81374923e-12  5.54223334e-13\n",
      " -1.87583282e-12  2.14583906e-12  2.68585154e-12 -8.66862138e-13\n",
      " -2.07478479e-12 -2.57216470e-12 -4.97379915e-13  3.40828280e-11] (416,)\n",
      "[[-6.24500451e-17 -2.42861287e-16  1.14491749e-16 ...  1.35239042e-14\n",
      "   6.61276589e-15 -3.32254275e-02]\n",
      " [ 3.01841885e-16  7.11236625e-17  3.05311332e-16 ... -5.33774414e-15\n",
      "   5.85989590e-15 -4.63766666e-02]\n",
      " [-1.17961196e-16 -3.64291930e-17  3.57353036e-16 ...  1.66394676e-14\n",
      "  -2.69922973e-15 -3.31989941e-02]\n",
      " ...\n",
      " [ 6.93889390e-18 -1.31838984e-16  2.39391840e-16 ...  6.21724894e-15\n",
      "   3.74700271e-15 -1.15853246e-02]\n",
      " [ 9.54097912e-18 -1.52655666e-16  2.55004351e-16 ...  5.99346961e-15\n",
      "  -1.24483757e-14 -1.34006064e-02]\n",
      " [ 1.47451495e-17 -1.59594560e-16  2.44596010e-16 ...  4.33333924e-15\n",
      "   4.21884749e-15  2.50220245e-04]]\n"
     ]
    }
   ],
   "source": [
    "# What is the relationship between the eigenvalues and the eigenvectors resulting from the two methods\n",
    "\n",
    "print (eigvals[:416]-eigvals_ld, (eigvals[:416]-eigvals_ld).shape)\n",
    "# The results are zero therefore the eigenvalues are identical\n",
    "\n",
    "eigvecs_ld_cmp = np.dot(pca_train_norm.T, eigvecs_ld)\n",
    "eigvecs_ld_cmp = eigvecs_ld_cmp/np.linalg.norm(eigvecs_ld_cmp,axis=0)\n",
    "print (abs(eigvecs[:, :416])-abs(eigvecs_ld_cmp))\n",
    "# Note that the values that correspond to the non-zero eigenvalues are zero.\n",
    "# This means that the direction of the eigenvectors corresponding to the nonzero eigenvalues are the same!"
   ]
  },
  {
   "cell_type": "code",
   "execution_count": 15,
   "metadata": {},
   "outputs": [
    {
     "name": "stdout",
     "output_type": "stream",
     "text": [
      "The high dimensional method uses 202.46484375 MiB more than the low dimensional method\n"
     ]
    }
   ],
   "source": [
    "# Investigating the memory usage of calculating the eigenvalues and eigenvectors using the different methods\n",
    "\n",
    "def highdimension():\n",
    "    eigvals_hd_mem, eigvecs_hd_mem = np.linalg.eig(cov)\n",
    "    return\n",
    "\n",
    "def lowdimension():\n",
    "    eigvals_ld_mem, eigvecs_ld_mem = np.linalg.eig(cov_ld)\n",
    "    return\n",
    "\n",
    "mem = max(memory_usage(proc=highdimension))-max(memory_usage(proc=lowdimension))\n",
    "\n",
    "print(\"The high dimensional method uses {0} MiB more than the low dimensional method\".format(str(mem)))\n",
    "\n",
    "# Important! This checks how much memory is used by the entire program while the specified processes are running.\n",
    "# Therefore to get useful information out of the calcaultions, we need to take the difference between the two memory usages calculated!"
   ]
  },
  {
   "cell_type": "raw",
   "metadata": {},
   "source": [
    "Reconstruction"
   ]
  },
  {
   "cell_type": "code",
   "execution_count": 16,
   "metadata": {
    "scrolled": false
   },
   "outputs": [
    {
     "name": "stdout",
     "output_type": "stream",
     "text": [
      "1239.087702684599\n",
      "528.7633640222958\n",
      "3.00361782693097e-10\n"
     ]
    },
    {
     "data": {
      "text/plain": [
       "Text(0.5,1,'Reconstruction error vs the number of PCA bases used')"
      ]
     },
     "execution_count": 16,
     "metadata": {},
     "output_type": "execute_result"
    },
    {
     "data": {
      "image/png": "[encoded data removed]",
      "text/plain": [
       "<Figure size 432x288 with 1 Axes>"
      ]
     },
     "metadata": {
      "needs_background": "light"
     },
     "output_type": "display_data"
    },
    {
     "data": {
      "image/png": "[encoded data removed]",
      "text/plain": [
       "<Figure size 432x288 with 1 Axes>"
      ]
     },
     "metadata": {
      "needs_background": "light"
     },
     "output_type": "display_data"
    },
    {
     "data": {
      "image/png": "[encoded data removed]",
      "text/plain": [
       "<Figure size 432x288 with 1 Axes>"
      ]
     },
     "metadata": {
      "needs_background": "light"
     },
     "output_type": "display_data"
    },
    {
     "data": {
      "image/png": "[encoded data removed]",
      "text/plain": [
       "<Figure size 432x288 with 1 Axes>"
      ]
     },
     "metadata": {
      "needs_background": "light"
     },
     "output_type": "display_data"
    },
    {
     "data": {
      "image/png": "[encoded data removed]",
      "text/plain": [
       "<Figure size 432x288 with 1 Axes>"
      ]
     },
     "metadata": {
      "needs_background": "light"
     },
     "output_type": "display_data"
    }
   ],
   "source": [
    "# Let's investigate the reconstruction error of a picture using different number of PCA bases\n",
    "# The less bases we take, the worse the quality of the reconstructed picture will be, because we lose more and more information\n",
    "\n",
    "# Print the original image\n",
    "plt.imshow(np.reshape(pca_train[0, :], (46,56)).T, cmap = 'gist_gray') # Show original face\n",
    "plt.title('The original image')\n",
    "\n",
    "\n",
    "reconst_bases = np.arange(1, 700, 10)\n",
    "reconst_errors = np.zeros(reconst_bases.shape)\n",
    "k=0\n",
    "for i in reconst_bases:\n",
    "    \n",
    "    # Take the i largest eigenvalues and their corresponding eigenvectors\n",
    "    eigvecs_rec = eigvecs[:, :i]\n",
    "    eigvals_rec = eigvals[:i]\n",
    "    \n",
    "    # Project the training image to the space spanned by these eigenvectors\n",
    "    proj_pca_train_norm_rec = np.dot(pca_train_norm[0, :], eigvecs_rec)\n",
    "    # Now in array proj_pca_train_norm_rec we have the projected coordinates for the face image\n",
    "    \n",
    "    # Reconstruct the face using the PCA bases\n",
    "    face_reconst_rec = avg_face + np.dot(eigvecs_rec, proj_pca_train_norm_rec)\n",
    "    \n",
    "    # Calculate the reconstruction error and save it in an array\n",
    "    reconst_errors[k] = np.linalg.norm(face_reconst_rec-pca_train[0, :])\n",
    "    k = k+1\n",
    "    \n",
    "    if (i==21 or i==101 or i==501):\n",
    "        print (reconst_errors[k-1])\n",
    "        plt.figure()\n",
    "        plt.title('Image when {0} PCA bases are used'.format(str(i)))\n",
    "        plt.imshow(np.reshape(face_reconst_rec, (46,56)).T, cmap = 'gist_gray') # Show reconstructed faces\n",
    "\n",
    "plt.figure()\n",
    "plt.plot(reconst_bases, reconst_errors)\n",
    "plt.title('Reconstruction error vs the number of PCA bases used')\n",
    "\n",
    "#plt.savefig('the_best_plot.pdf')"
   ]
  },
  {
   "cell_type": "markdown",
   "metadata": {},
   "source": [
    "Testing"
   ]
  },
  {
   "cell_type": "code",
   "execution_count": 17,
   "metadata": {},
   "outputs": [
    {
     "name": "stdout",
     "output_type": "stream",
     "text": [
      "[[ 1.54982290e+03  4.65219895e+02 -5.01003088e+02 ...  6.91905231e+01\n",
      "   7.04236935e+01 -3.97102467e+01]\n",
      " [-1.37895553e+02  5.21212906e+02 -8.44192040e+02 ...  1.36602886e+02\n",
      "  -4.19700771e+01  5.86603588e-01]\n",
      " [ 3.72360854e+02  2.54054008e+02  9.95705505e+01 ... -7.38223690e+01\n",
      "  -9.14467681e+00 -9.62469760e+00]\n",
      " ...\n",
      " [-5.07371330e+02 -1.05557821e+03  6.46093905e+02 ...  7.48631221e+00\n",
      "   2.09906216e+01  6.63577280e+01]\n",
      " [-9.29805451e+02  2.59649307e+02  1.03466139e+03 ...  1.15870875e+01\n",
      "   2.04411005e+01 -1.57216361e+01]\n",
      " [-2.71439774e+02 -1.94947828e+02 -3.65676396e+02 ... -5.22587131e+01\n",
      "   2.59218879e+01 -6.91605260e+01]] (104, 50)\n"
     ]
    }
   ],
   "source": [
    "# Now that we've trained our model, let's test it on our testing data set\n",
    "# First, let's normalise the testing set (subtract the average face from all face images)\n",
    "\n",
    "pca_test_norm = pca_test-avg_face # Works because of broadcasting\n",
    "\n",
    "# Then let's project each testing image to the eigenspace (space spanned by the best n eigenvectors)\n",
    "proj_pca_test_norm = np.zeros((104, n))\n",
    "for i in range(104):\n",
    "    proj_pca_test_norm [i, :] = np.dot(pca_test_norm[i, :], eigvecs_best)\n",
    "\n",
    "print (proj_pca_test_norm, proj_pca_test_norm.shape)\n",
    "\n",
    "# Now in array proj_pca_test_norm, in each row, we have the projected coordinates for each face image"
   ]
  },
  {
   "cell_type": "code",
   "execution_count": 18,
   "metadata": {
    "scrolled": false
   },
   "outputs": [
    {
     "name": "stdout",
     "output_type": "stream",
     "text": [
      "1152.1661349708081 57\n",
      "3\n",
      "4\n"
     ]
    },
    {
     "data": {
      "text/plain": [
       "<matplotlib.image.AxesImage at 0x1243ac0f0>"
      ]
     },
     "execution_count": 18,
     "metadata": {},
     "output_type": "execute_result"
    },
    {
     "data": {
      "image/png": "[encoded data removed]",
      "text/plain": [
       "<Figure size 432x288 with 1 Axes>"
      ]
     },
     "metadata": {
      "needs_background": "light"
     },
     "output_type": "display_data"
    },
    {
     "data": {
      "image/png": "[encoded data removed]",
      "text/plain": [
       "<Figure size 432x288 with 1 Axes>"
      ]
     },
     "metadata": {
      "needs_background": "light"
     },
     "output_type": "display_data"
    }
   ],
   "source": [
    "# Let's classify the first image\n",
    "\n",
    "# Print our actual image\n",
    "plt.imshow(np.reshape(pca_test[0, :], (46,56)).T, cmap = 'gist_gray')\n",
    "\n",
    "# How far is the image from each of the testing points?\n",
    "distance = np.zeros(416)\n",
    "for i in range(416):\n",
    "    distance[i] = np.linalg.norm(proj_pca_train_norm[i, :]-proj_pca_test_norm[0, :])\n",
    "print (distance.min(), distance.argmin())\n",
    "\n",
    "# Which identity does our picture belong to according to the learning set?\n",
    "print (training[distance.argmin(), 2576])\n",
    "# Which identity does it actually belong to?\n",
    "print (test[0, 2576])\n",
    "\n",
    "# Print the picture that our picture is the closest to\n",
    "plt.figure()\n",
    "plt.imshow(np.reshape(pca_train[distance.argmin(), :], (46,56)).T, cmap = 'gist_gray')"
   ]
  },
  {
   "cell_type": "code",
   "execution_count": 19,
   "metadata": {},
   "outputs": [
    {
     "name": "stdout",
     "output_type": "stream",
     "text": [
      "[ 4 14 38 39 33 14 41  7 18 49 25  8 46  7 42 35 21 31 31 14 16 22  3 52\n",
      " 51 30 12 26 11 37 34  3 38 29  9 34 37 12  1  9 32  5 16 52 12  9  2 43\n",
      "  2 14 48  1 46  6  4 23 37 22  8 33  6  5 47 12 48 28 17 38 15  1 10 14\n",
      " 11 29  6 32 23 25 24 27 40 47 30 44 23 39  8 20  2 33 48 42  1 39  5 15\n",
      " 49 18 37 22 39 17 35 23] (104,)\n",
      "[ 3 15 52 39 33 22 41  1 18 49 25  8 46  7 49 35 21 31 28 20 16 24  3 13\n",
      " 51 30 12 26 48 37 35 16 26 29  9 40 37 12  1  9 32  5 25 29 12  9  5 36\n",
      " 40 20 36 24 46  6  4 23 37 22  8 47 49  5 47 12 48 28 17 10 15  1 10 15\n",
      " 12 11 19 34 23 29 24 25 32 47 30 25  3 39  8 20 40  1 48 42  1 37  5 15\n",
      " 49 14 37 17 39 47 40 23] (104,)\n",
      "0.5865384615384616\n"
     ]
    }
   ],
   "source": [
    "# Now let's do this for all of the testing images\n",
    "\n",
    "distances = np.zeros((416, 104)) # In each row we store the distances from a particular training smaple (1 column = 1 testing image's distances)\n",
    "\n",
    "for k in range (104):\n",
    "    for i in range(416):\n",
    "        distances[i, k] = np.linalg.norm(proj_pca_train_norm[i, :]-proj_pca_test_norm[k, :])\n",
    "        \n",
    "# Now we have in each column the distances of the testing images from each of the training images.\n",
    "\n",
    "# Next step is to find the minimum of each column, and the corresponding row index (per column)\n",
    "smallest_distance = distances.min(axis=0) # min per columns\n",
    "smallest_index = distances.argmin(axis=0) # min is at which index\n",
    "\n",
    "# Put the actual test labels into a vector\n",
    "actual_label = test [:, 2576].T\n",
    "print (actual_label, actual_label.shape)\n",
    "\n",
    "# Which identity does it belong to according to the learning set?\n",
    "print (training[smallest_index, 2576], training[smallest_index, 2576].shape)\n",
    "\n",
    "is_it_same = (training[smallest_index, 2576]==actual_label)\n",
    "percentage_nn = np.sum(is_it_same)/104\n",
    "print (percentage_nn)"
   ]
  },
  {
   "cell_type": "code",
   "execution_count": 20,
   "metadata": {},
   "outputs": [
    {
     "name": "stdout",
     "output_type": "stream",
     "text": [
      "[[ 598288.43518519  -63572.12037037 -271295.81481481 -103620.2037037\n",
      "  -275583.37037037  115783.07407407]\n",
      " [ -63572.12037037  196377.49074074 -189198.7037037    76186.07407407\n",
      "  -131377.42592593  111584.68518519]\n",
      " [-271295.81481481 -189198.7037037   602071.26851852 -117152.28703704\n",
      "   274547.71296296 -298972.17592593]\n",
      " [-103620.2037037    76186.07407407 -117152.28703704  234827.99074074\n",
      "   -81338.17592593   -8903.39814815]\n",
      " [-275583.37037037 -131377.42592593  274547.71296296  -81338.17592593\n",
      "   441137.32407407 -227386.06481481]\n",
      " [ 115783.07407407  111584.68518519 -298972.17592593   -8903.39814815\n",
      "  -227386.06481481  307893.87962963]] (6, 6)\n",
      "[[ 1304.59951585 -1341.37294624    62.84031222  -277.69308538\n",
      "     86.06380747]\n",
      " [  498.42333924   768.99011207    19.67180493   176.75791483\n",
      "    553.95215184]\n",
      " [-1683.36799542  -497.02643336   553.39107174   474.5263545\n",
      "    -15.73493708]\n",
      " [  190.69462867   787.04432236   544.5396123   -624.08297039\n",
      "   -259.1559268 ]\n",
      " [-1348.07860775   -36.41954641  -821.90763264  -390.66313327\n",
      "     -5.63809669]\n",
      " [ 1037.72911941   318.78449158  -358.53516855   641.15491971\n",
      "   -359.48699874]] (6, 5)\n",
      "[[ 0.02417235  0.01528942 -0.0147814   0.07356981  0.01741653]\n",
      " [ 0.02217096  0.01680916 -0.00939966  0.0661244   0.01056703]\n",
      " [ 0.02396524  0.02401802  0.00409923  0.03383724 -0.01830981]\n",
      " ...\n",
      " [-0.01625671 -0.00536896  0.00799914  0.00856852  0.03350378]\n",
      " [-0.02172898 -0.00764419  0.00470737  0.00936041  0.03753888]\n",
      " [-0.02079559 -0.00930434 -0.00486257  0.00331056  0.04307912]] (2576, 5)\n",
      "2.1054827236125758e-12\n",
      "[[-46.83333333 -32.66666667 -57.66666667 ... 100.         159.83333333\n",
      "  131.83333333]\n",
      " [ -3.83333333  -4.66666667   2.33333333 ... -22.         -28.16666667\n",
      "  -28.16666667]\n",
      " [ 15.16666667  17.33333333  16.33333333 ...  -1.           8.83333333\n",
      "   11.83333333]\n",
      " ...\n",
      " [  2.16666667   6.33333333  22.33333333 ...  86.          74.83333333\n",
      "   74.83333333]\n",
      " [  7.16666667  -5.66666667   4.33333333 ...  12.           6.83333333\n",
      "    7.83333333]\n",
      " [-10.83333333 -10.66666667  -9.66666667 ...  52.          57.83333333\n",
      "   55.83333333]] (104, 2576)\n",
      "[[-6.95592156e+02 -8.67075368e+02  2.92829983e+02 -2.22716188e+02\n",
      "   1.04767507e+02]\n",
      " [ 5.94579679e+02 -1.79000570e+02  5.64138583e+02  4.22960843e+02\n",
      "  -3.18676878e+00]\n",
      " [-5.96300901e+01 -3.38990460e+02 -3.30115499e+02 -3.38471046e+01\n",
      "   1.20944053e+02]\n",
      " [ 1.08470357e+03 -5.72634280e+02 -7.61355086e+02 -9.94635038e+01\n",
      "   4.96807717e+02]\n",
      " [ 4.39888155e+02  3.21280122e+01 -5.97603128e+02  3.89116335e+02\n",
      "  -2.69506708e+00]\n",
      " [ 3.94712147e+02 -4.77539396e+02 -1.33927676e+01 -3.22492592e+01\n",
      "   6.50131102e+01]\n",
      " [ 5.20167730e+02 -4.85910152e+02 -3.51355188e+02  2.78828194e+02\n",
      "   2.81972758e+02]\n",
      " [ 7.84613735e+00  1.18521073e+02 -2.70435387e+02 -5.23986958e+01\n",
      "  -9.35152144e-02]\n",
      " [-4.61822303e+02 -1.29946154e+03  5.34743579e+02  8.01523863e+01\n",
      "   1.76007883e+02]\n",
      " [-6.42673971e+02 -5.11599254e+02 -4.08153194e+02  1.13473925e+02\n",
      "  -7.56354612e+01]\n",
      " [ 1.10783150e+02 -5.37588891e+02 -3.77455406e+01  7.13151695e+02\n",
      "   4.28995400e+01]\n",
      " [-9.92474864e+02 -4.78587235e+02  1.11995106e+02 -3.26815116e+02\n",
      "   2.99159841e+02]\n",
      " [ 1.57274954e+03  1.33603844e+02 -1.14980019e+02  3.81920975e+02\n",
      "   1.42771562e+02]\n",
      " [-3.32958772e+02 -7.49969862e+02 -7.59330160e+02  2.07520624e+02\n",
      "   4.80182655e+01]\n",
      " [-6.58342149e+02 -5.67229357e+02 -7.24481129e+02 -1.08217796e+02\n",
      "   9.71690278e+01]\n",
      " [ 1.64478467e+03  3.63359890e+02  4.92659988e+02  2.51931587e+02\n",
      "  -3.27936560e+01]\n",
      " [-5.91352296e+02 -2.68429886e+02  4.23229692e+02  3.13240615e+02\n",
      "  -1.64643815e+02]\n",
      " [ 1.90472315e+02  4.68028101e+02  2.51208603e+01  8.10588184e+01\n",
      "   1.63988930e+02]\n",
      " [ 1.26053539e+03  4.05549158e+02 -1.70652372e+02  4.29960066e+01\n",
      "   3.12787835e+02]\n",
      " [-2.83592786e+02 -4.01783320e+02  1.39652765e+02  1.57462053e+02\n",
      "   1.55681843e+02]\n",
      " [-7.72606881e+02 -9.09327409e+02  4.52806223e+02  2.36554510e+01\n",
      "   1.89263619e+02]\n",
      " [-4.82912701e+02 -4.29561493e+02  4.57510338e+01 -1.15081199e+02\n",
      "  -1.49706062e+02]\n",
      " [ 1.81866401e+02  8.73098436e+02  3.54089561e+02 -2.63722981e+02\n",
      "  -1.25556272e+01]\n",
      " [ 3.81934060e+02  1.90449720e+02 -2.38940000e+02  1.79317687e+02\n",
      "   3.72833851e+02]\n",
      " [-4.46817465e+02 -2.07997909e+02 -3.91637792e+02 -7.77397385e+00\n",
      "  -2.19310093e+02]\n",
      " [ 1.52532388e+03  5.70853971e+02 -1.25877705e+02  5.63613562e+02\n",
      "  -5.91971926e+01]\n",
      " [ 1.48993432e+03  6.59913255e+01  1.28350012e+01  1.86488858e+02\n",
      "  -9.11627385e+01]\n",
      " [ 4.55311920e+02 -1.92120408e+02 -7.82348010e+02  1.77353116e+02\n",
      "  -1.20065522e+02]\n",
      " [ 7.58818368e+02 -3.23953636e+02 -5.37417083e+02 -4.87107280e+01\n",
      "   4.41699462e+01]\n",
      " [ 1.57986573e+03  8.41785236e+02  1.77083079e+02 -2.09755011e+02\n",
      "   5.35941732e+02]\n",
      " [ 4.23062845e+02 -4.43298391e+02  2.19845197e+02  2.59893473e+01\n",
      "   2.36580551e+02]\n",
      " [ 1.55739052e+02 -3.70028146e+02  8.32907031e+02 -3.54541650e+02\n",
      "   2.99961196e+01]\n",
      " [-5.02211226e+02  2.27296439e-01 -2.24308702e+02 -1.64718756e+02\n",
      "  -1.20319706e+02]\n",
      " [ 2.35286225e+02 -1.00674240e+02 -6.88049543e+01 -1.36383066e+02\n",
      "   1.59548357e+02]\n",
      " [ 6.55952987e+02 -4.61175454e+01  1.57542171e+02  3.26614836e+02\n",
      "   1.35623799e+02]\n",
      " [ 2.51372056e+03 -1.81126987e+02  6.45875564e+02  3.89983012e+01\n",
      "   5.16057476e+02]\n",
      " [ 1.40883853e+03  3.37468229e+02  3.93885116e+02 -5.29348579e+02\n",
      "   3.69561327e+02]\n",
      " [ 1.05497459e+03  5.48274523e+02  2.05646285e+02  1.42987644e+02\n",
      "  -2.31784647e+02]\n",
      " [ 2.51903901e+02  9.18545237e+02  1.32581366e+02 -1.93577351e+02\n",
      "   1.38356242e+02]\n",
      " [ 1.88179477e+03  7.01090673e+02  2.46856063e+02  3.97051225e+00\n",
      "   1.21793684e+02]\n",
      " [-3.26907559e+02 -5.38910199e+02  5.07361466e+01  2.64506514e+01\n",
      "   3.81385244e+02]\n",
      " [ 1.11029494e+03  1.34224844e+03  4.06474603e+02 -2.01834618e+02\n",
      "   3.31460787e+02]\n",
      " [ 1.05646074e+03  4.10897127e+02 -9.43044276e+01 -3.12440514e+00\n",
      "   2.98774253e+02]\n",
      " [-1.79518505e+02  5.41090909e+01 -3.16096602e+02  4.70496263e+01\n",
      "   3.15024595e+02]\n",
      " [-2.44286407e+02 -3.78476304e+02  1.66398924e+02 -3.22460190e+02\n",
      "  -9.93785426e+01]\n",
      " [ 2.32487109e+03  4.49338240e+02  1.08544977e+03 -1.28979011e+02\n",
      "   3.18769523e+02]\n",
      " [ 6.54278943e+02 -2.01236744e+02  2.44331189e+02  4.96216404e+02\n",
      "   1.82222977e+02]\n",
      " [ 3.08991582e+02 -3.21063264e+02 -3.45496671e+02 -6.75034318e+01\n",
      "   9.31068676e+01]\n",
      " [ 5.56371440e+02 -3.15355978e+01  2.08783236e+02  5.95428916e+02\n",
      "   3.14444401e+02]\n",
      " [ 1.62539608e+02 -3.22469718e+02  4.89442871e+02  3.26429589e+02\n",
      "   1.42060123e+02]\n",
      " [ 5.48918489e+02 -4.93290775e+02 -6.11271784e+02  1.38740411e+02\n",
      "   1.26301557e+02]\n",
      " [ 8.93296831e+02 -4.14006435e+02  4.01847141e+02 -1.45600472e+02\n",
      "   9.00228937e+00]\n",
      " [ 7.71263697e+02  1.10676811e+02  3.03015436e+02  1.67566667e+02\n",
      "   1.56173097e+02]\n",
      " [ 2.52360894e+02 -9.84221610e+02 -1.68129783e+02  3.76424652e+02\n",
      "   1.19115666e+02]\n",
      " [-1.65335348e+03 -1.29413315e+03 -2.81923574e+01 -1.75451820e+02\n",
      "   1.89274029e+02]\n",
      " [ 2.55661185e+02 -1.91343672e+02  1.16457193e+02 -1.48410868e+02\n",
      "   2.53043111e+01]\n",
      " [ 6.22304922e+02  2.76896215e+02  1.23039886e+02 -6.18659255e+01\n",
      "   2.31089608e+02]\n",
      " [ 1.13743172e+02 -3.07324127e+02  5.21762614e+02  1.84678838e+02\n",
      "  -1.53508995e+01]\n",
      " [ 1.62286660e+02 -5.49822470e+01  9.53072660e+02 -3.67790319e+02\n",
      "   2.81592620e+02]\n",
      " [ 4.65319794e+02 -8.91335956e+02 -1.75584532e+02 -5.67574137e+01\n",
      "  -3.14057718e+01]\n",
      " [-4.35051109e+02 -3.50146335e+02  2.93853824e+02 -1.13062198e+02\n",
      "  -1.22074225e+02]\n",
      " [ 1.66385788e+03  1.37786622e+03  1.85797841e+02  2.19319837e+02\n",
      "   6.56125422e+02]\n",
      " [ 6.63738581e+02  1.31690937e+02 -3.01259074e+02  3.77936222e+02\n",
      "  -1.81220786e+02]\n",
      " [-4.69389777e+01 -4.41623379e+02 -1.76599641e+02  1.11892556e+02\n",
      "   1.96863097e+01]\n",
      " [ 7.47906601e+02  4.24583655e+02 -2.65932945e+02  2.18492885e+02\n",
      "   7.84190472e+01]\n",
      " [ 1.98573150e+03  4.45048105e+02 -2.01756000e+02  1.11905516e+02\n",
      "   1.21592140e+02]\n",
      " [-2.86640469e+02 -8.18979872e+02 -3.05446167e+02  3.96194440e+02\n",
      "   9.66039633e+01]\n",
      " [-2.81535349e+02 -3.79973703e+02 -9.53302647e+02 -1.01087884e+02\n",
      "   3.53107317e+01]\n",
      " [ 3.17159762e+02 -1.89589719e+01  9.12625782e+01  2.11001470e+02\n",
      "  -1.88758703e+02]\n",
      " [-5.53952588e+02 -9.09512284e+02 -4.10824637e+02 -2.81660533e+02\n",
      "  -4.56246902e+01]\n",
      " [ 3.82781383e+02  8.04688843e+02 -4.03211460e+02  2.78455986e+01\n",
      "  -1.28731130e+02]\n",
      " [ 1.32522869e+02 -5.79316739e+02  1.79001293e+02  2.77826489e+02\n",
      "   1.88602546e+02]\n",
      " [ 6.13236026e+02  6.76285221e+01 -1.09003154e+02  8.01523783e+01\n",
      "   2.07983210e+02]\n",
      " [ 2.22652026e+02 -3.88071853e+02 -3.92576751e+02  2.53985004e+01\n",
      "   1.14041394e+02]\n",
      " [-3.54196311e+01 -4.30854804e+02  7.62080818e+01  1.70178095e+02\n",
      "  -6.65521261e+00]\n",
      " [ 1.26218196e+03  9.56296053e+02  1.03773119e+02  2.93896641e+02\n",
      "   2.47399387e+02]\n",
      " [-1.81107054e+01  5.51993438e+02  2.69921069e+02 -3.34699101e+02\n",
      "  -9.98864550e+01]\n",
      " [ 2.71599091e+02 -4.93410264e+02  1.49504135e+02 -9.32030228e+01\n",
      "  -6.38488382e+01]\n",
      " [-8.12695702e+02 -6.69616022e+02 -2.48029825e+02 -1.59236188e+02\n",
      "  -6.61173982e+01]\n",
      " [ 5.81869063e+01 -8.12641544e+02 -4.10017783e+02 -1.44548353e+02\n",
      "   7.63957571e+01]\n",
      " [ 1.25311005e+02 -3.76722753e+02 -2.16620098e+02  2.37054771e+02\n",
      "   2.98469279e+02]\n",
      " [-1.03727873e+02  3.43014334e+01  4.69451663e+01 -1.39419163e+02\n",
      "  -2.52464911e+02]\n",
      " [ 1.00185490e+03  2.83433730e+02  4.54069410e+01  1.70651585e+02\n",
      "  -2.41898514e+02]\n",
      " [ 3.97632086e+01  4.50768363e+02 -1.77841736e+02 -7.57663427e+01\n",
      "   4.36793056e+01]\n",
      " [-1.61134028e+02  1.36933343e+02  1.56874243e+02 -2.18630973e+02\n",
      "  -1.17136755e+02]\n",
      " [ 5.60566233e+02 -1.07587681e+03 -4.03193126e+02  1.72169167e+02\n",
      "   3.54294509e+02]\n",
      " [ 2.79091868e+02 -3.05919445e+02  1.11781618e+03 -1.75549244e+02\n",
      "   4.03740886e+02]\n",
      " [-6.42673037e+02  2.58808747e+02  2.19032077e+02 -1.60199202e+02\n",
      "   3.21917482e+02]\n",
      " [ 7.07737416e+02  2.53790574e+02  5.18118403e+02  3.81045895e+02\n",
      "   2.38783182e+02]\n",
      " [-5.12636744e+02  1.46501379e+02 -3.37953329e+02 -2.38859390e+02\n",
      "  -2.51658189e+02]\n",
      " [ 1.67341559e+02 -1.77791302e+01 -8.67583718e+01  9.13108725e+01\n",
      "   1.49609566e+02]\n",
      " [ 1.27265075e+03 -1.78208322e+00  3.74127911e+02 -1.59930988e+02\n",
      "  -3.20645993e+01]\n",
      " [-2.36654705e+02 -5.88018594e+02 -5.47908933e+02  5.62142675e+01\n",
      "  -5.70333173e+01]\n",
      " [ 9.60663985e+02  3.46501828e+02  4.32957601e+01 -1.49910913e+02\n",
      "   3.88862969e+02]\n",
      " [ 1.24570997e+03  1.26025318e+03  2.55635574e+02 -2.45563647e+02\n",
      "   4.50869409e+02]\n",
      " [-5.39986986e+02 -6.67212457e+02 -1.13648767e+02  1.69213857e+02\n",
      "   1.19357310e+02]\n",
      " [-5.10998764e+01  2.31566798e+02 -2.45081598e+02 -1.37712865e+02\n",
      "  -7.79896616e+01]\n",
      " [-1.64443291e+02  2.48496564e+01  3.72068411e+02  3.38331022e+01\n",
      "   2.02305395e+01]\n",
      " [ 4.51430977e+02  2.73714486e+02 -1.26556502e+02 -1.13695943e+02\n",
      "   3.21036690e+02]\n",
      " [ 1.58922063e+02 -3.94341106e+02  9.74656754e+01  6.59360560e+01\n",
      "   8.53264327e+01]\n",
      " [ 9.44486356e+02  2.82703156e+02  3.97064972e+02 -3.14273966e+02\n",
      "   5.42155818e+02]\n",
      " [ 8.53944969e+02  6.09291407e+02 -1.05004461e+02  2.76308509e+02\n",
      "  -9.77693588e+01]\n",
      " [ 7.86169741e+02  6.53340396e+02  7.75078552e+01 -9.02074353e+01\n",
      "   4.08274862e+02]\n",
      " [ 7.91603581e+02 -2.01554808e+02  9.02428493e+01  1.51930736e+02\n",
      "  -1.92820625e+02]] (104, 5)\n"
     ]
    },
    {
     "name": "stdout",
     "output_type": "stream",
     "text": [
      "[[1905.64982209 1992.22007457 1949.66009214 ... 2363.44332896\n",
      "  2247.69915904 2250.00672525]\n",
      " [2534.53753032 2225.30137056 2678.50562628 ... 2813.02872284\n",
      "  2545.18200865 2590.48925409]\n",
      " [1305.58428929 1908.77967934 2237.00497883 ... 2905.15621045\n",
      "  2205.95663609 2541.14915714]\n",
      " ...\n",
      " [2745.37464714 2791.08439422 2017.14398071 ... 2446.88798795\n",
      "  2031.20855958 2638.57487643]\n",
      " [1969.65283328 2044.53905989 1664.89179658 ... 2488.7738642\n",
      "  2765.09909254 2180.19437082]\n",
      " [2296.67234482 1968.07908373 1780.89050869 ... 2662.49094063\n",
      "  2383.93482683 2121.99425518]] (52, 104)\n",
      "[ 3 17 27 39 33 36 41  1 18 49 25 16 46  7  1 35 20 49 36  3 16 43  3 52\n",
      " 51 30 12 26 49 37 35  3 26 49  9 35 37 12  1  9 16  5 25 49 12  9 41 36\n",
      " 17 16 36  1 46  6  3 23 37 22  8  1 49  5 47 12 48 36 17 49 15  1 10 11\n",
      " 11 26 49 35 23 25  3 51 49 47 47  1 23 39  8 20 41  1 48 42  1 37  5 16\n",
      " 49 16 37 17 39 47 27 23]\n",
      "[ 4 14 38 39 33 14 41  7 18 49 25  8 46  7 42 35 21 31 31 14 16 22  3 52\n",
      " 51 30 12 26 11 37 34  3 38 29  9 34 37 12  1  9 32  5 16 52 12  9  2 43\n",
      "  2 14 48  1 46  6  4 23 37 22  8 33  6  5 47 12 48 28 17 38 15  1 10 14\n",
      " 11 29  6 32 23 25 24 27 40 47 30 44 23 39  8 20  2 33 48 42  1 39  5 15\n",
      " 49 18 37 22 39 17 35 23]\n",
      "0.5480769230769231\n"
     ]
    },
    {
     "data": {
      "image/png": "[encoded data removed]",
      "text/plain": [
       "<Figure size 432x288 with 1 Axes>"
      ]
     },
     "metadata": {
      "needs_background": "light"
     },
     "output_type": "display_data"
    },
    {
     "data": {
      "image/png": "[encoded data removed]",
      "text/plain": [
       "<Figure size 432x288 with 1 Axes>"
      ]
     },
     "metadata": {
      "needs_background": "light"
     },
     "output_type": "display_data"
    },
    {
     "data": {
      "image/png": "[encoded data removed]",
      "text/plain": [
       "<Figure size 432x288 with 1 Axes>"
      ]
     },
     "metadata": {
      "needs_background": "light"
     },
     "output_type": "display_data"
    },
    {
     "data": {
      "image/png": "[encoded data removed]",
      "text/plain": [
       "<Figure size 432x288 with 1 Axes>"
      ]
     },
     "metadata": {
      "needs_background": "light"
     },
     "output_type": "display_data"
    }
   ],
   "source": [
    "# Alternative method of face recognition: based on reconstruction errors per class\n",
    "\n",
    "# Create a list of arrays in each array put the training samples depending on their classes\n",
    "class_sets = []\n",
    "class_sets_labeled = []\n",
    "for i in range(52):\n",
    "    class_sets.append(training[i==(training[:,-1]-1),:2576])\n",
    "    class_sets_labeled.append(training[i==(training[:,-1]-1),:])\n",
    "    \n",
    "# Calculate the mean face of each class\n",
    "class_means = np.zeros((52,2576))\n",
    "for i in range(52):\n",
    "    class_means[i,:] = np.mean(class_sets[i], axis=0)\n",
    "\n",
    "# Show the mean image of one of the classes\n",
    "plt.figure()\n",
    "plt.imshow(np.reshape(class_means[0, :], (46,56)).T, cmap = 'gist_gray')\n",
    "\n",
    "# Now let's subtract the mean image per class from the training face images per class\n",
    "class_pca_train_norm = []\n",
    "for i in range(52):\n",
    "    class_pca_train_norm.append(class_sets[i]-class_means[i, :])\n",
    "\n",
    "plt.figure()\n",
    "plt.imshow(np.reshape(class_pca_train_norm[0][0, :], (46,56)).T, cmap = 'gist_gray') \n",
    "# Show the first normalised face image of the first class and notice that it is distorted\n",
    "\n",
    "# Computing the covariance matrix for each class, using the low dimensional method\n",
    "class_cov = []\n",
    "for i in range(52):\n",
    "    class_cov.append(np.dot(class_pca_train_norm[i], class_pca_train_norm[i].T)/(class_sets[i].shape[0]))\n",
    "print (class_cov[0], class_cov[0].shape)\n",
    "\n",
    "# Computing the eigenvalues and eigenvectors of the covariance matrices per class and measuring how long it takes, using the low dimensional method\n",
    "\n",
    "# measure how long it takes!!!\n",
    "\n",
    "n = 5 # Needs to be less or equal to the sample size of the smallest class\n",
    "\n",
    "class_projected = []\n",
    "class_eigvecs = []\n",
    "for i in range(52):\n",
    "    number_of_samples = class_sets[i].shape[0]\n",
    "    eigvals_tmp, eigvecs_tmp = np.linalg.eig(class_cov[i]) # these are not ordered, so we need to order them according to the eigenvalues\n",
    "    # Taking the real part of the eigenvalues (complex eigenvalues are the result of calculation rounding errors, because the covariance matrix is symmetric)\n",
    "    eigvals_tmp = np.real(eigvals_tmp)\n",
    "    eigvecs_tmp = np.real(eigvecs_tmp)\n",
    "    \n",
    "    # Order eigenvalues and eigenvectors according to the size of the eigenvalues\n",
    "    index_tmp = (abs(eigvals_tmp)).argsort()[::-1] # argsort returns the indices that would sort an array (in this case the vector eigvals)\n",
    "    eigvals_tmp = eigvals_tmp[index_tmp]\n",
    "    eigvecs_tmp = eigvecs_tmp[:,index_tmp]\n",
    "\n",
    "    eigvecs_best_tmp_tmp = np.dot(class_pca_train_norm[i].T, eigvecs_tmp)\n",
    "    eigvecs_best_tmp_tmp = eigvecs_best_tmp_tmp/np.linalg.norm(eigvecs_best_tmp_tmp, axis=0)\n",
    "\n",
    "    # We keep the largest n eigenvalues for each class and their corresponding eigenvectors\n",
    "    eigvecs_best_tmp = eigvecs_best_tmp_tmp[:, :n]\n",
    "    eigvals_best_tmp = eigvals_tmp[:n]\n",
    "    \n",
    "    # Projecting each training data point per class to the space spanned by the eigenvectors per class\n",
    "    class_proj_pca_train_norm = np.zeros((number_of_samples, n))\n",
    "    for j in range(number_of_samples):\n",
    "        class_proj_pca_train_norm [j, :] = np.dot(class_pca_train_norm[i][j, :], eigvecs_best_tmp)\n",
    "    class_projected.append(class_proj_pca_train_norm)\n",
    "    class_eigvecs.append(eigvecs_best_tmp)\n",
    "    \n",
    "print (class_projected[0], class_projected[0].shape)\n",
    "print (class_eigvecs[0], class_eigvecs[0].shape)\n",
    "\n",
    "# Now in array class_proj_pca_train_norm, in each row of each array in the list, we have the projected coordinates for each face image per class\n",
    "\n",
    "# Let's reconstruct one picture to check if we've still done everything correctly.\n",
    "# Print the original image\n",
    "plt.figure()\n",
    "plt.imshow(np.reshape(class_sets[0][0, :], (46,56)).T, cmap = 'gist_gray') # Show original face\n",
    "plt.title('The original image')\n",
    "\n",
    "face_rec_alt = class_means[0, :] + np.dot(class_eigvecs[0], class_projected[0][0, :])\n",
    "rec_err_alt = np.linalg.norm(class_sets[0][0,:]-face_rec_alt)\n",
    "\n",
    "plt.figure()\n",
    "plt.imshow(np.reshape(face_rec_alt, (46,56)).T, cmap = 'gist_gray')\n",
    "plt.title('The reconstructed image')\n",
    "print (rec_err_alt)\n",
    "\n",
    "# Now normalise the testing pictures and project the them to all all of the class eigenvectors\n",
    "\n",
    "class_pca_test_norm = []\n",
    "for i in range(52):\n",
    "    class_pca_test_norm.append(pca_test-class_means[0, :]) # Works because of broadcasting\n",
    "\n",
    "print (class_pca_test_norm[0], class_pca_test_norm[0].shape)\n",
    "\n",
    "class_proj_test = []\n",
    "for i in range(52):\n",
    "    # Now let's project each testing image to the eigenspaces (space spanned by the best n eigenvectors) per class\n",
    "    proj_pca_test_norm_alt = np.zeros((104, n))\n",
    "    for l in range (104):\n",
    "        proj_pca_test_norm_alt[l, :] = np.dot(class_pca_test_norm[i][l, :], class_eigvecs[i])\n",
    "    class_proj_test.append(proj_pca_test_norm_alt)\n",
    "        \n",
    "print (class_proj_test[7], class_proj_test[7].shape)\n",
    "\n",
    "\n",
    "reconstruction_errors = np.zeros((52, 104)) # 1 column = 1 testing image\n",
    "for z in range(104):\n",
    "    for i in range(52):\n",
    "        face_reconstructed = class_means[i, :] + np.dot(class_eigvecs[i], class_proj_test[i][z, :])\n",
    "        reconstruction_errors[i, z] = np.linalg.norm (pca_test[z, :]-face_reconstructed)\n",
    "    # Reconstruct each in each of the classes\n",
    "\n",
    "print (reconstruction_errors, reconstruction_errors.shape)\n",
    "# Now in array proj_pca_test_norm, in each row, we have the projected coordinates for each face image\n",
    "#plt.savefig('the_best_plot.pdf')\n",
    "\n",
    "print (np.argmin(reconstruction_errors, axis = 0)+1)\n",
    "print (actual_label)\n",
    "\n",
    "is_it_same_alt = (np.argmin(reconstruction_errors, axis = 0)+1==actual_label)\n",
    "percentage_alt = np.sum(is_it_same_alt)/104\n",
    "print (percentage_alt)\n",
    "#reconst_bases = np.arange(1, 700, 10)\n",
    "#reconst_errors = np.zeros(reconst_bases.shape)\n",
    "#k=0\n",
    "#for i in reconst_bases:\n",
    "    \n",
    "    # Take the i largest eigenvalues and their corresponding eigenvectors\n",
    "  #  eigvecs_rec = eigvecs[:, :i]\n",
    "   # eigvals_rec = eigvals[:i]\n",
    "    \n",
    "    # Project the training image to the space spanned by these eigenvectors\n",
    "  #  proj_pca_train_norm_rec = np.dot(pca_train_norm[0, :], eigvecs_rec)\n",
    "    # Now in array proj_pca_train_norm_rec we have the projected coordinates for the face image\n",
    "    \n",
    "    # Reconstruct the face using the PCA bases\n",
    "   # face_reconst_rec = avg_face + np.dot(eigvecs_rec, proj_pca_train_norm_rec)\n",
    "    \n",
    "    # Calculate the reconstruction error and save it in an array\n",
    "  #  reconst_errors[k] = np.linalg.norm(face_reconst_rec-pca_train[0, :])\n",
    "  #  k = k+1\n",
    "    \n",
    "   # if (i==21 or i==101 or i==501):\n",
    "    #    print (reconst_errors[k-1])\n",
    "   #     plt.figure()\n",
    "     #   plt.title('Image when {0} PCA bases are used'.format(str(i)))\n",
    "      #  plt.imshow(np.reshape(face_reconst_rec, (46,56)).T, cmap = 'gist_gray') # Show reconstructed faces\n",
    "\n",
    "#plt.figure()\n",
    "#plt.plot(reconst_bases, reconst_errors)\n",
    "#plt.title('Reconstruction error vs the number of PCA bases used')\n",
    "\n",
    "#plt.savefig('the_best_plot.pdf')"
   ]
  },
  {
   "cell_type": "code",
   "execution_count": 21,
   "metadata": {},
   "outputs": [
    {
     "name": "stdout",
     "output_type": "stream",
     "text": [
      "5\n"
     ]
    }
   ],
   "source": [
    "# Now let's vary the number of PCA bases\n",
    "print ('5')\n"
   ]
  },
  {
   "cell_type": "code",
   "execution_count": null,
   "metadata": {},
   "outputs": [],
   "source": []
  },
  {
   "cell_type": "code",
   "execution_count": null,
   "metadata": {},
   "outputs": [],
   "source": []
  }
 ],
 "metadata": {
  "kernelspec": {
   "display_name": "Python 3",
   "language": "python",
   "name": "python3"
  },
  "language_info": {
   "codemirror_mode": {
    "name": "ipython",
    "version": 3
   },
   "file_extension": ".py",
   "mimetype": "text/x-python",
   "name": "python",
   "nbconvert_exporter": "python",
   "pygments_lexer": "ipython3",
   "version": "3.7.0"
  }
 },
 "nbformat": 4,
 "nbformat_minor": 2
}
