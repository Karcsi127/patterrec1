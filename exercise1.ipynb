{
 "cells": [
  {
   "cell_type": "markdown",
   "metadata": {
    "collapsed": true
   },
   "source": [
    "# Exercise 1 Implementation"
   ]
  },
  {
   "cell_type": "markdown",
   "metadata": {},
   "source": [
    "Training"
   ]
  },
  {
   "cell_type": "code",
   "execution_count": 121,
   "metadata": {},
   "outputs": [],
   "source": [
    "# Imports\n",
    "import scipy.io as sio\n",
    "import numpy as np\n",
    "import matplotlib.pyplot as plt\n",
    "import time\n",
    "from memory_profiler import memory_usage\n",
    "\n",
    "# Load the source file with the face data\n",
    "mat_content = sio.loadmat('face.mat')"
   ]
  },
  {
   "cell_type": "code",
   "execution_count": 122,
   "metadata": {},
   "outputs": [
    {
     "name": "stdout",
     "output_type": "stream",
     "text": [
      "[[106 130 191 ...  70 183  77]\n",
      " [103 129 185 ...  62 250  72]\n",
      " [103 130 174 ...  83 163  68]\n",
      " ...\n",
      " [ 36  36  19 ...  89  95 103]\n",
      " [ 41  35  17 ...  94 106 110]\n",
      " [  1   1   1 ...  52  52  52]] (2577, 520)\n",
      "[[106 103 103 ...  36  41   1]\n",
      " [130 129 130 ...  36  35   1]\n",
      " [191 185 174 ...  19  17   1]\n",
      " ...\n",
      " [ 70  62  83 ...  89  94  52]\n",
      " [183 250 163 ...  95 106  52]\n",
      " [ 77  72  68 ... 103 110  52]] (520, 2577)\n"
     ]
    }
   ],
   "source": [
    "# Store face data and classification\n",
    "face_data = mat_content['X']\n",
    "face_label = mat_content['l']\n",
    "\n",
    "# Append the matching data and labels into array 'faces': labels are not needed for PCA training (unsupervised learning)\n",
    "# but we need it for assessing our algorithms during testing\n",
    "faces = np.append(face_data, face_label, axis=0)\n",
    "print(faces, faces.shape)\n",
    "\n",
    "# Transpose in preparation for division into training and testing material\n",
    "faces_transposed = faces.T\n",
    "print (faces_transposed, faces_transposed.shape)"
   ]
  },
  {
   "cell_type": "code",
   "execution_count": 123,
   "metadata": {},
   "outputs": [
    {
     "name": "stdout",
     "output_type": "stream",
     "text": [
      "[[144 140 135 ... 199 177  30]\n",
      " [ 67  69  62 ...  47  33  41]\n",
      " [109 137 183 ...  27  26  44]\n",
      " ...\n",
      " [222 232 234 ...  23  21  32]\n",
      " [ 96  90 105 ... 203 122  37]\n",
      " [ 77  72  71 ...  50  38  21]] (416, 2577)\n",
      "[[ 72  75  68 ...  29  30  25]\n",
      " [ 65  66  61 ... 162 158  39]\n",
      " [114 113 119 ...  69  68  48]\n",
      " ...\n",
      " [126 114 111 ...  78  79  42]\n",
      " [ 89  87  84 ... 171 171  10]\n",
      " [251 249 239 ...  42  43   5]] (104, 2577)\n"
     ]
    },
    {
     "data": {
      "text/plain": [
       "<matplotlib.image.AxesImage at 0xb2c00be48>"
      ]
     },
     "execution_count": 123,
     "metadata": {},
     "output_type": "execute_result"
    },
    {
     "data": {
      "image/png": "[encoded data removed]",
      "text/plain": [
       "<Figure size 432x288 with 1 Axes>"
      ]
     },
     "metadata": {
      "needs_background": "light"
     },
     "output_type": "display_data"
    }
   ],
   "source": [
    "# Divide the data set into training and testing sets: 80% is training, 20% is testing\n",
    "\n",
    "np.random.shuffle(faces_transposed) # Shuffle the rows (This is why we transposed)\n",
    "training, test = faces_transposed[:416,:], faces_transposed[416:,:]\n",
    "print (training, training.shape)\n",
    "print (test, test.shape)\n",
    "\n",
    "plt.imshow(np.reshape(training[100, :2576], (46,56)).T, cmap = 'gist_gray') # print 100th image of the training set as a sanity check to make sure we have shuffled along the right dimension of the array"
   ]
  },
  {
   "cell_type": "code",
   "execution_count": 124,
   "metadata": {},
   "outputs": [
    {
     "data": {
      "text/plain": [
       "<matplotlib.image.AxesImage at 0xb19215550>"
      ]
     },
     "execution_count": 124,
     "metadata": {},
     "output_type": "execute_result"
    },
    {
     "data": {
      "image/png": "[encoded data removed]",
      "text/plain": [
       "<Figure size 432x288 with 1 Axes>"
      ]
     },
     "metadata": {
      "needs_background": "light"
     },
     "output_type": "display_data"
    }
   ],
   "source": [
    "# Now let's start training our image recognition PCA algorithm\n",
    "# We have face images that are CENTERED and they are of the SAME SIZE (needed for PCA)\n",
    "# They are normalised for SCALE, ORIENTATION and TRANSLATION\n",
    "\n",
    "# First, we only need the training and testing set without the labels\n",
    "# Images are represented as rows\n",
    "pca_train = training [:, :2576]\n",
    "pca_test = test [:, :2576]\n",
    "\n",
    "# Let's compute the mean face image\n",
    "avg_face = np.mean(pca_train, axis=0)\n",
    "plt.imshow(np.reshape(avg_face, (46,56)).T, cmap = 'gist_gray')"
   ]
  },
  {
   "cell_type": "code",
   "execution_count": 125,
   "metadata": {},
   "outputs": [
    {
     "name": "stdout",
     "output_type": "stream",
     "text": [
      "[[2658.02801405 2486.3759939  2273.72133876 ... -484.85634708\n",
      "  -544.52829142 -544.68708395]\n",
      " [2486.3759939  2685.05643838 2558.89848373 ... -481.98842571\n",
      "  -536.56837093 -546.9746556 ]\n",
      " [2273.72133876 2558.89848373 2720.33542899 ... -480.1233358\n",
      "  -532.40477071 -537.90994822]\n",
      " ...\n",
      " [-484.85634708 -481.98842571 -480.1233358  ... 2752.5283781\n",
      "  2610.49597818 2494.42036104]\n",
      " [-544.52829142 -536.56837093 -532.40477071 ... 2610.49597818\n",
      "  2807.78809172 2717.39154956]\n",
      " [-544.68708395 -546.9746556  -537.90994822 ... 2494.42036104\n",
      "  2717.39154956 2884.82190736]] (2576, 2576)\n"
     ]
    },
    {
     "data": {
      "image/png": "[encoded data removed]",
      "text/plain": [
       "<Figure size 432x288 with 1 Axes>"
      ]
     },
     "metadata": {
      "needs_background": "light"
     },
     "output_type": "display_data"
    }
   ],
   "source": [
    "# Now let's subtract the mean face image from all of our training face images\n",
    "pca_train_norm = pca_train-avg_face # works because of broadcasting\n",
    "plt.imshow(np.reshape(pca_train_norm[0, :], (46,56)).T, cmap = 'gist_gray') \n",
    "# Show the first normalised face image and notice that it is distorted\n",
    "\n",
    "# Computing the covariance matrix\n",
    "cov = (np.dot(pca_train_norm.T, pca_train_norm))/416\n",
    "print (cov, cov.shape)"
   ]
  },
  {
   "cell_type": "code",
   "execution_count": 126,
   "metadata": {},
   "outputs": [
    {
     "name": "stdout",
     "output_type": "stream",
     "text": [
      "5.971226930618286\n",
      "[ 9.28823864e+05+0.00000000e+00j  5.33537289e+05+0.00000000e+00j\n",
      "  4.43274908e+05+0.00000000e+00j ... -7.44478135e-14-1.67702635e-14j\n",
      " -2.24586755e-13+3.71605969e-14j -2.24586755e-13-3.71605969e-14j] (2576,)\n",
      "[[ 0.0133871 +0.00000000e+00j -0.01285074+0.00000000e+00j\n",
      "   0.01929774+0.00000000e+00j ... -0.00059936+4.35834037e-05j\n",
      "  -0.00139824+6.21346522e-04j -0.00139824-6.21346522e-04j]\n",
      " [ 0.01470179+0.00000000e+00j -0.01247964+0.00000000e+00j\n",
      "   0.02113884+0.00000000e+00j ...  0.00049715+1.39466924e-06j\n",
      "   0.00045578+8.73451598e-05j  0.00045578-8.73451598e-05j]\n",
      " [ 0.01552916+0.00000000e+00j -0.0119914 +0.00000000e+00j\n",
      "   0.02412802+0.00000000e+00j ...  0.00078227-1.17514951e-04j\n",
      "   0.00042635+2.12967717e-04j  0.00042635-2.12967717e-04j]\n",
      " ...\n",
      " [-0.00530367+0.00000000e+00j  0.04951309+0.00000000e+00j\n",
      "  -0.00357794+0.00000000e+00j ...  0.01297553+2.35346460e-03j\n",
      "   0.00954448+5.08381930e-03j  0.00954448-5.08381930e-03j]\n",
      " [-0.00533846+0.00000000e+00j  0.04821626+0.00000000e+00j\n",
      "  -0.00432286+0.00000000e+00j ...  0.00222614-1.97212524e-03j\n",
      "   0.00398775-2.33902321e-03j  0.00398775+2.33902321e-03j]\n",
      " [-0.0055863 +0.00000000e+00j  0.04856426+0.00000000e+00j\n",
      "  -0.00648965+0.00000000e+00j ...  0.00353071+6.60022413e-04j\n",
      "   0.01350211+2.51373803e-03j  0.01350211-2.51373803e-03j]] (2576, 2576)\n"
     ]
    }
   ],
   "source": [
    "# Computing the eigenvalues and eigenvectors of the covariance matrix directly and measuring how long it takes\n",
    "\n",
    "start = time.time()\n",
    "eigvals, eigvecs = np.linalg.eig(cov) # these are not ordered, so we order them according to the eigenvalues\n",
    "end = time.time()\n",
    "print (end-start) # Execution time in seconds\n",
    "\n",
    "print (eigvals, eigvals.shape)\n",
    "print (eigvecs, eigvecs.shape)"
   ]
  },
  {
   "cell_type": "code",
   "execution_count": 179,
   "metadata": {},
   "outputs": [
    {
     "name": "stdout",
     "output_type": "stream",
     "text": [
      "[-4.76575224e-10  7.82165444e-11 -1.18234311e-10 ...  9.09494702e-12\n",
      "  5.45696821e-12  1.09139364e-11] (2576,)\n"
     ]
    }
   ],
   "source": [
    "# Proving that the eigenvalues and eigenvectors make sense\n",
    "\n",
    "eig_test_1 = np.dot(cov, eigvecs[:, 0])\n",
    "eig_test_2 = eigvecs[:, 0]*eigvals[0]\n",
    "\n",
    "print (eig_test_1-eig_test_2, (eig_test_1-eig_test_2).shape) # The values are basically zero, so the eigenvalue computation is correct"
   ]
  },
  {
   "cell_type": "code",
   "execution_count": 128,
   "metadata": {},
   "outputs": [
    {
     "name": "stdout",
     "output_type": "stream",
     "text": [
      "[ 9.28823864e+05  5.33537289e+05  4.43274908e+05 ... -7.44478135e-14\n",
      " -2.24586755e-13 -2.24586755e-13] (2576,)\n",
      "[[ 0.0133871  -0.01285074  0.01929774 ... -0.00059936 -0.00139824\n",
      "  -0.00139824]\n",
      " [ 0.01470179 -0.01247964  0.02113884 ...  0.00049715  0.00045578\n",
      "   0.00045578]\n",
      " [ 0.01552916 -0.0119914   0.02412802 ...  0.00078227  0.00042635\n",
      "   0.00042635]\n",
      " ...\n",
      " [-0.00530367  0.04951309 -0.00357794 ...  0.01297553  0.00954448\n",
      "   0.00954448]\n",
      " [-0.00533846  0.04821626 -0.00432286 ...  0.00222614  0.00398775\n",
      "   0.00398775]\n",
      " [-0.0055863   0.04856426 -0.00648965 ...  0.00353071  0.01350211\n",
      "   0.01350211]] (2576, 2576)\n"
     ]
    }
   ],
   "source": [
    "# Taking the real part of the eigenvalues (complex eigenvalues are the result of calculation rounding errors, because the covariance matrix is symmetric)\n",
    "\n",
    "eigvals = np.real(eigvals)\n",
    "print (eigvals, eigvals.shape)\n",
    "eigvecs = np.real(eigvecs)\n",
    "print (eigvecs, eigvecs.shape)"
   ]
  },
  {
   "cell_type": "code",
   "execution_count": 181,
   "metadata": {},
   "outputs": [
    {
     "name": "stdout",
     "output_type": "stream",
     "text": [
      "[   0    1    2 ... 2572 2574 2575] (2576,)\n",
      "[9.28823864e+05 5.33537289e+05 4.43274908e+05 ... 3.22643410e-15\n",
      " 2.08055285e-15 2.08055285e-15] (2576,)\n",
      "415\n",
      "0\n",
      "415\n",
      "928823.8639119731\n",
      "92.5389538692138\n",
      "3.6860390423374665e-11\n"
     ]
    }
   ],
   "source": [
    "# Order eigenvalues and eigenvectors according to the size of the eigenvalues\n",
    "\n",
    "eigvals = np.abs(eigvals)\n",
    "index = eigvals.argsort()[::-1] # argsort returns the indices that would sort an array (in this case the vector eigvals)\n",
    "eigvals = eigvals[index]\n",
    "eigvecs = eigvecs[:,index]\n",
    "print (index, index.shape)\n",
    "print (eigvals, eigvals.shape)\n",
    "\n",
    "# How many zero eigenvalues do we have?\n",
    "\n",
    "print (np.linalg.matrix_rank(cov)) # We should have 2576 - 415 = 2161 zero eigenvalues\n",
    "print ((eigvals == np.zeros(eigvals.shape)).sum()) # The rounding errors will give 0 eigenvalues that are precisely zero\n",
    "print ((eigvals >= np.ones(eigvals.shape)/100000).sum()) # However there are 415 eigenvalues that are larger than 1e-05, which can be considered zero eigenvectors.\n",
    "print (eigvals.max()) # The largest eigenvalue\n",
    "print (eigvals[414])\n",
    "print (eigvals[415])"
   ]
  },
  {
   "cell_type": "code",
   "execution_count": 130,
   "metadata": {},
   "outputs": [
    {
     "data": {
      "image/png": "[encoded data removed]",
      "text/plain": [
       "<Figure size 432x288 with 1 Axes>"
      ]
     },
     "metadata": {
      "needs_background": "light"
     },
     "output_type": "display_data"
    },
    {
     "data": {
      "image/png": "[encoded data removed]",
      "text/plain": [
       "<Figure size 432x288 with 1 Axes>"
      ]
     },
     "metadata": {
      "needs_background": "light"
     },
     "output_type": "display_data"
    },
    {
     "data": {
      "image/png": "[encoded data removed]",
      "text/plain": [
       "<Figure size 432x288 with 1 Axes>"
      ]
     },
     "metadata": {
      "needs_background": "light"
     },
     "output_type": "display_data"
    },
    {
     "data": {
      "image/png": "[encoded data removed]",
      "text/plain": [
       "<Figure size 432x288 with 1 Axes>"
      ]
     },
     "metadata": {
      "needs_background": "light"
     },
     "output_type": "display_data"
    },
    {
     "data": {
      "text/plain": [
       "<Figure size 432x288 with 0 Axes>"
      ]
     },
     "metadata": {},
     "output_type": "display_data"
    }
   ],
   "source": [
    "# Let's visualise the eigenvalues\n",
    "\n",
    "x = np.arange(0, 2576)\n",
    "\n",
    "# All of them\n",
    "plt.plot(x, eigvals) # Clearly out of scale\n",
    "plt.title('All eigenvalues of the covariance matrix')\n",
    "plt.figure()\n",
    "\n",
    "# First 415 of them\n",
    "plt.plot(x[:415], eigvals[:415]) # Still out of scale\n",
    "plt.title('First 415 eigenvalues of the covariance matrix')\n",
    "plt.figure()\n",
    "\n",
    "# First 200 of them\n",
    "plt.plot(x[:200], eigvals[:200])\n",
    "plt.title('First 200 eigenvalues of the covariance matrix')\n",
    "plt.figure()\n",
    "\n",
    "# First 20 of them\n",
    "plt.plot(x[:20], eigvals[:20])\n",
    "plt.title('First 20 eigenvalues of the covariance matrix')\n",
    "plt.figure()\n",
    "\n",
    "plt.show()"
   ]
  },
  {
   "cell_type": "code",
   "execution_count": 131,
   "metadata": {},
   "outputs": [
    {
     "name": "stdout",
     "output_type": "stream",
     "text": [
      "[[ 1.07265277e+03  1.61671147e+03  1.21393466e+02 ... -8.95677771e+00\n",
      "   8.68893863e+00  9.59114219e+00]\n",
      " [-2.79427480e+02  4.85041584e+02 -5.10097927e+02 ... -2.92966182e+01\n",
      "  -5.90969148e+00 -1.11390475e+01]\n",
      " [-7.98147750e+02  4.01551848e+02  6.71195578e+01 ...  8.59252589e+00\n",
      "  -1.14839552e+00  2.11823995e+00]\n",
      " ...\n",
      " [ 1.97280663e+03 -1.08711241e+03  5.42762992e+02 ...  9.28853878e+00\n",
      "   2.97802409e+00  2.12258852e+00]\n",
      " [ 4.42137076e+02  4.27007789e+02  2.33240549e+02 ...  6.79315647e+00\n",
      "  -2.76171097e+00 -8.03241413e+00]\n",
      " [-9.37413515e+00 -1.07430691e+03 -1.09550642e+03 ...  5.70791823e+00\n",
      "  -1.50547296e+00 -1.26141560e+01]] (416, 400)\n"
     ]
    }
   ],
   "source": [
    "# We keep the largest n eigenvalues and theeir corresponding eigenvectors n<=415, the other eigenvalues are zero\n",
    "\n",
    "n = 400\n",
    "eigvecs_best = eigvecs[:, :n]\n",
    "eigvals_best = eigvals[:n]\n",
    "\n",
    "# Projecting each training data point to the space spanned by the eigenvectors\n",
    "proj_pca_train_norm = np.zeros((416, n))\n",
    "for i in range(416):\n",
    "    proj_pca_train_norm [i, :] = np.dot(pca_train_norm[i, :], eigvecs_best)\n",
    "    \n",
    "print (proj_pca_train_norm, proj_pca_train_norm.shape)\n",
    "\n",
    "# Now in array proj_pca_train_norm, in each row, we have the projected coordinates for each face image"
   ]
  },
  {
   "cell_type": "code",
   "execution_count": 183,
   "metadata": {},
   "outputs": [
    {
     "name": "stdout",
     "output_type": "stream",
     "text": [
      "[[15807.19779223   633.34565188 -1816.25024193 ...    87.96790133\n",
      "   2638.94041312 -3068.68135094]\n",
      " [  633.34565188  5757.67620384  1173.19569464 ... -3865.04529671\n",
      "    -65.95018877 -1218.17051052]\n",
      " [-1816.25024193  1173.19569464  9706.98922391 ... -5075.47772899\n",
      "  -1647.64464028 -1795.31448125]\n",
      " ...\n",
      " [   87.96790133 -3865.04529671 -5075.47772899 ... 18082.63704889\n",
      "   1536.6888876   1549.83875816]\n",
      " [ 2638.94041312   -65.95018877 -1647.64464028 ...  1536.6888876\n",
      "   5496.651784   -2923.8161339 ]\n",
      " [-3068.68135094 -1218.17051052 -1795.31448125 ...  1549.83875816\n",
      "  -2923.8161339  13743.90104436]] (416, 416)\n"
     ]
    }
   ],
   "source": [
    "# Let's try to compute the eigenvalues using the low-dimensional method\n",
    "\n",
    "# First we need to compute the new covariance matrix (1/N)A^T*A\n",
    "cov_ld = np.dot(pca_train_norm, pca_train_norm.T)/416\n",
    "print (cov_ld, cov_ld.shape) # as we can see it is NxN (and not DxD as the covariance matrix we had before)"
   ]
  },
  {
   "cell_type": "code",
   "execution_count": 185,
   "metadata": {},
   "outputs": [
    {
     "name": "stdout",
     "output_type": "stream",
     "text": [
      "0.058830976486206055\n",
      "5.971226930618286\n",
      "[9.28823864e+05 5.33537289e+05 4.43274908e+05 2.47252820e+05\n",
      " 2.13256424e+05 1.54070009e+05 1.27743379e+05 1.05480412e+05\n",
      " 9.13624491e+04 8.21947113e+04 6.55199957e+04 5.96621724e+04\n",
      " 5.49675928e+04 5.31826977e+04 4.70134422e+04 4.26667877e+04\n",
      " 3.77722254e+04 3.53030561e+04 3.35902227e+04 3.20366425e+04\n",
      " 2.98103312e+04 2.58013082e+04 2.53066520e+04 2.41399184e+04\n",
      " 2.37526859e+04 2.25633017e+04 2.12515037e+04 1.95823391e+04\n",
      " 1.86796867e+04 1.72554516e+04 1.68148180e+04 1.66374565e+04\n",
      " 1.57008103e+04 1.51890226e+04 1.49268165e+04 1.39952987e+04\n",
      " 1.35019191e+04 1.30086142e+04 1.26959501e+04 1.25518753e+04\n",
      " 1.22125963e+04 1.16755666e+04 1.13591378e+04 1.09228236e+04\n",
      " 1.06980454e+04 1.02595346e+04 1.02493745e+04 9.79929277e+03\n",
      " 9.50959550e+03 9.30199063e+03 9.13903451e+03 8.79197407e+03\n",
      " 8.64376802e+03 8.56790828e+03 7.99217107e+03 7.71481929e+03\n",
      " 7.52306560e+03 7.29829621e+03 7.14995073e+03 7.01893219e+03\n",
      " 6.95020791e+03 6.85665790e+03 6.60681602e+03 6.53083125e+03\n",
      " 6.26441870e+03 6.02802482e+03 5.95642590e+03 5.80613772e+03\n",
      " 5.79293730e+03 5.70531738e+03 5.44458900e+03 5.38826176e+03\n",
      " 5.22570859e+03 5.18460050e+03 5.12073470e+03 5.06996506e+03\n",
      " 4.92996354e+03 4.75391229e+03 4.70112299e+03 4.63366142e+03\n",
      " 4.47277595e+03 4.40450616e+03 4.37927616e+03 4.31078328e+03\n",
      " 4.25579336e+03 4.13395823e+03 4.08198376e+03 4.04215312e+03\n",
      " 3.87493672e+03 3.83258547e+03 3.80139976e+03 3.69932519e+03\n",
      " 3.62622158e+03 3.60823181e+03 3.50602635e+03 3.50138053e+03\n",
      " 3.45693178e+03 3.37862229e+03 3.34325414e+03 3.21692550e+03\n",
      " 3.20186995e+03 3.12343609e+03 3.08952469e+03 3.06951476e+03\n",
      " 3.03734164e+03 2.98563483e+03 2.96905880e+03 2.91815427e+03\n",
      " 2.90455457e+03 2.85803160e+03 2.82056317e+03 2.80620041e+03\n",
      " 2.77607019e+03 2.72365748e+03 2.66774602e+03 2.65518398e+03\n",
      " 2.59953305e+03 2.56322914e+03 2.52731175e+03 2.48283383e+03\n",
      " 2.47897420e+03 2.41736754e+03 2.40716981e+03 2.35951265e+03\n",
      " 2.33437705e+03 2.32245600e+03 2.28720537e+03 2.26771752e+03\n",
      " 2.24759339e+03 2.22378739e+03 2.20005147e+03 2.15138965e+03\n",
      " 2.13212297e+03 2.10995877e+03 2.07661747e+03 2.05541833e+03\n",
      " 2.02219747e+03 1.99971612e+03 1.96943852e+03 1.94004077e+03\n",
      " 1.93689923e+03 1.92330386e+03 1.89993640e+03 1.87584839e+03\n",
      " 1.83865124e+03 1.82775917e+03 1.80645110e+03 1.79757917e+03\n",
      " 1.75111450e+03 1.73549563e+03 1.72152091e+03 1.68844704e+03\n",
      " 1.67284491e+03 1.64473525e+03 1.62744130e+03 1.60073741e+03\n",
      " 1.59608093e+03 1.58441097e+03 1.56758854e+03 1.55829413e+03\n",
      " 1.52955311e+03 1.52318352e+03 1.50281748e+03 1.49770158e+03\n",
      " 1.47568525e+03 1.46452123e+03 1.45343529e+03 1.43371837e+03\n",
      " 1.40852611e+03 1.40488462e+03 1.39064607e+03 1.37535232e+03\n",
      " 1.35971219e+03 1.35200563e+03 1.32948801e+03 1.31736819e+03\n",
      " 1.31248077e+03 1.29734824e+03 1.27896269e+03 1.26198120e+03\n",
      " 1.25066318e+03 1.24016863e+03 1.22938363e+03 1.20963862e+03\n",
      " 1.20631864e+03 1.19545294e+03 1.18641821e+03 1.16511282e+03\n",
      " 1.15360436e+03 1.14231235e+03 1.12413555e+03 1.11833341e+03\n",
      " 1.11484719e+03 1.10127269e+03 1.09509028e+03 1.08264867e+03\n",
      " 1.06985717e+03 1.05795140e+03 1.04965504e+03 1.03940209e+03\n",
      " 1.02352365e+03 1.01508219e+03 1.01029851e+03 1.00149045e+03\n",
      " 9.94209888e+02 9.84439442e+02 9.69131790e+02 9.62161710e+02\n",
      " 9.51981779e+02 9.45552254e+02 9.39475174e+02 9.29427535e+02\n",
      " 9.19415618e+02 9.18066232e+02 9.03889033e+02 8.93785867e+02\n",
      " 8.86064452e+02 8.72937429e+02 8.67177201e+02 8.62521053e+02\n",
      " 8.41321008e+02 8.39349014e+02 8.31422721e+02 8.30157069e+02\n",
      " 8.24087652e+02 8.19429499e+02 8.10092686e+02 7.93479503e+02\n",
      " 7.87317288e+02 7.81108983e+02 7.75941337e+02 7.71603858e+02\n",
      " 7.69448714e+02 7.60580633e+02 7.54829799e+02 7.49198153e+02\n",
      " 7.41684272e+02 7.30254480e+02 7.21549602e+02 7.17061228e+02\n",
      " 7.15168899e+02 7.08489253e+02 7.01528388e+02 6.94280262e+02\n",
      " 6.89465026e+02 6.85418761e+02 6.76945610e+02 6.70856262e+02\n",
      " 6.62496489e+02 6.57927571e+02 6.52663973e+02 6.48261269e+02\n",
      " 6.40494291e+02 6.33806418e+02 6.23744499e+02 6.19767974e+02\n",
      " 6.18605286e+02 6.13057096e+02 6.11771235e+02 6.00425001e+02\n",
      " 5.98491573e+02 5.92778708e+02 5.87640295e+02 5.82685975e+02\n",
      " 5.76567864e+02 5.69378913e+02 5.66676704e+02 5.59170414e+02\n",
      " 5.55764883e+02 5.53870445e+02 5.45898745e+02 5.40043035e+02\n",
      " 5.37083025e+02 5.29665816e+02 5.26072209e+02 5.23982385e+02\n",
      " 5.20516215e+02 5.12086325e+02 5.05632339e+02 5.02426759e+02\n",
      " 5.00467556e+02 4.93337821e+02 4.91878555e+02 4.84476212e+02\n",
      " 4.82836075e+02 4.78516133e+02 4.75742730e+02 4.74544024e+02\n",
      " 4.64832810e+02 4.61383587e+02 4.57377249e+02 4.52944063e+02\n",
      " 4.50947604e+02 4.49599699e+02 4.44398573e+02 4.37263868e+02\n",
      " 4.32026215e+02 4.27574519e+02 4.24151448e+02 4.23264525e+02\n",
      " 4.19896308e+02 4.17967230e+02 4.10647265e+02 4.09928770e+02\n",
      " 4.00010291e+02 3.98898728e+02 3.97167435e+02 3.93568065e+02\n",
      " 3.90608137e+02 3.89007613e+02 3.83638705e+02 3.78579226e+02\n",
      " 3.72553158e+02 3.71393131e+02 3.69391971e+02 3.67667535e+02\n",
      " 3.61521166e+02 3.57536810e+02 3.55351069e+02 3.51553248e+02\n",
      " 3.48916465e+02 3.46160927e+02 3.42276397e+02 3.37577684e+02\n",
      " 3.36439095e+02 3.34468700e+02 3.33026122e+02 3.31528943e+02\n",
      " 3.25319603e+02 3.24292811e+02 3.21736637e+02 3.18756029e+02\n",
      " 3.12924814e+02 3.10273101e+02 3.09036139e+02 3.03604550e+02\n",
      " 3.01000137e+02 2.99572799e+02 2.96626549e+02 2.92491392e+02\n",
      " 2.89209587e+02 2.87502191e+02 2.85109534e+02 2.81499049e+02\n",
      " 2.78267087e+02 2.75665611e+02 2.74583248e+02 2.71859763e+02\n",
      " 2.66356556e+02 2.65289714e+02 2.64205362e+02 2.62462159e+02\n",
      " 2.60558193e+02 2.57494631e+02 2.53790537e+02 2.51807010e+02\n",
      " 2.49506084e+02 2.46559043e+02 2.45500333e+02 2.44830897e+02\n",
      " 2.39507230e+02 2.37951668e+02 2.34600832e+02 2.30066706e+02\n",
      " 2.26548490e+02 2.25462201e+02 2.23857870e+02 2.21452315e+02\n",
      " 2.17318388e+02 2.15162748e+02 2.14086462e+02 2.11026874e+02\n",
      " 2.08251777e+02 2.07504661e+02 2.05404184e+02 2.01360474e+02\n",
      " 1.99227759e+02 1.97669279e+02 1.95339135e+02 1.95000332e+02\n",
      " 1.91618373e+02 1.90865691e+02 1.87863012e+02 1.85294646e+02\n",
      " 1.83313398e+02 1.81834650e+02 1.79217381e+02 1.76732854e+02\n",
      " 1.72916114e+02 1.70543238e+02 1.67237788e+02 1.65963657e+02\n",
      " 1.63389221e+02 1.61554574e+02 1.59441583e+02 1.57108846e+02\n",
      " 1.55725500e+02 1.54712203e+02 1.47868555e+02 1.45574495e+02\n",
      " 1.44178585e+02 1.40785244e+02 1.37904044e+02 1.35597375e+02\n",
      " 1.34443487e+02 1.33092130e+02 1.30227624e+02 1.25415697e+02\n",
      " 1.23470009e+02 1.18501515e+02 1.13172215e+02 1.06826945e+02\n",
      " 1.02058190e+02 9.93700045e+01 9.25389539e+01 3.99636056e-12] (416,)\n"
     ]
    }
   ],
   "source": [
    "# Now we compute the eigenvalues and eigenvectors of the new covariance matrix and measure the elapsed time\n",
    "\n",
    "start_ld = time.time()\n",
    "eigvals_ld, eigvecs_ld = np.linalg.eig(cov_ld) # these are not ordered, so we order them and the corresponding eigenvalues\n",
    "end_ld = time.time()\n",
    "print (end_ld-start_ld)\n",
    "print (end-start)\n",
    "\n",
    "# Taking the real part of the eigenvalues (complex eigenvalues are the result of calculation rounding errors, because the covariance matrix is symmetric)\n",
    "\n",
    "eigvals_ld = np.real(eigvals_ld)\n",
    "eigvecs_ld = np.real(eigvecs_ld)\n",
    "\n",
    "# Order eigenvalues and eigenvectors according to the size of the eigenvalues\n",
    "\n",
    "eigvals_ld = np.abs(eigvals_ld)\n",
    "index_ld = eigvals_ld.argsort()[::-1] # argsort returns the indices that would sort an array (in this case the vector eigvals)\n",
    "eigvals_ld = eigvals_ld[index_ld]\n",
    "eigvecs_ld = eigvecs_ld[:,index_ld]\n",
    "print (eigvals_ld, eigvals_ld.shape)"
   ]
  },
  {
   "cell_type": "code",
   "execution_count": 162,
   "metadata": {},
   "outputs": [
    {
     "name": "stdout",
     "output_type": "stream",
     "text": [
      "415\n",
      "0\n",
      "415\n",
      "928823.8639119725\n",
      "92.538953869214\n",
      "3.996360560569091e-12\n"
     ]
    },
    {
     "data": {
      "image/png": "[encoded data removed]",
      "text/plain": [
       "<Figure size 432x288 with 1 Axes>"
      ]
     },
     "metadata": {
      "needs_background": "light"
     },
     "output_type": "display_data"
    },
    {
     "data": {
      "image/png": "[encoded data removed]",
      "text/plain": [
       "<Figure size 432x288 with 1 Axes>"
      ]
     },
     "metadata": {
      "needs_background": "light"
     },
     "output_type": "display_data"
    },
    {
     "data": {
      "image/png": "[encoded data removed]",
      "text/plain": [
       "<Figure size 432x288 with 1 Axes>"
      ]
     },
     "metadata": {
      "needs_background": "light"
     },
     "output_type": "display_data"
    },
    {
     "data": {
      "image/png": "[encoded data removed]",
      "text/plain": [
       "<Figure size 432x288 with 1 Axes>"
      ]
     },
     "metadata": {
      "needs_background": "light"
     },
     "output_type": "display_data"
    },
    {
     "data": {
      "text/plain": [
       "<Figure size 432x288 with 0 Axes>"
      ]
     },
     "metadata": {},
     "output_type": "display_data"
    }
   ],
   "source": [
    "# How many zero eigenvalues do we have this time?\n",
    "\n",
    "print (np.linalg.matrix_rank(cov_ld)) # We should have 2576 - 415 = 2161 zero eigenvalues\n",
    "print ((eigvals_ld == np.zeros(eigvals_ld.shape)).sum()) # The rounding errors will give 0 eigenvalues that are precisely zero\n",
    "print ((eigvals_ld >= np.ones(eigvals_ld.shape)/100000).sum()) # However there are 415 eigenvalues that are larger than 1e-05, which can be considered zero eigenvectors.\n",
    "print (eigvals_ld.max()) # The largest eigenvalue\n",
    "print (eigvals_ld[414])\n",
    "print (eigvals_ld[415])\n",
    "\n",
    "# Let's visualise the eigenvalues\n",
    "\n",
    "x = np.arange(0, 416)\n",
    "\n",
    "# All of them\n",
    "plt.plot(x, eigvals_ld) # Clearly out of scale\n",
    "plt.title('All eigenvalues of the covariance matrix')\n",
    "plt.figure()\n",
    "\n",
    "# First 415 of them\n",
    "plt.plot(x[:415], eigvals_ld[:415]) # Still out of scale\n",
    "plt.title('First 415 eigenvalues of the covariance matrix')\n",
    "plt.figure()\n",
    "\n",
    "# First 200 of them\n",
    "plt.plot(x[:200], eigvals_ld[:200])\n",
    "plt.title('First 200 eigenvalues of the covariance matrix')\n",
    "plt.figure()\n",
    "\n",
    "# First 20 of them\n",
    "plt.plot(x[:20], eigvals_ld[:20])\n",
    "plt.title('First 20 eigenvalues of the covariance matrix')\n",
    "plt.figure()\n",
    "\n",
    "plt.show()"
   ]
  },
  {
   "cell_type": "code",
   "execution_count": 188,
   "metadata": {},
   "outputs": [
    {
     "name": "stdout",
     "output_type": "stream",
     "text": [
      "[ 5.82076609e-10  1.16415322e-09  5.23868948e-10  2.03726813e-10\n",
      "  3.78349796e-10 -1.16415322e-10 -2.32830644e-10  7.27595761e-11\n",
      "  7.27595761e-11 -1.30967237e-10  0.00000000e+00  1.67347025e-10\n",
      "  2.18278728e-10 -1.45519152e-10  1.38243195e-10  4.36557457e-11\n",
      "  4.07453626e-10  1.45519152e-11 -2.54658516e-10  3.34694050e-10\n",
      "  7.27595761e-11  5.82076609e-11  5.82076609e-11 -1.09139364e-11\n",
      " -7.27595761e-11  6.91215973e-11  1.34605216e-10  1.01863407e-10\n",
      "  8.73114914e-11 -2.54658516e-11  2.18278728e-11  1.81898940e-11\n",
      "  1.58252078e-10  1.09139364e-11 -9.09494702e-12 -4.72937245e-11\n",
      "  6.73026079e-11  1.27329258e-11 -5.63886715e-11  2.36468622e-11\n",
      " -1.81898940e-12  6.91215973e-11  1.81898940e-11 -5.45696821e-12\n",
      " -1.81898940e-12  0.00000000e+00  7.27595761e-12  7.27595761e-12\n",
      " -6.18456397e-11  2.18278728e-11 -3.45607987e-11 -2.72848411e-11\n",
      " -5.63886715e-11  1.09139364e-11 -5.36601874e-11  1.09139364e-11\n",
      " -2.45563569e-11 -2.36468622e-11 -1.18234311e-11 -3.63797881e-11\n",
      " -1.27329258e-11  1.81898940e-12  2.36468622e-11 -2.54658516e-11\n",
      "  2.72848411e-11  3.27418093e-11 -2.00088834e-11 -4.54747351e-12\n",
      " -1.72803993e-11  2.36468622e-11 -1.81898940e-12  2.27373675e-11\n",
      " -5.45696821e-11 -3.36513040e-11  1.09139364e-11  1.90993887e-11\n",
      " -3.09228199e-11  6.36646291e-12  1.63709046e-11  1.09139364e-11\n",
      " -1.81898940e-11  1.36424205e-11 -2.36468622e-11  3.18323146e-11\n",
      " -2.63753464e-11 -2.63753464e-11  2.72848411e-12 -3.63797881e-11\n",
      "  3.63797881e-12  0.00000000e+00  4.09272616e-12 -1.59161573e-11\n",
      "  1.77351467e-11  3.63797881e-12  2.31921149e-11  0.00000000e+00\n",
      " -1.00044417e-11  3.13775672e-11 -4.54747351e-13 -2.31921149e-11\n",
      " -2.27373675e-11  8.18545232e-12 -9.09494702e-13  0.00000000e+00\n",
      " -4.09272616e-12 -3.63797881e-12 -5.91171556e-12  4.09272616e-12\n",
      "  7.27595761e-12  1.81898940e-11  1.31876732e-11  0.00000000e+00\n",
      "  1.09139364e-11 -2.72848411e-11 -7.27595761e-12 -7.27595761e-12\n",
      "  1.40971679e-11  3.13775672e-11 -1.54614099e-11  8.64019967e-12\n",
      "  1.18234311e-11 -3.18323146e-12  1.27329258e-11  3.18323146e-12\n",
      "  5.91171556e-12 -5.00222086e-12  2.72848411e-12 -5.45696821e-12\n",
      "  1.81898940e-12  1.13686838e-11  8.18545232e-12  4.09272616e-12\n",
      "  3.63797881e-12  5.00222086e-12  5.91171556e-12  1.00044417e-11\n",
      "  1.72803993e-11  1.43245416e-11  3.63797881e-12 -7.50333129e-12\n",
      " -7.27595761e-12  2.04636308e-12 -3.41060513e-12  6.82121026e-12\n",
      " -3.41060513e-12 -5.22959454e-12  1.54614099e-11  1.59161573e-12\n",
      " -1.04591891e-11 -5.91171556e-12  5.22959454e-12  3.41060513e-12\n",
      " -4.09272616e-12  0.00000000e+00  1.52340363e-11 -6.82121026e-13\n",
      "  3.41060513e-12 -1.02318154e-11  5.22959454e-12  8.41282599e-12\n",
      " -5.45696821e-12  5.68434189e-12  1.15960574e-11 -4.09272616e-12\n",
      "  1.13686838e-12  4.54747351e-13 -9.54969437e-12  7.50333129e-12\n",
      "  2.27373675e-12  4.09272616e-12 -4.77484718e-12 -5.91171556e-12\n",
      "  4.54747351e-12 -2.27373675e-12 -6.36646291e-12  4.77484718e-12\n",
      " -7.50333129e-12  0.00000000e+00  1.18234311e-11  4.54747351e-13\n",
      " -7.73070497e-12  0.00000000e+00 -5.45696821e-12  9.09494702e-13\n",
      " -1.36424205e-12  9.09494702e-13  8.41282599e-12 -1.38697942e-11\n",
      " -1.72803993e-11 -7.04858394e-12 -2.27373675e-13 -3.18323146e-12\n",
      "  1.36424205e-12 -3.86535248e-12 -4.54747351e-13 -5.45696821e-12\n",
      " -8.41282599e-12 -2.50111043e-12  2.27373675e-13  0.00000000e+00\n",
      "  3.63797881e-12 -4.32009983e-12 -2.50111043e-12  3.86535248e-12\n",
      " -9.09494702e-13 -1.36424205e-12 -4.43378667e-12  5.34328137e-12\n",
      " -1.13686838e-13  3.18323146e-12  4.66116035e-12  5.00222086e-12\n",
      " -1.02318154e-12 -3.06954462e-12  3.63797881e-12  3.29691829e-12\n",
      "  3.06954462e-12  8.18545232e-12 -2.61479727e-12 -2.04636308e-12\n",
      "  3.97903932e-12  3.41060513e-12 -1.93267624e-12 -8.18545232e-12\n",
      " -2.38742359e-12 -4.54747351e-13  1.93267624e-12  3.97903932e-12\n",
      "  9.09494702e-13  2.84217094e-12  2.16004992e-12 -4.54747351e-13\n",
      "  3.06954462e-12  2.04636308e-12  1.13686838e-12  7.73070497e-12\n",
      "  4.54747351e-13  0.00000000e+00 -4.54747351e-13 -4.54747351e-13\n",
      " -2.04636308e-12  2.61479727e-12  2.04636308e-12 -1.59161573e-12\n",
      "  4.54747351e-13  0.00000000e+00  1.13686838e-12  3.41060513e-13\n",
      "  2.27373675e-13 -7.95807864e-13 -3.41060513e-13 -4.09272616e-12\n",
      "  3.41060513e-13  7.95807864e-13 -9.09494702e-13  2.61479727e-12\n",
      " -6.25277607e-12 -9.09494702e-12 -2.50111043e-12  1.25055521e-12\n",
      "  3.52429197e-12  9.09494702e-13 -3.75166564e-12  2.50111043e-12\n",
      " -1.02318154e-12  5.68434189e-13  4.32009983e-12  3.18323146e-12\n",
      "  3.29691829e-12  1.93267624e-12 -3.41060513e-12 -3.18323146e-12\n",
      " -3.41060513e-13 -5.91171556e-12  3.29691829e-12 -1.93267624e-12\n",
      "  3.18323146e-12 -2.27373675e-12 -4.54747351e-13  5.62749847e-12\n",
      " -3.41060513e-13 -2.04636308e-12 -3.58113539e-12  1.25055521e-12\n",
      "  1.08002496e-12 -2.84217094e-12  4.20641300e-12  2.38742359e-12\n",
      "  2.16004992e-12  1.53477231e-12  3.86535248e-12 -2.84217094e-12\n",
      " -3.92219590e-12 -2.78532752e-12 -7.95807864e-13 -9.09494702e-13\n",
      " -4.94537744e-12 -3.69482223e-12 -2.95585778e-12 -2.61479727e-12\n",
      " -1.08002496e-12  1.08002496e-12 -1.42108547e-12  7.95807864e-13\n",
      " -3.24007488e-12  0.00000000e+00  2.84217094e-13 -3.41060513e-13\n",
      "  0.00000000e+00  1.19371180e-12 -1.70530257e-12  8.52651283e-13\n",
      " -1.70530257e-12  1.30739863e-12  2.84217094e-13 -1.59161573e-12\n",
      " -1.25055521e-12  1.53477231e-12  2.21689334e-12  3.41060513e-12\n",
      "  1.36424205e-12  1.70530257e-13  6.25277607e-13 -3.80850906e-12\n",
      "  1.19371180e-12 -1.64845915e-12 -5.11590770e-13  2.72848411e-12\n",
      "  2.27373675e-13 -1.36424205e-12 -2.50111043e-12  3.97903932e-13\n",
      "  3.35376171e-12  2.27373675e-13  3.18323146e-12 -1.59161573e-12\n",
      "  1.70530257e-12 -3.97903932e-13  6.93489710e-12  4.54747351e-12\n",
      "  7.38964445e-13 -1.19371180e-12  6.25277607e-13  1.02318154e-12\n",
      "  1.13686838e-12  2.95585778e-12  1.19371180e-12 -5.11590770e-13\n",
      "  2.04636308e-12 -2.44426701e-12  1.13686838e-12 -3.41060513e-13\n",
      "  3.06954462e-12  3.41060513e-13  4.54747351e-13 -5.68434189e-14\n",
      " -2.67164069e-12  4.83169060e-13 -5.28643795e-12 -9.66338121e-13\n",
      "  3.12638804e-13 -1.42108547e-13 -2.58637556e-12  1.81898940e-12\n",
      " -1.79056769e-12 -1.70530257e-13 -5.17275112e-12  2.87059265e-12\n",
      "  3.12638804e-13 -6.53699317e-13  2.18847163e-12  1.42108547e-12\n",
      "  3.69482223e-12 -1.70530257e-12  8.81072992e-13  0.00000000e+00\n",
      "  2.84217094e-13 -2.21689334e-12  1.47792889e-12 -2.01794137e-12\n",
      "  1.08002496e-12  3.04112291e-12 -5.11590770e-13  5.11590770e-13\n",
      "  5.68434189e-13  1.39266376e-12  4.14956958e-12 -3.69482223e-13\n",
      " -1.96109795e-12 -1.30739863e-12  1.87583282e-12  7.38964445e-13\n",
      "  7.67386155e-13 -3.95061761e-12  6.25277607e-13  9.66338121e-13\n",
      " -1.36424205e-12  1.22213351e-12 -9.94759830e-13 -1.36424205e-12\n",
      " -1.76214598e-12 -7.10542736e-13  6.53699317e-13 -1.93267624e-12\n",
      " -4.71800377e-12 -7.10542736e-13 -3.97903932e-13  1.32160949e-12\n",
      "  4.20641300e-12 -4.26325641e-13  1.50635060e-12  4.12114787e-13\n",
      "  2.08899564e-12  1.66267000e-12 -1.98951966e-13  3.28640299e-11] (416,)\n",
      "[[ 0.05456898 -0.10851842 -0.00893948 ...  0.02774289  0.0246489\n",
      "  -0.04902903]\n",
      " [-0.01421529 -0.03255742  0.03756387 ... -0.00289482 -0.01417154\n",
      "  -0.04902903]\n",
      " [-0.04060411 -0.02695334 -0.00494272 ...  0.01727241 -0.00843259\n",
      "  -0.04902903]\n",
      " ...\n",
      " [ 0.10036243  0.07297018 -0.03996934 ... -0.00318197  0.00796694\n",
      "  -0.04902903]\n",
      " [ 0.0224928  -0.02866202 -0.01717595 ...  0.01469255  0.00213959\n",
      "  -0.04902903]\n",
      " [-0.00047689  0.07211063  0.08067365 ...  0.02347854  0.00809398\n",
      "  -0.04902903]] (416, 416)\n",
      "(2576, 416)\n",
      "[[ 2.63147794e+02  1.91450770e+02 -2.62053316e+02 ...  4.26497232e-01\n",
      "  -6.54287669e+00  6.48370246e-13]\n",
      " [ 2.88990586e+02  1.85922074e+02 -2.87054523e+02 ... -1.29471217e+00\n",
      "  -8.30946492e+00  7.63833441e-13]\n",
      " [ 3.05253900e+02  1.78648351e+02 -3.27646071e+02 ...  7.85487808e-01\n",
      "   5.87710382e+00  2.25597319e-13]\n",
      " ...\n",
      " [-1.04253290e+02 -7.37647883e+02  4.85866036e+01 ... -2.91664047e+00\n",
      "   5.55961617e+00 -5.15143483e-13]\n",
      " [-1.04937174e+02 -7.18327649e+02  5.87022378e+01 ... -1.69129837e+00\n",
      "  -4.71814917e-02 -2.36966002e-12]\n",
      " [-1.09808976e+02 -7.23512216e+02  8.81260661e+01 ...  1.89473767e+00\n",
      "   5.75240361e+00 -1.91135996e-12]] (2576, 416)\n",
      "[[ 0.0133871  -0.01285074  0.01929774 ...  0.00209769  0.03334723\n",
      "  -0.00390846]\n",
      " [ 0.01470179 -0.01247964  0.02113884 ... -0.00636794  0.04235104\n",
      "  -0.00525527]\n",
      " [ 0.01552916 -0.0119914   0.02412802 ...  0.00386336 -0.02995397\n",
      "  -0.00594667]\n",
      " ...\n",
      " [-0.00530367  0.04951309 -0.00357794 ... -0.01434527 -0.02833582\n",
      "  -0.00559376]\n",
      " [-0.00533846  0.04821626 -0.00432286 ... -0.00831852  0.00024047\n",
      "  -0.01120715]\n",
      " [-0.0055863   0.04856426 -0.00648965 ...  0.00931912 -0.02931841\n",
      "   0.00118711]] (2576, 416)\n",
      "[[-2.63134407e+02 -1.91463620e+02  2.62072613e+02 ... -4.24399539e-01\n",
      "   6.57622392e+00 -3.90845831e-03]\n",
      " [-2.88975884e+02 -1.85934554e+02  2.87075662e+02 ...  1.28834423e+00\n",
      "   8.35181597e+00 -5.25526735e-03]\n",
      " [-3.05238371e+02 -1.78660342e+02  3.27670199e+02 ... -7.81624448e-01\n",
      "  -5.90705779e+00 -5.94667363e-03]\n",
      " ...\n",
      " [ 1.04247987e+02  7.37697396e+02 -4.85901815e+01 ...  2.90229520e+00\n",
      "  -5.58795200e+00 -5.59375898e-03]\n",
      " [ 1.04931835e+02  7.18375866e+02 -5.87065607e+01 ...  1.68297985e+00\n",
      "   4.74219627e-02 -1.12071456e-02]\n",
      " [ 1.09803390e+02  7.23560780e+02 -8.81325557e+01 ... -1.88541855e+00\n",
      "  -5.78172202e+00  1.18711192e-03]]\n"
     ]
    }
   ],
   "source": [
    "# What is the relationship between the eigenvalues and the eigenvectors resulting from the two methods\n",
    "\n",
    "print (eigvals[:416]-eigvals_ld, (eigvals[:416]-eigvals_ld).shape)\n",
    "# Therefore the eigenvalues are identical\n",
    "\n",
    "print(eigvecs_ld, eigvecs_ld.shape)\n",
    "print ((pca_train_norm.T).shape)\n",
    "eigvecs_ld_cmp = np.dot(pca_train_norm.T, eigvecs_ld)\n",
    "print (eigvecs_ld_cmp, eigvecs_ld_cmp.shape)\n",
    "print (eigvecs[:, :416], eigvecs[:, :416].shape)\n",
    "print (eigvecs[:, :416]-eigvecs_ld_cmp)"
   ]
  },
  {
   "cell_type": "code",
   "execution_count": 170,
   "metadata": {
    "scrolled": true
   },
   "outputs": [
    {
     "data": {
      "text/plain": [
       "<matplotlib.image.AxesImage at 0xb1968eef0>"
      ]
     },
     "execution_count": 170,
     "metadata": {},
     "output_type": "execute_result"
    },
    {
     "data": {
      "image/png": "[encoded data removed]",
      "text/plain": [
       "<Figure size 432x288 with 1 Axes>"
      ]
     },
     "metadata": {
      "needs_background": "light"
     },
     "output_type": "display_data"
    }
   ],
   "source": [
    "# Let's try to reconstruct one face image, just as a sanity check to see if we can still see a face (worse quality of course, because we did a lossy transformation on it)\n",
    "face_check = avg_face + np.dot(eigvecs_best, proj_pca_train_norm[0, :])\n",
    "plt.imshow(np.reshape(face_check, (46,56)).T, cmap = 'gist_gray')"
   ]
  },
  {
   "cell_type": "code",
   "execution_count": null,
   "metadata": {},
   "outputs": [],
   "source": []
  },
  {
   "cell_type": "markdown",
   "metadata": {},
   "source": [
    "Testing"
   ]
  },
  {
   "cell_type": "code",
   "execution_count": 10,
   "metadata": {},
   "outputs": [
    {
     "name": "stdout",
     "output_type": "stream",
     "text": [
      "[[-15.76682692 -16.94951923 -16.39182692 ... -28.58653846 -27.12740385\n",
      "  -26.43509615]\n",
      " [ 48.23317308  52.05048077  30.60817308 ... -65.58653846 -60.12740385\n",
      "  -55.43509615]\n",
      " [ -7.76682692  17.05048077   9.60817308 ...  16.41346154  13.87259615\n",
      "   16.56490385]\n",
      " ...\n",
      " [ 68.23317308  66.05048077  63.60817308 ... -42.58653846 -43.12740385\n",
      "  -42.43509615]\n",
      " [ 10.23317308   8.05048077  13.60817308 ... -64.58653846 -64.12740385\n",
      "  -58.43509615]\n",
      " [-39.76682692 -39.94951923 -36.39182692 ...  60.41346154  67.87259615\n",
      "   68.56490385]] (104, 2576)\n",
      "[[-3.05887559e+02 -5.26642542e+02 -4.49583093e+02 ...  1.58641309e+01\n",
      "   2.22578800e+01 -5.73931869e+00]\n",
      " [-2.47810171e+03  5.19898793e+02 -1.86087519e+02 ... -7.52209272e+00\n",
      "  -4.66733547e+00  3.52464724e+00]\n",
      " [-8.37901255e+02 -2.01510237e+02  9.02842084e+02 ...  9.41394305e+00\n",
      "  -2.36555103e+01 -1.88456877e+00]\n",
      " ...\n",
      " [-1.54975643e+03 -3.02230465e+02  6.29742521e+02 ... -7.03841765e+00\n",
      "   1.70657814e+01  5.13391521e+00]\n",
      " [-3.89673779e+02  5.56864815e+02  1.51928127e+02 ...  2.64632460e+00\n",
      "  -1.42641767e+00  1.62620606e+01]\n",
      " [-8.03291757e+02  2.15597985e+02 -4.17485570e+02 ... -6.89924203e-01\n",
      "   1.48143866e+00 -1.34418792e+01]] (104, 2500)\n"
     ]
    }
   ],
   "source": [
    "# Now that we've trained our model, let's test it on our testing data set\n",
    "# First, let's normalise the testing set (subtract the average face from all face images)\n",
    "\n",
    "pca_test_norm = pca_test-avg_face # Works because of broadcasting\n",
    "print (pca_test_norm, pca_test_norm.shape)\n",
    "\n",
    "# Then let's project each testing image to the eigenspace (space spanned by the best eigenvectors)\n",
    "proj_pca_test_norm = np.zeros((104, n))\n",
    "for i in range(104):\n",
    "    proj_pca_test_norm [i, :] = np.dot(pca_test_norm[i, :], eigvecs_best)\n",
    "\n",
    "print (proj_pca_test_norm, proj_pca_test_norm.shape)\n",
    "\n",
    "# Now in array proj_pca_test_norm, in each row, we have the projected coordinates for each face image"
   ]
  },
  {
   "cell_type": "code",
   "execution_count": 11,
   "metadata": {
    "scrolled": false
   },
   "outputs": [
    {
     "name": "stdout",
     "output_type": "stream",
     "text": [
      "[2885.28288925 2583.64536092 2394.43633263 2344.7642421  2737.4075968\n",
      " 3298.76103272 3570.70180091 2917.42632315 2834.71380408 2827.48091966\n",
      " 2178.32374798 2444.78206616 3040.74338789 2149.91775448 3075.94056364\n",
      " 3095.59741424 2689.92701593 2819.25705657 2525.27035207 3266.44077721\n",
      " 2890.59913357 1976.04462273 2720.61378204 2888.94502388 2311.78531681\n",
      " 2668.91988471 2957.60466442 2601.82846303 2251.50779502 2760.59166684\n",
      " 2456.68136945 3290.53207719 2291.92634066 2534.74621038 2504.2398749\n",
      " 2088.10113525 2232.94521899 2787.71938169 2389.87140889 2783.54528453\n",
      " 1965.61602329 2268.7226254  2134.7750118  2728.41993671 2728.34150191\n",
      " 3080.86422145 2078.87790671 2659.06343494 2457.37366939 2659.94856173\n",
      " 2157.35077144 2738.46258894 2372.44354011 2976.66833071 2536.70225904\n",
      " 2503.63562665 2821.91129397 2742.92696786 2294.71334833 2040.07606501\n",
      " 2938.94527867 2910.92018974 2546.25653677 2938.77021065 2939.53624761\n",
      " 2270.69006054 2987.78251401 3433.13768309 3103.52289359 2883.34343272\n",
      " 2567.40790507 2736.03569988 2119.47195099 2904.42341111 2496.7405454\n",
      " 2358.36264197 2862.46665501 2713.97040349 2730.18320833 2421.57724449\n",
      " 2727.6354872  2491.35973938 2606.44036015 2722.3165413  2710.71620629\n",
      " 2705.39633899 2912.88917589 2527.82225463 2518.50478479 2659.14372515\n",
      " 2960.33787785 2725.33362197 2549.01164199 2794.10725475 2532.92466351\n",
      " 3015.9261183  3012.09252033 2457.81780265 2945.51665265 2418.23124432\n",
      " 2955.20682035 3083.94071782 2520.9328335  3026.64209166 3021.95935628\n",
      " 2581.0638022  2331.69881224 2990.32963919 2320.39939472 3694.12213537\n",
      " 2879.26229285 2671.15524652 3234.71225166 2697.71613611 2124.80501482\n",
      " 2887.110554   2578.41683035 2678.29411212 2419.39007831 2739.83856295\n",
      " 2317.63421424 3553.92604749 2322.82421871 2771.83303087 2546.47999227\n",
      " 2919.5589309  2780.80785942 2159.91882973 2879.08724269 2685.32276478\n",
      " 2404.10302421 2669.95942872 2347.56114958 2104.43326124 2570.42143452\n",
      " 2127.95355941 2906.86555434 2842.68805025 3360.68019172 2893.29835154\n",
      " 2374.50528553 3237.70371576 2391.52740963 2510.92081735 1805.16158585\n",
      " 3132.43425326 2244.41091403 2117.18217238 2904.45043873 2096.05661923\n",
      " 2437.2154913  2754.31849121 2562.80556247 2693.14840865 2504.29917363\n",
      " 2298.19589048 2186.60383952 2186.75269544 2384.5126024  2782.51942509\n",
      " 2817.82227101 1955.65420027 2719.34980299 2971.58599926 3043.40604439\n",
      " 2567.09102897 3002.02037818 2467.23374471 3040.4954121  2659.03109253\n",
      " 2459.53437687 2938.46156194 3359.37678015 2541.30681954 2747.70055702\n",
      " 2439.69001126 2643.11281466 3252.8265172  2704.33306954 2410.07081867\n",
      " 3333.12936308 2790.36061308 3109.85857412 3116.58280028 3486.25821634\n",
      " 2713.00006469 3243.98556579 2944.30490116 2908.58734629 2949.53476857\n",
      " 2795.90778657 2653.39035029 2286.55687684 2990.16142558 3078.46883223\n",
      " 2049.67762124 3400.0188751  3418.76985932 2757.77253432 2594.22384366\n",
      " 2390.31427871 2081.0860989  2388.30888937 2487.8093478  2566.24869236\n",
      " 2672.63528208 2577.03790252 2466.21133543 2545.49255568 2615.88825278\n",
      " 2716.95626594 2790.92607409 2468.81679171 2888.55246638 1859.48335594\n",
      " 3000.81028241 2398.01029002 2803.87898295 2524.6667802  2538.05877612\n",
      " 2328.49744493 2870.42807801 2618.32491319 3083.40661461 2391.0174301\n",
      " 2311.59541249 2363.50615633 2607.95827249 3143.2284917  2509.06344101\n",
      " 3210.24069986 2519.77009884 2974.57515471 2541.19860519 3212.3521524\n",
      " 2676.1954994  2628.72409184 2580.57926656 2757.8131465  2462.15705247\n",
      " 3330.97243324 2623.09861634 2746.75724283 2610.55135001 2304.43688371\n",
      " 2857.81671054 2713.06548963 2648.49152368 2693.52118073 2487.13778288\n",
      " 2918.40184879 3103.56945323 2984.05283985 2034.36485199 2501.39228251\n",
      " 2358.81142761 2477.01460452 2898.07148825 2831.19362655 2369.55150841\n",
      " 2837.10739152 2257.20144228 2708.7940769  2566.39325728 2344.83525029\n",
      " 2744.25242116 2430.61542639 2535.08113303 2285.28824244 2401.48086626\n",
      " 2725.55927307 2908.40666878 2408.95648591 2271.81719137 2522.40031538\n",
      " 2375.72880418 2348.76166331 3049.35179194 2503.31107756 2282.99985787\n",
      " 2154.91005637 2593.17167789 3008.95236769 2517.28193713 3307.35579444\n",
      " 3326.0281645  3178.98810174 2286.19910573 3562.02685995 2770.41230704\n",
      " 2993.90854086 3120.06784398 2461.29911856 2293.59921325 2798.82517336\n",
      " 2124.77018781 2745.32663831 2962.75941498 2525.13353133 2762.05256123\n",
      " 2659.09427268 1771.59824764 3140.78928791 3235.49677036 2612.97098167\n",
      " 2826.41935159 2649.6587235  1873.12101879 2225.56472632 2958.22418877\n",
      " 2824.07584017 2753.7284454  3218.76907389 3230.15794521 2808.89610898\n",
      " 2210.23038415 2666.42351306 2477.53473256 2459.42317445 2505.87456809\n",
      " 3020.13233999 2599.28131433 2578.88742504 3376.73279236 3014.40447701\n",
      " 2371.07451402 3127.39465866 3162.0209283  2664.44616216 3153.4738545\n",
      " 2687.99318285 2867.37481872 2873.93569013 2126.80566837 2543.88076588\n",
      " 2404.87740873 3207.77420512 2713.28349994 2782.71510418 2641.35237161\n",
      " 2611.18447281 3292.76591197 3495.46768702 2115.57069157 2954.94675942\n",
      " 2704.18145675 3936.00283931 2555.88817264 3044.40213359 3091.70411764\n",
      " 2443.69502005 2311.84544272 3466.65290317 2219.10800797 2836.08944694\n",
      " 2769.52475183 2258.21596643 2139.84774015 2453.26666937 2922.8845942\n",
      " 2544.00891331 2281.99481836 2460.93729116 2961.81251112 2463.67415683\n",
      " 2901.5222472  2531.88711261 2893.9366529  3467.16128137 2677.37938123\n",
      " 2456.23804853 2837.05945497 2909.05437402 2886.5334488  3004.26935394\n",
      " 2175.06881524 2823.84796882 2159.12212508 2776.74672072 2335.19107377\n",
      " 2680.01928184 2679.19528049 2621.96345341 2454.15328597 3108.8081882\n",
      " 2838.02543171 2588.35031459 2564.96244632 2955.60778031 3455.51144565\n",
      " 2466.73921423 3226.94954268 2472.46442867 2413.89340092 2484.78577568\n",
      " 2646.57048858 2706.06177886 2670.96225189 2977.71025303 2692.19173742\n",
      " 2987.69850404 2900.26401402 2825.04395559 2532.03344192 2899.88592035\n",
      " 2716.8603849  2688.43176425 3555.90724725 3077.69708565 2353.79764445\n",
      " 2287.3918228  3079.29900319 2796.21428918 2566.37689185 2999.11109348\n",
      " 2858.79631157] (416,)\n",
      "1771.5982476352278 301\n",
      "29\n",
      "11\n"
     ]
    },
    {
     "data": {
      "text/plain": [
       "<matplotlib.image.AxesImage at 0xb2728ea20>"
      ]
     },
     "execution_count": 11,
     "metadata": {},
     "output_type": "execute_result"
    },
    {
     "data": {
      "image/png": "[encoded data removed]",
      "text/plain": [
       "<Figure size 432x288 with 1 Axes>"
      ]
     },
     "metadata": {
      "needs_background": "light"
     },
     "output_type": "display_data"
    },
    {
     "data": {
      "image/png": "[encoded data removed]",
      "text/plain": [
       "<Figure size 432x288 with 1 Axes>"
      ]
     },
     "metadata": {
      "needs_background": "light"
     },
     "output_type": "display_data"
    },
    {
     "data": {
      "image/png": "[encoded data removed]",
      "text/plain": [
       "<Figure size 432x288 with 1 Axes>"
      ]
     },
     "metadata": {
      "needs_background": "light"
     },
     "output_type": "display_data"
    }
   ],
   "source": [
    "# Let's classify the first image\n",
    "plt.imshow(np.reshape(pca_test[0, :], (46,56)).T, cmap = 'gist_gray')\n",
    "plt.figure()\n",
    "\n",
    "distances = np.zeros(416)\n",
    "\n",
    "for i in range(416):\n",
    "    distances[i] = np.linalg.norm(proj_pca_train_norm[i, :]-proj_pca_test_norm[0, :])\n",
    "    \n",
    "print (distances, distances.shape)\n",
    "\n",
    "smallest_distance = distances.min()\n",
    "smallest_index = distances.argmin()\n",
    "print (smallest_distance, smallest_index)\n",
    "\n",
    "# Which identity does it belong to according to the learning set?\n",
    "print (training[smallest_index, 2576])\n",
    "# Which identity does it actually belong to?\n",
    "print (test[0, 2576])\n",
    "\n",
    "# Print the picture that our picture is the closest to\n",
    "plt.imshow(np.reshape(pca_train[smallest_index, :], (46,56)).T, cmap = 'gist_gray')\n",
    "plt.figure()\n",
    "\n",
    "# Print our actual image\n",
    "plt.imshow(np.reshape(pca_test[0, :], (46,56)).T, cmap = 'gist_gray')"
   ]
  },
  {
   "cell_type": "code",
   "execution_count": 12,
   "metadata": {},
   "outputs": [
    {
     "name": "stdout",
     "output_type": "stream",
     "text": [
      "[[2885.28288925 3459.37357104 3155.49763361 ... 2797.38730578\n",
      "  3353.87252838 2481.23048192]\n",
      " [2583.64536092 4017.22410428 2966.10574925 ... 3013.50223801\n",
      "  3353.60655662 2852.55617024]\n",
      " [2394.43633263 4002.82843799 3819.88760512 ... 3546.8952252\n",
      "  3584.4468104  3904.93133158]\n",
      " ...\n",
      " [2566.37689185 3706.14874283 2775.67006608 ... 2990.36164009\n",
      "  2619.04256105 3132.09062838]\n",
      " [2999.11109348 3811.7772107  2549.54178545 ... 3128.17642382\n",
      "  2466.84027384 3262.32044784]\n",
      " [2858.79631157 3352.1880174  2304.04043275 ... 2483.93050195\n",
      "  2468.06643683 2804.19608879]] (416, 104)\n",
      "[1771.59824764 1881.50803984 1751.50858284 1284.02454185 1451.45372646\n",
      " 1773.54118033 1655.22251669 1262.19894792 1587.62289485 1423.8826589\n",
      "  899.17085396 1338.45033627 1268.0909666   691.62020583 1363.2919338\n",
      " 1738.27058681 1848.30612443 1858.94040802 2036.16595663  786.60221209\n",
      " 1810.45117029 1390.10768407 1194.20622559 1580.43133751 1828.28051195\n",
      " 1891.54926231 1637.4104105  1040.07900321 1634.89425659 1190.19885591\n",
      " 1193.29366954 1746.23736494 1272.83291279 1818.55281519 1898.76691919\n",
      " 1631.93513107 1248.11801896 1446.75351786 2213.61309062 1539.11409202\n",
      "  771.19470428 1642.36460363 1364.1505978  1171.41951535 1819.90032197\n",
      " 1377.58304895 1470.92981327 1591.15404458 2071.24831892 1408.34050356\n",
      " 1860.6298404  1125.74777183 1592.93804011  839.96602158 1604.23966821\n",
      " 1630.1267923   868.76829769 1833.53352497 1545.06839915 1473.3783291\n",
      " 1545.77821431 1143.47089643 1827.5165169  1167.40710691 1530.24612364\n",
      " 1675.28673135 1984.89106646 1289.67165754 1559.05944247 1348.37958863\n",
      " 1457.24720248 1628.8711395  1159.28351704 1902.93541061 1579.2015411\n",
      " 1406.39661262 1354.54550594 1424.56505321 1769.59803178 1512.91555115\n",
      " 1549.54627354 1931.3549311  1524.8165267  1541.58952364 1602.82248784\n",
      " 1069.97721325 1742.23168871 1750.45935624  779.50301914 1412.85858952\n",
      " 1543.45800758 1752.68568243 1664.20662295 1483.93660053 1745.94054232\n",
      " 1263.58357104  889.51017623 1246.17042259 1615.97065337 1938.90473262\n",
      " 1751.12871537 1785.82102645 1975.77122578 1913.49698312] (104,)\n",
      "[301  45  41 343 330 310  39 392 222 406 162 349   5 342 181  10 278  75\n",
      "  65   8 200 124 234 347 336 371  76 198 207 218 274 239 323  54 397 144\n",
      " 368 229 344 241   8 168  25 158 393  40 343 198 122 173 322 130 104 323\n",
      " 113 221 323  42 387  47 386 188 201  80 140 206 146 304  18  99 151 276\n",
      " 213 112 403 387 140  47 271 155 347 223 349 111 219 395 301 248 261  28\n",
      " 263 331 364 322 157 379  83 238 203  65 267  54 113 391] (104,)\n",
      "[11 34 47 40  8  3 35  1 25 16  8 18 19  4 35 35 41 22 16  7 49  9 21 15\n",
      " 50 39 22  5 17 23 52 40 43 28 32 10  4 17 45 46  7 31 10 33 47 11 40  2\n",
      " 36  1 19 14 24  4 46 45  4 44 26  1 45 15 24 32 12 37 41 31 40 12 19 51\n",
      " 16 50 35 26 12 42 23  6 15 42 20 15 51 36 44 27  5 46 22  3 17  4 34 29\n",
      " 39 24 51 11 47 28 46 45] (104,)\n",
      "[29 34 29 34  8  3 40  1 25  2  8 20 21  4 35 35 34 14 16  7 29  9 21 15\n",
      " 50 34 22  5 10 23 52 40  4 28 36 10  4 51 37 46  7 31 10 33 30 29 34  5\n",
      "  9 16  3 14 24  4 46 45  4 44 26 42 45 21 44 32 12 39 30 31 32 14  3 52\n",
      " 16 50 35 26 12 42 23  6 15 42 20 49 51 36 29 35  5 46 12  3 17  3  8 48\n",
      " 39 24 51 16 47 28 46 45] (104,)\n",
      "[False  True False False  True  True False  True  True False  True False\n",
      " False  True  True  True False False  True  True False  True  True  True\n",
      "  True False  True  True False  True  True  True False  True False  True\n",
      "  True False False  True  True  True  True  True False False False False\n",
      " False False False  True  True  True  True  True  True  True  True False\n",
      "  True False False  True  True False False  True False False False False\n",
      "  True  True  True  True  True  True  True  True  True  True  True False\n",
      "  True  True False False  True  True False  True  True False False False\n",
      "  True  True  True False  True  True  True  True] (104,)\n",
      "0.6153846153846154\n"
     ]
    }
   ],
   "source": [
    "# Now let's do this for all of the testing images\n",
    "\n",
    "distances = np.zeros((416, 104)) # In each row we store the distances (1 column = 1 testing image's distances)\n",
    "\n",
    "for k in range (104):\n",
    "    for i in range(416):\n",
    "        distances[i, k] = np.linalg.norm(proj_pca_train_norm[i, :]-proj_pca_test_norm[k, :])\n",
    "        \n",
    "# Now we have in each column the distances of the testing images from each of the training images.\n",
    "# Next step is to find the minimum of each column, and the corresponding row index (per column)\n",
    "print (distances, distances.shape)\n",
    "\n",
    "smallest_distance = distances.min(axis=0) # min per columns\n",
    "smallest_index = distances.argmin(axis=0)\n",
    "print (smallest_distance, smallest_distance.shape)\n",
    "print (smallest_index, smallest_index.shape)\n",
    "\n",
    "# Get the smallest distance image's label\n",
    "#detected_label = np.zeros (104)\n",
    "#for j in range(104):\n",
    "#    detected_label[j] = training[smallest_index[j], 2576]\n",
    "#print (detected_label, detected_label.shape)\n",
    "\n",
    "actual_label = test [:, 2576].T\n",
    "\n",
    "print (actual_label, actual_label.shape)\n",
    "\n",
    "\n",
    "# Which identity does it belong to according to the learning set?\n",
    "print (training[smallest_index, 2576], training[smallest_index, 2576].shape)\n",
    "\n",
    "same = (training[smallest_index, 2576]==actual_label)\n",
    "\n",
    "print (same, same.shape)\n",
    "\n",
    "percentage = np.sum(same)/104\n",
    "\n",
    "print (percentage)\n"
   ]
  },
  {
   "cell_type": "code",
   "execution_count": null,
   "metadata": {},
   "outputs": [],
   "source": []
  },
  {
   "cell_type": "code",
   "execution_count": 14,
   "metadata": {},
   "outputs": [
    {
     "name": "stdout",
     "output_type": "stream",
     "text": [
      "0.000988631999998546\n",
      "0.00021263099999990764\n",
      "[9.06444846e+05 5.53288321e+05 4.59362658e+05 2.58876875e+05\n",
      " 2.15633970e+05 1.56860877e+05 1.26412705e+05 1.11166920e+05\n",
      " 9.39248645e+04 8.60693009e+04 6.67779708e+04 5.93077157e+04\n",
      " 5.13973757e+04 4.97597938e+04 4.60466833e+04 4.05500194e+04\n",
      " 3.76406394e+04 3.54736453e+04 3.44932280e+04 3.30006774e+04\n",
      " 3.01810957e+04 2.66199267e+04 2.60246177e+04 2.44407354e+04\n",
      " 2.36280772e+04 2.23365345e+04 2.09458922e+04 2.00118474e+04\n",
      " 1.89523029e+04 1.84574882e+04 1.81523001e+04 1.64749285e+04\n",
      " 1.60095091e+04 1.54031067e+04 1.45944124e+04 1.40968301e+04\n",
      " 1.37918997e+04 1.32297161e+04 1.28029392e+04 1.26283098e+04\n",
      " 1.21899467e+04 1.16251179e+04 1.11598644e+04 1.09272835e+04\n",
      " 1.07810086e+04 1.02233594e+04 9.86544700e+03 9.75379168e+03\n",
      " 9.44698154e+03 9.21668964e+03 9.03157770e+03 8.81312397e+03\n",
      " 8.40210948e+03 8.06547524e+03 8.03321698e+03 7.84453783e+03\n",
      " 7.67300034e+03 7.37797894e+03 7.37107246e+03 7.17078499e+03\n",
      " 6.93498379e+03 6.78157253e+03 6.67339871e+03 8.46788057e-12\n",
      " 6.41989678e+03 6.27095935e+03 6.17173269e+03 6.07771159e+03\n",
      " 5.93198177e+03 5.83314232e+03 5.66337750e+03 5.55540363e+03\n",
      " 5.37431347e+03 5.32581069e+03 5.30536058e+03 5.26729571e+03\n",
      " 5.13498902e+03 5.02879748e+03 4.90164851e+03 4.84330595e+03\n",
      " 4.73101317e+03 4.65614180e+03 4.56453200e+03 4.51721117e+03\n",
      " 4.38793045e+03 4.30959882e+03 4.24280575e+03 4.17086285e+03\n",
      " 4.02693078e+03 3.98737223e+03 3.95515849e+03 3.87445188e+03\n",
      " 3.82489136e+03 3.74552732e+03 3.64814497e+03 3.63366673e+03\n",
      " 3.57580952e+03 3.53933196e+03 3.45989715e+03 3.40947532e+03\n",
      " 3.37512910e+03 3.28208235e+03 3.21450333e+03 3.11879724e+03\n",
      " 3.08587038e+03 3.03796670e+03 3.04752172e+03 3.00329660e+03\n",
      " 2.71040394e+03 2.92786004e+03 2.76554573e+03 2.79368958e+03\n",
      " 2.88512583e+03 2.87339336e+03 2.84221529e+03 2.65948389e+03\n",
      " 2.64952404e+03 2.61383718e+03 2.58481237e+03 2.57081356e+03\n",
      " 2.55504558e+03 2.52831046e+03 2.49165178e+03 2.44686750e+03\n",
      " 2.40927205e+03 2.40495663e+03 2.37071128e+03 2.34171607e+03\n",
      " 2.30538714e+03 2.29487875e+03 2.25752165e+03 2.20934806e+03\n",
      " 2.18072371e+03 2.16775550e+03 2.13172982e+03 2.08650734e+03\n",
      " 2.06475463e+03 2.05289926e+03 2.05477512e+03 1.99222059e+03\n",
      " 1.96469660e+03 1.95562841e+03 1.92213711e+03 1.68251211e+03\n",
      " 1.69324461e+03 1.90143303e+03 1.89570291e+03 1.87567900e+03\n",
      " 1.84260644e+03 1.82900094e+03 1.82221099e+03 1.81292663e+03\n",
      " 1.72759928e+03 1.74681633e+03 1.76183019e+03 1.75694933e+03\n",
      " 1.67296382e+03 1.63446923e+03 1.62344040e+03 1.61321826e+03\n",
      " 1.60683858e+03 1.58452119e+03 1.55211182e+03 1.54925719e+03\n",
      " 1.45092829e+03 1.45261275e+03 1.46540293e+03 1.51468880e+03\n",
      " 1.50229569e+03 1.49004250e+03 1.44063898e+03 1.41694387e+03\n",
      " 1.39969726e+03 1.38207650e+03 1.29930391e+03 1.37015941e+03\n",
      " 1.31222566e+03 1.31944875e+03 1.33170375e+03 1.35273817e+03\n",
      " 1.34707809e+03 1.29031105e+03 1.26433650e+03 1.24564341e+03\n",
      " 1.24146405e+03 1.23467091e+03 1.22039800e+03 1.17129176e+03\n",
      " 1.17566610e+03 1.18024393e+03 1.20054999e+03 1.19495517e+03\n",
      " 1.15032931e+03 1.14596700e+03 1.05570514e+03 1.06295076e+03\n",
      " 1.12255112e+03 1.11359272e+03 1.10032719e+03 1.09310940e+03\n",
      " 1.07410641e+03 1.07624223e+03 1.04759474e+03 9.71824834e+02\n",
      " 1.03391472e+03 9.83048533e+02 9.91439385e+02 9.93789054e+02\n",
      " 1.00157854e+03 1.01932080e+03 1.01707512e+03 9.51187948e+02\n",
      " 9.43146327e+02 9.30935641e+02 9.26846445e+02 9.20540692e+02\n",
      " 9.09448264e+02 9.00975356e+02 8.75682821e+02 8.84838400e+02\n",
      " 8.81877480e+02 7.66697926e+02 8.64910951e+02 8.53083726e+02\n",
      " 8.51396574e+02 8.44916255e+02 8.35483470e+02 8.27897319e+02\n",
      " 8.21863870e+02 8.17199368e+02 8.08366901e+02 7.87611137e+02\n",
      " 7.94087532e+02 8.00732101e+02 7.98640922e+02 8.77370073e+01\n",
      " 9.97314108e+01 1.02959370e+02 1.12714706e+02 1.16973132e+02\n",
      " 1.15271196e+02 7.04140612e+02 7.62279473e+02 7.65770778e+02\n",
      " 7.56427605e+02 7.14183100e+02 7.45934101e+02 7.39639624e+02\n",
      " 7.32703235e+02 7.34105391e+02 7.23358039e+02 1.24657727e+02\n",
      " 1.28506344e+02 1.30309442e+02 1.31322739e+02 1.35716001e+02\n",
      " 7.02768096e+02 6.92604662e+02 6.87130092e+02 6.83861013e+02\n",
      " 6.76725286e+02 6.71542477e+02 6.68098463e+02 1.42308374e+02\n",
      " 1.44893701e+02 1.47939959e+02 1.48853954e+02 1.53971794e+02\n",
      " 1.53573711e+02 1.54840798e+02 6.43113752e+02 6.65163861e+02\n",
      " 6.53178498e+02 6.57470110e+02 6.18295312e+02 6.39014016e+02\n",
      " 6.33639153e+02 6.26082626e+02 6.29205503e+02 1.57300051e+02\n",
      " 1.60221157e+02 1.63026707e+02 1.67980950e+02 1.65711541e+02\n",
      " 6.14241021e+02 6.06653979e+02 5.97622821e+02 5.95097668e+02\n",
      " 1.68504667e+02 1.72008447e+02 1.74217265e+02 1.77262270e+02\n",
      " 1.80749736e+02 1.79941751e+02 5.88746163e+02 5.87122200e+02\n",
      " 5.60663405e+02 5.71108214e+02 5.75381590e+02 5.81202065e+02\n",
      " 5.79671452e+02 1.91414549e+02 1.88290033e+02 1.83424298e+02\n",
      " 1.86124471e+02 1.85648917e+02 5.47463201e+02 5.52404328e+02\n",
      " 5.54653095e+02 5.56930227e+02 5.36964304e+02 5.28782475e+02\n",
      " 2.09407529e+02 2.06054451e+02 2.01810104e+02 1.99567483e+02\n",
      " 1.95533431e+02 1.97523256e+02 1.96404060e+02 5.26176859e+02\n",
      " 5.23255195e+02 5.17211364e+02 5.14609984e+02 5.07030690e+02\n",
      " 5.03507558e+02 4.95038681e+02 4.90967857e+02 4.88288588e+02\n",
      " 4.86202387e+02 4.82431414e+02 4.74027262e+02 2.11949490e+02\n",
      " 2.14960985e+02 2.17075089e+02 2.21633027e+02 2.23353241e+02\n",
      " 2.25336522e+02 2.30644307e+02 2.32629876e+02 5.20969386e+02\n",
      " 4.75914544e+02 4.67164885e+02 4.62369412e+02 4.56318130e+02\n",
      " 4.53077051e+02 4.50232492e+02 4.45164621e+02 4.57890520e+02\n",
      " 4.41607919e+02 4.36030991e+02 4.30438075e+02 4.10664156e+02\n",
      " 4.14645317e+02 4.20109932e+02 4.22540303e+02 4.00707730e+02\n",
      " 2.26873422e+02 2.37625856e+02 2.36547924e+02 2.34453251e+02\n",
      " 2.43498088e+02 2.44795612e+02 2.48322611e+02 2.49068113e+02\n",
      " 2.55388208e+02 2.59316966e+02 2.60967240e+02 2.69152001e+02\n",
      " 2.52846797e+02 2.73583057e+02 2.76149334e+02 4.39693158e+02\n",
      " 2.64105712e+02 2.74337857e+02 2.84842742e+02 4.06780711e+02\n",
      " 2.81047914e+02 2.92807501e+02 2.96486813e+02 3.02005361e+02\n",
      " 3.94795428e+02 3.07967475e+02 3.03841306e+02 3.12010365e+02\n",
      " 3.19737516e+02 3.13378748e+02 3.78455776e+02 3.60946484e+02\n",
      " 3.31169497e+02 3.32056033e+02 3.56152400e+02 3.39391376e+02\n",
      " 3.45959444e+02 3.49231705e+02 3.85238859e+02 3.89629482e+02\n",
      " 3.71551555e+02 3.67140294e+02 3.74419879e+02 3.90815974e+02\n",
      " 3.86730398e+02 3.41757370e+02 3.68337041e+02 2.57896170e+02\n",
      " 2.88113804e+02 2.89654136e+02 3.15737931e+02 3.35665388e+02\n",
      " 4.21956938e+02 2.81799738e+02 2.99397021e+02 3.27415851e+02\n",
      " 3.22640360e+02 3.52924429e+02 3.53058743e+02 3.99320052e+02] (416,)\n",
      "[[-6.83168958e-02  2.59169888e-02  1.19259324e-02 ... -1.31535015e-01\n",
      "  -7.68000374e-03  6.23072753e-05]\n",
      " [-8.47055997e-03  8.28037786e-02 -2.30937274e-02 ... -2.50950332e-02\n",
      "  -4.78998644e-02 -6.37923076e-02]\n",
      " [-7.57902335e-03  8.46188073e-02 -7.46637413e-02 ... -2.98495947e-02\n",
      "  -1.02915717e-01 -6.39526463e-04]\n",
      " ...\n",
      " [ 5.04491329e-03 -2.57538179e-02  2.29433449e-02 ... -5.89189203e-03\n",
      "  -1.26408673e-03  8.55797717e-03]\n",
      " [ 6.73378546e-03 -5.76792680e-02  8.67567112e-02 ...  1.09237232e-01\n",
      "   3.44235624e-02 -2.07164607e-02]\n",
      " [-2.58230357e-02 -2.89183332e-02  8.27867384e-02 ...  4.28892435e-02\n",
      "   6.46682495e-03  1.18478274e-01]] (416, 416)\n"
     ]
    }
   ],
   "source": []
  },
  {
   "cell_type": "code",
   "execution_count": 15,
   "metadata": {},
   "outputs": [
    {
     "name": "stdout",
     "output_type": "stream",
     "text": [
      "Maximum memory used by high dimension way: 632.2578125 MiB\n",
      "Maximum memory used by donothing: 428.42578125 MiB\n"
     ]
    }
   ],
   "source": [
    "def highdimension():\n",
    "    eigvals_hd, eigvecs_hd = np.linalg.eig(cov)\n",
    "    return\n",
    "\n",
    "#def lowdimension():\n",
    "#    eigvals2_ld, eigvecs2_ld = np.linalg.eig(cov2)\n",
    "#    return\n",
    "\n",
    "def donothing():\n",
    "    x=1123\n",
    "    return\n",
    "\n",
    "#mem_low = max(memory_usage(proc=lowdimension))\n",
    "mem_high = max(memory_usage(proc=highdimension))\n",
    "mem_nothing = max(memory_usage(proc=donothing))\n",
    "\n",
    "#print(\"Maximum memory used by low dimension way: {0} MiB\".format(str(mem_low)))\n",
    "print(\"Maximum memory used by high dimension way: {0} MiB\".format(str(mem_high)))\n",
    "print(\"Maximum memory used by donothing: {0} MiB\".format(str(mem_nothing)))\n",
    "\n",
    "# Check it tomorrow, strange that the memory usage of donothing and lowdimension if the same, but don't know why yet"
   ]
  },
  {
   "cell_type": "code",
   "execution_count": null,
   "metadata": {},
   "outputs": [],
   "source": []
  },
  {
   "cell_type": "code",
   "execution_count": null,
   "metadata": {},
   "outputs": [],
   "source": []
  }
 ],
 "metadata": {
  "kernelspec": {
   "display_name": "Python 3",
   "language": "python",
   "name": "python3"
  },
  "language_info": {
   "codemirror_mode": {
    "name": "ipython",
    "version": 3
   },
   "file_extension": ".py",
   "mimetype": "text/x-python",
   "name": "python",
   "nbconvert_exporter": "python",
   "pygments_lexer": "ipython3",
   "version": "3.7.0"
  }
 },
 "nbformat": 4,
 "nbformat_minor": 2
}
