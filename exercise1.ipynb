{
 "cells": [
  {
   "cell_type": "markdown",
   "metadata": {
    "collapsed": true
   },
   "source": [
    "# Exercise 1 Implementation"
   ]
  },
  {
   "cell_type": "markdown",
   "metadata": {},
   "source": [
    "Training"
   ]
  },
  {
   "cell_type": "code",
   "execution_count": 1,
   "metadata": {},
   "outputs": [],
   "source": [
    "# Imports\n",
    "import scipy.io as sio\n",
    "import numpy as np\n",
    "import matplotlib.pyplot as plt\n",
    "import time\n",
    "from memory_profiler import memory_usage\n",
    "\n",
    "# Load the source file with the face data\n",
    "mat_content = sio.loadmat('face.mat')"
   ]
  },
  {
   "cell_type": "code",
   "execution_count": 2,
   "metadata": {},
   "outputs": [
    {
     "name": "stdout",
     "output_type": "stream",
     "text": [
      "[[106 130 191 ...  70 183  77]\n",
      " [103 129 185 ...  62 250  72]\n",
      " [103 130 174 ...  83 163  68]\n",
      " ...\n",
      " [ 36  36  19 ...  89  95 103]\n",
      " [ 41  35  17 ...  94 106 110]\n",
      " [  1   1   1 ...  52  52  52]] (2577, 520)\n",
      "[[106 103 103 ...  36  41   1]\n",
      " [130 129 130 ...  36  35   1]\n",
      " [191 185 174 ...  19  17   1]\n",
      " ...\n",
      " [ 70  62  83 ...  89  94  52]\n",
      " [183 250 163 ...  95 106  52]\n",
      " [ 77  72  68 ... 103 110  52]] (520, 2577)\n"
     ]
    }
   ],
   "source": [
    "# Store face data and classification\n",
    "face_data = mat_content['X']\n",
    "face_label = mat_content['l']\n",
    "\n",
    "# Append the matching data and labels into array 'faces': labels are not needed for PCA training (unsupervised learning)\n",
    "# but we need it for assessing our algorithms during testing\n",
    "faces = np.append(face_data, face_label, axis=0)\n",
    "print(faces, faces.shape)\n",
    "\n",
    "# Transpose in preparation for division into training and testing material\n",
    "faces_transposed = faces.T\n",
    "print (faces_transposed, faces_transposed.shape)"
   ]
  },
  {
   "cell_type": "code",
   "execution_count": 3,
   "metadata": {},
   "outputs": [
    {
     "name": "stdout",
     "output_type": "stream",
     "text": [
      "[[142 134 138 ...  74  69  31]\n",
      " [ 83  70  51 ...  42  43   6]\n",
      " [ 90 117 124 ...  15  26  10]\n",
      " ...\n",
      " [104 100 103 ... 109 100  42]\n",
      " [184 193 200 ...  42  34  18]\n",
      " [ 51  76  74 ...  26  25   2]] (416, 2577)\n",
      "[[ 90  92  93 ...  54  47   5]\n",
      " [ 98  99  98 ...  54  55  34]\n",
      " [166 111  74 ...  37  31  36]\n",
      " ...\n",
      " [116 123 146 ...  66  62  22]\n",
      " [ 77  72  68 ... 103 110  52]\n",
      " [108 108 110 ...  79  86  23]] (104, 2577)\n"
     ]
    },
    {
     "data": {
      "text/plain": [
       "<matplotlib.image.AxesImage at 0xb157132e8>"
      ]
     },
     "execution_count": 3,
     "metadata": {},
     "output_type": "execute_result"
    },
    {
     "data": {
      "image/png": "[encoded data removed]",
      "text/plain": [
       "<Figure size 432x288 with 1 Axes>"
      ]
     },
     "metadata": {
      "needs_background": "light"
     },
     "output_type": "display_data"
    }
   ],
   "source": [
    "# Divide the data set into training and testing sets: 80% is training, 20% is testing\n",
    "\n",
    "np.random.shuffle(faces_transposed) # Shuffle the rows (This is why we transposed)\n",
    "training, test = faces_transposed[:416,:], faces_transposed[416:,:]\n",
    "print (training, training.shape)\n",
    "print (test, test.shape)\n",
    "\n",
    "plt.imshow(np.reshape(training[100, :2576], (46,56)).T, cmap = 'gist_gray') # print 100th image of the training set as a sanity check to make sure we have shuffled along the right dimension of the array"
   ]
  },
  {
   "cell_type": "code",
   "execution_count": 4,
   "metadata": {},
   "outputs": [
    {
     "data": {
      "text/plain": [
       "<matplotlib.image.AxesImage at 0xb1587d400>"
      ]
     },
     "execution_count": 4,
     "metadata": {},
     "output_type": "execute_result"
    },
    {
     "data": {
      "image/png": "[encoded data removed]",
      "text/plain": [
       "<Figure size 432x288 with 1 Axes>"
      ]
     },
     "metadata": {
      "needs_background": "light"
     },
     "output_type": "display_data"
    }
   ],
   "source": [
    "# Now let's start training our image recognition PCA algorithm\n",
    "# We have face images that are CENTERED and they are of the SAME SIZE (needed for PCA)\n",
    "# They are normalised for SCALE, ORIENTATION and TRANSLATION\n",
    "\n",
    "# First, we only need the training and testing set without the labels\n",
    "# Images are represented as rows\n",
    "pca_train = training [:, :2576]\n",
    "pca_test = test [:, :2576]\n",
    "\n",
    "# Let's compute the mean face image\n",
    "avg_face = np.mean(pca_train, axis=0)\n",
    "plt.imshow(np.reshape(avg_face, (46,56)).T, cmap = 'gist_gray')"
   ]
  },
  {
   "cell_type": "code",
   "execution_count": 5,
   "metadata": {},
   "outputs": [
    {
     "name": "stdout",
     "output_type": "stream",
     "text": [
      "[[2800.90622689 2631.70450028 2374.61090052 ... -555.3527182\n",
      "  -614.74713388 -639.16216716]\n",
      " [2631.70450028 2847.30699311 2660.97593842 ... -566.54451738\n",
      "  -629.03111132 -656.75730399]\n",
      " [2374.61090052 2660.97593842 2774.38008506 ... -578.17011834\n",
      "  -628.28051036 -651.94600592]\n",
      " ...\n",
      " [-555.3527182  -566.54451738 -578.17011834 ... 2898.54918639\n",
      "  2726.08080621 2620.44212278]\n",
      " [-614.74713388 -629.03111132 -628.28051036 ... 2726.08080621\n",
      "  2940.7022929  2851.93324704]\n",
      " [-639.16216716 -656.75730399 -651.94600592 ... 2620.44212278\n",
      "  2851.93324704 2983.39386095]] (2576, 2576)\n"
     ]
    },
    {
     "data": {
      "image/png": "[encoded data removed]",
      "text/plain": [
       "<Figure size 432x288 with 1 Axes>"
      ]
     },
     "metadata": {
      "needs_background": "light"
     },
     "output_type": "display_data"
    }
   ],
   "source": [
    "# Now let's subtract the mean face image from all of our training face images\n",
    "pca_train_norm = pca_train-avg_face # works because of broadcasting\n",
    "plt.imshow(np.reshape(pca_train_norm[0, :], (46,56)).T, cmap = 'gist_gray') \n",
    "# Show the first normalised face image and notice that it is distorted\n",
    "\n",
    "# Computing the covariance matrix\n",
    "cov = (np.dot(pca_train_norm.T, pca_train_norm))/416\n",
    "print (cov, cov.shape)"
   ]
  },
  {
   "cell_type": "code",
   "execution_count": 6,
   "metadata": {},
   "outputs": [
    {
     "name": "stdout",
     "output_type": "stream",
     "text": [
      "14.305622100830078\n",
      "[ 9.14456916e+05+0.j  5.36265714e+05+0.j  4.50017283e+05+0.j ...\n",
      " -1.52567044e-13+0.j  3.62816364e-14+0.j  1.30377600e-13+0.j] (2576,)\n",
      "[[-1.48282260e-02+0.j  1.65598092e-02+0.j  1.67141800e-02+0.j ...\n",
      "  -1.10111859e-04+0.j -1.87518919e-03+0.j  3.41930758e-03+0.j]\n",
      " [-1.57563030e-02+0.j  1.66483188e-02+0.j  1.84041885e-02+0.j ...\n",
      "  -1.02606428e-04+0.j -4.77295429e-05+0.j  3.43688948e-04+0.j]\n",
      " [-1.63172347e-02+0.j  1.62784197e-02+0.j  2.09063989e-02+0.j ...\n",
      "   4.08957716e-04+0.j -3.85066777e-04+0.j  7.68105643e-04+0.j]\n",
      " ...\n",
      " [ 3.86391918e-03+0.j -5.06790917e-02+0.j -2.38687491e-03+0.j ...\n",
      "   1.12861281e-02+0.j  6.73533922e-03+0.j -1.00486547e-02+0.j]\n",
      " [ 3.44347274e-03+0.j -5.01955444e-02+0.j -2.51730209e-03+0.j ...\n",
      "  -2.18594776e-02+0.j -1.90508351e-02+0.j  2.12237508e-02+0.j]\n",
      " [ 3.69313504e-03+0.j -5.09963442e-02+0.j -4.02642344e-03+0.j ...\n",
      "   2.08872995e-03+0.j  1.94230462e-03+0.j -9.94275043e-03+0.j]] (2576, 2576)\n"
     ]
    }
   ],
   "source": [
    "# Computing the eigenvalues and eigenvectors of the covariance matrix directly and measuring how long it takes\n",
    "\n",
    "start = time.time()\n",
    "eigvals, eigvecs = np.linalg.eig(cov) # these are not ordered, so we order them according to the eigenvalues\n",
    "end = time.time()\n",
    "print (end-start) # Execution time in seconds\n",
    "\n",
    "print (eigvals, eigvals.shape)\n",
    "print (eigvecs, eigvecs.shape)"
   ]
  },
  {
   "cell_type": "code",
   "execution_count": 7,
   "metadata": {},
   "outputs": [
    {
     "name": "stdout",
     "output_type": "stream",
     "text": [
      "[ 1.65528036e-10+0.j  4.91127139e-11+0.j -1.18234311e-10+0.j ...\n",
      " -1.13686838e-11+0.j -1.68256520e-11+0.j  1.81898940e-12+0.j] (2576,)\n"
     ]
    }
   ],
   "source": [
    "# Proving that the eigenvalues and eigenvectors make sense\n",
    "\n",
    "eig_test_1 = np.dot(cov, eigvecs[:, 0])\n",
    "eig_test_2 = eigvecs[:, 0]*eigvals[0]\n",
    "\n",
    "print (eig_test_1-eig_test_2, (eig_test_1-eig_test_2).shape) # The values are basically zero, so the eigenvalue computation is correct"
   ]
  },
  {
   "cell_type": "code",
   "execution_count": 8,
   "metadata": {},
   "outputs": [
    {
     "name": "stdout",
     "output_type": "stream",
     "text": [
      "[ 9.14456916e+05  5.36265714e+05  4.50017283e+05 ... -1.52567044e-13\n",
      "  3.62816364e-14  1.30377600e-13] (2576,)\n",
      "[[-1.48282260e-02  1.65598092e-02  1.67141800e-02 ... -1.10111859e-04\n",
      "  -1.87518919e-03  3.41930758e-03]\n",
      " [-1.57563030e-02  1.66483188e-02  1.84041885e-02 ... -1.02606428e-04\n",
      "  -4.77295429e-05  3.43688948e-04]\n",
      " [-1.63172347e-02  1.62784197e-02  2.09063989e-02 ...  4.08957716e-04\n",
      "  -3.85066777e-04  7.68105643e-04]\n",
      " ...\n",
      " [ 3.86391918e-03 -5.06790917e-02 -2.38687491e-03 ...  1.12861281e-02\n",
      "   6.73533922e-03 -1.00486547e-02]\n",
      " [ 3.44347274e-03 -5.01955444e-02 -2.51730209e-03 ... -2.18594776e-02\n",
      "  -1.90508351e-02  2.12237508e-02]\n",
      " [ 3.69313504e-03 -5.09963442e-02 -4.02642344e-03 ...  2.08872995e-03\n",
      "   1.94230462e-03 -9.94275043e-03]] (2576, 2576)\n"
     ]
    }
   ],
   "source": [
    "# Taking the real part of the eigenvalues (complex eigenvalues are the result of calculation rounding errors, because the covariance matrix is symmetric)\n",
    "\n",
    "eigvals = np.real(eigvals)\n",
    "print (eigvals, eigvals.shape)\n",
    "eigvecs = np.real(eigvecs)\n",
    "print (eigvecs, eigvecs.shape)"
   ]
  },
  {
   "cell_type": "code",
   "execution_count": 9,
   "metadata": {},
   "outputs": [
    {
     "name": "stdout",
     "output_type": "stream",
     "text": [
      "[   0    1    2 ... 2489 1735 1734] (2576,)\n",
      "[9.14456916e+05 5.36265714e+05 4.50017283e+05 ... 6.24230487e-15\n",
      " 2.07411346e-15 2.07411346e-15] (2576,)\n",
      "415\n",
      "0\n",
      "415\n",
      "914456.9163755546\n",
      "83.15603626726153\n",
      "4.8148097560437797e-11\n"
     ]
    }
   ],
   "source": [
    "# Order eigenvalues and eigenvectors according to the size of the eigenvalues\n",
    "\n",
    "eigvals = np.abs(eigvals)\n",
    "index = eigvals.argsort()[::-1] # argsort returns the indices that would sort an array (in this case the vector eigvals)\n",
    "eigvals = eigvals[index]\n",
    "eigvecs = eigvecs[:,index]\n",
    "print (index, index.shape)\n",
    "print (eigvals, eigvals.shape)\n",
    "\n",
    "# How many zero eigenvalues do we have?\n",
    "\n",
    "print (np.linalg.matrix_rank(cov)) # We should have 2576 - 415 = 2161 zero eigenvalues\n",
    "print ((eigvals == np.zeros(eigvals.shape)).sum()) # The rounding errors will give 0 eigenvalues that are precisely zero\n",
    "print ((eigvals >= np.ones(eigvals.shape)/100000).sum()) # However there are 415 eigenvalues that are larger than 1e-05, which can be considered zero eigenvectors.\n",
    "print (eigvals.max()) # The largest eigenvalue\n",
    "print (eigvals[414])\n",
    "print (eigvals[415])"
   ]
  },
  {
   "cell_type": "code",
   "execution_count": 10,
   "metadata": {},
   "outputs": [
    {
     "data": {
      "image/png": "[encoded data removed]",
      "text/plain": [
       "<Figure size 432x288 with 1 Axes>"
      ]
     },
     "metadata": {
      "needs_background": "light"
     },
     "output_type": "display_data"
    },
    {
     "data": {
      "image/png": "[encoded data removed]",
      "text/plain": [
       "<Figure size 432x288 with 1 Axes>"
      ]
     },
     "metadata": {
      "needs_background": "light"
     },
     "output_type": "display_data"
    },
    {
     "data": {
      "image/png": "[encoded data removed]",
      "text/plain": [
       "<Figure size 432x288 with 1 Axes>"
      ]
     },
     "metadata": {
      "needs_background": "light"
     },
     "output_type": "display_data"
    },
    {
     "data": {
      "image/png": "[encoded data removed]",
      "text/plain": [
       "<Figure size 432x288 with 1 Axes>"
      ]
     },
     "metadata": {
      "needs_background": "light"
     },
     "output_type": "display_data"
    },
    {
     "data": {
      "text/plain": [
       "<Figure size 432x288 with 0 Axes>"
      ]
     },
     "metadata": {},
     "output_type": "display_data"
    }
   ],
   "source": [
    "# Let's visualise the eigenvalues\n",
    "\n",
    "x = np.arange(0, 2576)\n",
    "\n",
    "# All of them\n",
    "plt.plot(x, eigvals) # Clearly out of scale\n",
    "plt.title('All eigenvalues of the covariance matrix')\n",
    "plt.figure()\n",
    "\n",
    "# First 415 of them\n",
    "plt.plot(x[:415], eigvals[:415]) # Still out of scale\n",
    "plt.title('First 415 eigenvalues of the covariance matrix')\n",
    "plt.figure()\n",
    "\n",
    "# First 200 of them\n",
    "plt.plot(x[:200], eigvals[:200])\n",
    "plt.title('First 200 eigenvalues of the covariance matrix')\n",
    "plt.figure()\n",
    "\n",
    "# First 20 of them\n",
    "plt.plot(x[:20], eigvals[:20])\n",
    "plt.title('First 20 eigenvalues of the covariance matrix')\n",
    "plt.figure()\n",
    "\n",
    "plt.show()"
   ]
  },
  {
   "cell_type": "code",
   "execution_count": 11,
   "metadata": {},
   "outputs": [
    {
     "name": "stdout",
     "output_type": "stream",
     "text": [
      "[[-1.85240161e+02  4.42441408e+02  3.63007736e+02 ...  5.00692296e+00\n",
      "   1.86134025e+01  3.27988749e+00]\n",
      " [ 6.42376475e+02 -3.21963269e+02 -9.30484595e+02 ... -8.10863032e+00\n",
      "   1.15452474e+01 -3.89415244e+00]\n",
      " [-1.51039676e+02  1.17733176e+02  9.10989569e+02 ...  1.81052936e+00\n",
      "   9.60087340e+00  1.14875605e+01]\n",
      " ...\n",
      " [-2.76492185e+02 -5.65643719e+02  1.12068327e+03 ... -1.74435107e+00\n",
      "  -6.57922039e+00 -8.48761633e+00]\n",
      " [-1.18369779e+03  6.07233659e+02  4.88343624e+02 ... -7.09366478e+00\n",
      "   1.63633699e+01  5.86980565e+00]\n",
      " [-2.56532086e+02  1.61612000e+02 -7.74078887e+02 ...  1.00800922e+00\n",
      "  -7.70548180e+00  2.82069466e+00]] (416, 400)\n"
     ]
    }
   ],
   "source": [
    "# We keep the largest n eigenvalues and theeir corresponding eigenvectors n<=415, the other eigenvalues are zero\n",
    "\n",
    "n = 400\n",
    "eigvecs_best = eigvecs[:, :n]\n",
    "eigvals_best = eigvals[:n]\n",
    "\n",
    "# Projecting each training data point to the space spanned by the eigenvectors\n",
    "proj_pca_train_norm = np.zeros((416, n))\n",
    "for i in range(416):\n",
    "    proj_pca_train_norm [i, :] = np.dot(pca_train_norm[i, :], eigvecs_best)\n",
    "    \n",
    "print (proj_pca_train_norm, proj_pca_train_norm.shape)\n",
    "\n",
    "# Now in array proj_pca_train_norm, in each row, we have the projected coordinates for each face image"
   ]
  },
  {
   "cell_type": "code",
   "execution_count": 12,
   "metadata": {},
   "outputs": [
    {
     "name": "stdout",
     "output_type": "stream",
     "text": [
      "[[ 6329.41216395 -1420.72468193  -152.99383757 ...   833.46014842\n",
      "   1550.88642662   -67.79247501]\n",
      " [-1420.72468193 10672.3884722   -285.70279884 ...  -711.31131284\n",
      "  -6109.6326308   3096.42644834]\n",
      " [ -152.99383757  -285.70279884 10810.37419936 ...  3057.65751228\n",
      "   -490.2743826   1233.57075423]\n",
      " ...\n",
      " [  833.46014842  -711.31131284  3057.65751228 ... 12803.89515212\n",
      "   -675.57280045 -3828.84785593]\n",
      " [ 1550.88642662 -6109.6326308   -490.2743826  ...  -675.57280045\n",
      "  13429.00492005 -2101.73888542]\n",
      " [  -67.79247501  3096.42644834  1233.57075423 ... -3828.84785593\n",
      "  -2101.73888542  9271.76730911]] (416, 416)\n"
     ]
    }
   ],
   "source": [
    "# Let's try to compute the eigenvalues using the low-dimensional method\n",
    "\n",
    "# First we need to compute the new covariance matrix (1/N)A^T*A\n",
    "cov_ld = np.dot(pca_train_norm, pca_train_norm.T)/416\n",
    "print (cov_ld, cov_ld.shape) # as we can see it is NxN (and not DxD as the covariance matrix we had before)"
   ]
  },
  {
   "cell_type": "code",
   "execution_count": 13,
   "metadata": {},
   "outputs": [
    {
     "name": "stdout",
     "output_type": "stream",
     "text": [
      "0.11985087394714355\n",
      "14.305622100830078\n",
      "[9.14456916e+05 5.36265714e+05 4.50017283e+05 2.50954771e+05\n",
      " 2.06166093e+05 1.53229160e+05 1.25820588e+05 1.07051846e+05\n",
      " 9.34669190e+04 8.35364247e+04 6.53216054e+04 5.95679534e+04\n",
      " 5.71804211e+04 5.01401222e+04 4.56275509e+04 4.44320358e+04\n",
      " 3.61483229e+04 3.57199470e+04 3.49313126e+04 3.27199358e+04\n",
      " 2.90171747e+04 2.67076850e+04 2.54468035e+04 2.51119561e+04\n",
      " 2.24879798e+04 2.17514661e+04 2.13217909e+04 2.04310629e+04\n",
      " 1.84491296e+04 1.75979568e+04 1.70436590e+04 1.69475996e+04\n",
      " 1.62262050e+04 1.55960860e+04 1.50355964e+04 1.43210537e+04\n",
      " 1.38444083e+04 1.36397911e+04 1.28738319e+04 1.24059805e+04\n",
      " 1.19817509e+04 1.15027753e+04 1.12149412e+04 1.07900181e+04\n",
      " 1.04789972e+04 1.03102335e+04 9.81058667e+03 9.79238200e+03\n",
      " 9.56523142e+03 9.49014428e+03 9.01370553e+03 8.90955950e+03\n",
      " 8.45321657e+03 8.29495564e+03 8.03437136e+03 7.86248938e+03\n",
      " 7.68812440e+03 7.57985362e+03 7.39859962e+03 7.28899900e+03\n",
      " 7.00901973e+03 6.71483574e+03 6.62323190e+03 6.53068363e+03\n",
      " 6.27668996e+03 6.05365017e+03 5.89958773e+03 5.83819464e+03\n",
      " 5.71750154e+03 5.63511200e+03 5.41896926e+03 5.38250536e+03\n",
      " 5.23532682e+03 5.14574862e+03 5.12219431e+03 4.98863515e+03\n",
      " 4.95437455e+03 4.83175411e+03 4.72153938e+03 4.70278993e+03\n",
      " 4.66980929e+03 4.51471651e+03 4.49620368e+03 4.36021421e+03\n",
      " 4.28552526e+03 4.23350504e+03 4.09000572e+03 4.00300517e+03\n",
      " 3.90712980e+03 3.87372713e+03 3.83330108e+03 3.77635658e+03\n",
      " 3.69223233e+03 3.66246163e+03 3.56512143e+03 3.51311947e+03\n",
      " 3.48880363e+03 3.41083529e+03 3.36299498e+03 3.28476698e+03\n",
      " 3.27433620e+03 3.23666539e+03 3.10489512e+03 3.05325970e+03\n",
      " 3.02359936e+03 2.99325397e+03 2.96108921e+03 2.95101835e+03\n",
      " 2.88663678e+03 2.85360168e+03 2.81684546e+03 2.81234446e+03\n",
      " 2.77208656e+03 2.73258710e+03 2.69649600e+03 2.66318642e+03\n",
      " 2.63727951e+03 2.58519475e+03 2.56694187e+03 2.55181060e+03\n",
      " 2.53968678e+03 2.47876282e+03 2.42403326e+03 2.41813403e+03\n",
      " 2.37392527e+03 2.34526324e+03 2.32642746e+03 2.30269955e+03\n",
      " 2.28947967e+03 2.25166552e+03 2.23259374e+03 2.19211906e+03\n",
      " 2.17799041e+03 2.12781879e+03 2.11042265e+03 2.09311906e+03\n",
      " 2.07241170e+03 2.05807924e+03 2.02879243e+03 1.99751029e+03\n",
      " 1.97558159e+03 1.94077277e+03 1.91845043e+03 1.88890837e+03\n",
      " 1.88353231e+03 1.86496062e+03 1.84651400e+03 1.80923120e+03\n",
      " 1.78291704e+03 1.76129552e+03 1.74377832e+03 1.71859305e+03\n",
      " 1.70857188e+03 1.68469286e+03 1.66500100e+03 1.64783115e+03\n",
      " 1.62491616e+03 1.60156339e+03 1.59687432e+03 1.58326773e+03\n",
      " 1.55594363e+03 1.55354271e+03 1.53788312e+03 1.50742534e+03\n",
      " 1.50257548e+03 1.46609355e+03 1.46473844e+03 1.43955220e+03\n",
      " 1.41728989e+03 1.40392788e+03 1.39397301e+03 1.37940379e+03\n",
      " 1.36810897e+03 1.35522872e+03 1.34094370e+03 1.32471405e+03\n",
      " 1.30598133e+03 1.30391752e+03 1.28344255e+03 1.26125819e+03\n",
      " 1.25541906e+03 1.24972828e+03 1.23527501e+03 1.22478943e+03\n",
      " 1.20613121e+03 1.20488412e+03 1.19810061e+03 1.18435145e+03\n",
      " 1.17531334e+03 1.16188842e+03 1.14346652e+03 1.13420994e+03\n",
      " 1.11803808e+03 1.10942191e+03 1.10092800e+03 1.09142899e+03\n",
      " 1.08262463e+03 1.07719117e+03 1.06976773e+03 1.06085591e+03\n",
      " 1.05099613e+03 1.03533597e+03 1.02871774e+03 1.01820052e+03\n",
      " 1.01217809e+03 9.95107868e+02 9.85941201e+02 9.76315413e+02\n",
      " 9.63517257e+02 9.57968293e+02 9.52940850e+02 9.44718740e+02\n",
      " 9.35735952e+02 9.33123717e+02 9.23999895e+02 9.16912923e+02\n",
      " 9.00402292e+02 8.97025591e+02 8.81585246e+02 8.74811629e+02\n",
      " 8.72566037e+02 8.68768150e+02 8.62066321e+02 8.51569550e+02\n",
      " 8.48242334e+02 8.26614456e+02 8.22779550e+02 8.13526340e+02\n",
      " 8.09937671e+02 8.01349998e+02 7.93487747e+02 7.86435431e+02\n",
      " 7.77869754e+02 7.74791460e+02 7.67725442e+02 7.59209591e+02\n",
      " 7.56335104e+02 7.50961978e+02 7.43063302e+02 7.36124956e+02\n",
      " 7.31222284e+02 7.21067799e+02 7.11188254e+02 7.03633393e+02\n",
      " 7.01257409e+02 6.87730382e+02 6.84222167e+02 6.80665561e+02\n",
      " 6.73039195e+02 6.64674073e+02 6.59846168e+02 6.54381362e+02\n",
      " 6.52003983e+02 6.44186522e+02 6.36718503e+02 6.35303901e+02\n",
      " 6.27689753e+02 6.24757309e+02 6.17908510e+02 6.16975004e+02\n",
      " 6.05879929e+02 6.03775906e+02 6.01812613e+02 5.91125450e+02\n",
      " 5.86629335e+02 5.80606731e+02 5.75314681e+02 5.70696070e+02\n",
      " 5.69037796e+02 5.65511299e+02 5.60829998e+02 5.54886758e+02\n",
      " 5.52609360e+02 5.47770313e+02 5.39790059e+02 5.35889941e+02\n",
      " 5.31789558e+02 5.28326782e+02 5.26141305e+02 5.19171747e+02\n",
      " 5.17324430e+02 5.03111226e+02 5.01521919e+02 4.98394668e+02\n",
      " 4.94160012e+02 4.90736494e+02 4.84909895e+02 4.84116015e+02\n",
      " 4.77220001e+02 4.71197753e+02 4.68917257e+02 4.66658021e+02\n",
      " 4.59098057e+02 4.55513536e+02 4.53326327e+02 4.48815636e+02\n",
      " 4.43281588e+02 4.39217777e+02 4.31365078e+02 4.27734193e+02\n",
      " 4.24916481e+02 4.21133199e+02 4.19164474e+02 4.17459663e+02\n",
      " 4.13215982e+02 4.08447126e+02 4.02584614e+02 4.00392806e+02\n",
      " 3.97035300e+02 3.94540159e+02 3.89075124e+02 3.86671818e+02\n",
      " 3.83874736e+02 3.76815461e+02 3.74921671e+02 3.73759265e+02\n",
      " 3.67558159e+02 3.67069616e+02 3.64405907e+02 3.62132837e+02\n",
      " 3.56944378e+02 3.53877391e+02 3.48763407e+02 3.45935521e+02\n",
      " 3.42322455e+02 3.41049065e+02 3.38944339e+02 3.35952166e+02\n",
      " 3.35053659e+02 3.27508910e+02 3.25175934e+02 3.24629719e+02\n",
      " 3.15975350e+02 3.15490948e+02 3.13193009e+02 3.10981892e+02\n",
      " 3.09418072e+02 3.04543168e+02 3.02327048e+02 3.00033980e+02\n",
      " 2.97401885e+02 2.94618326e+02 2.94072324e+02 2.92263325e+02\n",
      " 2.87485927e+02 2.80582738e+02 2.79746327e+02 2.75209461e+02\n",
      " 2.73947475e+02 2.70342474e+02 2.69432649e+02 2.65670780e+02\n",
      " 2.63554093e+02 2.58685356e+02 2.57770136e+02 2.54075462e+02\n",
      " 2.52417276e+02 2.49984232e+02 2.48214088e+02 2.46787961e+02\n",
      " 2.42320669e+02 2.37835150e+02 2.37565042e+02 2.35222999e+02\n",
      " 2.32312194e+02 2.31476217e+02 2.24535488e+02 2.23360279e+02\n",
      " 2.22909972e+02 2.19926712e+02 2.18559547e+02 2.14252595e+02\n",
      " 2.12763087e+02 2.09510601e+02 2.09395157e+02 2.05821053e+02\n",
      " 2.02877404e+02 2.00706158e+02 1.99102201e+02 1.96953437e+02\n",
      " 1.94243605e+02 1.91489136e+02 1.87278257e+02 1.85495784e+02\n",
      " 1.82923189e+02 1.81856595e+02 1.79725903e+02 1.76789346e+02\n",
      " 1.73831291e+02 1.72116811e+02 1.70693964e+02 1.68231286e+02\n",
      " 1.65953519e+02 1.63185331e+02 1.60970356e+02 1.56689112e+02\n",
      " 1.56580491e+02 1.51970239e+02 1.49588661e+02 1.48027322e+02\n",
      " 1.46689794e+02 1.43911047e+02 1.42354539e+02 1.39485746e+02\n",
      " 1.36774467e+02 1.32036457e+02 1.29565201e+02 1.26802090e+02\n",
      " 1.24733051e+02 1.20634255e+02 1.17834919e+02 1.11319748e+02\n",
      " 1.05939621e+02 9.40513978e+01 8.31560363e+01 1.23463279e-11] (416,)\n"
     ]
    }
   ],
   "source": [
    "# Now we compute the eigenvalues and eigenvectors of the new covariance matrix and measure the elapsed time\n",
    "\n",
    "start_ld = time.time()\n",
    "eigvals_ld, eigvecs_ld = np.linalg.eig(cov_ld) # these are not ordered, so we order them and the corresponding eigenvalues\n",
    "end_ld = time.time()\n",
    "print (end_ld-start_ld)\n",
    "print (end-start)\n",
    "\n",
    "# Taking the real part of the eigenvalues (complex eigenvalues are the result of calculation rounding errors, because the covariance matrix is symmetric)\n",
    "\n",
    "eigvals_ld = np.real(eigvals_ld)\n",
    "eigvecs_ld = np.real(eigvecs_ld)\n",
    "\n",
    "# Order eigenvalues and eigenvectors according to the size of the eigenvalues\n",
    "\n",
    "eigvals_ld = np.abs(eigvals_ld)\n",
    "index_ld = eigvals_ld.argsort()[::-1] # argsort returns the indices that would sort an array (in this case the vector eigvals)\n",
    "eigvals_ld = eigvals_ld[index_ld]\n",
    "eigvecs_ld = eigvecs_ld[:,index_ld]\n",
    "print (eigvals_ld, eigvals_ld.shape)"
   ]
  },
  {
   "cell_type": "code",
   "execution_count": 14,
   "metadata": {},
   "outputs": [
    {
     "name": "stdout",
     "output_type": "stream",
     "text": [
      "415\n",
      "0\n",
      "415\n",
      "914456.9163755537\n",
      "83.15603626726802\n",
      "1.234632790422949e-11\n"
     ]
    },
    {
     "data": {
      "image/png": "[encoded data removed]",
      "text/plain": [
       "<Figure size 432x288 with 1 Axes>"
      ]
     },
     "metadata": {
      "needs_background": "light"
     },
     "output_type": "display_data"
    },
    {
     "data": {
      "image/png": "[encoded data removed]",
      "text/plain": [
       "<Figure size 432x288 with 1 Axes>"
      ]
     },
     "metadata": {
      "needs_background": "light"
     },
     "output_type": "display_data"
    },
    {
     "data": {
      "image/png": "[encoded data removed]",
      "text/plain": [
       "<Figure size 432x288 with 1 Axes>"
      ]
     },
     "metadata": {
      "needs_background": "light"
     },
     "output_type": "display_data"
    },
    {
     "data": {
      "image/png": "[encoded data removed]",
      "text/plain": [
       "<Figure size 432x288 with 1 Axes>"
      ]
     },
     "metadata": {
      "needs_background": "light"
     },
     "output_type": "display_data"
    },
    {
     "data": {
      "text/plain": [
       "<Figure size 432x288 with 0 Axes>"
      ]
     },
     "metadata": {},
     "output_type": "display_data"
    }
   ],
   "source": [
    "# How many zero eigenvalues do we have this time?\n",
    "\n",
    "print (np.linalg.matrix_rank(cov_ld)) # We should have 2576 - 415 = 2161 zero eigenvalues\n",
    "print ((eigvals_ld == np.zeros(eigvals_ld.shape)).sum()) # The rounding errors will give 0 eigenvalues that are precisely zero\n",
    "print ((eigvals_ld >= np.ones(eigvals_ld.shape)/100000).sum()) # However there are 415 eigenvalues that are larger than 1e-05, which can be considered zero eigenvectors.\n",
    "print (eigvals_ld.max()) # The largest eigenvalue\n",
    "print (eigvals_ld[414])\n",
    "print (eigvals_ld[415])\n",
    "\n",
    "# Let's visualise the eigenvalues\n",
    "\n",
    "x = np.arange(0, 416)\n",
    "\n",
    "# All of them\n",
    "plt.plot(x, eigvals_ld) # Clearly out of scale\n",
    "plt.title('All eigenvalues of the covariance matrix')\n",
    "plt.figure()\n",
    "\n",
    "# First 415 of them\n",
    "plt.plot(x[:415], eigvals_ld[:415]) # Still out of scale\n",
    "plt.title('First 415 eigenvalues of the covariance matrix')\n",
    "plt.figure()\n",
    "\n",
    "# First 200 of them\n",
    "plt.plot(x[:200], eigvals_ld[:200])\n",
    "plt.title('First 200 eigenvalues of the covariance matrix')\n",
    "plt.figure()\n",
    "\n",
    "# First 20 of them\n",
    "plt.plot(x[:20], eigvals_ld[:20])\n",
    "plt.title('First 20 eigenvalues of the covariance matrix')\n",
    "plt.figure()\n",
    "\n",
    "plt.show()"
   ]
  },
  {
   "cell_type": "code",
   "execution_count": 21,
   "metadata": {},
   "outputs": [
    {
     "name": "stdout",
     "output_type": "stream",
     "text": [
      "[ 9.31322575e-10 -1.16415322e-10 -1.74622983e-10 -6.69388101e-10\n",
      " -2.32830644e-10  6.98491931e-10 -1.60071068e-10 -4.36557457e-10\n",
      " -2.91038305e-10 -3.63797881e-10  1.01863407e-10 -3.63797881e-11\n",
      "  1.45519152e-11  1.74622983e-10  2.61934474e-10 -3.63797881e-11\n",
      " -5.09317033e-11  1.74622983e-10  7.27595761e-12  1.56433089e-10\n",
      "  3.63797881e-11  1.63709046e-10  4.72937245e-11  2.91038305e-11\n",
      "  3.01952241e-10 -6.18456397e-11 -6.18456397e-11 -4.72937245e-11\n",
      "  9.82254278e-11 -2.54658516e-11 -1.05501385e-10 -6.54836185e-11\n",
      "  7.09405867e-11 -5.45696821e-11 -1.81898940e-11  4.00177669e-11\n",
      " -7.27595761e-12  1.20053301e-10  2.54658516e-11 -5.09317033e-11\n",
      " -3.63797881e-11  3.63797881e-12  7.27595761e-12 -3.09228199e-11\n",
      "  1.63709046e-11  1.63709046e-11  5.63886715e-11  2.36468622e-11\n",
      "  5.45696821e-12  3.63797881e-12  3.63797881e-11 -3.63797881e-12\n",
      "  4.91127139e-11  3.63797881e-12  1.90993887e-11  4.36557457e-11\n",
      "  8.18545232e-12  1.09139364e-11 -3.45607987e-11 -4.91127139e-11\n",
      "  1.81898940e-12  1.18234311e-11  4.72937245e-11  7.27595761e-12\n",
      "  4.54747351e-12 -7.27595761e-12  8.18545232e-12  2.91038305e-11\n",
      " -1.81898940e-12  4.54747351e-12 -4.72937245e-11 -1.63709046e-11\n",
      "  3.36513040e-11  1.00044417e-11  4.63842298e-11  4.18367563e-11\n",
      " -1.45519152e-11  9.09494702e-12  1.54614099e-11  1.00044417e-11\n",
      " -1.90993887e-11  1.00044417e-11 -9.09494702e-13  1.27329258e-11\n",
      "  1.63709046e-11  3.09228199e-11  1.00044417e-11  1.86446414e-11\n",
      "  4.09272616e-12 -4.54747351e-13 -2.50111043e-11 -1.36424205e-11\n",
      "  2.54658516e-11  8.18545232e-12 -1.36424205e-12  1.36424205e-12\n",
      "  1.31876732e-11  1.00044417e-11  1.68256520e-11 -4.54747351e-13\n",
      "  2.72848411e-12  1.36424205e-11 -2.72848411e-12 -8.64019967e-12\n",
      " -5.45696821e-12 -1.04591891e-11 -9.09494702e-12 -1.31876732e-11\n",
      " -1.09139364e-11  4.09272616e-12  1.86446414e-11  9.09494702e-13\n",
      "  5.00222086e-12 -2.22826202e-11 -3.18323146e-12 -8.18545232e-12\n",
      "  6.82121026e-12  2.00088834e-11 -5.45696821e-12 -6.36646291e-12\n",
      "  1.36424205e-11 -9.09494702e-12 -3.18323146e-12  4.54747351e-12\n",
      "  2.27373675e-12  5.91171556e-12 -3.18323146e-12 -4.54747351e-13\n",
      "  1.36424205e-12  2.27373675e-12 -6.82121026e-12  1.95541361e-11\n",
      " -1.00044417e-11 -8.64019967e-12  6.36646291e-12  6.82121026e-12\n",
      "  3.18323146e-12  8.64019967e-12  7.27595761e-12  5.68434189e-12\n",
      " -6.82121026e-13 -3.18323146e-12  5.00222086e-12 -4.09272616e-12\n",
      " -8.86757334e-12  5.00222086e-12 -4.77484718e-12  4.09272616e-12\n",
      "  5.45696821e-12 -4.09272616e-12 -8.64019967e-12  1.81898940e-12\n",
      " -6.82121026e-12 -1.15960574e-11 -1.81898940e-12 -1.06865627e-11\n",
      "  7.73070497e-12 -4.09272616e-12 -7.04858394e-12 -4.09272616e-12\n",
      " -6.59383659e-12 -1.09139364e-11 -5.68434189e-12 -1.36424205e-12\n",
      "  8.64019967e-12 -5.00222086e-12 -4.32009983e-12 -8.64019967e-12\n",
      " -2.27373675e-13  4.77484718e-12  5.68434189e-12 -8.41282599e-12\n",
      "  5.91171556e-12 -7.73070497e-12 -2.95585778e-12  5.45696821e-12\n",
      "  1.11413101e-11  8.18545232e-12  7.95807864e-12 -1.43245416e-11\n",
      "  4.54747351e-13  8.41282599e-12  5.45696821e-12  8.86757334e-12\n",
      "  6.82121026e-12  7.50333129e-12  6.59383659e-12  9.77706804e-12\n",
      "  2.72848411e-12  4.77484718e-12  1.81898940e-12  4.54747351e-13\n",
      "  4.32009983e-12  7.73070497e-12  3.63797881e-12 -3.18323146e-12\n",
      " -9.77706804e-12 -7.27595761e-12 -6.36646291e-12  2.27373675e-13\n",
      "  8.41282599e-12 -9.09494702e-13  7.73070497e-12  3.63797881e-12\n",
      " -2.61479727e-12 -3.18323146e-12  2.95585778e-12 -1.59161573e-12\n",
      "  1.36424205e-12  3.75166564e-12  2.38742359e-12 -2.72848411e-12\n",
      " -3.97903932e-12 -1.93267624e-12  1.59161573e-12 -3.52429197e-12\n",
      " -3.06954462e-12 -2.38742359e-12 -4.32009983e-12  2.27373675e-12\n",
      " -5.34328137e-12 -6.82121026e-13  3.63797881e-12 -3.29691829e-12\n",
      "  1.13686838e-13  3.18323146e-12  6.82121026e-13  7.95807864e-13\n",
      " -7.84439180e-12  6.59383659e-12 -7.95807864e-13 -2.04636308e-12\n",
      "  4.09272616e-12  7.95807864e-13 -1.25055521e-12  2.72848411e-12\n",
      "  2.72848411e-12 -5.22959454e-12  2.61479727e-12  1.81898940e-12\n",
      "  1.81898940e-12  3.41060513e-13  3.41060513e-13  2.61479727e-12\n",
      " -3.41060513e-13  4.88853402e-12  4.43378667e-12  6.93489710e-12\n",
      "  4.54747351e-12 -2.27373675e-13  4.77484718e-12  9.09494702e-13\n",
      "  2.04636308e-12  6.59383659e-12  9.09494702e-13  2.95585778e-12\n",
      "  1.93267624e-12  5.34328137e-12  1.59161573e-12 -2.95585778e-12\n",
      "  5.68434189e-13  1.70530257e-12 -4.43378667e-12  6.02540240e-12\n",
      " -1.70530257e-12 -3.63797881e-12  8.52651283e-12 -3.41060513e-13\n",
      "  4.43378667e-12  3.06954462e-12  1.13686838e-12 -3.41060513e-13\n",
      "  6.82121026e-13  0.00000000e+00 -3.06954462e-12 -1.25055521e-12\n",
      "  1.81898940e-12  2.50111043e-12  1.13686838e-12  1.59161573e-12\n",
      " -2.04636308e-12  1.13686838e-13 -5.68434189e-13  1.70530257e-13\n",
      " -7.38964445e-13 -2.72848411e-12  1.81898940e-12 -1.42108547e-12\n",
      " -9.66338121e-13  0.00000000e+00  1.42108547e-12 -3.24007488e-12\n",
      "  2.27373675e-12 -2.10320650e-12 -2.50111043e-12 -1.98951966e-12\n",
      " -6.82121026e-12  1.93267624e-12 -9.66338121e-13 -1.13686838e-12\n",
      " -5.68434189e-14  2.84217094e-13 -7.95807864e-13 -5.00222086e-12\n",
      " -1.25055521e-12 -3.41060513e-12  2.27373675e-12  2.84217094e-13\n",
      "  2.27373675e-13 -1.93267624e-12 -2.16004992e-12 -1.08002496e-12\n",
      "  3.75166564e-12  3.97903932e-12  2.38742359e-12  1.64845915e-12\n",
      "  1.19371180e-12  4.14956958e-12  0.00000000e+00  3.80850906e-12\n",
      "  5.68434189e-14 -1.98951966e-12  3.06954462e-12 -2.33058017e-12\n",
      "  2.38742359e-12 -3.97903932e-13  1.76214598e-12  4.37694325e-12\n",
      " -1.36424205e-12  2.33058017e-12  5.45696821e-12 -3.41060513e-13\n",
      "  9.09494702e-13 -5.68434189e-13  3.29691829e-12 -2.67164069e-12\n",
      "  1.42108547e-12  2.27373675e-13  5.68434189e-14  6.25277607e-13\n",
      "  3.86535248e-12 -3.58113539e-12  1.70530257e-13  4.03588274e-12\n",
      "  1.08002496e-12  1.47792889e-12  1.87583282e-12  2.27373675e-13\n",
      "  7.38964445e-13 -2.27373675e-12  1.08002496e-12 -2.50111043e-12\n",
      "  8.52651283e-13 -6.25277607e-13 -2.33058017e-12 -2.72848411e-12\n",
      "  0.00000000e+00  2.98427949e-12 -1.33582034e-12  2.67164069e-12\n",
      " -1.98951966e-12  2.89901436e-12 -5.68434189e-13  9.66338121e-13\n",
      " -3.69482223e-12 -2.75690581e-12  5.59907676e-12  1.33582034e-12\n",
      " -1.47792889e-12  1.70530257e-12  4.09272616e-12 -4.23483471e-12\n",
      " -1.10844667e-12 -2.41584530e-12 -1.98951966e-12 -4.94537744e-12\n",
      " -1.33582034e-12 -6.82121026e-13 -7.10542736e-13  2.44426701e-12\n",
      " -3.69482223e-13 -5.96855898e-13  1.81898940e-12  2.33058017e-12\n",
      "  2.44426701e-12 -1.70530257e-12 -5.96855898e-13 -7.95807864e-13\n",
      "  3.60955710e-12  2.87059265e-12  4.83169060e-13  1.39266376e-12\n",
      "  1.02318154e-12  4.51905180e-12 -3.89377419e-12 -4.91695573e-12\n",
      "  1.02318154e-12  2.30215846e-12  2.41584530e-12  2.55795385e-12\n",
      " -7.38964445e-13  6.67910172e-12 -1.10844667e-12  3.12638804e-13\n",
      " -2.67164069e-12 -1.42108547e-12  8.52651283e-14  7.10542736e-13\n",
      " -2.14583906e-12  4.54747351e-13 -5.25801624e-13  1.10844667e-12\n",
      " -2.30215846e-12 -9.23705556e-13 -6.49436060e-12  3.58017697e-11] (416,)\n",
      "[[ 0.00949745  0.02962232  0.02653106 ...  0.01888906 -0.02688015\n",
      "  -0.04902903]\n",
      " [-0.03293528 -0.02155607 -0.06800611 ...  0.01241229  0.01166922\n",
      "  -0.04902903]\n",
      " [ 0.00774395  0.00788247  0.06658128 ... -0.02441098  0.01446184\n",
      "  -0.04902903]\n",
      " ...\n",
      " [ 0.01417603 -0.03787096  0.08190711 ...  0.04227123 -0.02145083\n",
      "  -0.04902903]\n",
      " [ 0.06068936  0.04065549  0.03569146 ...  0.04227741 -0.00111002\n",
      "  -0.04902903]\n",
      " [ 0.01315265  0.01082024 -0.05657492 ...  0.02473742 -0.00223511\n",
      "  -0.04902903]] (416, 416)\n",
      "(2576, 416)\n",
      "[[ 2.89212783e+02  2.47338664e+02  2.28689559e+02 ...  8.77433103e+00\n",
      "  -7.13844836e-02 -2.56150656e-12]\n",
      " [ 3.07314190e+02  2.48660650e+02  2.51812877e+02 ...  1.04917548e+00\n",
      "  -2.84721793e+00 -2.84217094e-14]\n",
      " [ 3.18254718e+02  2.43135806e+02  2.86049040e+02 ... -9.01728831e+00\n",
      "  -1.43208788e+00  9.09494702e-13]\n",
      " ...\n",
      " [-7.53626782e+01 -7.56947054e+02 -3.26581006e+01 ... -8.26804113e+00\n",
      "  -7.19688714e+00 -1.41220369e-13]\n",
      " [-6.71622039e+01 -7.49724753e+02 -3.44426532e+01 ... -2.93011579e+00\n",
      "  -4.99721188e+00 -5.66657832e-13]\n",
      " [-7.20316689e+01 -7.61685565e+02 -5.50910066e+01 ... -4.20880478e+00\n",
      "   1.70624039e+00 -1.17417187e-12]] (2576, 416)\n",
      "[[-0.01482823  0.01655981  0.01671418 ... -0.0443593   0.0003838\n",
      "   0.00016235]\n",
      " [-0.0157563   0.01664832  0.01840419 ... -0.00530419  0.01530831\n",
      "   0.00563424]\n",
      " [-0.01631723  0.01627842  0.0209064  ...  0.04558759  0.00769974\n",
      "  -0.01104313]\n",
      " ...\n",
      " [ 0.00386392 -0.05067909 -0.00238687 ...  0.04179972  0.03869467\n",
      "   0.01251842]\n",
      " [ 0.00344347 -0.05019554 -0.0025173  ...  0.01481343  0.02686793\n",
      "  -0.02866558]\n",
      " [ 0.00369314 -0.05099634 -0.00402642 ...  0.02127794 -0.00917374\n",
      "  -0.00986027]] (2576, 416)\n",
      "[[-2.96564519e-02 -5.89805982e-17  6.59194921e-17 ... -8.87186078e-02\n",
      "   7.67609361e-04  7.32040415e-02]\n",
      " [-3.15126060e-02 -2.87964097e-16  1.59594560e-16 ... -1.06083743e-02\n",
      "   3.06166134e-02  6.44468767e-03]\n",
      " [-3.26344694e-02 -1.35308431e-16  1.94289029e-16 ...  9.11751862e-02\n",
      "   1.53994819e-02 -3.69774912e-02]\n",
      " ...\n",
      " [ 7.72783836e-03  4.16333634e-17 -2.42861287e-16 ...  8.35994329e-02\n",
      "   7.73893382e-02  1.65453337e-02]\n",
      " [ 6.88694547e-03  5.55111512e-17 -2.12069945e-16 ...  2.96268505e-02\n",
      "   5.37358600e-02 -1.25072612e-02]\n",
      " [ 7.38627007e-03  4.85722573e-17 -2.41126563e-16 ...  4.25558712e-02\n",
      "  -1.83474899e-02  2.36213905e-02]]\n"
     ]
    }
   ],
   "source": [
    "# What is the relationship between the eigenvalues and the eigenvectors resulting from the two methods\n",
    "\n",
    "print (eigvals[:416]-eigvals_ld, (eigvals[:416]-eigvals_ld).shape)\n",
    "# Therefore the eigenvalues are identical\n",
    "\n",
    "print(eigvecs_ld, eigvecs_ld.shape)\n",
    "print ((pca_train_norm.T).shape)\n",
    "eigvecs_ld_cmp = np.dot(pca_train_norm.T, eigvecs_ld)\n",
    "print (eigvecs_ld_cmp, eigvecs_ld_cmp.shape)\n",
    "print (eigvecs[:, :416], eigvecs[:, :416].shape)\n",
    "print (eigvecs[:, :416]-eigvecs_ld_cmp/np.linalg.norm(eigvecs_ld_cmp,axis=0))"
   ]
  },
  {
   "cell_type": "code",
   "execution_count": 16,
   "metadata": {
    "scrolled": true
   },
   "outputs": [
    {
     "data": {
      "text/plain": [
       "<matplotlib.image.AxesImage at 0xb278e00f0>"
      ]
     },
     "execution_count": 16,
     "metadata": {},
     "output_type": "execute_result"
    },
    {
     "data": {
      "image/png": "[encoded data removed]",
      "text/plain": [
       "<Figure size 432x288 with 1 Axes>"
      ]
     },
     "metadata": {
      "needs_background": "light"
     },
     "output_type": "display_data"
    }
   ],
   "source": [
    "# Let's try to reconstruct one face image, just as a sanity check to see if we can still see a face (worse quality of course, because we did a lossy transformation on it)\n",
    "face_check = avg_face + np.dot(eigvecs_best, proj_pca_train_norm[0, :])\n",
    "plt.imshow(np.reshape(face_check, (46,56)).T, cmap = 'gist_gray')"
   ]
  },
  {
   "cell_type": "code",
   "execution_count": null,
   "metadata": {},
   "outputs": [],
   "source": []
  },
  {
   "cell_type": "markdown",
   "metadata": {},
   "source": [
    "Testing"
   ]
  },
  {
   "cell_type": "code",
   "execution_count": 17,
   "metadata": {},
   "outputs": [
    {
     "name": "stdout",
     "output_type": "stream",
     "text": [
      "[[-33.75480769 -32.08894231 -28.43269231 ... -42.36538462 -30.40384615\n",
      "  -35.73076923]\n",
      " [-25.75480769 -25.08894231 -23.43269231 ... -31.36538462 -30.40384615\n",
      "  -27.73076923]\n",
      " [ 42.24519231 -13.08894231 -47.43269231 ... -42.36538462 -47.40384615\n",
      "  -51.73076923]\n",
      " ...\n",
      " [ -7.75480769  -1.08894231  24.56730769 ... -16.36538462 -18.40384615\n",
      "  -20.73076923]\n",
      " [-46.75480769 -52.08894231 -53.43269231 ...   6.63461538  18.59615385\n",
      "   27.26923077]\n",
      " [-15.75480769 -16.08894231 -11.43269231 ...  -6.36538462  -5.40384615\n",
      "    3.26923077]] (104, 2576)\n",
      "[[-6.56170982e+02  6.78032535e+02 -2.91063815e+02 ...  8.82522751e-01\n",
      "  -2.38332549e+01  1.67055658e+01]\n",
      " [-2.27729746e+03 -5.66774616e+01 -1.36068238e+03 ...  7.68784792e+00\n",
      "  -2.43225952e+00 -3.06833567e+01]\n",
      " [-1.12775099e+03 -1.31721985e+01  1.07379462e+03 ... -3.82170341e+00\n",
      "   7.00477297e+00 -2.43264447e+01]\n",
      " ...\n",
      " [ 1.18950778e+03  2.12644258e+02  4.95763217e+02 ... -1.83861821e+01\n",
      "  -2.58066909e+00  1.69811132e+01]\n",
      " [ 4.07148075e+02 -2.70488296e+02 -5.84754248e+02 ...  1.71767730e+01\n",
      "   4.19404008e+00  1.40938896e+01]\n",
      " [-3.66076919e+02 -2.73739094e+02 -3.49811362e+02 ...  1.46020658e+00\n",
      "   1.33874848e+01  4.04851681e+00]] (104, 400)\n"
     ]
    }
   ],
   "source": [
    "# Now that we've trained our model, let's test it on our testing data set\n",
    "# First, let's normalise the testing set (subtract the average face from all face images)\n",
    "\n",
    "pca_test_norm = pca_test-avg_face # Works because of broadcasting\n",
    "print (pca_test_norm, pca_test_norm.shape)\n",
    "\n",
    "# Then let's project each testing image to the eigenspace (space spanned by the best eigenvectors)\n",
    "proj_pca_test_norm = np.zeros((104, n))\n",
    "for i in range(104):\n",
    "    proj_pca_test_norm [i, :] = np.dot(pca_test_norm[i, :], eigvecs_best)\n",
    "\n",
    "print (proj_pca_test_norm, proj_pca_test_norm.shape)\n",
    "\n",
    "# Now in array proj_pca_test_norm, in each row, we have the projected coordinates for each face image"
   ]
  },
  {
   "cell_type": "code",
   "execution_count": 18,
   "metadata": {
    "scrolled": false
   },
   "outputs": [
    {
     "name": "stdout",
     "output_type": "stream",
     "text": [
      "[2247.90252839 3120.83817164 2913.81845195 2558.5446256  3321.83291124\n",
      " 3282.25495062 3306.31921775 2731.45598763 2327.89926083 3052.77706931\n",
      " 2010.35544738 2480.16606097 3877.88669971 2875.14800681 2093.06315966\n",
      " 2613.44323107 2571.7041125  2577.26427085 1924.49387843 2525.62948414\n",
      " 3076.84034095 2427.2740627  2840.55414177 2388.42042085 2729.6737196\n",
      " 2677.61580372 2304.63447428 2424.81774789 2973.2519393  2345.74921856\n",
      " 2947.13342331 2739.63232743 2415.43963922 2962.02844987 3049.49696877\n",
      " 2416.46954911 3252.4916316  2687.55315851 3461.21809997 2610.1012725\n",
      " 2782.15823396 3121.83972524 3022.02787453 2425.16761208 2666.73845582\n",
      " 3628.77632577 2709.33108263 2259.59965194 2831.81231085 2495.22065672\n",
      " 2882.94554996 2876.20136125 2525.74079936 2833.69835537 1972.32604984\n",
      " 1754.99727417 2535.33661022 2407.27745995 2312.11897103 2552.96887297\n",
      " 2666.01103968 2358.39708279 2953.2814457  2623.75480794 2397.30276527\n",
      " 2860.91218823 2824.61110385 2791.14868128 2551.52337485 3031.12145138\n",
      " 1648.62414342 2540.98337497 3081.71125843 2248.78356743 3086.29209363\n",
      " 3076.25019563 2200.92533483 2080.3001073  2562.57276925 2501.10907026\n",
      " 1878.91618296 2872.16456845 2802.49837926 2490.40224781 2564.08458875\n",
      " 2924.36016259 3088.23562247 2329.22127714 2574.75314089 2460.87662326\n",
      " 2635.72400642 3364.91741304 2607.79629479 3528.88793856 2739.41896021\n",
      " 2136.2830909  2738.88731732 2855.43183902 3278.93023052 3432.5536029\n",
      " 3443.45239325 2884.67733917 3458.51823773 1744.80345256 2913.68759087\n",
      " 2919.19439872 2910.97439474 2277.39169155 2366.20263737 2536.44021892\n",
      " 2414.70588686 2537.78802155 2426.69892425 2561.56777554 2102.83690543\n",
      " 3730.18987403 2459.49895227 2671.94368214 2875.19540453 2642.05461343\n",
      " 3045.50948697 2940.32582994 2433.26231314 3617.6415433  2643.41264156\n",
      " 2760.08937358 3570.0308135  2278.47965214 2820.74533574 3405.15468934\n",
      " 2431.44285652 2359.67418591 2699.26353768 3239.90097111 2957.20264257\n",
      " 2323.60886238 2910.58580058 2870.94093889 2696.03145758 2925.16331899\n",
      " 2280.59537972 2904.1274607  2592.08275615 1847.82708285 2453.9212364\n",
      " 3147.57870986 2562.33367137 2450.10639934 2567.54018374 3105.36717365\n",
      " 2063.98427493 2767.95767727 3080.07068252 2159.19414763 2628.5629433\n",
      " 3058.08241139 2971.59203894 2470.6297081  3209.0023294  2120.78024778\n",
      " 2648.91287549 2631.07308569 2352.34221841 2832.70163976 2014.86124741\n",
      " 2469.35057626 3355.98282483 2528.73308018 2379.00393797 3005.52054186\n",
      " 3555.20775167 2648.52111921 2069.49711917 2738.21312491 2055.81826987\n",
      " 3328.05296455 2497.30168142 3148.23232897 1960.64962652 3164.81138123\n",
      " 2897.21581448 2967.34357683 2860.06427146 1648.51075868 2293.5684998\n",
      " 2691.90667805 2534.53384028 2400.95238884 2708.07329082 2784.22543518\n",
      " 2885.55498217 2355.34725901 2054.24206253 2285.79223349 2913.59066494\n",
      " 3416.35433396 1462.39171133 3074.1029903  2576.58090304 2932.51810886\n",
      " 2963.47546459 2509.8015946  2550.82059897 2986.44859687 2605.23411806\n",
      " 2417.87780377 2343.4452623  2047.77984801 3281.75443439 3170.65783033\n",
      " 2770.47354597 2778.5054779  3193.73905637 3348.03019685 2140.31972847\n",
      " 1958.81682171 2811.30729076 2420.68639184 1876.50269993 3110.71626094\n",
      " 3024.50552239 2245.59043521 2402.82820566 2713.05331264 2579.15496756\n",
      " 2471.63296703 2415.38656779 2796.71235986 2686.4986788  3023.64337882\n",
      " 2659.16386471 2808.34103124 2324.17704324 2574.47285924 2381.63787368\n",
      " 2140.17237646 2805.95997486 3404.07107713 2899.18424974 1809.87118165\n",
      " 2097.25480077 2093.24998701 2807.10778524 2699.23243289 3397.11983459\n",
      " 2963.50937617 3152.934007   2302.75578592 2964.92743384 2476.16357751\n",
      " 2301.93981281 2674.20475751 1578.78051578 2912.37286714 3184.41047722\n",
      " 2510.32948511 3569.65897084 2526.54173638 1671.66425386 1711.76581052\n",
      " 2513.66350891 2906.87014188 2711.1487324  2090.71974828 2343.22322705\n",
      " 2744.5200272  2523.72595494 2293.45536164 2469.15242853 2507.49341783\n",
      " 2516.09013267 3015.02699065 2503.38750217 3426.83434523 1957.71150469\n",
      " 2882.00190982 2441.37400869 2252.78946171 2512.33542246 2457.44388727\n",
      " 3541.93633196 2790.3958757  2469.47021907 2433.80120816 3012.57807241\n",
      " 2987.62421868 2879.23308234 2651.46536016 2705.63881652 3430.61380311\n",
      " 2498.86769124 2903.43660389 2176.76052094 2442.85152199 2416.85331094\n",
      " 2860.74138005 2269.81096175 2688.48649621 2497.81654031 3003.5112776\n",
      " 2487.48468508 2316.03001167 2405.41495029 2292.41873895 2622.96995534\n",
      " 3652.7411309  2108.42961487 2270.30387366 2720.5241992  2948.99017038\n",
      " 2488.15322116 2781.71233195 2838.77389567 1849.2456942  3726.24237788\n",
      " 2809.61325501 2376.77686101 2493.93431334 2546.78722753 2143.52630047\n",
      " 2360.39836689 2271.50764354 2756.50502146 2018.61778138 2961.42919344\n",
      " 2717.53999376 2650.34548074 2631.00625614 2993.31837871 2674.30494036\n",
      " 1578.28398973 3414.41739862 2512.99741812 3032.89114262 2995.61208558\n",
      " 3477.93740299 2745.31927088 2665.05234577 2798.20521111 2539.18562444\n",
      " 2574.13383384 2986.27700804 2060.58236793 2549.19523649 2260.7468962\n",
      " 2676.77940466 2555.99912028 2385.2474647  2899.50327827 2664.13700605\n",
      " 2440.88052586 2396.30885506 2268.93418967 2768.74351098 2554.46204432\n",
      " 2932.05891726 2230.91818525 3355.87680368 2944.37196041 2809.23781499\n",
      " 2397.32394081 3266.81019048 2740.74696188 2470.75002213 2460.65737734\n",
      " 2720.7701699  2520.58826986 3587.62275259 2259.88749578 3601.63059948\n",
      " 2701.86141806 2392.04374234 3063.0104314  2903.68265026 3423.71226284\n",
      " 2315.43644529 2906.14825121 2189.20345363 2112.81105697 2980.16781464\n",
      " 2854.00046447 2762.47553856 1981.05294043 2890.68174161 2088.28538309\n",
      " 2249.02305616 2552.52518254 2099.78583761 3213.04970719 3016.44946724\n",
      " 3005.1708252  2724.31310582 2393.09496876 2410.29745943 2582.63575385\n",
      " 2709.46761648 2834.63640555 2361.64135049 2262.92693894 2408.78420645\n",
      " 2231.1528601  3134.65230484 2594.85290325 2013.11973086 2448.89400717\n",
      " 3756.99598234 2959.24926638 3353.82662097 2490.34175374 2592.16715957\n",
      " 3009.5222876  3439.09824475 2727.98030613 3270.83464033 2368.60385805\n",
      " 2493.20793377] (416,)\n",
      "1462.3917113317216 196\n",
      "5\n",
      "5\n"
     ]
    },
    {
     "data": {
      "text/plain": [
       "<matplotlib.image.AxesImage at 0xb28b6d908>"
      ]
     },
     "execution_count": 18,
     "metadata": {},
     "output_type": "execute_result"
    },
    {
     "data": {
      "image/png": "[encoded data removed]",
      "text/plain": [
       "<Figure size 432x288 with 1 Axes>"
      ]
     },
     "metadata": {
      "needs_background": "light"
     },
     "output_type": "display_data"
    },
    {
     "data": {
      "image/png": "[encoded data removed]",
      "text/plain": [
       "<Figure size 432x288 with 1 Axes>"
      ]
     },
     "metadata": {
      "needs_background": "light"
     },
     "output_type": "display_data"
    },
    {
     "data": {
      "image/png": "[encoded data removed]",
      "text/plain": [
       "<Figure size 432x288 with 1 Axes>"
      ]
     },
     "metadata": {
      "needs_background": "light"
     },
     "output_type": "display_data"
    }
   ],
   "source": [
    "# Let's classify the first image\n",
    "plt.imshow(np.reshape(pca_test[0, :], (46,56)).T, cmap = 'gist_gray')\n",
    "plt.figure()\n",
    "\n",
    "distances = np.zeros(416)\n",
    "\n",
    "for i in range(416):\n",
    "    distances[i] = np.linalg.norm(proj_pca_train_norm[i, :]-proj_pca_test_norm[0, :])\n",
    "    \n",
    "print (distances, distances.shape)\n",
    "\n",
    "smallest_distance = distances.min()\n",
    "smallest_index = distances.argmin()\n",
    "print (smallest_distance, smallest_index)\n",
    "\n",
    "# Which identity does it belong to according to the learning set?\n",
    "print (training[smallest_index, 2576])\n",
    "# Which identity does it actually belong to?\n",
    "print (test[0, 2576])\n",
    "\n",
    "# Print the picture that our picture is the closest to\n",
    "plt.imshow(np.reshape(pca_train[smallest_index, :], (46,56)).T, cmap = 'gist_gray')\n",
    "plt.figure()\n",
    "\n",
    "# Print our actual image\n",
    "plt.imshow(np.reshape(pca_test[0, :], (46,56)).T, cmap = 'gist_gray')"
   ]
  },
  {
   "cell_type": "code",
   "execution_count": 19,
   "metadata": {},
   "outputs": [
    {
     "name": "stdout",
     "output_type": "stream",
     "text": [
      "[[2247.90252839 3339.72091689 2482.92285368 ... 2747.94200189\n",
      "  2122.93862935 2470.66005266]\n",
      " [3120.83817164 3788.61253561 3421.83717868 ... 2869.90442228\n",
      "  2087.8854441  2453.52854123]\n",
      " [2913.81845195 3863.68519883 2295.22524342 ... 2686.57050247\n",
      "  2712.04062233 2990.26493714]\n",
      " ...\n",
      " [3270.83464033 3965.34251092 2637.9318764  ... 2803.67288229\n",
      "  3046.58701004 2834.8635018 ]\n",
      " [2368.60385805 3277.36348495 2905.17494995 ... 3198.78616214\n",
      "  3307.15888068 2959.94217807]\n",
      " [2493.20793377 3252.69713148 2748.37979013 ... 3182.21034004\n",
      "  1983.07660562 2455.72631477]] (416, 104)\n",
      "[1462.39171133 1944.44944058 1836.20557988 1604.91362182 1393.61795318\n",
      " 1599.93223146 1961.90543745 1325.14814614  814.67658505  865.1076686\n",
      " 1942.88664953 1995.52132382 1827.49270402 1309.49651393 2253.27113884\n",
      " 1569.22567242 1879.77444904 1559.71370225 1557.40572576 1985.52782306\n",
      " 1479.39654529 1359.83649699 1337.39850409 1120.69105434  993.46726937\n",
      " 1572.20071262  940.73833218 1570.97240119 1944.41692379 2117.08791151\n",
      "  721.94820033 1445.8906683  1598.81443086 1408.41314852 1622.80595246\n",
      " 1641.02237817 1724.44560912 1580.6122016  1384.71436154 1795.27939848\n",
      " 1657.87567173 1641.74649945 1526.04605607 1617.02822911 1709.54095864\n",
      " 1769.21707565 1859.99087239 2110.6315231  1159.2274662  1604.85385298\n",
      "  943.84249396 1802.22876128 1783.31286111 1851.49700003 1494.4168609\n",
      " 1692.69247586 1145.07482825 1725.76258251 1366.93674674 1614.43234272\n",
      " 1636.10293876 1348.26570662 1349.03707763 1711.89975538 2025.63224838\n",
      " 1729.13002555 1901.0912751  1728.99013185 1529.03505874 1684.43487981\n",
      "  720.35589913 1689.10242777 1349.35376595 1379.41800708 1313.66464947\n",
      " 1234.01263506 1723.86199947 1918.8394242  1567.02953382 1241.31748397\n",
      " 1141.05263858 1346.64924859 1821.42647911 1618.04450907 1063.87111509\n",
      "  818.95519406  794.06870868 1432.27781773 1111.04652185 1211.17228232\n",
      " 1741.28935931 1350.02990914 1028.03489355 1703.23968419  713.74100895\n",
      "  900.23911055 1867.89446968 1319.74980533 1631.5432408  1857.83074284\n",
      " 1365.10141036 1508.57511759 1529.23603832 1078.40007942] (104,)\n",
      "[196  61 228 304 362 290 243 362 294 238 366 111  60 240 301 290 258 112\n",
      "  21 348 375 362 362  56 155  54  86 195 321  95 273 329 159 322 114 143\n",
      " 177 296 259   3 232  77 342   0 401  17 213  85 299 398  77 312 148 139\n",
      " 168 323 346  84  17 165 364   1   2 348 407 262 235 228 246 215 196 126\n",
      "  83 393 257 334 313 178 106 124 362 220 198  52  55 294 106 186  45 174\n",
      " 304 327  95 109   9 164 268  15  84 345 100 233 168 222] (104,)\n",
      "[ 5 34 36 30 24  7 31  3 21 51 44  2 22 12 50 38  2 52 44 41 31  3  3 16\n",
      " 51 45 49  1 45 36  7 15 17 30 37  2 36 13 16 10  9 44 39 31 47 46 19 48\n",
      " 17  5 29 30 14  6 29 12  6 16 46 50 40  6 10 47  7 44 13 36 19  5  5 13\n",
      " 42 23 35 38 18 50 38 20 24 30 23 17  8 21 10  4 26 37 17 31 37 30  4 32\n",
      " 32 15 25 50 42 22 52 23] (104,)\n",
      "[ 5 40 48 33  4 26 40  4 21 51  1 11 22 14 50 26  8 52 11 47 31  4  4 16\n",
      " 51 32 49  7 45 37  7 15 14 11 37 32 16 13  2  1  9 29 39 31 47 46 49 34\n",
      " 17  5 29 17 14 10 41 14  6 25 46 50 35  6 10 47  7 11  9 48 21  5  5 13\n",
      " 42 23 35 38 46 45 10 20  4 30 23 17  8 21 10  3 26 37 33 31 37 29  4 32\n",
      " 32 15 25 50 38 12 41 23] (104,)\n",
      "[ True False False False False False False False  True  True False False\n",
      "  True False  True False False  True False False  True False False  True\n",
      "  True False  True False  True False  True  True False False  True False\n",
      " False  True False False  True False  True  True  True  True False False\n",
      "  True  True  True False  True False False False  True False  True  True\n",
      " False  True  True  True  True False False False False  True  True  True\n",
      "  True  True  True  True False False False  True False  True  True  True\n",
      "  True  True  True False  True  True False  True  True False  True  True\n",
      "  True  True  True  True False False False  True] (104,)\n",
      "0.5384615384615384\n"
     ]
    }
   ],
   "source": [
    "# Now let's do this for all of the testing images\n",
    "\n",
    "distances = np.zeros((416, 104)) # In each row we store the distances (1 column = 1 testing image's distances)\n",
    "\n",
    "for k in range (104):\n",
    "    for i in range(416):\n",
    "        distances[i, k] = np.linalg.norm(proj_pca_train_norm[i, :]-proj_pca_test_norm[k, :])\n",
    "        \n",
    "# Now we have in each column the distances of the testing images from each of the training images.\n",
    "# Next step is to find the minimum of each column, and the corresponding row index (per column)\n",
    "print (distances, distances.shape)\n",
    "\n",
    "smallest_distance = distances.min(axis=0) # min per columns\n",
    "smallest_index = distances.argmin(axis=0)\n",
    "print (smallest_distance, smallest_distance.shape)\n",
    "print (smallest_index, smallest_index.shape)\n",
    "\n",
    "# Get the smallest distance image's label\n",
    "#detected_label = np.zeros (104)\n",
    "#for j in range(104):\n",
    "#    detected_label[j] = training[smallest_index[j], 2576]\n",
    "#print (detected_label, detected_label.shape)\n",
    "\n",
    "actual_label = test [:, 2576].T\n",
    "\n",
    "print (actual_label, actual_label.shape)\n",
    "\n",
    "\n",
    "# Which identity does it belong to according to the learning set?\n",
    "print (training[smallest_index, 2576], training[smallest_index, 2576].shape)\n",
    "\n",
    "same = (training[smallest_index, 2576]==actual_label)\n",
    "\n",
    "print (same, same.shape)\n",
    "\n",
    "percentage = np.sum(same)/104\n",
    "\n",
    "print (percentage)\n"
   ]
  },
  {
   "cell_type": "code",
   "execution_count": null,
   "metadata": {},
   "outputs": [],
   "source": []
  },
  {
   "cell_type": "code",
   "execution_count": null,
   "metadata": {},
   "outputs": [],
   "source": []
  },
  {
   "cell_type": "code",
   "execution_count": 20,
   "metadata": {},
   "outputs": [
    {
     "name": "stdout",
     "output_type": "stream",
     "text": [
      "Maximum memory used by high dimension way: 625.9609375 MiB\n",
      "Maximum memory used by donothing: 419.203125 MiB\n"
     ]
    }
   ],
   "source": [
    "def highdimension():\n",
    "    eigvals_hd, eigvecs_hd = np.linalg.eig(cov)\n",
    "    return\n",
    "\n",
    "#def lowdimension():\n",
    "#    eigvals2_ld, eigvecs2_ld = np.linalg.eig(cov2)\n",
    "#    return\n",
    "\n",
    "def donothing():\n",
    "    x=1123\n",
    "    return\n",
    "\n",
    "#mem_low = max(memory_usage(proc=lowdimension))\n",
    "mem_high = max(memory_usage(proc=highdimension))\n",
    "mem_nothing = max(memory_usage(proc=donothing))\n",
    "\n",
    "#print(\"Maximum memory used by low dimension way: {0} MiB\".format(str(mem_low)))\n",
    "print(\"Maximum memory used by high dimension way: {0} MiB\".format(str(mem_high)))\n",
    "print(\"Maximum memory used by donothing: {0} MiB\".format(str(mem_nothing)))\n",
    "\n",
    "# Check it tomorrow, strange that the memory usage of donothing and lowdimension if the same, but don't know why yet"
   ]
  },
  {
   "cell_type": "code",
   "execution_count": null,
   "metadata": {},
   "outputs": [],
   "source": []
  },
  {
   "cell_type": "code",
   "execution_count": null,
   "metadata": {},
   "outputs": [],
   "source": []
  }
 ],
 "metadata": {
  "kernelspec": {
   "display_name": "Python 3",
   "language": "python",
   "name": "python3"
  },
  "language_info": {
   "codemirror_mode": {
    "name": "ipython",
    "version": 3
   },
   "file_extension": ".py",
   "mimetype": "text/x-python",
   "name": "python",
   "nbconvert_exporter": "python",
   "pygments_lexer": "ipython3",
   "version": "3.7.0"
  }
 },
 "nbformat": 4,
 "nbformat_minor": 2
}
