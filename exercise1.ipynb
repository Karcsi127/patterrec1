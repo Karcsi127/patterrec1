{
 "cells": [
  {
   "cell_type": "markdown",
   "metadata": {
    "collapsed": true
   },
   "source": [
    "# Exercise 1 Implementation"
   ]
  },
  {
   "cell_type": "markdown",
   "metadata": {},
   "source": [
    "Training"
   ]
  },
  {
   "cell_type": "code",
   "execution_count": 1,
   "metadata": {},
   "outputs": [
    {
     "data": {
      "text/plain": [
       "{'__header__': b'MATLAB 5.0 MAT-file, Platform: PCWIN, Created on: Sat May 27 02:07:24 2006',\n",
       " '__version__': '1.0',\n",
       " '__globals__': [],\n",
       " 'X': array([[106, 130, 191, ...,  70, 183,  77],\n",
       "        [103, 129, 185, ...,  62, 250,  72],\n",
       "        [103, 130, 174, ...,  83, 163,  68],\n",
       "        ...,\n",
       "        [ 37,  40,  22, ...,  87, 102,  93],\n",
       "        [ 36,  36,  19, ...,  89,  95, 103],\n",
       "        [ 41,  35,  17, ...,  94, 106, 110]], dtype=uint8),\n",
       " 'l': array([[ 1,  1,  1,  1,  1,  1,  1,  1,  1,  1,  2,  2,  2,  2,  2,  2,\n",
       "          2,  2,  2,  2,  3,  3,  3,  3,  3,  3,  3,  3,  3,  3,  4,  4,\n",
       "          4,  4,  4,  4,  4,  4,  4,  4,  5,  5,  5,  5,  5,  5,  5,  5,\n",
       "          5,  5,  6,  6,  6,  6,  6,  6,  6,  6,  6,  6,  7,  7,  7,  7,\n",
       "          7,  7,  7,  7,  7,  7,  8,  8,  8,  8,  8,  8,  8,  8,  8,  8,\n",
       "          9,  9,  9,  9,  9,  9,  9,  9,  9,  9, 10, 10, 10, 10, 10, 10,\n",
       "         10, 10, 10, 10, 11, 11, 11, 11, 11, 11, 11, 11, 11, 11, 12, 12,\n",
       "         12, 12, 12, 12, 12, 12, 12, 12, 13, 13, 13, 13, 13, 13, 13, 13,\n",
       "         13, 13, 14, 14, 14, 14, 14, 14, 14, 14, 14, 14, 15, 15, 15, 15,\n",
       "         15, 15, 15, 15, 15, 15, 16, 16, 16, 16, 16, 16, 16, 16, 16, 16,\n",
       "         17, 17, 17, 17, 17, 17, 17, 17, 17, 17, 18, 18, 18, 18, 18, 18,\n",
       "         18, 18, 18, 18, 19, 19, 19, 19, 19, 19, 19, 19, 19, 19, 20, 20,\n",
       "         20, 20, 20, 20, 20, 20, 20, 20, 21, 21, 21, 21, 21, 21, 21, 21,\n",
       "         21, 21, 22, 22, 22, 22, 22, 22, 22, 22, 22, 22, 23, 23, 23, 23,\n",
       "         23, 23, 23, 23, 23, 23, 24, 24, 24, 24, 24, 24, 24, 24, 24, 24,\n",
       "         25, 25, 25, 25, 25, 25, 25, 25, 25, 25, 26, 26, 26, 26, 26, 26,\n",
       "         26, 26, 26, 26, 27, 27, 27, 27, 27, 27, 27, 27, 27, 27, 28, 28,\n",
       "         28, 28, 28, 28, 28, 28, 28, 28, 29, 29, 29, 29, 29, 29, 29, 29,\n",
       "         29, 29, 30, 30, 30, 30, 30, 30, 30, 30, 30, 30, 31, 31, 31, 31,\n",
       "         31, 31, 31, 31, 31, 31, 32, 32, 32, 32, 32, 32, 32, 32, 32, 32,\n",
       "         33, 33, 33, 33, 33, 33, 33, 33, 33, 33, 34, 34, 34, 34, 34, 34,\n",
       "         34, 34, 34, 34, 35, 35, 35, 35, 35, 35, 35, 35, 35, 35, 36, 36,\n",
       "         36, 36, 36, 36, 36, 36, 36, 36, 37, 37, 37, 37, 37, 37, 37, 37,\n",
       "         37, 37, 38, 38, 38, 38, 38, 38, 38, 38, 38, 38, 39, 39, 39, 39,\n",
       "         39, 39, 39, 39, 39, 39, 40, 40, 40, 40, 40, 40, 40, 40, 40, 40,\n",
       "         41, 41, 41, 41, 41, 41, 41, 41, 41, 41, 42, 42, 42, 42, 42, 42,\n",
       "         42, 42, 42, 42, 43, 43, 43, 43, 43, 43, 43, 43, 43, 43, 44, 44,\n",
       "         44, 44, 44, 44, 44, 44, 44, 44, 45, 45, 45, 45, 45, 45, 45, 45,\n",
       "         45, 45, 46, 46, 46, 46, 46, 46, 46, 46, 46, 46, 47, 47, 47, 47,\n",
       "         47, 47, 47, 47, 47, 47, 48, 48, 48, 48, 48, 48, 48, 48, 48, 48,\n",
       "         49, 49, 49, 49, 49, 49, 49, 49, 49, 49, 50, 50, 50, 50, 50, 50,\n",
       "         50, 50, 50, 50, 51, 51, 51, 51, 51, 51, 51, 51, 51, 51, 52, 52,\n",
       "         52, 52, 52, 52, 52, 52, 52, 52]], dtype=uint8)}"
      ]
     },
     "execution_count": 1,
     "metadata": {},
     "output_type": "execute_result"
    }
   ],
   "source": [
    "# Imports\n",
    "import scipy.io as sio\n",
    "import numpy as np\n",
    "import matplotlib.pyplot as plt\n",
    "import timeit\n",
    "from memory_profiler import memory_usage, profile\n",
    "\n",
    "\n",
    "# Load the source file with the face data\n",
    "mat_content = sio.loadmat('face.mat')\n",
    "mat_content # Let's see the content..."
   ]
  },
  {
   "cell_type": "code",
   "execution_count": 2,
   "metadata": {},
   "outputs": [
    {
     "name": "stdout",
     "output_type": "stream",
     "text": [
      "[[106 130 191 ...  70 183  77]\n",
      " [103 129 185 ...  62 250  72]\n",
      " [103 130 174 ...  83 163  68]\n",
      " ...\n",
      " [ 37  40  22 ...  87 102  93]\n",
      " [ 36  36  19 ...  89  95 103]\n",
      " [ 41  35  17 ...  94 106 110]]\n",
      "(2576, 520)\n",
      "[[ 1  1  1  1  1  1  1  1  1  1  2  2  2  2  2  2  2  2  2  2  3  3  3  3\n",
      "   3  3  3  3  3  3  4  4  4  4  4  4  4  4  4  4  5  5  5  5  5  5  5  5\n",
      "   5  5  6  6  6  6  6  6  6  6  6  6  7  7  7  7  7  7  7  7  7  7  8  8\n",
      "   8  8  8  8  8  8  8  8  9  9  9  9  9  9  9  9  9  9 10 10 10 10 10 10\n",
      "  10 10 10 10 11 11 11 11 11 11 11 11 11 11 12 12 12 12 12 12 12 12 12 12\n",
      "  13 13 13 13 13 13 13 13 13 13 14 14 14 14 14 14 14 14 14 14 15 15 15 15\n",
      "  15 15 15 15 15 15 16 16 16 16 16 16 16 16 16 16 17 17 17 17 17 17 17 17\n",
      "  17 17 18 18 18 18 18 18 18 18 18 18 19 19 19 19 19 19 19 19 19 19 20 20\n",
      "  20 20 20 20 20 20 20 20 21 21 21 21 21 21 21 21 21 21 22 22 22 22 22 22\n",
      "  22 22 22 22 23 23 23 23 23 23 23 23 23 23 24 24 24 24 24 24 24 24 24 24\n",
      "  25 25 25 25 25 25 25 25 25 25 26 26 26 26 26 26 26 26 26 26 27 27 27 27\n",
      "  27 27 27 27 27 27 28 28 28 28 28 28 28 28 28 28 29 29 29 29 29 29 29 29\n",
      "  29 29 30 30 30 30 30 30 30 30 30 30 31 31 31 31 31 31 31 31 31 31 32 32\n",
      "  32 32 32 32 32 32 32 32 33 33 33 33 33 33 33 33 33 33 34 34 34 34 34 34\n",
      "  34 34 34 34 35 35 35 35 35 35 35 35 35 35 36 36 36 36 36 36 36 36 36 36\n",
      "  37 37 37 37 37 37 37 37 37 37 38 38 38 38 38 38 38 38 38 38 39 39 39 39\n",
      "  39 39 39 39 39 39 40 40 40 40 40 40 40 40 40 40 41 41 41 41 41 41 41 41\n",
      "  41 41 42 42 42 42 42 42 42 42 42 42 43 43 43 43 43 43 43 43 43 43 44 44\n",
      "  44 44 44 44 44 44 44 44 45 45 45 45 45 45 45 45 45 45 46 46 46 46 46 46\n",
      "  46 46 46 46 47 47 47 47 47 47 47 47 47 47 48 48 48 48 48 48 48 48 48 48\n",
      "  49 49 49 49 49 49 49 49 49 49 50 50 50 50 50 50 50 50 50 50 51 51 51 51\n",
      "  51 51 51 51 51 51 52 52 52 52 52 52 52 52 52 52]]\n",
      "(1, 520)\n",
      "[[106 130 191 ...  70 183  77]\n",
      " [103 129 185 ...  62 250  72]\n",
      " [103 130 174 ...  83 163  68]\n",
      " ...\n",
      " [ 36  36  19 ...  89  95 103]\n",
      " [ 41  35  17 ...  94 106 110]\n",
      " [  1   1   1 ...  52  52  52]]\n",
      "(2577, 520)\n",
      "[[106 103 103 ...  36  41   1]\n",
      " [130 129 130 ...  36  35   1]\n",
      " [191 185 174 ...  19  17   1]\n",
      " ...\n",
      " [ 70  62  83 ...  89  94  52]\n",
      " [183 250 163 ...  95 106  52]\n",
      " [ 77  72  68 ... 103 110  52]] (520, 2577)\n"
     ]
    }
   ],
   "source": [
    "# Store face data and classification\n",
    "face_data = mat_content['X']\n",
    "face_label = mat_content['l'] # Not actually used for PCA training, needed for testing\n",
    "\n",
    "# Append the matching data and labels into array 'faces': unnecessary for PCA training as the labels are not used (unsupervised learning)\n",
    "# But we need it later for assessing our algorithms during testing\n",
    "faces = np.append(face_data, face_label, axis=0)\n",
    "\n",
    "# Check data and correct dimensions\n",
    "print(face_data) # Each column represents one face image, each row a pixel value for a particular coordinate of the image\n",
    "print(face_data.shape) # 520 data points in 2576 dimensions\n",
    "print (face_label)\n",
    "print (face_label.shape) # 520 data points\n",
    "print(faces)\n",
    "print(faces.shape)\n",
    "\n",
    "#Transpose in preparation for division into training and testing material\n",
    "faces_transposed = faces.T\n",
    "print (faces_transposed, faces_transposed.shape)"
   ]
  },
  {
   "cell_type": "code",
   "execution_count": 3,
   "metadata": {},
   "outputs": [
    {
     "name": "stdout",
     "output_type": "stream",
     "text": [
      "[[116 116 119 ...  39  40  25]\n",
      " [ 56  38  46 ... 184 178  12]\n",
      " [ 40  40  38 ...  28  23   9]\n",
      " ...\n",
      " [154 102 132 ...  86  74  35]\n",
      " [ 90  91  91 ...  98  97  43]\n",
      " [ 90  92  90 ... 174 178  46]] (520, 2577)\n",
      "[[116 116 119 ...  39  40  25]\n",
      " [ 56  38  46 ... 184 178  12]\n",
      " [ 40  40  38 ...  28  23   9]\n",
      " ...\n",
      " [142 152 156 ... 117 115  14]\n",
      " [164 162 163 ...  41  46   4]\n",
      " [188 178 101 ... 122 115  26]] (416, 2577)\n",
      "[[122 131 141 ...  86  68  40]\n",
      " [ 96  98  88 ...  40  41  51]\n",
      " [ 58  58  57 ... 171 171   6]\n",
      " ...\n",
      " [154 102 132 ...  86  74  35]\n",
      " [ 90  91  91 ...  98  97  43]\n",
      " [ 90  92  90 ... 174 178  46]] (104, 2577)\n",
      "[116 121 123 ...  56  60  16] (2577,)\n",
      "[[116 121 123 ...  33  26  28]\n",
      " [117 129 119 ...  35  34  35]\n",
      " [114 121 112 ...  45  36  34]\n",
      " ...\n",
      " [134 124 127 ...  65  64  59]\n",
      " [133 134 130 ...  90  86  79]\n",
      " [130 127 127 ...  64  56  60]] (46, 56)\n"
     ]
    },
    {
     "data": {
      "text/plain": [
       "<matplotlib.image.AxesImage at 0xb1f2dea58>"
      ]
     },
     "execution_count": 3,
     "metadata": {},
     "output_type": "execute_result"
    },
    {
     "data": {
      "image/png": "[encoded data removed]",
      "text/plain": [
       "<Figure size 432x288 with 1 Axes>"
      ]
     },
     "metadata": {
      "needs_background": "light"
     },
     "output_type": "display_data"
    },
    {
     "data": {
      "image/png": "[encoded data removed]",
      "text/plain": [
       "<Figure size 432x288 with 1 Axes>"
      ]
     },
     "metadata": {
      "needs_background": "light"
     },
     "output_type": "display_data"
    }
   ],
   "source": [
    "#Divide the data set into training and testing sets: 80% is training, 20% is testing\n",
    "\n",
    "np.random.shuffle(faces_transposed) # Shuffle the rows (This is why we transposed)\n",
    "print(faces_transposed, faces_transposed.shape)\n",
    "training, test = faces_transposed[:416,:], faces_transposed[416:,:]\n",
    "print (training, training.shape)\n",
    "print (test, test.shape)\n",
    "\n",
    "image_99 = faces_transposed[99]\n",
    "print(image_99, image_99.shape)\n",
    "image_99 = np.reshape(image_99[:2576], (46, 56))\n",
    "print (image_99, image_99.shape)\n",
    "plt.imshow(image_99.T, cmap = 'gist_gray') # It is a person, so the data manipulation makes sense so far\n",
    "plt.figure()\n",
    "plt.imshow(np.reshape(faces_transposed[100, :2576], (46,56)).T, cmap = 'gist_gray') # print 100th image as a sanity check to make sure we have shuffled along the right dimension of the array"
   ]
  },
  {
   "cell_type": "code",
   "execution_count": 4,
   "metadata": {},
   "outputs": [
    {
     "name": "stdout",
     "output_type": "stream",
     "text": [
      "[[116 116 119 ...  39  39  40]\n",
      " [ 56  38  46 ...  64 184 178]\n",
      " [ 40  40  38 ...  29  28  23]\n",
      " ...\n",
      " [142 152 156 ... 120 117 115]\n",
      " [164 162 163 ...  35  41  46]\n",
      " [188 178 101 ... 122 122 115]] (416, 2576)\n",
      "[121.80769231 122.26682692 119.26442308 ...  86.83653846  84.86538462\n",
      "  83.73557692] (2576,)\n"
     ]
    },
    {
     "data": {
      "text/plain": [
       "<matplotlib.image.AxesImage at 0xb1f577e48>"
      ]
     },
     "execution_count": 4,
     "metadata": {},
     "output_type": "execute_result"
    },
    {
     "data": {
      "image/png": "[encoded data removed]",
      "text/plain": [
       "<Figure size 432x288 with 1 Axes>"
      ]
     },
     "metadata": {
      "needs_background": "light"
     },
     "output_type": "display_data"
    },
    {
     "data": {
      "image/png": "[encoded data removed]",
      "text/plain": [
       "<Figure size 432x288 with 1 Axes>"
      ]
     },
     "metadata": {
      "needs_background": "light"
     },
     "output_type": "display_data"
    }
   ],
   "source": [
    "# Now let's start image recognition by PCA\n",
    "# We have face images that are CENTERED and they are of the SAME SIZE (needed for PCA)\n",
    "# They are normalised for SCALE, ORIENTATION and TRANSLATION\n",
    "\n",
    "# First, we only need the training face set without the labels\n",
    "# Images are represented as rows of the array 'pca_train'\n",
    "pca_train = training [:, :2576]\n",
    "pca_test = test [:, :2576]\n",
    "print (pca_train, pca_train.shape)\n",
    "plt.imshow(np.reshape(pca_train[0, :], (46,56)).T, cmap = 'gist_gray') # show the first face image\n",
    "\n",
    "# Let's compute the average face vector\n",
    "avg_face = np.mean(pca_train, axis=0)\n",
    "print (avg_face, avg_face.shape)\n",
    "plt.figure()\n",
    "plt.imshow(np.reshape(avg_face, (46,56)).T, cmap = 'gist_gray')"
   ]
  },
  {
   "cell_type": "code",
   "execution_count": 5,
   "metadata": {},
   "outputs": [
    {
     "name": "stdout",
     "output_type": "stream",
     "text": [
      "[[116 116 119 ...  39  39  40]\n",
      " [ 56  38  46 ...  64 184 178]\n",
      " [ 40  40  38 ...  29  28  23]\n",
      " ...\n",
      " [142 152 156 ... 120 117 115]\n",
      " [164 162 163 ...  35  41  46]\n",
      " [188 178 101 ... 122 122 115]] (416, 2576)\n",
      "[121.80769231 122.26682692 119.26442308 ...  86.83653846  84.86538462\n",
      "  83.73557692] (2576,)\n",
      "[[ -5.80769231  -6.26682692  -0.26442308 ... -47.83653846 -45.86538462\n",
      "  -43.73557692]\n",
      " [-65.80769231 -84.26682692 -73.26442308 ... -22.83653846  99.13461538\n",
      "   94.26442308]\n",
      " [-81.80769231 -82.26682692 -81.26442308 ... -57.83653846 -56.86538462\n",
      "  -60.73557692]\n",
      " ...\n",
      " [ 20.19230769  29.73317308  36.73557692 ...  33.16346154  32.13461538\n",
      "   31.26442308]\n",
      " [ 42.19230769  39.73317308  43.73557692 ... -51.83653846 -43.86538462\n",
      "  -37.73557692]\n",
      " [ 66.19230769  55.73317308 -18.26442308 ...  35.16346154  37.13461538\n",
      "   31.26442308]] (416, 2576)\n",
      "(2576, 416)\n",
      "[[1045564.61538462  987744.34615385  901487.15384615 ... -178187.07692308\n",
      "  -216368.76923077 -207768.15384615]\n",
      " [ 987744.34615385 1098707.38221154 1042969.64903846 ... -188461.85576923\n",
      "  -228075.05769231 -220392.64903846]\n",
      " [ 901487.15384615 1042969.64903846 1099612.91346154 ... -191819.01923077\n",
      "  -227568.19230769 -215678.91346154]\n",
      " ...\n",
      " [-178187.07692308 -188461.85576923 -191819.01923077 ... 1205338.88461538\n",
      "  1145205.84615385 1086633.01923077]\n",
      " [-216368.76923077 -228075.05769231 -227568.19230769 ... 1145205.84615385\n",
      "  1237034.46153846 1188920.19230769]\n",
      " [-207768.15384615 -220392.64903846 -215678.91346154 ... 1086633.01923077\n",
      "  1188920.19230769 1247026.91346154]] (2576, 2576)\n",
      "[[2513.37647929 2374.38544749 2167.03642751 ... -428.33431953\n",
      "  -520.11723373 -499.44267751]\n",
      " [2374.38544749 2641.12351493 2507.13857942 ... -453.03330714\n",
      "  -548.25735022 -529.79002173]\n",
      " [2167.03642751 2507.13857942 2643.30027274 ... -461.10341161\n",
      "  -547.03892382 -518.45892659]\n",
      " ...\n",
      " [-428.33431953 -453.03330714 -461.10341161 ... 2897.44924186\n",
      "  2752.89866864 2612.09860392]\n",
      " [-520.11723373 -548.25735022 -547.03892382 ... 2752.89866864\n",
      "  2973.64053254 2857.98123151]\n",
      " [-499.44267751 -529.79002173 -518.45892659 ... 2612.09860392\n",
      "  2857.98123151 2997.66084967]] (2576, 2576)\n"
     ]
    },
    {
     "data": {
      "image/png": "[encoded data removed]",
      "text/plain": [
       "<Figure size 432x288 with 1 Axes>"
      ]
     },
     "metadata": {
      "needs_background": "light"
     },
     "output_type": "display_data"
    }
   ],
   "source": [
    "# Now let's subtract the mean face from all of our face images\n",
    "print (pca_train, pca_train.shape)\n",
    "print (avg_face, avg_face.shape)\n",
    "pca_train_norm = pca_train-avg_face # works because of broadcasting\n",
    "print (pca_train_norm, pca_train_norm.shape)\n",
    "plt.imshow(np.reshape(pca_train_norm[0, :], (46,56)).T, cmap = 'gist_gray') \n",
    "# Show the first normalised face image and compare it to the previously printed image: not the same\n",
    "\n",
    "pca_train_norm_transposed = pca_train_norm.T\n",
    "print (pca_train_norm_transposed.shape)\n",
    "# Computing the covariance matrix\n",
    "cov = np.dot(pca_train_norm_transposed, pca_train_norm)\n",
    "print (cov, cov.shape)\n",
    "cov = cov/416\n",
    "print (cov, cov.shape)"
   ]
  },
  {
   "cell_type": "code",
   "execution_count": 6,
   "metadata": {},
   "outputs": [
    {
     "name": "stdout",
     "output_type": "stream",
     "text": [
      "-0.00023844800000016875\n",
      "[9.27861679e+05+0.j 5.37311534e+05+0.j 4.24823560e+05+0.j ...\n",
      " 2.02477805e-13+0.j 1.66254701e-13+0.j 2.32569856e-14+0.j] (2576,)\n",
      "[[ 1.53621432e-02+0.j -1.14522813e-02+0.j -2.01161754e-02+0.j ...\n",
      "   3.01872211e-03+0.j -3.40448132e-03+0.j  4.60762450e-03+0.j]\n",
      " [ 1.70411702e-02+0.j -1.19692735e-02+0.j -2.19453412e-02+0.j ...\n",
      "   1.66948078e-06+0.j  7.79390065e-05+0.j  1.13002271e-03+0.j]\n",
      " [ 1.72894842e-02+0.j -1.18152768e-02+0.j -2.36234760e-02+0.j ...\n",
      "   3.85834097e-04+0.j -3.64455702e-04+0.j  1.02391139e-04+0.j]\n",
      " ...\n",
      " [-6.05732931e-03+0.j  4.75261160e-02+0.j  4.12083560e-03+0.j ...\n",
      "  -8.34229205e-03+0.j  2.41914557e-03+0.j -7.78013905e-03+0.j]\n",
      " [-5.74809915e-03+0.j  4.78096505e-02+0.j  4.20476566e-03+0.j ...\n",
      "  -6.90271816e-03+0.j  6.72172790e-03+0.j  3.52766055e-03+0.j]\n",
      " [-5.48563087e-03+0.j  4.85183242e-02+0.j  5.52904360e-03+0.j ...\n",
      "   1.93604457e-02+0.j -1.79861520e-02+0.j  2.36740857e-02+0.j]] (2576, 2576)\n",
      "[14253.94403193+0.j 15811.84880064+0.j 16042.24982367+0.j ...\n",
      " -5620.363745  +0.j -5333.44092697+0.j -5089.90667561+0.j] (2576,)\n",
      "[14253.94403193+0.j 15811.84880064+0.j 16042.24982367+0.j ...\n",
      " -5620.363745  +0.j -5333.44092697+0.j -5089.90667561+0.j] (2576,)\n",
      "[ 1.23691279e-10+0.j -1.40062184e-10+0.j -9.09494702e-11+0.j ...\n",
      "  3.72892828e-11+0.j  4.00177669e-11+0.j  4.82032192e-11+0.j] (2576,)\n"
     ]
    }
   ],
   "source": [
    "# Computing the eigenvalues and eigenvectors of the covariance matrix and measuring how long it takes\n",
    "\n",
    "start = timeit.timeit()\n",
    "eigvals, eigvecs = np.linalg.eig(cov) # these are not ordered, so we order them and the corresponding eigenvalues\n",
    "end = timeit.timeit()\n",
    "print (end-start)\n",
    "\n",
    "print (eigvals, eigvals.shape)\n",
    "print (eigvecs, eigvecs.shape)\n",
    "\n",
    "eig_test_1 = np.dot(cov, eigvecs[:, 0])\n",
    "eig_test_2 = eigvecs[:, 0]*eigvals[0]\n",
    "print (eig_test_1, eig_test_1.shape)\n",
    "print (eig_test_2, eig_test_2.shape)\n",
    "print (eig_test_1-eig_test_2, (eig_test_1-eig_test_2).shape) # Checking them: they are basically zero, so the eigenvalue computation is good\n"
   ]
  },
  {
   "cell_type": "code",
   "execution_count": 7,
   "metadata": {},
   "outputs": [
    {
     "name": "stdout",
     "output_type": "stream",
     "text": [
      "[9.27861679e+05 5.37311534e+05 4.24823560e+05 ... 2.02477805e-13\n",
      " 1.66254701e-13 2.32569856e-14] (2576,)\n",
      "[[ 1.53621432e-02 -1.14522813e-02 -2.01161754e-02 ...  3.01872211e-03\n",
      "  -3.40448132e-03  4.60762450e-03]\n",
      " [ 1.70411702e-02 -1.19692735e-02 -2.19453412e-02 ...  1.66948078e-06\n",
      "   7.79390065e-05  1.13002271e-03]\n",
      " [ 1.72894842e-02 -1.18152768e-02 -2.36234760e-02 ...  3.85834097e-04\n",
      "  -3.64455702e-04  1.02391139e-04]\n",
      " ...\n",
      " [-6.05732931e-03  4.75261160e-02  4.12083560e-03 ... -8.34229205e-03\n",
      "   2.41914557e-03 -7.78013905e-03]\n",
      " [-5.74809915e-03  4.78096505e-02  4.20476566e-03 ... -6.90271816e-03\n",
      "   6.72172790e-03  3.52766055e-03]\n",
      " [-5.48563087e-03  4.85183242e-02  5.52904360e-03 ...  1.93604457e-02\n",
      "  -1.79861520e-02  2.36740857e-02]] (2576, 2576)\n",
      "[415 418 420 ...   2   1   0] (2576,)\n",
      "[  0   1   2 ... 420 418 415] (2576,)\n",
      "[False False False ... False False False] (2576,)\n",
      "0\n",
      "927861.6794364735\n",
      "[False False False ...  True  True  True] (2576,)\n",
      "2161\n",
      "[   0    1    2 ... 2573 2574 2575] (2576,)\n",
      "[ 9.27861679e+05  5.37311534e+05  4.24823560e+05 ... -2.71861314e-11\n",
      " -3.19842263e-11 -3.90620866e-11] (2576,)\n"
     ]
    },
    {
     "data": {
      "image/png": "[encoded data removed]",
      "text/plain": [
       "<Figure size 432x288 with 3 Axes>"
      ]
     },
     "metadata": {
      "needs_background": "light"
     },
     "output_type": "display_data"
    }
   ],
   "source": [
    "# take absolute value of the eigenvalues (complex eigenvalues are the result of calculation rounding errors)\n",
    "eigvals = np.real(eigvals)\n",
    "print (eigvals, eigvals.shape)\n",
    "eigvecs = np.real(eigvecs)\n",
    "print (eigvecs, eigvecs.shape)\n",
    "\n",
    "# order them\n",
    "print (eigvals.argsort(), eigvals.argsort().shape)\n",
    "index = eigvals.argsort()[::-1] # argsort returns the indices that would sort an array (in this case the vector eigvals)\n",
    "print (index, index.shape)\n",
    "eigvals = eigvals[index]\n",
    "eigvecs = eigvecs[:,index]\n",
    "\n",
    "# How many zero eigenvalues do we have?\n",
    "eig_zero = (eigvals == np.zeros(eigvals.shape))\n",
    "print (eig_zero, eig_zero.shape)\n",
    "print (eig_zero.sum())\n",
    "# We don't have any precisely zero eigenvectors, but we can say that anything that is smaller than 1e-03 can be considered a zero eigenvector\n",
    "# The order of difference between the largest eigenvalue and these is of the order of 8.\n",
    "print (eigvals.max()) # Just to demonstrate the largest eigenvalue\n",
    "eig_small = (eigvals <= np.ones(eigvals.shape)/1000)\n",
    "print (eig_small, eig_small.shape)\n",
    "print(eig_small.sum())\n",
    "# So there are around 2161 eigenvalues that are zero\n",
    "\n",
    "x = np.arange(0, 2576)\n",
    "print (x, x.shape)\n",
    "print (eigvals, eigvals.shape)\n",
    "\n",
    "# plot them\n",
    "plt.subplot(3, 1, 1)\n",
    "plt.plot(x, eigvals) # clearly out of scale, so let's just take the first 200 of them\n",
    "plt.title('All eigenvalues of the covariance matrix')\n",
    "\n",
    "plt.subplot(3, 1, 2)\n",
    "plt.plot(x[:200], eigvals[:200]) # still out of scale, so let's just take the first 20 of them\n",
    "plt.title('First 200 eigenvalues of the covariance matrix')\n",
    "\n",
    "plt.subplot(3, 1, 3)\n",
    "plt.plot(x[:20], eigvals[:20])\n",
    "plt.title('First 20 eigenvalues of the covariance matrix')\n",
    "plt.show()"
   ]
  },
  {
   "cell_type": "code",
   "execution_count": 8,
   "metadata": {},
   "outputs": [
    {
     "name": "stdout",
     "output_type": "stream",
     "text": [
      "[[ 0.01536214 -0.01145228 -0.02011618 ... -0.00377293 -0.00377293\n",
      "  -0.00147191]\n",
      " [ 0.01704117 -0.01196927 -0.02194534 ... -0.00263747 -0.00263747\n",
      "  -0.00173864]\n",
      " [ 0.01728948 -0.01181528 -0.02362348 ... -0.00252961 -0.00252961\n",
      "  -0.00068779]\n",
      " ...\n",
      " [-0.00605733  0.04752612  0.00412084 ...  0.00773818  0.00773818\n",
      "  -0.01748212]\n",
      " [-0.0057481   0.04780965  0.00420477 ...  0.01408275  0.01408275\n",
      "   0.0133882 ]\n",
      " [-0.00548563  0.04851832  0.00552904 ... -0.02713533 -0.02713533\n",
      "   0.00819166]] (2576, 2500)\n",
      "[ 9.27861679e+05  5.37311534e+05  4.24823560e+05 ... -1.23942582e-11\n",
      " -1.23942582e-11 -1.25091663e-11] (2500,)\n",
      "[[ 8.51661793e+01  1.12206945e+03  5.03892303e+02 ... -5.50670620e-14\n",
      "  -5.50670620e-14  1.35003120e-13]\n",
      " [-5.98353303e+02  6.98174547e+02  7.30888257e+01 ...  5.56443780e-13\n",
      "   5.56443780e-13 -3.89022148e-13]\n",
      " [ 4.72053938e+01 -5.27479030e+02  7.04922803e+02 ... -1.52766688e-13\n",
      "  -1.52766688e-13 -1.61648472e-13]\n",
      " ...\n",
      " [ 3.54631474e+02 -1.86484660e+02 -4.34634064e+02 ...  1.98063788e-13\n",
      "   1.98063788e-13  3.23296945e-13]\n",
      " [-1.78823126e+03 -1.20227737e+03 -3.88329052e+02 ... -2.39808173e-13\n",
      "  -2.39808173e-13  4.97379915e-14]\n",
      " [-2.74340523e+02  4.34315687e+02 -4.24290709e+02 ... -2.48689958e-14\n",
      "  -2.48689958e-14  1.40332190e-13]] (416, 2500)\n"
     ]
    }
   ],
   "source": [
    "# We just keep the first n eigenvectors and eigenvalues\n",
    "\n",
    "n = 2500\n",
    "eigvecs_best = eigvecs[:, :n]\n",
    "eigvals_best = eigvals[:n]\n",
    "print (eigvecs_best, eigvecs_best.shape)\n",
    "print (eigvals_best, eigvals_best.shape)\n",
    "\n",
    "# Projecting each training data point to the space spanned by the eigenvectors\n",
    "proj_pca_train_norm = np.zeros((416, n))\n",
    "for i in range(416):\n",
    "    proj_pca_train_norm [i, :] = np.dot(pca_train_norm[i, :], eigvecs_best)\n",
    "    \n",
    "print (proj_pca_train_norm, proj_pca_train_norm.shape)\n",
    "\n",
    "# Now in array proj_pca_train_norm, in each row, we have the projected coordinates for each face image"
   ]
  },
  {
   "cell_type": "code",
   "execution_count": 9,
   "metadata": {
    "scrolled": true
   },
   "outputs": [
    {
     "name": "stdout",
     "output_type": "stream",
     "text": [
      "[164. 162. 163. ...  35.  41.  46.] (2576,)\n"
     ]
    },
    {
     "data": {
      "text/plain": [
       "<matplotlib.image.AxesImage at 0xb230f8518>"
      ]
     },
     "execution_count": 9,
     "metadata": {},
     "output_type": "execute_result"
    },
    {
     "data": {
      "image/png": "[encoded data removed]",
      "text/plain": [
       "<Figure size 432x288 with 1 Axes>"
      ]
     },
     "metadata": {
      "needs_background": "light"
     },
     "output_type": "display_data"
    }
   ],
   "source": [
    "# Let's try to reconstruct one face image, just as a sanity check to see if it is still the same face (worse quality of course, because we did a lossy transformation on it)\n",
    "face_check = avg_face + np.dot(eigvecs_best, proj_pca_train_norm[414, :])\n",
    "print (face_check, face_check.shape)\n",
    "plt.imshow(np.reshape(face_check, (46,56)).T, cmap = 'gist_gray')"
   ]
  },
  {
   "cell_type": "markdown",
   "metadata": {},
   "source": [
    "Testing"
   ]
  },
  {
   "cell_type": "code",
   "execution_count": 10,
   "metadata": {},
   "outputs": [
    {
     "name": "stdout",
     "output_type": "stream",
     "text": [
      "[[  0.19230769   8.73317308  21.73557692 ...  -1.83653846   1.13461538\n",
      "  -15.73557692]\n",
      " [-25.80769231 -24.26682692 -31.26442308 ... -45.83653846 -44.86538462\n",
      "  -42.73557692]\n",
      " [-63.80769231 -64.26682692 -62.26442308 ...  80.16346154  86.13461538\n",
      "   87.26442308]\n",
      " ...\n",
      " [ 32.19230769 -20.26682692  12.73557692 ...   7.16346154   1.13461538\n",
      "   -9.73557692]\n",
      " [-31.80769231 -31.26682692 -28.26442308 ...  18.16346154  13.13461538\n",
      "   13.26442308]\n",
      " [-31.80769231 -30.26682692 -29.26442308 ...  82.16346154  89.13461538\n",
      "   94.26442308]] (104, 2576)\n",
      "[[ 1.02155850e+03 -1.10307097e+02 -7.98929693e+02 ...  3.95851710e-01\n",
      "   3.95851710e-01  7.65962646e+00]\n",
      " [-7.46490948e+02 -1.46007938e+02  2.09050192e+02 ...  8.55181983e-01\n",
      "   8.55181983e-01  1.28555362e+01]\n",
      " [-1.33874192e+03  1.02329197e+03  1.01675864e+03 ... -6.48060639e-01\n",
      "  -6.48060639e-01 -1.09183296e+01]\n",
      " ...\n",
      " [ 1.52767211e+03 -8.38332980e+00 -7.25835038e+01 ... -7.42508706e+00\n",
      "  -7.42508706e+00 -2.22358222e-01]\n",
      " [-2.78440767e+02  5.31080351e+02 -4.75790410e+01 ...  2.60822471e+01\n",
      "   2.60822471e+01 -8.43680850e+00]\n",
      " [-6.03619495e+02  9.94584667e+02 -2.24927031e+02 ...  3.70208336e+00\n",
      "   3.70208336e+00 -7.90270608e+00]] (104, 2500)\n"
     ]
    }
   ],
   "source": [
    "# Now that we've trained our model, let's test it on our testing data set\n",
    "# First, let's normalise the testing set (subtract the average face from all face images)\n",
    "\n",
    "pca_test_norm = pca_test-avg_face # Works because of broadcasting\n",
    "print (pca_test_norm, pca_test_norm.shape)\n",
    "\n",
    "# Then let's project each testing image to the eigenspace (space spanned by the best eigenvectors)\n",
    "proj_pca_test_norm = np.zeros((104, n))\n",
    "for i in range(104):\n",
    "    proj_pca_test_norm [i, :] = np.dot(pca_test_norm[i, :], eigvecs_best)\n",
    "\n",
    "print (proj_pca_test_norm, proj_pca_test_norm.shape)\n",
    "\n",
    "# Now in array proj_pca_test_norm, in each row, we have the projected coordinates for each face image"
   ]
  },
  {
   "cell_type": "code",
   "execution_count": 11,
   "metadata": {
    "scrolled": false
   },
   "outputs": [
    {
     "name": "stdout",
     "output_type": "stream",
     "text": [
      "[3109.95912579 2984.10518649 2832.42683296 3093.30531375 3055.89982886\n",
      " 3343.27844549 3553.33727136 2791.50027119 2803.47940318 2993.99277956\n",
      " 3091.98427617 3553.58519865 2880.27095324 3380.806082   1693.01705959\n",
      " 2865.74261999 3522.00550313 3117.29253745 3316.13521498 3328.66320977\n",
      " 2914.15026449 2739.03117252 2633.34858385 2712.61474671 2859.03860835\n",
      " 2426.24004667 3403.96691583 2918.78669383 3502.31805581 2222.39730113\n",
      " 2860.98685143 3799.20291167 2449.85341685 2482.11880539 2013.36851174\n",
      " 2515.77418781 2402.17688026 3409.7590478  2818.44633869 2604.87480775\n",
      " 2812.02182852 2977.57027861 2848.40337102 3195.63135609 2925.02440401\n",
      " 2997.67189066 3648.12866605 2785.24860005 2876.86700493 2808.58501101\n",
      " 2559.55616544 2510.83606873 2507.89109892 2718.71546214 3644.06953337\n",
      " 2904.04197009 2561.23149365 2859.77617377 3009.4637004  3623.7753468\n",
      " 2547.00741343 2792.54342205 2354.50584286 3308.78675107 3689.28675547\n",
      " 3440.57520831 3475.23046201 3889.77451327 2543.11123706 2033.97142656\n",
      " 2668.13226135 2792.59319702 2509.22054911 2518.40679082 2999.03530557\n",
      " 3967.88807353 3366.39492099 2674.3039775  3779.45072253 3787.21781313\n",
      " 3618.16994682 2734.16875193 2339.27077613 2652.95396946 3015.32879866\n",
      " 2624.87957134 2697.04426439 3089.89931293 2674.48214876 2574.46533557\n",
      " 2268.38990565 3229.00445402 2491.3592202  2245.16029808 3020.11005827\n",
      " 2838.37220323 3243.90332224 2604.39028643 2584.92780635 3021.3533001\n",
      " 2783.62708782 3193.91214094 2937.02379358 2660.90638017 3121.77189494\n",
      " 2567.58734302 2882.58647122 2417.75304034 3098.37889291 2586.38565648\n",
      " 3302.38758538 2773.92317198 2818.03420207 3782.20091535 3007.15476224\n",
      " 2826.34335565 2296.87151666 3799.01049802 3164.46026426 3110.01571765\n",
      " 2551.51421004 2918.75448849 2879.26983176 2672.78969694 1806.76333925\n",
      " 3319.58186585 2622.93018665 3830.52108258 3752.34350294 2555.43651145\n",
      " 2670.35068185 3685.99752632 2170.39414947 3059.64454865 3282.74089201\n",
      " 2623.070484   3157.83086375 2822.32240611 3069.6839844  2845.20539927\n",
      " 2854.96545759 2605.84031822 2962.77298558 3060.04800029 2259.92494655\n",
      " 3248.5921203  2484.24913486 3085.89415957 3861.9286327  2486.67986763\n",
      " 2415.16019428 3807.68509255 2324.96833614 3152.79745053 3017.96483811\n",
      " 2880.49974207 3353.91230715 2974.02770062 3370.97786466 3571.16840321\n",
      " 3009.81440691 2613.29327938 2864.72106217 3281.54776958 2808.87909388\n",
      " 2692.9760051  3288.94721211 3078.82489987 3491.50823629 2463.97194872\n",
      " 3090.13523394 3211.51860715 3324.38577245 2526.36097264 2879.48706614\n",
      " 2446.41038341 3155.38726055 2636.21713143 2543.92860829 2586.81092546\n",
      " 3379.06684812 3581.12185831 2834.4277666  3036.36275238 3265.63389927\n",
      " 1921.31589387 2780.56698608 2668.79799986 3081.41976434 3728.14173068\n",
      " 4161.5695073  2698.85378708 2474.93570907 1815.47480403 3256.90002365\n",
      " 2643.47948054 3204.23200846 3254.53065188 2573.07729461 3338.46847582\n",
      " 2020.94254348 2367.62449811 2444.63837081 2051.03504701 3005.80351388\n",
      " 3007.63058969 3628.53892966 2999.76461811 2315.76742443 2968.77816013\n",
      " 2752.16019956 2400.94184937 3527.76937512 3928.10587485 3323.9689776\n",
      " 2805.93866007 3128.19832556 2709.69311252 3371.17320292 2935.47726342\n",
      " 3307.85319566 2578.2045621  2689.06968375 3440.93355996 2610.64221295\n",
      " 2619.98888625 3531.51989433 3143.31413703 3264.07624973 2706.25179243\n",
      " 3279.99279939 3820.71168293 3012.55933785 3030.15870278 2497.48588866\n",
      " 3318.40319492 2918.4041468  3445.27324955 2481.47793947 3691.77975563\n",
      " 3322.27644305 3259.99628283 2851.46168904 2677.72137536 3528.39917867\n",
      " 2526.64911772 2100.54035049 2854.377474   3338.34611208 2590.05902714\n",
      " 2653.96020393 2591.72119721 3746.83529983 2710.23315677 2846.14700324\n",
      " 2875.04274126 2989.18479925 4231.13149926 2723.29410165 3706.45366409\n",
      " 2588.97832437 2608.49626491 2290.65444012 2402.69343947 2895.71420621\n",
      " 3255.65903682 2710.91493117 2464.59890531 3085.76388663 2589.9543942\n",
      " 2216.07101963 2640.02533398 2712.23833098 2450.58620825 2953.73623806\n",
      " 3368.76917643 2715.91876978 2196.89297965 2807.19304004 3148.76257664\n",
      " 2597.21808173 2780.33824634 3261.84606689 3750.51326675 2932.03611234\n",
      " 2497.84342265 3431.04441301 3003.19342768 3137.78325639 2752.55186401\n",
      " 3073.19390278 2821.22416055 2726.41298487 3721.40763207 3694.8747968\n",
      " 2085.73938066 2305.25828576 2270.52081339 3914.66291832 3575.42749389\n",
      " 3153.6732177  2138.45826802 3159.9855639  2996.33906026 2603.98497769\n",
      " 2150.53127484 2852.7547676  2656.61754192 3430.65617106 2667.13324828\n",
      " 2488.85109319 3161.86997899 2677.97941815 2802.11951281 2983.86523892\n",
      " 3528.80415496 2237.32133679 2992.47836484 2166.3030176  2563.32182218\n",
      " 2962.38599174 2923.90060776 3500.17881887 2469.79225119 3400.18584258\n",
      " 2594.89475009 2684.92621203 2707.95398116 2895.84335972 3461.80541973\n",
      " 3087.52907097 3403.39723865 2518.96124703 3473.69770764 2381.55658426\n",
      " 3537.62134266 2719.81410469 3232.07886105 3214.97134731 2366.0299584\n",
      " 3280.41853489 3125.14139905 2859.22153113 3302.26585302 2876.62680306\n",
      " 2827.7030898  2907.71005502 3038.33387962 1814.37778978 3135.24317463\n",
      " 2822.69105005 2930.86621395 2142.26580145 2589.47885955 2466.54956651\n",
      " 3396.10376226 2935.41304829 3466.22716567 2889.27997329 3290.09707517\n",
      " 2740.23352364 3765.16782681 2379.58352744 2954.06174005 2692.82542398\n",
      " 2291.8031687  2835.45847511 2592.02445283 2638.50502445 2513.39088963\n",
      " 2462.56568726 3255.99474263 3933.84770474 2644.49404689 3232.13749151\n",
      " 2998.71501881 3232.78421242 2624.56372833 2813.01755488 3131.57576374\n",
      " 2455.52901918 3147.67672483 2446.17063265 3329.53701948 3207.1879839\n",
      " 3190.41294569 2477.60968759 3394.32699722 2597.48874185 3352.01846117\n",
      " 3234.62776283 3168.81488321 2541.93740365 2846.98590865 3398.06088292\n",
      " 2499.03256563 2623.48751933 3027.81666619 2461.81676086 2153.0886568\n",
      " 3323.96160689 3318.13754447 2590.07311944 2342.89580734 3018.25906179\n",
      " 2909.15619451 3453.99301737 2650.10391571 2840.35328156 3518.29372908\n",
      " 2595.14388119 2971.26181345 3243.0909275  2621.23287101 3630.40999944\n",
      " 2595.96104825] (416,)\n",
      "1693.0170595875684 14\n",
      "35\n",
      "40\n"
     ]
    },
    {
     "data": {
      "text/plain": [
       "<matplotlib.image.AxesImage at 0xb26e33b70>"
      ]
     },
     "execution_count": 11,
     "metadata": {},
     "output_type": "execute_result"
    },
    {
     "data": {
      "image/png": "[encoded data removed]",
      "text/plain": [
       "<Figure size 432x288 with 1 Axes>"
      ]
     },
     "metadata": {
      "needs_background": "light"
     },
     "output_type": "display_data"
    },
    {
     "data": {
      "image/png": "[encoded data removed]",
      "text/plain": [
       "<Figure size 432x288 with 1 Axes>"
      ]
     },
     "metadata": {
      "needs_background": "light"
     },
     "output_type": "display_data"
    },
    {
     "data": {
      "image/png": "[encoded data removed]",
      "text/plain": [
       "<Figure size 432x288 with 1 Axes>"
      ]
     },
     "metadata": {
      "needs_background": "light"
     },
     "output_type": "display_data"
    }
   ],
   "source": [
    "# Let's classify the first image\n",
    "plt.imshow(np.reshape(pca_test[0, :], (46,56)).T, cmap = 'gist_gray')\n",
    "plt.figure()\n",
    "\n",
    "distances = np.zeros(416)\n",
    "\n",
    "for i in range(416):\n",
    "    distances[i] = np.linalg.norm(proj_pca_train_norm[i, :]-proj_pca_test_norm[0, :])\n",
    "    \n",
    "print (distances, distances.shape)\n",
    "\n",
    "smallest_distance = distances.min()\n",
    "smallest_index = distances.argmin()\n",
    "print (smallest_distance, smallest_index)\n",
    "\n",
    "# Which identity does it belong to according to the learning set?\n",
    "print (training[smallest_index, 2576])\n",
    "# Which identity does it actually belong to?\n",
    "print (test[0, 2576])\n",
    "\n",
    "# Print the picture that our picture is the closest to\n",
    "plt.imshow(np.reshape(pca_train[smallest_index, :], (46,56)).T, cmap = 'gist_gray')\n",
    "plt.figure()\n",
    "\n",
    "# Print our actual image\n",
    "plt.imshow(np.reshape(pca_test[0, :], (46,56)).T, cmap = 'gist_gray')"
   ]
  },
  {
   "cell_type": "code",
   "execution_count": 12,
   "metadata": {},
   "outputs": [
    {
     "name": "stdout",
     "output_type": "stream",
     "text": [
      "[[3109.95912579 2879.1020734  2729.97929424 ... 3055.75510264\n",
      "  2423.44088586 2630.16169808]\n",
      " [2984.10518649 2533.50365089 2302.3772382  ... 3290.15185779\n",
      "  2140.29804636 2266.71316184]\n",
      " [2832.42683296 2669.3607379  2759.3562559  ... 2739.49434154\n",
      "  2605.44309615 2659.83167852]\n",
      " ...\n",
      " [2621.23287101 2965.7998498  3214.06081881 ... 2630.48992534\n",
      "  2410.63637392 2529.16953921]\n",
      " [3630.40999944 2723.93460807 3114.56737718 ... 4069.59386762\n",
      "  2924.83208531 3153.01023755]\n",
      " [2595.96104825 2379.37990852 2668.24604319 ... 2983.94189745\n",
      "  2111.81858294 2568.93179319]] (416, 104)\n",
      "[1693.01705959 1607.84506376 1530.00063627 1196.67357605 1814.10205832\n",
      " 1815.39669581  676.12128837 1040.51137782 1294.15298458 1128.13517083\n",
      " 1700.52152484 1660.93412351 1810.37545501 1477.64619757 1512.2061587\n",
      " 1789.0994224  1792.77471921 1300.28912815 1209.91244934 1508.53141226\n",
      " 1818.25964283 1226.08300295 1483.30326371 1739.10527431 1333.71843748\n",
      " 1747.9027573  1243.3660909  1389.7316713  1414.57029662  998.99620767\n",
      " 2147.02120237 1961.4159441  1454.84179847 1688.54088014 1169.18888677\n",
      " 1923.83396344 1816.41676011 1662.42278855 1421.98391418 1982.2642961\n",
      " 1725.68361773 1791.31248283 1867.44399503 1668.96988958 1870.95929594\n",
      " 1653.89814407 1474.71133697 1816.72880148 1217.00951664 1521.34114076\n",
      " 1883.01899752 1629.8397805  1436.64656969 2070.59042183 1937.52339993\n",
      " 1920.20579283  981.96649042 1727.72189714 1641.01172233 1515.03551379\n",
      " 1709.97133068  859.53248335 2202.11139103 2215.76396118 1622.04060556\n",
      " 1583.64276624 1531.69109223 1596.868872   1237.84505617 2063.62728998\n",
      "  880.90937591 1566.85079151 1455.00792399 1531.80438077 1323.48850263\n",
      " 1778.91833969 1380.06906999 1523.02313563 1486.93733031 1046.71278669\n",
      " 1392.37597311 1195.28720655 1719.07550851  778.82563224 2041.97231356\n",
      " 1267.00819103 1639.72808407 1233.09865794 1181.20909544 1184.47882677\n",
      " 1161.83123787  841.07671971 1500.69865224 1520.08774613 2019.59229115\n",
      " 1694.25486036 1264.13576126  771.35582546 1607.74348433 1787.5818015\n",
      " 2090.98097139 1548.53971448 1821.87149033 1845.75067603] (104,)\n",
      "[ 14 359 384 368 186  36 190 146 179  33 348 261 152 368 380 339 120 329\n",
      "   8  56 399 252 344 148  56  14 231 161  19 234 269 225 367 195 291  55\n",
      " 193 276 324 221 203  13 189  80 197 130  73 110  82 389 105  20 348 320\n",
      " 236 317 177 277  46 206  48  17 407  92 285 280 322 238 174 216 294 291\n",
      " 223  97 228 105  54 207  64  25  82  46   6   6 245 399 130  82 282 228\n",
      "  53 414 331 172  16 349 221 368 174 221 119 124 391 112] (104,)\n",
      "[40 51  6  5 23 28  4  5 16 26 29  5 44  5 34 31 37 26 27 36 28 21 43 13\n",
      " 36 27  4 30 38 37 41 52 23 50  6 38 40 32  6 44 31 22 22 18 30 33  3 14\n",
      " 29 18 11 51 21 34 42 33 40 36 19  7 44 21 17 45 45 35  6 46 14 19 39 49\n",
      " 51 33 24 44 39 33  3 14 29 21 24  7 33 28 33 48 16 24 41  4 21 20 22 49\n",
      "  1  5  3 33  1 35 43 46] (104,)\n",
      "[35 51 30  5 11 28  4  5 16 26 29  5 44  5 35 31 37 26 27 36 28 21 42 13\n",
      " 36 35  4 30 42 37 28 34 23 50  6 38 40 32  6  1 29 11 22 18 17  1  3 14\n",
      " 48 20 29 52 29 34 42 10 40 36 21  7 44 21 17 37 45 35  6 46 14 19 39  6\n",
      " 17 33  4 29 39 33  4 14 48 21  7  7 29 28  1 48 16  4 41  4 21 20 22 28\n",
      "  1  5 14  1  1 35 38 11] (104,)\n",
      "[False  True False  True False  True  True  True  True  True  True  True\n",
      "  True  True False  True  True  True  True  True  True  True False  True\n",
      "  True False  True  True False  True False False  True  True  True  True\n",
      "  True  True  True False False False  True  True False False  True  True\n",
      " False False False False False  True  True False  True  True False  True\n",
      "  True  True  True False  True  True  True  True  True  True  True False\n",
      " False  True False False  True  True False  True False  True False  True\n",
      " False  True False  True  True False  True  True  True  True  True False\n",
      "  True  True False False  True  True False False] (104,)\n",
      "0.6442307692307693\n"
     ]
    }
   ],
   "source": [
    "# Now let's do this for all of the testing images\n",
    "\n",
    "distances = np.zeros((416, 104)) # In each row we store the distances (1 column = 1 testing image's distances)\n",
    "\n",
    "for k in range (104):\n",
    "    for i in range(416):\n",
    "        distances[i, k] = np.linalg.norm(proj_pca_train_norm[i, :]-proj_pca_test_norm[k, :])\n",
    "        \n",
    "# Now we have in each column the distances of the testing images from each of the training images.\n",
    "# Next step is to find the minimum of each column, and the corresponding row index (per column)\n",
    "print (distances, distances.shape)\n",
    "\n",
    "smallest_distance = distances.min(axis=0) # min per columns\n",
    "smallest_index = distances.argmin(axis=0)\n",
    "print (smallest_distance, smallest_distance.shape)\n",
    "print (smallest_index, smallest_index.shape)\n",
    "\n",
    "# Get the smallest distance image's label\n",
    "#detected_label = np.zeros (104)\n",
    "#for j in range(104):\n",
    "#    detected_label[j] = training[smallest_index[j], 2576]\n",
    "#print (detected_label, detected_label.shape)\n",
    "\n",
    "actual_label = test [:, 2576].T\n",
    "\n",
    "print (actual_label, actual_label.shape)\n",
    "\n",
    "\n",
    "# Which identity does it belong to according to the learning set?\n",
    "print (training[smallest_index, 2576], training[smallest_index, 2576].shape)\n",
    "\n",
    "same = (training[smallest_index, 2576]==actual_label)\n",
    "\n",
    "print (same, same.shape)\n",
    "\n",
    "percentage = np.sum(same)/104\n",
    "\n",
    "print (percentage)\n"
   ]
  },
  {
   "cell_type": "code",
   "execution_count": 13,
   "metadata": {},
   "outputs": [
    {
     "name": "stdout",
     "output_type": "stream",
     "text": [
      "[[ 4838244.39402852   250696.30989391  -670518.13962532 ...\n",
      "   -608385.91606763 -2171377.17808686  -143793.44491378]\n",
      " [  250696.30989391  3054472.22575929   389501.77624006 ...\n",
      "   -217026.00020225   384036.73777852   161285.4709516 ]\n",
      " [ -670518.13962532   389501.77624006  2611433.32672083 ...\n",
      "    232322.55027852   508862.28825929  -791991.97856763]\n",
      " ...\n",
      " [ -608385.91606763  -217026.00020225   232322.55027852 ...\n",
      "   2370195.77383621   239041.51181698  -200457.75500994]\n",
      " [-2171377.17808686   384036.73777852   508862.28825929 ...\n",
      "    239041.51181698  5572324.24979775   366925.98297083]\n",
      " [ -143793.44491378   161285.4709516   -791991.97856763 ...\n",
      "   -200457.75500994   366925.98297083  2563530.71614391]] (416, 416)\n",
      "[[11630.39517795   602.63536032 -1611.82245102 ... -1462.46614439\n",
      "  -5219.65667809  -345.6573195 ]\n",
      " [  602.63536032  7342.48131192   936.30234673 ...  -521.69711587\n",
      "    923.16523504   387.70545902]\n",
      " [-1611.82245102   936.30234673  6277.48395846 ...   558.46766894\n",
      "   1223.22665447 -1903.82687156]\n",
      " ...\n",
      " [-1462.46614439  -521.69711587   558.46766894 ...  5697.5859948\n",
      "    574.61901879  -481.86960339]\n",
      " [-5219.65667809   923.16523504  1223.22665447 ...   574.61901879\n",
      "  13395.01021586   882.03361291]\n",
      " [ -345.6573195    387.70545902 -1903.82687156 ...  -481.86960339\n",
      "    882.03361291  6162.33345227]] (416, 416)\n"
     ]
    }
   ],
   "source": [
    "# Let's try to compute the eigenvalues using the low-dimensional method\n",
    "\n",
    "# Computing the covariance matrix\n",
    "cov2 = np.dot(pca_train_norm, pca_train_norm_transposed) \n",
    "print (cov2, cov2.shape) # as we can see it is NxN (and not DxD)\n",
    "cov2 = cov2/416\n",
    "print (cov2, cov2.shape)"
   ]
  },
  {
   "cell_type": "code",
   "execution_count": 43,
   "metadata": {},
   "outputs": [
    {
     "name": "stdout",
     "output_type": "stream",
     "text": [
      "0.0033429879999857803\n",
      "0.00023844800000016875\n",
      "[9.27861679e+05 5.37311534e+05 4.24823560e+05 2.59605217e+05\n",
      " 2.06186469e+05 1.56210045e+05 1.32991725e+05 1.06984599e+05\n",
      " 9.63823553e+04 8.15250028e+04 6.23035993e+04 5.89824793e+04\n",
      " 5.51426445e+04 5.23869151e+04 4.65390207e+04 4.31184091e+04\n",
      " 3.86712060e+04 3.49762984e+04 3.46270466e+04 3.37056251e+04\n",
      " 2.92470503e+04 2.56588055e+04 2.50350974e+04 2.42213541e+04\n",
      " 2.34615952e+04 2.17750882e+04 2.06062389e+04 1.90879030e+04\n",
      " 1.85815739e+04 1.81061649e+04 1.77261279e+04 1.69364310e+04\n",
      " 1.60163770e+04 1.55921816e+04 1.49485384e+04 1.39899975e+04\n",
      " 1.35738104e+04 1.29290087e+04 1.30870518e+04 1.23650826e+04\n",
      " 1.19135343e+04 1.15474941e+04 1.13258696e+04 1.09383726e+04\n",
      " 1.05585046e+04 1.03148945e+04 1.00348573e+04 9.66280250e+03\n",
      " 9.42673520e+03 9.16732172e+03 9.01282301e+03 8.44911078e+03\n",
      " 8.40169225e+03 8.22216461e+03 8.05670259e+03 7.97767515e+03\n",
      " 7.53326491e+03 7.44197552e+03 7.26038560e+03 7.15721016e+03\n",
      " 6.79389065e+03 6.65852064e+03 6.60081761e+03 6.08481760e-12\n",
      " 6.49961289e+03 6.35002908e+03 6.27056643e+03 6.13265364e+03\n",
      " 5.98930980e+03 5.85161584e+03 5.79099526e+03 5.47467888e+03\n",
      " 5.45307535e+03 5.35607199e+03 5.21389366e+03 5.10413686e+03\n",
      " 5.06494278e+03 4.96831424e+03 4.84563358e+03 4.73267117e+03\n",
      " 4.70363919e+03 4.58773347e+03 4.47315112e+03 4.39122532e+03\n",
      " 4.32752985e+03 4.10349829e+03 4.14742730e+03 4.19267261e+03\n",
      " 3.98146702e+03 3.98603355e+03 3.89887340e+03 3.79105349e+03\n",
      " 3.76416375e+03 3.69249081e+03 3.64925990e+03 3.55342705e+03\n",
      " 3.51275462e+03 3.39093564e+03 3.36820037e+03 3.32446239e+03\n",
      " 3.29040130e+03 3.27502063e+03 3.19955841e+03 3.13451881e+03\n",
      " 3.10368941e+03 3.08588416e+03 3.02609462e+03 2.93691024e+03\n",
      " 2.89572962e+03 2.61848336e+03 2.62743907e+03 2.67610170e+03\n",
      " 2.85143319e+03 2.83253896e+03 2.79951827e+03 2.76818129e+03\n",
      " 2.73914955e+03 2.60390445e+03 2.56914788e+03 2.53638443e+03\n",
      " 2.50943902e+03 2.47306219e+03 2.44317505e+03 2.42232924e+03\n",
      " 2.32802760e+03 2.36438923e+03 2.35489217e+03 2.35870939e+03\n",
      " 2.27912751e+03 2.23627199e+03 2.20591182e+03 2.17410851e+03\n",
      " 1.97938024e+03 1.99105659e+03 2.02461755e+03 2.06143785e+03\n",
      " 2.07844446e+03 2.12514945e+03 2.11427702e+03 2.10176193e+03\n",
      " 1.94918758e+03 1.91602075e+03 1.89166173e+03 1.87290898e+03\n",
      " 1.86862458e+03 1.82087239e+03 1.78731502e+03 1.79849838e+03\n",
      " 1.79819355e+03 1.77169291e+03 1.74212853e+03 1.72599579e+03\n",
      " 1.70376037e+03 1.67608466e+03 1.59509124e+03 1.60066034e+03\n",
      " 1.63274440e+03 1.64349389e+03 1.64193098e+03 1.57678348e+03\n",
      " 1.55296571e+03 1.54507464e+03 1.53055794e+03 1.50799132e+03\n",
      " 1.49764656e+03 1.47951057e+03 1.46948504e+03 1.45205116e+03\n",
      " 1.44513861e+03 1.42931669e+03 1.35204637e+03 1.35378814e+03\n",
      " 1.39987491e+03 1.36928914e+03 1.38745755e+03 1.32437077e+03\n",
      " 1.30950373e+03 1.30527206e+03 1.28646841e+03 1.26332892e+03\n",
      " 1.15332895e+03 1.15480044e+03 1.17557817e+03 1.18275134e+03\n",
      " 1.24918385e+03 1.24255100e+03 1.19866580e+03 1.23086532e+03\n",
      " 1.22168200e+03 1.21150115e+03 1.13770962e+03 1.11797540e+03\n",
      " 1.11598909e+03 1.02280896e+03 1.10185456e+03 1.08489001e+03\n",
      " 1.08165532e+03 1.03642042e+03 1.04327432e+03 1.05140432e+03\n",
      " 1.06054708e+03 1.06454026e+03 1.02446443e+03 1.00628349e+03\n",
      " 1.00136711e+03 9.10202420e+02 9.85880930e+02 9.25154409e+02\n",
      " 9.73434577e+02 9.71651161e+02 9.65027955e+02 9.34984341e+02\n",
      " 9.54746780e+02 9.41903809e+02 9.47042098e+02 8.95839406e+02\n",
      " 8.86466519e+02 8.81931781e+02 8.74705118e+02 8.70549005e+02\n",
      " 8.62692611e+02 8.58793518e+02 8.52451778e+02 7.96986284e+02\n",
      " 8.03422458e+02 8.10929041e+02 8.17797218e+02 8.42821811e+02\n",
      " 8.30745482e+02 8.32823609e+02 8.98824522e+01 9.96242188e+01\n",
      " 1.02560313e+02 1.11850650e+02 1.15901637e+02 1.17825649e+02\n",
      " 1.21081266e+02 7.89382373e+02 7.85473843e+02 7.76557829e+02\n",
      " 7.72375677e+02 7.62974860e+02 7.57500500e+02 7.50285469e+02\n",
      " 7.39241543e+02 7.25059825e+02 7.31932219e+02 7.30704250e+02\n",
      " 1.24071553e+02 1.25727492e+02 1.26881849e+02 1.27426201e+02\n",
      " 1.29177920e+02 1.36702454e+02 1.40100700e+02 1.43467468e+02\n",
      " 7.08742356e+02 7.05456497e+02 6.99638295e+02 6.95091883e+02\n",
      " 6.89938182e+02 6.83871131e+02 6.77160525e+02 6.69504660e+02\n",
      " 6.56857135e+02 6.52869666e+02 6.48046896e+02 6.43441824e+02\n",
      " 6.38794437e+02 6.34456475e+02 6.20712910e+02 6.25946815e+02\n",
      " 6.25154844e+02 6.12431936e+02 1.47478810e+02 1.50047011e+02\n",
      " 1.52089767e+02 1.52236066e+02 1.55024063e+02 1.56283670e+02\n",
      " 1.60450234e+02 1.60737616e+02 1.62480228e+02 1.66934030e+02\n",
      " 1.70026960e+02 6.09730207e+02 6.01420794e+02 5.98702546e+02\n",
      " 5.94462224e+02 5.89117797e+02 5.86577039e+02 5.80578025e+02\n",
      " 5.79609211e+02 5.69906535e+02 5.65661892e+02 5.60362972e+02\n",
      " 5.52184936e+02 5.48117104e+02 5.36106952e+02 5.34177844e+02\n",
      " 5.42075159e+02 1.71550742e+02 1.73000865e+02 1.75724050e+02\n",
      " 1.77949451e+02 1.97455377e+02 1.98484509e+02 1.94964549e+02\n",
      " 1.92536937e+02 1.79907709e+02 1.89318759e+02 1.85817259e+02\n",
      " 1.84250124e+02 1.83984939e+02 5.25233397e+02 2.05619147e+02\n",
      " 2.01048964e+02 2.03226401e+02 4.96649827e+02 4.98465622e+02\n",
      " 5.02380911e+02 5.08499600e+02 5.13209262e+02 5.23516555e+02\n",
      " 5.23821325e+02 2.12485494e+02 2.08622480e+02 2.07621503e+02\n",
      " 4.88474628e+02 4.84880436e+02 4.80196265e+02 2.26401101e+02\n",
      " 2.23073221e+02 2.14829060e+02 2.17518794e+02 2.20259867e+02\n",
      " 2.19249380e+02 5.12521948e+02 4.73082366e+02 4.70716711e+02\n",
      " 4.63267872e+02 4.67220863e+02 2.29789301e+02 2.36650488e+02\n",
      " 2.41485348e+02 2.38394067e+02 2.39980411e+02 4.57172818e+02\n",
      " 4.43065231e+02 4.48197356e+02 4.49919457e+02 4.34834842e+02\n",
      " 4.13525162e+02 4.10461744e+02 4.03307287e+02 3.96600134e+02\n",
      " 2.33100521e+02 2.47372770e+02 2.50347874e+02 2.68015591e+02\n",
      " 2.72053556e+02 2.64321823e+02 2.55008746e+02 4.21576117e+02\n",
      " 4.19418080e+02 4.24272294e+02 3.89563944e+02 3.83274593e+02\n",
      " 3.91980391e+02 3.80366731e+02 3.75224189e+02 3.67933844e+02\n",
      " 3.18016096e+02 3.13472839e+02 3.10369918e+02 2.51462146e+02\n",
      " 2.56116950e+02 2.59973600e+02 2.88603896e+02 2.83405049e+02\n",
      " 2.93284266e+02 3.01075370e+02 2.96485873e+02 2.80843362e+02\n",
      " 2.74047386e+02 4.52513982e+02 4.36507364e+02 4.26245325e+02\n",
      " 2.58600169e+02 2.81643500e+02 3.73881628e+02 3.48333722e+02\n",
      " 3.32439297e+02 3.36152601e+02 3.42617516e+02 3.44327986e+02\n",
      " 3.46394628e+02 4.52042664e+02 2.79197164e+02 3.93324753e+02\n",
      " 3.24530753e+02 3.30300379e+02 3.65218864e+02 3.58691376e+02\n",
      " 3.55475410e+02 4.25961026e+02 2.62751723e+02 3.71433877e+02\n",
      " 3.61507474e+02 3.56747925e+02 2.97525233e+02 3.03574552e+02\n",
      " 3.02838917e+02 3.22238385e+02 3.21417369e+02 3.29895406e+02] (416,)\n",
      "[[-0.0043349   0.07505161 -0.03790415 ...  0.01318851  0.00568721\n",
      "  -0.00788315]\n",
      " [ 0.03045576  0.04669864 -0.00549794 ...  0.01640918 -0.02260072\n",
      "  -0.03628888]\n",
      " [-0.00240272 -0.03528137 -0.05302621 ... -0.02672546  0.00085848\n",
      "   0.01037638]\n",
      " ...\n",
      " [-0.01805049 -0.01247336  0.03269436 ...  0.01662842  0.01862589\n",
      "  -0.00489433]\n",
      " [ 0.0910197  -0.08041646  0.02921117 ... -0.0331829   0.05170772\n",
      "   0.0581055 ]\n",
      " [ 0.01396374  0.02904998  0.0319163  ... -0.03315264  0.15972459\n",
      "  -0.11093177]] (416, 416)\n"
     ]
    }
   ],
   "source": [
    "# Computing the eigenvalues and eigenvectors of the covariance matrix and measure long long it takes\n",
    "\n",
    "start2 = timeit.timeit()\n",
    "eigvals2, eigvecs2 = np.linalg.eig(cov2) # these are not ordered, so we order them and the corresponding eigenvalues\n",
    "end2 = timeit.timeit()\n",
    "print (start2-end2)\n",
    "print (start-end)\n",
    "\n",
    "print (eigvals2, eigvals2.shape)\n",
    "print (eigvecs2, eigvecs2.shape)\n",
    "\n",
    "# Need to compare somehow to the eigenvalues and eigenvectors that we computed before. Atm we can see my inspection that they are the same.\n",
    "\n",
    "\n",
    "#eig_test_1 = np.dot(cov, eigvecs[:, 0])\n",
    "#eig_test_2 = eigvecs[:, 0]*eigvals[0]\n",
    "#print (eig_test_1, eig_test_1.shape)\n",
    "#print (eig_test_2, eig_test_2.shape)\n",
    "#print (eig_test_1-eig_test_2, (eig_test_1-eig_test_2).shape) # Checking them: they are basically zero, so the eigenvalue computation is good\n"
   ]
  },
  {
   "cell_type": "code",
   "execution_count": 48,
   "metadata": {},
   "outputs": [
    {
     "name": "stdout",
     "output_type": "stream",
     "text": [
      "Maximum memory used by high dimension way: 638.03515625 MiB\n",
      "Maximum memory used by donothing: 435.4453125 MiB\n"
     ]
    }
   ],
   "source": [
    "def highdimension():\n",
    "    eigvals_hd, eigvecs_hd = np.linalg.eig(cov)\n",
    "    return\n",
    "\n",
    "#def lowdimension():\n",
    "#    eigvals2_ld, eigvecs2_ld = np.linalg.eig(cov2)\n",
    "#    return\n",
    "\n",
    "def donothing():\n",
    "    x=1123\n",
    "    return\n",
    "\n",
    "#mem_low = max(memory_usage(proc=lowdimension))\n",
    "mem_high = max(memory_usage(proc=highdimension))\n",
    "mem_nothing = max(memory_usage(proc=donothing))\n",
    "\n",
    "#print(\"Maximum memory used by low dimension way: {0} MiB\".format(str(mem_low)))\n",
    "print(\"Maximum memory used by high dimension way: {0} MiB\".format(str(mem_high)))\n",
    "print(\"Maximum memory used by donothing: {0} MiB\".format(str(mem_nothing)))\n",
    "\n",
    "# Check it tomorrow, strange that the memory usage of donothing and lowdimension if the same, but don't know why yet"
   ]
  },
  {
   "cell_type": "code",
   "execution_count": 37,
   "metadata": {},
   "outputs": [],
   "source": []
  },
  {
   "cell_type": "code",
   "execution_count": null,
   "metadata": {},
   "outputs": [],
   "source": []
  }
 ],
 "metadata": {
  "kernelspec": {
   "display_name": "Python 3",
   "language": "python",
   "name": "python3"
  },
  "language_info": {
   "codemirror_mode": {
    "name": "ipython",
    "version": 3
   },
   "file_extension": ".py",
   "mimetype": "text/x-python",
   "name": "python",
   "nbconvert_exporter": "python",
   "pygments_lexer": "ipython3",
   "version": "3.7.0"
  }
 },
 "nbformat": 4,
 "nbformat_minor": 2
}
