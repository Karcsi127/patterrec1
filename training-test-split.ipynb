{
 "cells": [
  {
   "cell_type": "markdown",
   "metadata": {},
   "source": [
    "# GENERATION OF TRAINING AND TEST SETS"
   ]
  },
  {
   "cell_type": "code",
   "execution_count": 1,
   "metadata": {},
   "outputs": [],
   "source": [
    "# Imports\n",
    "import scipy.io as sio\n",
    "import numpy as np\n",
    "\n",
    "# Load the source file with the face data\n",
    "mat_content = sio.loadmat('face.mat')\n",
    "# Store face data and classification\n",
    "face_data = mat_content['X']\n",
    "face_label = mat_content['l']\n",
    "\n",
    "# Append the matching data and labels into array 'faces'\n",
    "faces = np.append(face_data, face_label, axis=0)\n",
    "\n",
    "# Transpose in preparation for division into training and testing material\n",
    "faces_transposed = faces.T"
   ]
  },
  {
   "cell_type": "markdown",
   "metadata": {},
   "source": [
    "In the following section, we will split the dataset into a training and a test set. This will done by randomly sampling over all datapoints. 80% of the samples will be used for training and 20% will be used for testing."
   ]
  },
  {
   "cell_type": "code",
   "execution_count": 2,
   "metadata": {},
   "outputs": [],
   "source": [
    "# Divide the data set into training and testing sets: 80% is training, 20% is testing\n",
    "np.random.shuffle(faces_transposed) # Shuffle the rows (This is why we transposed)\n",
    "train, test = faces_transposed[:416,:], faces_transposed[416:,:]\n",
    "\n",
    "# Store the new datasets as .gzip files\n",
    "np.savetxt('split_whole_train.gzip', train)\n",
    "np.savetxt('split_whole_test.gzip', test)"
   ]
  },
  {
   "cell_type": "markdown",
   "metadata": {},
   "source": [
    "We will repeat the process of splitting the data into a training and a test set. However, this time will randomly take 80% of the datapoints from each class."
   ]
  },
  {
   "cell_type": "code",
   "execution_count": 3,
   "metadata": {},
   "outputs": [],
   "source": [
    "#create training data by sampling over each class\n",
    "test_class = np.zeros((104,2577))\n",
    "train_class = np.zeros((416,2577))\n",
    "for i in range(52):\n",
    "    temp_class_set = faces_transposed[i==(faces_transposed[:,-1]-1),:]\n",
    "    np.random.shuffle(temp_class_set)\n",
    "    train_class[8*i:(8*i)+8,:] = temp_class_set[:8,:]\n",
    "    test_class[2*i:(2*i)+2,:]=temp_class_set[8:,:]\n",
    "    \n",
    "# Store the new datasets as .gzip files\n",
    "np.savetxt('split_class_train.gzip', train_class)\n",
    "np.savetxt('split_class_test.gzip', test_class)"
   ]
  },
  {
   "cell_type": "code",
   "execution_count": null,
   "metadata": {},
   "outputs": [],
   "source": []
  }
 ],
 "metadata": {
  "kernelspec": {
   "display_name": "Python 3",
   "language": "python",
   "name": "python3"
  },
  "language_info": {
   "codemirror_mode": {
    "name": "ipython",
    "version": 3
   },
   "file_extension": ".py",
   "mimetype": "text/x-python",
   "name": "python",
   "nbconvert_exporter": "python",
   "pygments_lexer": "ipython3",
   "version": "3.7.0"
  }
 },
 "nbformat": 4,
 "nbformat_minor": 2
}
