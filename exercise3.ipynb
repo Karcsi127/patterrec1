{
 "cells": [
  {
   "cell_type": "markdown",
   "metadata": {},
   "source": [
    "<b>FACTS: </b><br>\n",
    "Number of images in training set: N = 416 <br>\n",
    "Number of Pixels per image: D = 2576 <br>\n",
    "Number of classes: c = 52 <br>\n",
    "-> <br>\n",
    "Sw: rank(Sw)= N-c = 364 -> Mpca <= 364 <br>\n",
    "Sb: rank(Sb)= c-1 = 51 -> Mlda <= 51 <br>"
   ]
  },
  {
   "cell_type": "code",
   "execution_count": 1,
   "metadata": {},
   "outputs": [],
   "source": [
    "# Imports\n",
    "import scipy.io as sio\n",
    "import numpy as np\n",
    "import matplotlib.pyplot as plt\n",
    "from sklearn.metrics import confusion_matrix"
   ]
  },
  {
   "cell_type": "code",
   "execution_count": 2,
   "metadata": {},
   "outputs": [],
   "source": [
    "# Load the training and testing sets: 80% is training, 20% is testing\n",
    "\n",
    "splittype = 'whole'\n",
    "\n",
    "if (splittype == 'whole'):\n",
    "    training = np.loadtxt('split_whole_train.gzip', dtype = 'uint8')\n",
    "    test = np.loadtxt('split_whole_test.gzip', dtype = 'uint8')\n",
    "elif (splittype == 'class'):\n",
    "    training = np.loadtxt('split_class_train.gzip', dtype = 'uint8')\n",
    "    test = np.loadtxt('split_class_test.gzip', dtype = 'uint8')"
   ]
  },
  {
   "cell_type": "code",
   "execution_count": 3,
   "metadata": {},
   "outputs": [],
   "source": [
    "# Define constants\n",
    "TRAIN_RATIO = 0.8\n",
    "CLASS_SIZE = 52 # number of classes\n",
    "PIC_DIM = (46,56) # dimensions of picture\n",
    "PIC_SIZE = PIC_DIM[0]*PIC_DIM[1]\n",
    "\n",
    "# Divide the data set into training and testing sets: 80% is training, 20% is testing\n",
    "TRAIN_SIZE = training.shape[0]\n",
    "TEST_SIZE = test.shape[0]"
   ]
  },
  {
   "cell_type": "markdown",
   "metadata": {},
   "source": [
    "training, testing: axis 0: pictures, axis 1: pixels + label\n",
    "\n",
    "In the following cell we calculate the an <b> individual array for each class, the mean vector for each class and the global mean. <b>"
   ]
  },
  {
   "cell_type": "code",
   "execution_count": 4,
   "metadata": {},
   "outputs": [],
   "source": [
    "# Order training data depending on their class\n",
    "training = training[np.argsort(training[:,-1]),:]\n",
    "\n",
    "# Create a list of arrays depending on the classes\n",
    "class_sets = []\n",
    "for i in range(CLASS_SIZE):\n",
    "    class_sets.append(training[i==(training[:,-1]-1),:PIC_SIZE]) # dimensions: numbers of pictures in each class x PIC_SIZE\n",
    "\n",
    "# Calculate the mean vector of each class\n",
    "class_means = np.zeros((CLASS_SIZE,PIC_SIZE))\n",
    "for i in range(CLASS_SIZE):\n",
    "    class_means[i,:] = np.mean(class_sets[i], axis=0)\n",
    "\n",
    "# Calculate the global mean\n",
    "global_mean = np.mean(training[:,:PIC_SIZE], axis=0)"
   ]
  },
  {
   "cell_type": "markdown",
   "metadata": {},
   "source": [
    "<b>S<sub>B</sub> matrix</b>"
   ]
  },
  {
   "cell_type": "code",
   "execution_count": 5,
   "metadata": {},
   "outputs": [
    {
     "name": "stdout",
     "output_type": "stream",
     "text": [
      "RANK OF Sb: 51\n"
     ]
    }
   ],
   "source": [
    "# Compute Sb\n",
    "class_means_norm = class_means - global_mean # make use of broadcasting\n",
    "Sb = np.dot(class_means_norm.T, class_means_norm)\n",
    "\n",
    "print(\"RANK OF Sb:\", np.linalg.matrix_rank(Sb)) # =c-1"
   ]
  },
  {
   "cell_type": "markdown",
   "metadata": {},
   "source": [
    "<b>x-m<sub>i</sub> and S<sub>W</sub> matrix</b>"
   ]
  },
  {
   "cell_type": "code",
   "execution_count": 6,
   "metadata": {},
   "outputs": [
    {
     "name": "stdout",
     "output_type": "stream",
     "text": [
      "RANK OF Sw: 364\n"
     ]
    }
   ],
   "source": [
    "# Compute x-mi\n",
    "class_sets_norm = []\n",
    "for i in range(CLASS_SIZE):\n",
    "    class_sets_norm.append(class_sets[i]-class_means[i,:])\n",
    "\n",
    "# Compute Sw\n",
    "Sw = np.zeros((PIC_SIZE,PIC_SIZE))\n",
    "for c in class_sets_norm:\n",
    "    Sw += np.dot(c.T,c)\n",
    "    \n",
    "print(\"RANK OF Sw:\", np.linalg.matrix_rank(Sw)) # = N-c"
   ]
  },
  {
   "cell_type": "markdown",
   "metadata": {},
   "source": [
    "<b>S<sub>T</sub> matrix</b>"
   ]
  },
  {
   "cell_type": "code",
   "execution_count": 7,
   "metadata": {},
   "outputs": [
    {
     "name": "stdout",
     "output_type": "stream",
     "text": [
      "RANK OF St: 415\n"
     ]
    }
   ],
   "source": [
    "# Compute St\n",
    "# Images are represented as rows of the array 'pca_train'\n",
    "train_pic = training [:, :PIC_SIZE]\n",
    "train_pic_norm = train_pic - global_mean\n",
    "St = np.dot(train_pic_norm.T, train_pic_norm)\n",
    "\n",
    "print(\"RANK OF St:\", np.linalg.matrix_rank(St)) # = N-1"
   ]
  },
  {
   "cell_type": "markdown",
   "metadata": {},
   "source": [
    "<b>W<sub>pca</sub> matrix</b>"
   ]
  },
  {
   "cell_type": "code",
   "execution_count": 8,
   "metadata": {},
   "outputs": [
    {
     "name": "stdout",
     "output_type": "stream",
     "text": [
      "SIZE OF Wpca: (2576, 350)\n",
      "RANK OF Wpca: 350\n"
     ]
    }
   ],
   "source": [
    "# Compute Wpca\n",
    "\n",
    "# Find the eigenvalues of the St matrix\n",
    "eigvals_St, eigvecs_St = np.linalg.eig(St)\n",
    "\n",
    "# Take the real part of the eigenvalues (complex eigenvalues are the result of numerical rounding errors)\n",
    "eigvals_St = np.real(eigvals_St)\n",
    "eigvecs_St = np.real(eigvecs_St)\n",
    "\n",
    "# Order eigenvectors and eigenvalues according to their size\n",
    "index_St = (abs(eigvals_St)).argsort()[::-1]\n",
    "eigvals_St = eigvals_St[index_St]\n",
    "eigvecs_St = eigvecs_St[:,index_St]\n",
    "\n",
    "# We just keep the first Mpca eigenvectors and eigenvalues\n",
    "Mpca = 350 #<=364\n",
    "eigvecs_St_best = eigvecs_St[:, :Mpca]\n",
    "eigvals_St_best = eigvals_St[:Mpca]\n",
    "\n",
    "#Define Wpca\n",
    "Wpca = eigvecs_St_best\n",
    "\n",
    "print(\"SIZE OF Wpca:\", Wpca.shape)\n",
    "print(\"RANK OF Wpca:\", np.linalg.matrix_rank(Wpca))"
   ]
  },
  {
   "cell_type": "markdown",
   "metadata": {},
   "source": [
    "<b>W<sub>lda</sub> matrix</b>"
   ]
  },
  {
   "cell_type": "code",
   "execution_count": 9,
   "metadata": {},
   "outputs": [
    {
     "data": {
      "image/png": "[encoded data removed]",
      "text/plain": [
       "<Figure size 432x288 with 1 Axes>"
      ]
     },
     "metadata": {
      "needs_background": "light"
     },
     "output_type": "display_data"
    },
    {
     "name": "stdout",
     "output_type": "stream",
     "text": [
      "SIZE OF Wlda: (350, 50)\n",
      "RANK OF Wlda: 50\n"
     ]
    }
   ],
   "source": [
    "# Compute inverse of Sw_reduced times Sb_reduced\n",
    "LDA_inverse = np.linalg.inv(Wpca.T.dot(Sw).dot(Wpca)).dot(Wpca.T.dot(Sb).dot(Wpca))\n",
    "\n",
    "# Compute Wlda\n",
    "# Get the generalised eigenvectors of LDA_matrix with largest Mlda eigenvalues\n",
    "eigvals_LDA, eigvecs_LDA = np.linalg.eig(LDA_inverse)\n",
    "\n",
    "# Take real part of the eigenvalues (complex eigenvalues are the result of numerical rounding errors)\n",
    "eigvals_LDA = np.real(eigvals_LDA)\n",
    "eigvecs_LDA = np.real(eigvecs_LDA)\n",
    "\n",
    "# Order eigenvectors and eigenvalues according to their size\n",
    "index_LDA = (abs(eigvals_LDA)).argsort()[::-1]\n",
    "eigvals_LDA = eigvals_LDA[index_LDA]\n",
    "eigvecs_LDA = eigvecs_LDA[:,index_LDA]\n",
    "\n",
    "# Plot them\n",
    "plt.plot(np.arange(0, 20), eigvals_LDA[:20])\n",
    "plt.title('First 20 eigenvalues of the covariance matrix')\n",
    "plt.show()\n",
    "\n",
    "# We just keep the first Mlda eigenvectors and eigenvalues\n",
    "Mlda = 50 #<=51\n",
    "eigvecs_LDA_best = eigvecs_LDA[:, :Mlda]\n",
    "eigvals_LDA_best = eigvals_LDA[:Mlda]\n",
    "\n",
    "# Define Wlda\n",
    "Wlda = eigvecs_LDA_best\n",
    "\n",
    "print(\"SIZE OF Wlda:\", Wlda.shape)\n",
    "print(\"RANK OF Wlda:\", np.linalg.matrix_rank(Wlda))"
   ]
  },
  {
   "cell_type": "markdown",
   "metadata": {},
   "source": [
    "<b>W<sub>opt</sub> matrix</b>"
   ]
  },
  {
   "cell_type": "code",
   "execution_count": 10,
   "metadata": {},
   "outputs": [
    {
     "name": "stdout",
     "output_type": "stream",
     "text": [
      "SIZE OF Wopt: (2576, 50)\n",
      "RANK OF Wopt: 50\n",
      "Fisherface example:\n"
     ]
    },
    {
     "data": {
      "text/plain": [
       "<matplotlib.image.AxesImage at 0x1a34df1cf8>"
      ]
     },
     "execution_count": 10,
     "metadata": {},
     "output_type": "execute_result"
    },
    {
     "data": {
      "image/png": "[encoded data removed]",
      "text/plain": [
       "<Figure size 432x288 with 1 Axes>"
      ]
     },
     "metadata": {
      "needs_background": "light"
     },
     "output_type": "display_data"
    }
   ],
   "source": [
    "# Compute Wopt\n",
    "Wopt_transposed = Wlda.T.dot(Wpca.T)\n",
    "Wopt = Wopt_transposed.T\n",
    "\n",
    "print(\"SIZE OF Wopt:\", Wopt.shape)\n",
    "print(\"RANK OF Wopt:\", np.linalg.matrix_rank(Wlda))\n",
    "\n",
    "print(\"Fisherface example:\")\n",
    "plt.imshow(np.reshape(Wopt[:,1], PIC_DIM).T, cmap = 'gist_gray')"
   ]
  },
  {
   "cell_type": "markdown",
   "metadata": {},
   "source": [
    "<b> Reconstruction check"
   ]
  },
  {
   "cell_type": "code",
   "execution_count": 11,
   "metadata": {},
   "outputs": [
    {
     "data": {
      "text/plain": [
       "<matplotlib.image.AxesImage at 0x1a34fa3748>"
      ]
     },
     "execution_count": 11,
     "metadata": {},
     "output_type": "execute_result"
    },
    {
     "data": {
      "image/png": "[encoded data removed]",
      "text/plain": [
       "<Figure size 432x288 with 1 Axes>"
      ]
     },
     "metadata": {
      "needs_background": "light"
     },
     "output_type": "display_data"
    },
    {
     "data": {
      "image/png": "[encoded data removed]",
      "text/plain": [
       "<Figure size 432x288 with 1 Axes>"
      ]
     },
     "metadata": {
      "needs_background": "light"
     },
     "output_type": "display_data"
    }
   ],
   "source": [
    "#Reconstruction check\n",
    "plt.imshow(np.reshape(train_pic[0,:], PIC_DIM).T, cmap = 'gist_gray')\n",
    "LDA_pic = Wopt_transposed.dot((train_pic[0,:]-global_mean))\n",
    "LDA_reconstructed_pic = Wopt.dot(LDA_pic)+global_mean\n",
    "plt.figure()\n",
    "plt.imshow(np.reshape(LDA_reconstructed_pic, PIC_DIM).T, cmap = 'gist_gray')"
   ]
  },
  {
   "cell_type": "markdown",
   "metadata": {},
   "source": [
    "<b>PCA-LDA based face recognition with the NN classifier"
   ]
  },
  {
   "cell_type": "code",
   "execution_count": 12,
   "metadata": {},
   "outputs": [
    {
     "data": {
      "image/png": "[encoded data removed]",
      "text/plain": [
       "<Figure size 288x288 with 2 Axes>"
      ]
     },
     "metadata": {
      "needs_background": "light"
     },
     "output_type": "display_data"
    },
    {
     "name": "stdout",
     "output_type": "stream",
     "text": [
      "Prediction Accuracy: 0.8269230769230769\n"
     ]
    }
   ],
   "source": [
    "#Predict the classes of the test set with PCA-LDA and NN-classifier\n",
    "\n",
    "#Project training data into LDA space\n",
    "train_LDA = Wopt_transposed.dot(train_pic_norm.T) # each picture is represented by a column\n",
    "\n",
    "#Project test data into LDA space\n",
    "test_norm = (test[:,:PIC_SIZE] - global_mean)\n",
    "test_LDA = Wopt_transposed.dot(test_norm.T) #each picture is represented by a column\n",
    "\n",
    "# Reshape and repeat matrices to allow easier manipulation\n",
    "train_LDA_reshape_NN = np.repeat(train_LDA.reshape(Mlda,TRAIN_SIZE,1),TEST_SIZE, axis=2) #afterwards: axis-0: projected values, axis-1: training pictures, axis-2: repeated values\n",
    "test_LDA_reshape_NN = np.repeat(test_LDA.reshape(Mlda,1,TEST_SIZE), TRAIN_SIZE, axis=1) #afterwards: axis-0: projected values, axis-1: repeated values, axis-2: test pictures\n",
    "\n",
    "# Compute nearest neighbours\n",
    "LDA_distances = np.linalg.norm(test_LDA_reshape_NN-train_LDA_reshape_NN, axis=0) # axis-0: training picture, axis-1: test picture\n",
    "\n",
    "# Determine the nearest training picture\n",
    "nearest_trainpic = LDA_distances.argmin(axis=0)\n",
    "\n",
    "# Determine the nearest classes\n",
    "classes_pred_NN = training[nearest_trainpic,PIC_SIZE]\n",
    "classes_act_NN = test[:,PIC_SIZE]\n",
    "\n",
    "# Print the corresponding confusion matrix\n",
    "cm_PCA_LDA_NN = confusion_matrix(classes_pred_NN, classes_pred_NN)\n",
    "\n",
    "plt.matshow(cm_PCA_LDA_NN, cmap = 'Blues')\n",
    "plt.colorbar()\n",
    "plt.ylabel('Actual')\n",
    "plt.xlabel('Predicted')\n",
    "plt.title('Confusion matrix for PCA-LDA with NN-Classifiers')\n",
    "plt.show()\n",
    "\n",
    "# Determine the prediction accuracy\n",
    "accuracy_PCA_LDA_NN = np.sum(classes_pred_NN==classes_act_NN) / classes_act_NN.shape[0]\n",
    "print(\"Prediction Accuracy:\",accuracy_PCA_LDA_NN)\n"
   ]
  },
  {
   "cell_type": "markdown",
   "metadata": {},
   "source": [
    "<b>PCA-LDA based face recognition with Average NN classifier"
   ]
  },
  {
   "cell_type": "code",
   "execution_count": 13,
   "metadata": {},
   "outputs": [
    {
     "data": {
      "image/png": "[encoded data removed]",
      "text/plain": [
       "<Figure size 288x288 with 2 Axes>"
      ]
     },
     "metadata": {
      "needs_background": "light"
     },
     "output_type": "display_data"
    },
    {
     "name": "stdout",
     "output_type": "stream",
     "text": [
      "Prediction Accuracy: 0.8653846153846154\n"
     ]
    }
   ],
   "source": [
    "# Predict the classes of the test set with PCA-LDA and average NN-classifier\n",
    "\n",
    "# Project all classes into the LDA-Space individually\n",
    "class_sets_LDA = []\n",
    "for c in class_sets:\n",
    "    class_sets_LDA.append(Wopt_transposed.dot((c-global_mean).T))\n",
    "\n",
    "# Compute the average distance to the class\n",
    "class_mean_distance = np.zeros((CLASS_SIZE,TEST_SIZE))\n",
    "# class_mean_distance is a list of matrices where each element of a matrix stores the mean distance from a test point to all points of a certain class\n",
    "# axis-0: classes, axis-1: mean distance for each point\n",
    "for i in range(CLASS_SIZE):\n",
    "    train_LDA_reshape_NN_av = np.repeat(class_sets_LDA[i].reshape(Mlda,class_sets_LDA[i].shape[1],1),TEST_SIZE,axis=2)\n",
    "    test_LDA_reshape_NN_av = np.repeat(test_LDA.reshape(Mlda,1,TEST_SIZE), class_sets_LDA[i].shape[1], axis=1)\n",
    "    d = np.linalg.norm(test_LDA_reshape_NN_av-train_LDA_reshape_NN_av, axis=0)\n",
    "    class_mean_distance[i,:]=np.average(d,axis=0)\n",
    "    \n",
    "# Determine the nearest classes for each testpoint\n",
    "classes_pred_NN_av = class_mean_distance.argmin(axis=0)+1 # python index starts from 0 -> add 1\n",
    "classes_act_NN_av = test[:,PIC_SIZE]\n",
    "\n",
    "# Print the corresponding confusion matrix\n",
    "cm_PCA_LDA_NN_av = confusion_matrix(classes_act_NN_av, classes_pred_NN_av)\n",
    "\n",
    "plt.matshow(cm_PCA_LDA_NN_av, cmap = 'Blues')\n",
    "plt.colorbar()\n",
    "plt.ylabel('Actual')\n",
    "plt.xlabel('Predicted')\n",
    "plt.title('Confusion matrix for PCA-LDA with average NN-Classifiers')\n",
    "plt.show()\n",
    "\n",
    "# Determine the prediction accuracy\n",
    "accuracy_PCA_LDA_NN_av = np.sum(classes_pred_NN_av==classes_act_NN_av) / classes_act_NN_av.shape[0]\n",
    "print(\"Prediction Accuracy:\",accuracy_PCA_LDA_NN_av)"
   ]
  },
  {
   "cell_type": "code",
   "execution_count": null,
   "metadata": {},
   "outputs": [],
   "source": []
  }
 ],
 "metadata": {
  "kernelspec": {
   "display_name": "Python 3",
   "language": "python",
   "name": "python3"
  },
  "language_info": {
   "codemirror_mode": {
    "name": "ipython",
    "version": 3
   },
   "file_extension": ".py",
   "mimetype": "text/x-python",
   "name": "python",
   "nbconvert_exporter": "python",
   "pygments_lexer": "ipython3",
   "version": "3.7.0"
  }
 },
 "nbformat": 4,
 "nbformat_minor": 2
}
