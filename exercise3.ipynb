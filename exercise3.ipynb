{
 "cells": [
  {
   "cell_type": "markdown",
   "metadata": {},
   "source": [
    "FACTS: <br>\n",
    "Number of images in training set: N = 416 <br>\n",
    "Number of Pixels per image: D = 2576 <br>\n",
    "Number of classes: c = 52 <br>\n",
    "-> <br>\n",
    "Sw: rank(Sw)= N-c = 364 -> Mpca <= 364 <br>\n",
    "Sb: rank(Sb)= c-1 = 51 -> Mlda <= 51 <br>"
   ]
  },
  {
   "cell_type": "code",
   "execution_count": 1,
   "metadata": {},
   "outputs": [],
   "source": [
    "# Imports\n",
    "import scipy.io as sio\n",
    "import numpy as np\n",
    "import matplotlib.pyplot as plt\n",
    "from sklearn.metrics import confusion_matrix\n",
    "\n",
    "# Load the source file with the face data\n",
    "mat_content = sio.loadmat('face.mat')"
   ]
  },
  {
   "cell_type": "code",
   "execution_count": 2,
   "metadata": {},
   "outputs": [],
   "source": [
    "# Store face data and classification\n",
    "face_data = mat_content['X']\n",
    "face_label = mat_content['l'] # Not actually used for PCA training, needed for testing\n",
    "\n",
    "# Append the matching data and labels into array 'faces': unnecessary for PCA training as the labels are not used (unsupervised learning)\n",
    "# But we need it later for assessing our algorithms during testing\n",
    "faces = np.append(face_data, face_label, axis=0)\n",
    "\n",
    "#Transpose in preparation for division into training and testing material\n",
    "faces_transposed = faces.T"
   ]
  },
  {
   "cell_type": "code",
   "execution_count": 3,
   "metadata": {},
   "outputs": [
    {
     "name": "stdout",
     "output_type": "stream",
     "text": [
      "[[ 93.  95.  81. ... 100.  91.   1.]\n",
      " [ 73.  83. 124. ...  30.  26.   1.]\n",
      " [ 65.  66.  65. ...  75.  84.   1.]\n",
      " ...\n",
      " [188. 186. 195. ...  62.  58.  52.]\n",
      " [ 86.  63.  51. ... 107. 120.  52.]\n",
      " [ 27.  29.  30. ... 127. 181.  52.]] (416, 2577)\n",
      "[[191. 185. 174. ...  19.  17.   1.]\n",
      " [ 96.  93.  95. ...  85. 121.   1.]\n",
      " [ 51.  76.  74. ...  26.  25.   2.]\n",
      " ...\n",
      " [ 96.  98.  88. ...  40.  41.  51.]\n",
      " [ 77.  72.  68. ... 103. 110.  52.]\n",
      " [176. 174. 164. ... 149. 140.  52.]] (104, 2577)\n"
     ]
    }
   ],
   "source": [
    "#create training data by sampling over each class\n",
    "test_class = np.zeros((104,2577))\n",
    "train_class = np.zeros((416,2577))\n",
    "for i in range(52):\n",
    "    temp_class_set = faces_transposed[i==(faces_transposed[:,-1]-1),:]\n",
    "    np.random.shuffle(temp_class_set)\n",
    "    train_class[8*i:(8*i)+8,:] = temp_class_set[:8,:]\n",
    "    test_class[2*i:(2*i)+2,:]=temp_class_set[8:,:]\n",
    "    \n",
    "print(train_class, train_class.shape)\n",
    "print(test_class, test_class.shape)"
   ]
  },
  {
   "cell_type": "code",
   "execution_count": 4,
   "metadata": {},
   "outputs": [],
   "source": [
    "#Divide the data set into training and testing sets: 80% is training, 20% is testing\n",
    "np.random.shuffle(faces_transposed) # Shuffle the rows (This is why we transposed)\n",
    "#training, test = faces_transposed[:416,:], faces_transposed[416:,:]\n",
    "\n",
    "#make use of new test and training data\n",
    "training=train_class\n",
    "test = test_class"
   ]
  },
  {
   "cell_type": "markdown",
   "metadata": {},
   "source": [
    "training, testing: axis 0: pictures, axis 1: pixels + label"
   ]
  },
  {
   "cell_type": "code",
   "execution_count": 5,
   "metadata": {},
   "outputs": [
    {
     "name": "stdout",
     "output_type": "stream",
     "text": [
      "[[ 93.  95.  81. ...  88. 100.  91.]\n",
      " [ 73.  83. 124. ...  33.  30.  26.]\n",
      " [ 65.  66.  65. ...  62.  75.  84.]\n",
      " ...\n",
      " [161. 156. 141. ...  58.  59.  60.]\n",
      " [161. 162. 160. ...  50.  47.  46.]\n",
      " [106. 103. 103. ...  37.  36.  41.]] (8, 2576)\n",
      "[121.79807692 122.51682692 120.19711538 ...  86.37980769  84.68028846\n",
      "  83.06730769] (2576,)\n"
     ]
    }
   ],
   "source": [
    "#order training data depending on their class\n",
    "training = training[np.argsort(training[:,-1]),:]\n",
    "\n",
    "# Create a list of arrays depending on the classes\n",
    "class_sets = []\n",
    "for i in range(52):\n",
    "    class_sets.append(training[i==(training[:,-1]-1),:2576])\n",
    "    \n",
    "print(class_sets[0],class_sets[0].shape)\n",
    "\n",
    "# Calculate the class means\n",
    "#class_means = []\n",
    "#for c in class_sets:\n",
    "#    class_means.append(np.mean(c, axis=0))\n",
    "#print(class_means[0],class_means[0].shape)\n",
    "\n",
    "class_means = np.zeros((52,2576))\n",
    "for i in range(52):\n",
    "    class_means[i,:] = np.mean(class_sets[i], axis=0)\n",
    "\n",
    "# Calculate the global mean\n",
    "global_mean = np.mean(training[:,:2576], axis=0)\n",
    "print(global_mean,global_mean.shape)\n",
    "\n",
    "#Calculate Sb\n",
    "class_means_norm = class_means - global_mean #make us of broadcasting\n",
    "Sb = np.dot(class_means_norm.T, class_means_norm)\n",
    "#print(np.linalg.matrix_rank(Sb)) # =c-1\n"
   ]
  },
  {
   "cell_type": "code",
   "execution_count": 6,
   "metadata": {},
   "outputs": [
    {
     "name": "stdout",
     "output_type": "stream",
     "text": [
      "(8, 2576)\n"
     ]
    }
   ],
   "source": [
    "#Calculate x-mi\n",
    "class_sets_norm = []\n",
    "for i in range(52):\n",
    "    class_sets_norm.append(class_sets[i]-class_means[i,:])\n",
    "print(class_sets_norm[0].shape)"
   ]
  },
  {
   "cell_type": "code",
   "execution_count": 7,
   "metadata": {},
   "outputs": [],
   "source": [
    "#Calculate Sw\n",
    "Sw = np.zeros((2576,2576))\n",
    "for c in class_sets_norm:\n",
    "    Sw += np.dot(c.T,c)\n",
    "    \n",
    "#print(np.linalg.matrix_rank(Sw)) # = N-c"
   ]
  },
  {
   "cell_type": "code",
   "execution_count": 8,
   "metadata": {},
   "outputs": [],
   "source": [
    "#Calculate St\n",
    "# Images are represented as rows of the array 'pca_train'\n",
    "pca_train = training [:, :2576]\n",
    "pca_train_norm = pca_train - global_mean\n",
    "St = np.dot(pca_train_norm.T, pca_train_norm)"
   ]
  },
  {
   "cell_type": "code",
   "execution_count": 9,
   "metadata": {},
   "outputs": [
    {
     "name": "stdout",
     "output_type": "stream",
     "text": [
      "[[-0.01415888 -0.01277956 -0.01678321 ...  0.0042812  -0.05505095\n",
      "   0.02187709]\n",
      " [-0.01532683 -0.01267018 -0.0181019  ... -0.02043447  0.02044925\n",
      "   0.02857598]\n",
      " [-0.01619353 -0.01256184 -0.02056209 ...  0.00018875  0.03088193\n",
      "  -0.00426736]\n",
      " ...\n",
      " [ 0.00425367  0.04907892  0.00264849 ...  0.04037643  0.02999608\n",
      "   0.02643751]\n",
      " [ 0.00419445  0.04865444  0.0031712  ...  0.00741028  0.04725846\n",
      "   0.0112714 ]\n",
      " [ 0.00405676  0.04893925  0.00443705 ...  0.01596199  0.02423301\n",
      "  -0.04109209]] (2576, 350)\n"
     ]
    }
   ],
   "source": [
    "# Calculate Wpca\n",
    "eigvals_St, eigvecs_St = np.linalg.eig(St)\n",
    "\n",
    "# take real part of the eigenvalues (complex eigenvalues are the result of calculation rounding errors)\n",
    "eigvals_St = np.real(eigvals_St)\n",
    "eigvecs_St = np.real(eigvecs_St)\n",
    "\n",
    "#order eigenvectors and eigenvalues according to their size\n",
    "index_St = eigvals_St.argsort()[::-1]\n",
    "eigvals_St = eigvals_St[index_St]\n",
    "eigvecs_St = eigvecs_St[:,index_St]\n",
    "\n",
    "# We just keep the first n eigenvectors and eigenvalues\n",
    "Mpca = 350 #<=364\n",
    "eigvecs_St_best = eigvecs_St[:, :Mpca]\n",
    "eigvals_St_best = eigvals_St[:Mpca]\n",
    "\n",
    "#Define Wpca\n",
    "Wpca = eigvecs_St_best\n",
    "\n",
    "print(Wpca, Wpca.shape)"
   ]
  },
  {
   "cell_type": "code",
   "execution_count": 10,
   "metadata": {},
   "outputs": [
    {
     "name": "stdout",
     "output_type": "stream",
     "text": [
      "[[ 1.70054280e+01 -3.35964506e+00  5.50769084e+00 ... -2.59124996e-03\n",
      "  -1.11038208e-02  1.29362384e-02]\n",
      " [-6.22077250e+00  7.41180025e+00 -5.01608141e+00 ...  1.71671232e-02\n",
      "   3.22796544e-03 -7.26261843e-03]\n",
      " [ 1.21503379e+01 -5.97630093e+00  1.06864093e+01 ...  3.95561106e-03\n",
      "  -1.52938716e-02  1.52246197e-02]\n",
      " ...\n",
      " [-9.11457909e+00  3.26117354e+01  6.30698922e+00 ...  7.58013881e-01\n",
      "  -1.88459849e-01 -1.82907828e-01]\n",
      " [-3.92755182e+01  6.16633954e+00 -2.45215613e+01 ... -1.89513875e-01\n",
      "   4.94373938e-01 -1.50759932e-01]\n",
      " [ 4.64145752e+01 -1.40730644e+01  2.47613329e+01 ... -1.86574098e-01\n",
      "  -1.52926525e-01  7.49976285e-01]] (350, 350)\n"
     ]
    }
   ],
   "source": [
    "#calculate inverse of Sw_reduced times Sb_reduced\n",
    "LDA = np.linalg.inv(Wpca.T.dot(Sw).dot(Wpca)).dot(Wpca.T.dot(Sb).dot(Wpca))\n",
    "\n",
    "print(LDA, LDA.shape)"
   ]
  },
  {
   "cell_type": "code",
   "execution_count": 11,
   "metadata": {},
   "outputs": [
    {
     "name": "stdout",
     "output_type": "stream",
     "text": [
      "[ 1.96297900e+02  1.42577326e+02  7.54001577e+01  6.06308528e+01\n",
      "  4.76468481e+01  3.71463712e+01  2.93267579e+01  2.75407087e+01\n",
      "  2.70247077e+01  1.78500823e+01  1.64158047e+01  1.43870080e+01\n",
      "  1.24186582e+01  1.15747782e+01  9.89595693e+00  8.73763479e+00\n",
      "  7.57466030e+00  7.14750934e+00  5.91270916e+00  5.77601900e+00\n",
      "  5.37638846e+00  4.93733003e+00  4.33894828e+00  3.97860105e+00\n",
      "  3.68057905e+00  3.23693517e+00  3.12311596e+00  2.90836801e+00\n",
      "  2.69225218e+00  2.48353690e+00  2.31305704e+00  2.08677253e+00\n",
      "  1.80469572e+00  1.70260377e+00  1.55016867e+00  1.41969489e+00\n",
      "  1.26316750e+00  1.14667545e+00  1.06994180e+00  9.20281095e-01\n",
      "  9.03358038e-01  8.68322229e-01  8.02574964e-01  7.17922803e-01\n",
      "  6.00491771e-01  5.84489574e-01  5.46258983e-01  5.03666024e-01\n",
      "  4.50755337e-01  3.66047945e-01  2.62656291e-01  1.45547114e-14\n",
      "  1.37195802e-14  1.37195802e-14  1.04535076e-14  1.04535076e-14\n",
      "  9.43869518e-15  8.69782281e-15  8.69782281e-15  8.18607482e-15\n",
      "  8.18607482e-15  8.12419992e-15  8.12419992e-15  7.41098208e-15\n",
      "  7.41098208e-15  5.70060247e-15  5.70060247e-15  5.66338415e-15\n",
      "  4.90416749e-15  4.90416749e-15  4.83924151e-15  4.83924151e-15\n",
      "  4.76427763e-15  4.76427763e-15  4.59935692e-15  4.59935692e-15\n",
      "  4.32087966e-15  4.32087966e-15  4.14305241e-15  4.14305241e-15\n",
      "  3.50837319e-15  3.50837319e-15  3.42073774e-15  3.42073774e-15\n",
      "  3.36947211e-15  3.36947211e-15  3.34573305e-15  3.34573305e-15\n",
      "  3.14134871e-15  3.14134871e-15  3.04563530e-15  3.04563530e-15\n",
      "  2.98670902e-15  2.98670902e-15  2.97662150e-15  2.97662150e-15\n",
      "  2.85251186e-15  2.85251186e-15  2.70357603e-15  2.50857473e-15\n",
      "  2.50857473e-15  2.50296412e-15  2.38577555e-15  2.36919331e-15\n",
      "  2.36919331e-15  2.09932097e-15  2.09932097e-15  2.03708394e-15\n",
      "  2.03708394e-15  1.97424498e-15  1.97424498e-15  1.88962714e-15\n",
      "  1.88325312e-15  1.88325312e-15  1.86618620e-15  1.86618620e-15\n",
      "  1.83117774e-15  1.83117774e-15  1.79279652e-15  1.79279652e-15\n",
      "  1.71233879e-15  1.71233879e-15  1.62478940e-15  1.62478940e-15\n",
      "  1.52594835e-15  1.52594835e-15  1.51659602e-15  1.51659602e-15\n",
      "  1.47121814e-15  1.47121814e-15  1.44325864e-15  1.44325864e-15\n",
      "  1.32698653e-15  1.32698653e-15  1.31345074e-15  1.31345074e-15\n",
      "  1.18278820e-15  1.18278820e-15  1.17528464e-15  1.17528464e-15\n",
      "  1.14579953e-15  1.14579953e-15  1.10936045e-15  1.01643328e-15\n",
      "  1.01643328e-15  1.01245092e-15  1.01245092e-15  9.72399143e-16\n",
      "  9.72399143e-16  8.44950168e-16  8.44950168e-16  7.34566561e-16\n",
      "  7.34566561e-16  7.33030233e-16  7.33030233e-16  7.32095561e-16\n",
      "  7.32095561e-16  6.82511484e-16  6.82511484e-16  5.92386202e-16\n",
      "  5.66519178e-16  5.66519178e-16  5.55689769e-16  5.55689769e-16\n",
      "  5.53058439e-16  5.53058439e-16  5.49109760e-16  5.49109760e-16\n",
      "  5.17989113e-16  5.17989113e-16  5.09478961e-16  5.09478961e-16\n",
      "  4.67489905e-16  4.67489905e-16  4.55118096e-16  4.45603714e-16\n",
      "  4.45603714e-16  4.31040609e-16  4.31040609e-16  3.86108298e-16\n",
      "  3.86108298e-16  3.55819237e-16  3.55819237e-16  2.54041795e-16\n",
      "  2.54041795e-16  1.98616864e-16  1.98616864e-16  1.92957463e-16\n",
      "  1.92957463e-16  1.67501690e-16  1.67501690e-16  1.56077143e-16\n",
      "  1.56077143e-16  3.07189138e-17  3.07189138e-17  1.68093971e-18\n",
      "  1.68093971e-18 -2.09190658e-17 -2.09190658e-17 -2.30809429e-17\n",
      " -2.30809429e-17 -4.15170772e-17 -4.15170772e-17 -4.28800305e-17\n",
      " -4.28800305e-17 -9.01605021e-17 -9.01605021e-17 -1.60292631e-16\n",
      " -1.83011147e-16 -1.83011147e-16 -1.86098166e-16 -1.86098166e-16\n",
      " -1.95466917e-16 -1.95466917e-16 -2.11098285e-16 -2.11098285e-16\n",
      " -2.18464419e-16 -2.18464419e-16 -2.99582882e-16 -2.99582882e-16\n",
      " -4.03923509e-16 -4.03923509e-16 -4.54617057e-16 -4.54617057e-16\n",
      " -4.65458013e-16 -4.65458013e-16 -4.82719329e-16 -4.82719329e-16\n",
      " -5.02500331e-16 -5.10145900e-16 -5.10145900e-16 -5.26857826e-16\n",
      " -5.26857826e-16 -5.51567725e-16 -5.51567725e-16 -5.61081256e-16\n",
      " -5.61081256e-16 -6.71688100e-16 -6.71688100e-16 -7.48228315e-16\n",
      " -7.48228315e-16 -7.50642978e-16 -7.50642978e-16 -7.65308335e-16\n",
      " -7.65308335e-16 -7.77969787e-16 -7.77969787e-16 -8.00316668e-16\n",
      " -8.00316668e-16 -8.40735989e-16 -9.54799687e-16 -9.54799687e-16\n",
      " -9.64620896e-16 -9.64620896e-16 -9.93127550e-16 -9.93127550e-16\n",
      " -1.00493961e-15 -1.08514232e-15 -1.08514232e-15 -1.13140567e-15\n",
      " -1.13140567e-15 -1.17022033e-15 -1.17022033e-15 -1.20604973e-15\n",
      " -1.20604973e-15 -1.28033617e-15 -1.28033617e-15 -1.32169448e-15\n",
      " -1.32169448e-15 -1.34293645e-15 -1.34293645e-15 -1.38540708e-15\n",
      " -1.52435628e-15 -1.56464742e-15 -1.56464742e-15 -1.58581775e-15\n",
      " -1.58581775e-15 -1.75301359e-15 -1.75301359e-15 -1.75393962e-15\n",
      " -1.75393962e-15 -1.76315248e-15 -1.76315248e-15 -1.81499389e-15\n",
      " -1.81499389e-15 -1.85030397e-15 -1.85030397e-15 -1.90816561e-15\n",
      " -1.90816561e-15 -1.96322744e-15 -1.96322744e-15 -1.98318756e-15\n",
      " -1.98318756e-15 -2.07832331e-15 -2.07832331e-15 -2.10705599e-15\n",
      " -2.10705599e-15 -2.23342079e-15 -2.30001179e-15 -2.30001179e-15\n",
      " -2.31092844e-15 -2.31092844e-15 -2.41408341e-15 -2.41495442e-15\n",
      " -2.41495442e-15 -2.50762303e-15 -2.50762303e-15 -2.98450111e-15\n",
      " -2.98450111e-15 -2.99203487e-15 -2.99203487e-15 -3.06178612e-15\n",
      " -3.06178612e-15 -3.15764744e-15 -3.15764744e-15 -3.23655422e-15\n",
      " -3.23655422e-15 -3.54564164e-15 -3.54564164e-15 -3.70852472e-15\n",
      " -3.70852472e-15 -3.90013144e-15 -4.05660039e-15 -4.14102464e-15\n",
      " -4.14102464e-15 -4.40884797e-15 -4.40884797e-15 -4.53468420e-15\n",
      " -4.53468420e-15 -5.02885878e-15 -5.02885878e-15 -5.34512288e-15\n",
      " -5.78684448e-15 -5.78684448e-15 -6.39084435e-15 -6.39084435e-15\n",
      " -7.04829384e-15 -7.04829384e-15 -7.42172478e-15 -7.42172478e-15\n",
      " -7.85358176e-15 -7.97028596e-15 -7.97028596e-15 -1.03997391e-14\n",
      " -1.12928544e-14 -1.12928544e-14 -1.25324985e-14 -1.25324985e-14\n",
      " -1.61866380e-14 -1.61866380e-14] (350,)\n"
     ]
    },
    {
     "data": {
      "image/png": "[encoded data removed]",
      "text/plain": [
       "<Figure size 432x288 with 3 Axes>"
      ]
     },
     "metadata": {
      "needs_background": "light"
     },
     "output_type": "display_data"
    },
    {
     "name": "stdout",
     "output_type": "stream",
     "text": [
      "[[ 0.00384555  0.01340211 -0.00568506 ... -0.00189256 -0.0031352\n",
      "  -0.00089856]\n",
      " [-0.0011351  -0.01078877 -0.00471651 ...  0.00282462  0.00030732\n",
      "   0.00124988]\n",
      " [-0.00281018  0.01910099  0.00220846 ...  0.00145252  0.00089112\n",
      "  -0.00096156]\n",
      " ...\n",
      " [-0.09485204  0.00227357 -0.12889738 ... -0.21274605  0.15236088\n",
      "  -0.16262432]\n",
      " [ 0.02240176 -0.10462095  0.03778553 ... -0.02099079  0.08432912\n",
      "   0.07459086]\n",
      " [ 0.04396374  0.0978433   0.10281747 ... -0.04472317  0.00024432\n",
      "  -0.22308704]] (350, 50)\n"
     ]
    }
   ],
   "source": [
    "#calculate Wlda\n",
    "#Get the generalised eigenvectors of LDA_matrix with largest Mlda eigenvalues\n",
    "eigvals_LDA, eigvecs_LDA = np.linalg.eig(LDA)\n",
    "\n",
    "# take real part of the eigenvalues (complex eigenvalues are the result of calculation rounding errors)\n",
    "eigvals_LDA = np.real(eigvals_LDA)\n",
    "eigvecs_LDA = np.real(eigvecs_LDA)\n",
    "\n",
    "#order eigenvectors and eigenvalues according to their size\n",
    "index_LDA = eigvals_LDA.argsort()[::-1]\n",
    "eigvals_LDA = eigvals_LDA[index_LDA]\n",
    "eigvecs_LDA = eigvecs_LDA[:,index_LDA]\n",
    "\n",
    "x = np.arange(0, 350)\n",
    "print (eigvals_LDA, eigvals_LDA.shape)\n",
    "\n",
    "# plot them\n",
    "plt.subplot(3, 1, 1)\n",
    "plt.plot(x, eigvals_LDA) # clearly out of scale, so let's just take the first 200 of them\n",
    "plt.title('All eigenvalues of the covariance matrix')\n",
    "\n",
    "plt.subplot(3, 1, 2)\n",
    "plt.plot(x[:200], eigvals_LDA[:200]) # still out of scale, so let's just take the first 20 of them\n",
    "plt.title('First 200 eigenvalues of the covariance matrix')\n",
    "\n",
    "plt.subplot(3, 1, 3)\n",
    "plt.plot(x[:20], eigvals_LDA[:20])\n",
    "plt.title('First 20 eigenvalues of the covariance matrix')\n",
    "plt.show()\n",
    "\n",
    "# We just keep the first Mlda eigenvectors and eigenvalues\n",
    "Mlda = 50 #<=51\n",
    "eigvecs_LDA_best = eigvecs_LDA[:, :Mlda]\n",
    "eigvals_LDA_best = eigvals_LDA[:Mlda]\n",
    "\n",
    "#Define Wpca\n",
    "Wlda = eigvecs_LDA_best\n",
    "\n",
    "print(Wlda, Wlda.shape)"
   ]
  },
  {
   "cell_type": "code",
   "execution_count": 12,
   "metadata": {},
   "outputs": [
    {
     "name": "stdout",
     "output_type": "stream",
     "text": [
      "[[ 0.01047762  0.01793646  0.00973344 ...  0.0392241  -0.00395017\n",
      "   0.02075208]\n",
      " [ 0.01815489  0.00934035 -0.02235063 ... -0.01231656 -0.00855541\n",
      "  -0.03454882]\n",
      " [ 0.00013215  0.01023002 -0.01520283 ... -0.0171962   0.00278697\n",
      "  -0.04565724]\n",
      " ...\n",
      " [ 0.04987027 -0.00692608 -0.0612296  ... -0.02790584 -0.00415549\n",
      "   0.00063863]\n",
      " [ 0.05265394  0.00016572  0.01406441 ...  0.01521912  0.02242804\n",
      "   0.0065146 ]\n",
      " [-0.02349722  0.00106013  0.02399531 ... -0.01947787 -0.00262476\n",
      "   0.03975778]] (50, 2576)\n"
     ]
    },
    {
     "data": {
      "text/plain": [
       "<matplotlib.image.AxesImage at 0x1a2c7c5b38>"
      ]
     },
     "execution_count": 12,
     "metadata": {},
     "output_type": "execute_result"
    },
    {
     "data": {
      "image/png": "[encoded data removed]",
      "text/plain": [
       "<Figure size 432x288 with 1 Axes>"
      ]
     },
     "metadata": {
      "needs_background": "light"
     },
     "output_type": "display_data"
    }
   ],
   "source": [
    "#Calculate Wopt\n",
    "Wopt_transposed = Wlda.T.dot(Wpca.T)\n",
    "print(Wopt_transposed,Wopt_transposed.shape)\n",
    "Wopt = Wopt_transposed.T\n",
    "plt.imshow(np.reshape(Wopt[:,0], (46,56)).T, cmap = 'gist_gray')"
   ]
  },
  {
   "cell_type": "code",
   "execution_count": 13,
   "metadata": {},
   "outputs": [
    {
     "data": {
      "text/plain": [
       "<matplotlib.image.AxesImage at 0x1a2c900cc0>"
      ]
     },
     "execution_count": 13,
     "metadata": {},
     "output_type": "execute_result"
    },
    {
     "data": {
      "image/png": "[encoded data removed]",
      "text/plain": [
       "<Figure size 432x288 with 1 Axes>"
      ]
     },
     "metadata": {
      "needs_background": "light"
     },
     "output_type": "display_data"
    },
    {
     "data": {
      "image/png": "[encoded data removed]",
      "text/plain": [
       "<Figure size 432x288 with 1 Axes>"
      ]
     },
     "metadata": {
      "needs_background": "light"
     },
     "output_type": "display_data"
    }
   ],
   "source": [
    "#Reconstruction check\n",
    "plt.imshow(np.reshape(pca_train[0,:], (46,56)).T, cmap = 'gist_gray')\n",
    "pic_LDA = Wopt_transposed.dot((pca_train[0,:]-global_mean))\n",
    "pic_LDA_reconstructed = Wopt.dot(pic_LDA)+global_mean\n",
    "plt.figure()\n",
    "plt.imshow(np.reshape(pic_LDA_reconstructed, (46,56)).T, cmap = 'gist_gray')"
   ]
  },
  {
   "cell_type": "code",
   "execution_count": 14,
   "metadata": {},
   "outputs": [
    {
     "name": "stdout",
     "output_type": "stream",
     "text": [
      "(2576, 416)\n",
      "(50, 416)\n",
      "(2576, 104)\n",
      "(50, 104)\n",
      "(416, 104)\n",
      "[  5   1 127  10  18  20  30  31  32  35  42  43  49  53  61  62  67  69\n",
      "  23  74  84  84  89  88 102 102 108 110 113 116 122 126 135 127 138 127\n",
      " 147 151 157 157 164 165 172 169 183 181  30  30 199 192 204 204 209 209\n",
      " 221 217 245 228 127 230 240 244 252 248 258 262 271 269 159 277 286 286\n",
      " 295 294 298 297  89 307 127 317 321 321 334 334 343 343 344 269 355 354\n",
      " 361 127 370 297 382 379 389 390 398 297 406 406 121 413]\n",
      "[[2 0 0 ... 0 0 0]\n",
      " [0 1 0 ... 0 0 0]\n",
      " [0 0 2 ... 0 0 0]\n",
      " ...\n",
      " [0 0 0 ... 1 0 0]\n",
      " [0 0 0 ... 0 2 0]\n",
      " [0 0 0 ... 0 0 1]]\n"
     ]
    },
    {
     "data": {
      "image/png": "[encoded data removed]",
      "text/plain": [
       "<Figure size 288x288 with 2 Axes>"
      ]
     },
     "metadata": {
      "needs_background": "light"
     },
     "output_type": "display_data"
    },
    {
     "name": "stdout",
     "output_type": "stream",
     "text": [
      "Percentage:  0.8365384615384616\n"
     ]
    }
   ],
   "source": [
    "#Predict the class for the test set\n",
    "#Project train data into LDA space\n",
    "train_norm = (training[:,:2576] - global_mean).T \n",
    "print(train_norm.shape) #each picture is a column\n",
    "train_LDA = Wopt_transposed.dot(train_norm)\n",
    "print(train_LDA.shape) #each picture is a column\n",
    "\n",
    "#Project test data into LDA space\n",
    "test_norm = (test[:,:2576] - global_mean).T \n",
    "print(test_norm.shape) #each picture is a column\n",
    "test_LDA = Wopt_transposed.dot(test_norm)\n",
    "print(test_LDA.shape) #each picture is a column\n",
    "\n",
    "train_LDA_reshape_1 = np.repeat(train_LDA.reshape(Mlda,416,1),104, axis=2) #axis-0: projected values, axis-1: training pictures, axis-2: repeated values\n",
    "test_LDA_reshape_1 = np.repeat(test_LDA.reshape(Mlda,1,104), 416, axis=1) #axis-0: projected values, axis-1: repeated values, axis-2: test pictures\n",
    "\n",
    "#Do nearest neighbours\n",
    "distances = np.linalg.norm(test_LDA_reshape_1-train_LDA_reshape_1, axis=0)\n",
    "print(distances.shape)\n",
    "\n",
    "#calculate the nearest training picture\n",
    "nearest_trainpicture = distances.argmin(axis=0)\n",
    "print(nearest_trainpicture)\n",
    "\n",
    "#determine the nearest classes\n",
    "classes_pred = training[nearest_trainpicture,2576]\n",
    "classes_act = test[:,2576]\n",
    "\n",
    "cm = confusion_matrix(classes_act, classes_pred)\n",
    "\n",
    "print(cm)\n",
    "plt.matshow(cm, cmap = 'Blues')\n",
    "plt.colorbar()\n",
    "plt.ylabel('Actual')\n",
    "plt.xlabel('Predicted')\n",
    "plt.show()\n",
    "\n",
    "percentage = np.sum(classes_pred==classes_act) / len(classes_act)\n",
    "print(\"Percentage: \",percentage)\n"
   ]
  },
  {
   "cell_type": "code",
   "execution_count": 15,
   "metadata": {},
   "outputs": [
    {
     "name": "stdout",
     "output_type": "stream",
     "text": [
      "[[ 7.07367771e-01  7.42543782e-02 -1.35086248e+00  4.62818357e-01\n",
      "   2.17807261e+00  2.10284903e-01  8.25317968e-01  3.56916233e-01]\n",
      " [ 2.94555974e+01  3.07320497e+01  3.14605333e+01  3.07704935e+01\n",
      "   3.10354911e+01  2.93049417e+01  3.25915602e+01  3.17714537e+01]\n",
      " [-6.20324210e+01 -6.27088348e+01 -6.25053327e+01 -6.28832159e+01\n",
      "  -6.38607925e+01 -6.20832068e+01 -6.31794292e+01 -6.28689482e+01]\n",
      " [ 8.81735368e+01  8.64048294e+01  8.78164068e+01  8.79177403e+01\n",
      "   8.73967192e+01  8.42474149e+01  8.62295880e+01  8.77437010e+01]\n",
      " [-1.40450194e+01 -1.81635630e+01 -1.38323293e+01 -1.56146795e+01\n",
      "  -1.24908287e+01 -1.00515627e+01 -1.34408342e+01 -1.34340212e+01]\n",
      " [-2.69166563e+01 -2.75026588e+01 -2.60417980e+01 -2.58264296e+01\n",
      "  -2.56020390e+01 -2.79914019e+01 -3.02057268e+01 -2.61662759e+01]\n",
      " [-3.63344261e+01 -4.09850375e+01 -3.90956766e+01 -3.79328847e+01\n",
      "  -3.63617113e+01 -3.70968806e+01 -3.65532960e+01 -3.75541870e+01]\n",
      " [-2.23495207e+01 -2.05342511e+01 -2.05936532e+01 -2.26022671e+01\n",
      "  -2.59122898e+01 -2.56296069e+01 -2.08359102e+01 -2.30864679e+01]\n",
      " [-2.37818187e+01 -2.48525762e+01 -2.34685102e+01 -2.36534907e+01\n",
      "  -2.44218664e+01 -2.15233417e+01 -2.44503492e+01 -2.48756427e+01]\n",
      " [ 2.19713835e+01  2.34318987e+01  2.44734378e+01  2.50075279e+01\n",
      "   2.61968908e+01  3.39997056e+01  2.32748503e+01  2.65314742e+01]\n",
      " [ 6.51820665e+01  7.10188609e+01  6.58583490e+01  7.08335084e+01\n",
      "   6.53463038e+01  6.48667232e+01  6.79918950e+01  6.70722965e+01]\n",
      " [-3.60606921e+01 -3.79546689e+01 -4.05342925e+01 -3.95484646e+01\n",
      "  -3.12951851e+01 -3.60208345e+01 -3.72663605e+01 -4.07837806e+01]\n",
      " [-1.88387382e+01 -2.15252757e+01 -2.01217978e+01 -2.15374674e+01\n",
      "  -2.12235524e+01 -2.20142174e+01 -2.35892587e+01 -2.37566524e+01]\n",
      " [ 6.10151975e+01  5.56930956e+01  6.02819511e+01  6.15689588e+01\n",
      "   6.44016696e+01  5.69571182e+01  6.48627051e+01  5.97317202e+01]\n",
      " [-2.94167068e+00 -6.55204698e+00 -4.45987318e+00 -5.19502174e+00\n",
      "  -3.32118206e-01 -3.37610547e+00 -3.99434885e+00 -8.64193059e+00]\n",
      " [ 8.40265481e+00  6.18405435e+00  8.68283053e+00  9.34674685e+00\n",
      "   7.31741116e+00 -1.90576731e-01  9.44638299e+00  1.04986985e+01]\n",
      " [ 2.07639575e+01  1.50478034e+01  1.36329801e+01  1.68841148e+01\n",
      "   1.71717840e+01  2.56465731e+01  2.05746615e+01  1.89007448e+01]\n",
      " [-3.68954197e+01 -3.10182977e+01 -3.08232977e+01 -3.78498121e+01\n",
      "  -3.78129619e+01 -3.78891449e+01 -3.49029549e+01 -3.91355345e+01]\n",
      " [-8.89120467e+00 -1.21597296e+01  2.65336939e+00 -8.25612120e+00\n",
      "  -3.20346044e+00 -8.91489364e+00 -7.72810959e+00 -8.56343166e+00]\n",
      " [ 1.16660478e+01  1.32187335e+01  2.05962848e+01  1.39949166e+01\n",
      "   2.07260718e+01  2.21826869e+00  8.68207539e+00  1.17733705e+01]\n",
      " [-4.80014915e+00  1.56526080e+01 -1.23894554e+01 -9.33489106e-01\n",
      "  -5.78165835e+00 -2.81165542e+00 -4.69420943e+00 -6.27059376e+00]\n",
      " [ 9.10792956e+00  4.27323394e-01  2.14477809e+00  7.16852467e+00\n",
      "   5.73169881e+00  1.92265938e+01  2.00961609e+01  6.66057774e+00]\n",
      " [ 5.32162152e+01  3.35058940e+01  4.87970496e+01  4.58071160e+01\n",
      "   4.24444310e+01  6.17795434e+01  2.86027589e+01  5.10257386e+01]\n",
      " [ 2.35985568e+01  1.95460789e+01  2.14025378e+01  2.12115247e+01\n",
      "   2.25449731e+01  1.34626137e+01  1.37169496e+01  1.74260377e+01]\n",
      " [-4.45352604e+01 -2.81115912e+01 -4.70891623e+01 -4.84119787e+01\n",
      "  -4.94279525e+01 -6.47357419e+01 -3.77148689e+01 -5.31211477e+01]\n",
      " [ 9.25980758e+01  7.91174556e+01  8.88354180e+01  9.57278146e+01\n",
      "   8.80496853e+01  8.94061356e+01  9.24259411e+01  9.94791630e+01]\n",
      " [ 1.71752086e+01  1.04941756e+01  2.25196506e+01  1.99732119e+01\n",
      "   1.62024278e+01  2.22069705e+01  1.86724882e+01  1.99029144e+01]\n",
      " [-4.75256907e+01 -4.01181650e+01 -5.78348828e+01 -5.45158986e+01\n",
      "  -6.06616712e+01 -5.09703740e+01 -6.60739379e+01 -5.84196920e+01]\n",
      " [-7.46023454e+00 -1.84394473e+01  5.77340805e+00 -8.78842469e+00\n",
      "  -3.73854981e+00 -1.84167843e+00  5.06046547e+00 -9.14456765e+00]\n",
      " [-1.69298603e+01 -8.07796831e+00 -1.81172205e+01 -1.86233529e+01\n",
      "  -1.64517397e+01 -9.16840013e+00 -7.85203732e+00 -2.04674962e+01]\n",
      " [ 3.33704799e+01  3.46480804e+01  1.84566648e+01  2.88974254e+01\n",
      "   3.53322151e+01  1.19829170e+01  2.73719654e+01  3.13450553e+01]\n",
      " [-1.55150100e+01  1.77303092e+01  5.18416983e-01 -4.07886267e+00\n",
      "  -5.93496851e+00  7.57692438e+00 -1.17890872e+00 -1.30872450e+01]\n",
      " [ 3.80478225e+01  1.93180293e+01  2.46333704e+01  2.90133813e+01\n",
      "   3.56904269e+01  3.89815154e+01  4.02305048e+01  2.66762293e+01]\n",
      " [ 1.45719787e+01  1.33109716e+01  1.03990406e+01  3.49007651e+01\n",
      "   1.73590507e+01  3.20502292e+01  2.12898619e+01  1.84621721e+01]\n",
      " [-1.54125575e+01 -1.54458217e+01 -1.09914466e+01 -1.61445489e+01\n",
      "  -1.00840241e+01  5.99707619e+00 -2.19398271e+01 -2.16383340e+01]\n",
      " [ 3.37442857e+01  1.40158295e+01  3.56921226e+01  2.72390327e+01\n",
      "   2.47011135e+01  9.00856463e+00  3.59594031e+01  3.68421398e+01]\n",
      " [-3.80160141e+01 -5.48813565e+01 -5.08479186e+01 -5.69150802e+01\n",
      "  -5.77518723e+01 -5.08357868e+01 -5.83921868e+01 -5.02195508e+01]\n",
      " [-6.63452885e+00 -3.89699062e+01 -2.70802764e+01 -2.38114564e+01\n",
      "  -1.88930283e+01 -5.18395719e+00 -4.88661055e+01 -4.45835840e+01]\n",
      " [-1.51736015e+01 -2.67194792e+00 -8.46565471e+00 -1.40205237e+01\n",
      "  -4.32691443e+00 -1.38036789e+01 -5.30603862e+00 -1.20230910e+01]\n",
      " [ 1.05750959e+02  7.55222590e+01  1.12007660e+02  1.07364032e+02\n",
      "   9.32422930e+01  9.37729434e+01  1.07542663e+02  1.08072922e+02]\n",
      " [-2.31184957e+01 -2.77536359e+01 -3.81915968e+01 -2.67970293e+01\n",
      "  -2.68082414e+01 -4.05745203e+01 -2.95712455e+01 -2.40332747e+01]\n",
      " [-3.82077496e+01 -2.03896795e+01 -2.99701009e+01 -3.97363318e+01\n",
      "  -3.28028591e+01 -3.84206463e+01 -4.47109670e+01 -4.73390219e+01]\n",
      " [ 6.62964040e+01  5.98322761e+00  5.72161133e+01  5.85402929e+01\n",
      "   5.33630000e+01  3.05321911e+01  4.72704759e+01  3.59215958e+01]\n",
      " [-5.50658878e+01 -5.63671291e+01 -4.70792277e+01 -6.04527656e+01\n",
      "  -5.17600844e+01 -5.09495856e+01 -5.87503810e+01 -4.09510757e+01]\n",
      " [ 5.69788159e+01  3.31945638e+01  4.92101928e+01  6.45109847e+01\n",
      "   6.36476919e+01  6.59082255e+01  4.28051663e+01  5.12175896e+01]\n",
      " [ 2.66106616e+01  1.02605427e+01  1.40316477e+01  2.59494979e+01\n",
      "   9.17386256e+00  2.75419359e+01  3.90902448e+01  2.50592356e+01]\n",
      " [ 1.59405827e+01  2.57486960e+01  3.57896823e+00  2.30522976e+01\n",
      "   1.36887759e+00  1.08551382e+01  2.27412108e+01  1.80000908e+01]\n",
      " [-1.25782303e+00 -2.39535590e+01 -8.76388385e+00  3.75849685e+00\n",
      "   1.95070005e+01  5.74113266e+00  1.54473954e+01 -1.25247843e+01]\n",
      " [-3.06246131e+01 -4.20689183e+01 -2.59387717e+01 -1.48368261e+01\n",
      "   5.06831971e-01  2.44760435e+00  1.28725602e+01 -2.64403842e+01]\n",
      " [ 3.75058065e+01  2.45878581e+01  4.18266040e+01  6.05238612e+01\n",
      "   2.56009413e+01  2.67809670e+01  7.57349292e+01  4.45652252e+01]] (50, 8)\n",
      "(52, 104)\n"
     ]
    }
   ],
   "source": [
    "#Predict the class for the test set (average nearest neighbours)\n",
    "#Project all classes into the LDA-Space\n",
    "class_sets_LDA = []\n",
    "for c in class_sets:\n",
    "    class_sets_LDA.append(Wopt_transposed.dot((c-global_mean).T))\n",
    "print(class_sets_LDA[0], class_sets_LDA[0].shape)\n",
    "\n",
    "#calculate the average distance to the class\n",
    "class_mean_distance = np.zeros((52,104))\n",
    "for i in range(52):\n",
    "    train_LDA_reshape_2 = np.repeat(class_sets_LDA[i].reshape(Mlda,class_sets_LDA[i].shape[1],1),104,axis=2)\n",
    "    test_LDA_reshape_2 = np.repeat(test_LDA.reshape(Mlda,1,104), class_sets_LDA[i].shape[1], axis=1)\n",
    "    d = np.linalg.norm(test_LDA_reshape_2-train_LDA_reshape_2, axis=0)\n",
    "    class_mean_distance[i,:]=np.average(d,axis=0)\n",
    "    \n",
    "#class_mean_distance is a matrix where each element stores the mean class difference of a test point to a certain class\n",
    "#axis-0: classes, axis-1: mean distance for each point\n",
    "print(class_mean_distance.shape)\n",
    "\n"
   ]
  },
  {
   "cell_type": "code",
   "execution_count": 16,
   "metadata": {},
   "outputs": [
    {
     "name": "stdout",
     "output_type": "stream",
     "text": [
      "[[2 0 0 ... 0 0 0]\n",
      " [0 1 0 ... 0 0 0]\n",
      " [0 0 2 ... 0 0 0]\n",
      " ...\n",
      " [0 0 0 ... 2 0 0]\n",
      " [0 0 0 ... 0 2 0]\n",
      " [0 0 0 ... 0 0 1]]\n"
     ]
    },
    {
     "data": {
      "image/png": "[encoded data removed]",
      "text/plain": [
       "<Figure size 288x288 with 2 Axes>"
      ]
     },
     "metadata": {
      "needs_background": "light"
     },
     "output_type": "display_data"
    },
    {
     "name": "stdout",
     "output_type": "stream",
     "text": [
      "Percentage:  0.8653846153846154\n"
     ]
    }
   ],
   "source": [
    "#determine the nearest classes\n",
    "classes_pred_1 = class_mean_distance.argmin(axis=0)+1 #python index starts from 0 -> add 1\n",
    "classes_act_1 = test[:,2576]\n",
    "\n",
    "cm = confusion_matrix(classes_act_1, classes_pred_1)\n",
    "\n",
    "print(cm)\n",
    "plt.matshow(cm, cmap = 'Blues')\n",
    "plt.colorbar()\n",
    "plt.ylabel('Actual')\n",
    "plt.xlabel('Predicted')\n",
    "plt.show()\n",
    "\n",
    "percentage_1 = np.sum(classes_pred_1==classes_act_1) / len(classes_act_1)\n",
    "print(\"Percentage: \",percentage_1)"
   ]
  },
  {
   "cell_type": "code",
   "execution_count": null,
   "metadata": {},
   "outputs": [],
   "source": []
  }
 ],
 "metadata": {
  "kernelspec": {
   "display_name": "Python 3",
   "language": "python",
   "name": "python3"
  },
  "language_info": {
   "codemirror_mode": {
    "name": "ipython",
    "version": 3
   },
   "file_extension": ".py",
   "mimetype": "text/x-python",
   "name": "python",
   "nbconvert_exporter": "python",
   "pygments_lexer": "ipython3",
   "version": "3.7.0"
  }
 },
 "nbformat": 4,
 "nbformat_minor": 2
}
