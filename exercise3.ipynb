{
 "cells": [
  {
   "cell_type": "markdown",
   "metadata": {},
   "source": [
    "FACTS: <br>\n",
    "Number of images in training set: N = 416 <br>\n",
    "Number of Pixels per image: D = 2576 <br>\n",
    "Number of classes: c = 52 <br>\n",
    "-> <br>\n",
    "Sw: rank(Sw)= N-c = 364 -> Mpca <= 364 <br>\n",
    "Sb: rank(Sb)= c-1 = 51 -> Mlda <= 51 <br>"
   ]
  },
  {
   "cell_type": "code",
   "execution_count": 1,
   "metadata": {},
   "outputs": [],
   "source": [
    "# Imports\n",
    "import scipy.io as sio\n",
    "import numpy as np\n",
    "import matplotlib.pyplot as plt\n",
    "from sklearn.metrics import confusion_matrix\n",
    "\n",
    "# Load the source file with the face data\n",
    "mat_content = sio.loadmat('face.mat')"
   ]
  },
  {
   "cell_type": "code",
   "execution_count": 2,
   "metadata": {},
   "outputs": [],
   "source": [
    "# Store face data and classification\n",
    "face_data = mat_content['X']\n",
    "face_label = mat_content['l'] # Not actually used for PCA training, needed for testing\n",
    "\n",
    "# Append the matching data and labels into array 'faces': unnecessary for PCA training as the labels are not used (unsupervised learning)\n",
    "# But we need it later for assessing our algorithms during testing\n",
    "faces = np.append(face_data, face_label, axis=0)\n",
    "\n",
    "#Transpose in preparation for division into training and testing material\n",
    "faces_transposed = faces.T"
   ]
  },
  {
   "cell_type": "code",
   "execution_count": 3,
   "metadata": {},
   "outputs": [],
   "source": [
    "#Divide the data set into training and testing sets: 80% is training, 20% is testing\n",
    "np.random.shuffle(faces_transposed) # Shuffle the rows (This is why we transposed)\n",
    "training, test = faces_transposed[:416,:], faces_transposed[416:,:]\n"
   ]
  },
  {
   "cell_type": "markdown",
   "metadata": {},
   "source": [
    "training, testing: axis 0: pictures, axis 1: pixels + label"
   ]
  },
  {
   "cell_type": "code",
   "execution_count": 4,
   "metadata": {},
   "outputs": [
    {
     "name": "stdout",
     "output_type": "stream",
     "text": [
      "[[ 65  66  65 ...  62  75  84]\n",
      " [ 96  93  95 ... 100  85 121]\n",
      " [ 66  72  67 ... 167 166 163]\n",
      " ...\n",
      " [161 162 160 ...  50  47  46]\n",
      " [ 73  83 124 ...  33  30  26]\n",
      " [ 93  95  81 ...  88 100  91]] (10, 2576)\n",
      "[122.32692308 122.77644231 120.05528846 ...  85.38942308  82.75721154\n",
      "  81.38461538] (2576,)\n"
     ]
    }
   ],
   "source": [
    "#order training data depending on their class\n",
    "training = training[np.argsort(training[:,-1]),:]\n",
    "\n",
    "# Create a list of arrays depending on the classes\n",
    "class_sets = []\n",
    "for i in range(52):\n",
    "    class_sets.append(training[i==(training[:,-1]-1),:2576])\n",
    "    \n",
    "print(class_sets[0],class_sets[0].shape)\n",
    "\n",
    "# Calculate the class means\n",
    "#class_means = []\n",
    "#for c in class_sets:\n",
    "#    class_means.append(np.mean(c, axis=0))\n",
    "#print(class_means[0],class_means[0].shape)\n",
    "\n",
    "class_means = np.zeros((52,2576))\n",
    "for i in range(52):\n",
    "    class_means[i,:] = np.mean(class_sets[i], axis=0)\n",
    "\n",
    "# Calculate the global mean\n",
    "global_mean = np.mean(training[:,:2576], axis=0)\n",
    "print(global_mean,global_mean.shape)\n",
    "\n",
    "#Calculate Sb\n",
    "class_means_norm = class_means - global_mean #make us of broadcasting\n",
    "Sb = np.dot(class_means_norm.T, class_means_norm)\n",
    "#print(np.linalg.matrix_rank(Sb)) # =c-1\n"
   ]
  },
  {
   "cell_type": "code",
   "execution_count": 5,
   "metadata": {},
   "outputs": [
    {
     "name": "stdout",
     "output_type": "stream",
     "text": [
      "(10, 2576)\n"
     ]
    }
   ],
   "source": [
    "#Calculate x-mi\n",
    "class_sets_norm = []\n",
    "for i in range(52):\n",
    "    class_sets_norm.append(class_sets[i]-class_means[i,:])\n",
    "print(class_sets_norm[0].shape)"
   ]
  },
  {
   "cell_type": "code",
   "execution_count": 6,
   "metadata": {},
   "outputs": [],
   "source": [
    "#Calculate Sw\n",
    "Sw = np.zeros((2576,2576))\n",
    "for c in class_sets_norm:\n",
    "    Sw += np.dot(c.T,c)\n",
    "    \n",
    "#print(np.linalg.matrix_rank(Sw)) # = N-c"
   ]
  },
  {
   "cell_type": "code",
   "execution_count": 7,
   "metadata": {},
   "outputs": [],
   "source": [
    "#Calculate St\n",
    "# Images are represented as rows of the array 'pca_train'\n",
    "pca_train = training [:, :2576]\n",
    "pca_train_norm = pca_train - global_mean\n",
    "St = np.dot(pca_train_norm.T, pca_train_norm)"
   ]
  },
  {
   "cell_type": "code",
   "execution_count": 8,
   "metadata": {},
   "outputs": [
    {
     "name": "stdout",
     "output_type": "stream",
     "text": [
      "[[-1.26757505e-02  1.44735270e-02  1.52081872e-02 ...  1.84787207e-02\n",
      "   2.80237017e-02 -1.78120841e-02]\n",
      " [-1.48950248e-02  1.40512630e-02  1.74655738e-02 ...  1.10812608e-02\n",
      "   1.77708966e-02 -3.06290595e-03]\n",
      " [-1.59585122e-02  1.34927665e-02  1.93223853e-02 ... -3.43258951e-03\n",
      "  -1.24199555e-02 -1.33477128e-02]\n",
      " ...\n",
      " [ 3.18602790e-03 -4.95637773e-02 -4.96964046e-03 ...  1.47422018e-02\n",
      "   4.49089765e-05  2.08697351e-02]\n",
      " [ 2.89173262e-03 -4.78702435e-02 -5.11332814e-03 ...  2.94084433e-04\n",
      "   4.75035922e-02  2.86305499e-02]\n",
      " [ 3.13557537e-03 -4.80067080e-02 -6.57790705e-03 ...  5.45254096e-03\n",
      "   2.21317619e-03  3.43400995e-02]] (2576, 350)\n"
     ]
    }
   ],
   "source": [
    "# Calculate Wpca\n",
    "eigvals_St, eigvecs_St = np.linalg.eig(St)\n",
    "\n",
    "# take real part of the eigenvalues (complex eigenvalues are the result of calculation rounding errors)\n",
    "eigvals_St = np.real(eigvals_St)\n",
    "eigvecs_St = np.real(eigvecs_St)\n",
    "\n",
    "#order eigenvectors and eigenvalues according to their size\n",
    "index_St = eigvals_St.argsort()[::-1]\n",
    "eigvals_St = eigvals_St[index_St]\n",
    "eigvecs_St = eigvecs_St[:,index_St]\n",
    "\n",
    "# We just keep the first n eigenvectors and eigenvalues\n",
    "Mpca = 350 #<=364\n",
    "eigvecs_St_best = eigvecs_St[:, :Mpca]\n",
    "eigvals_St_best = eigvals_St[:Mpca]\n",
    "\n",
    "#Define Wpca\n",
    "Wpca = eigvecs_St_best\n",
    "\n",
    "print(Wpca, Wpca.shape)"
   ]
  },
  {
   "cell_type": "code",
   "execution_count": 9,
   "metadata": {},
   "outputs": [
    {
     "name": "stdout",
     "output_type": "stream",
     "text": [
      "[[ 2.44882587e+01  1.61607117e+00 -7.50589005e+00 ... -4.76540515e-03\n",
      "   4.52569491e-02 -2.43203734e-03]\n",
      " [ 4.12292250e+00  1.20930629e+01 -3.78314429e+00 ... -1.24665887e-02\n",
      "  -7.54787355e-03 -2.25002958e-02]\n",
      " [-1.58898749e+01 -4.17960304e+00  1.07521844e+01 ...  9.74267186e-03\n",
      "  -4.40766585e-02  1.55801849e-02]\n",
      " ...\n",
      " [-6.08976186e+00 -4.26854459e+01  1.84953502e+01 ...  4.33205204e-01\n",
      "  -1.07501887e-01  3.49537315e-01]\n",
      " [ 1.54279801e+02 -5.11604290e+00 -8.02114459e+01 ... -2.30794934e-01\n",
      "   1.19744872e+00 -2.14636363e-01]\n",
      " [-1.48358425e+01 -5.47939707e+01  3.11086333e+01 ...  3.46480732e-01\n",
      "  -1.46137284e-01  5.47838467e-01]] (350, 350)\n"
     ]
    }
   ],
   "source": [
    "#calculate inverse of Sw_reduced times Sb_reduced\n",
    "LDA = np.linalg.inv(Wpca.T.dot(Sw).dot(Wpca)).dot(Wpca.T.dot(Sb).dot(Wpca))\n",
    "\n",
    "print(LDA, LDA.shape)"
   ]
  },
  {
   "cell_type": "code",
   "execution_count": 10,
   "metadata": {},
   "outputs": [
    {
     "name": "stdout",
     "output_type": "stream",
     "text": [
      "[ 1.66696886e+02  1.36193669e+02  1.00451345e+02  5.76270388e+01\n",
      "  4.44165992e+01  3.72616252e+01  3.20228978e+01  2.63423211e+01\n",
      "  1.94728356e+01  1.72083069e+01  1.60328069e+01  1.47209491e+01\n",
      "  1.33956214e+01  1.17947866e+01  1.02400011e+01  8.49830521e+00\n",
      "  8.07557278e+00  7.68683665e+00  6.36559176e+00  5.94101371e+00\n",
      "  5.11323332e+00  4.79349977e+00  4.47103582e+00  4.35020203e+00\n",
      "  4.10437128e+00  3.96100397e+00  3.48250176e+00  3.32605862e+00\n",
      "  3.24344667e+00  2.84357807e+00  2.61104503e+00  2.31506792e+00\n",
      "  1.92359508e+00  1.84959510e+00  1.76128414e+00  1.71060285e+00\n",
      "  1.39636540e+00  1.26500247e+00  1.16549931e+00  1.11053076e+00\n",
      "  9.62908806e-01  8.87244785e-01  8.61839233e-01  7.52245616e-01\n",
      "  7.40398041e-01  6.49735021e-01  5.20185155e-01  4.85237716e-01\n",
      "  4.09883369e-01  3.59434429e-01  2.62678271e-01  2.00480150e-14\n",
      "  1.40417447e-14  1.40417447e-14  1.23777947e-14  1.23777947e-14\n",
      "  9.90547057e-15  8.92798936e-15  8.92798936e-15  7.80089179e-15\n",
      "  7.80089179e-15  7.75546363e-15  7.75546363e-15  6.99309101e-15\n",
      "  6.15287391e-15  6.15287391e-15  5.15951938e-15  4.90499955e-15\n",
      "  4.90499955e-15  4.58482933e-15  4.58482933e-15  4.46253959e-15\n",
      "  4.46253959e-15  4.32645916e-15  4.32645916e-15  4.15758868e-15\n",
      "  4.15758868e-15  3.82362912e-15  3.82362912e-15  3.72470657e-15\n",
      "  3.63098703e-15  3.63098703e-15  3.59795872e-15  3.59795872e-15\n",
      "  3.33451206e-15  3.33451206e-15  3.33173347e-15  3.33173347e-15\n",
      "  3.01628817e-15  3.01628817e-15  2.99480860e-15  2.99480860e-15\n",
      "  2.85250248e-15  2.85250248e-15  2.72258295e-15  2.61449230e-15\n",
      "  2.61449230e-15  2.59655110e-15  2.59655110e-15  2.57904155e-15\n",
      "  2.57904155e-15  2.51159828e-15  2.51159828e-15  2.35624408e-15\n",
      "  2.35624408e-15  2.29470259e-15  2.29470259e-15  1.99220367e-15\n",
      "  1.99220367e-15  1.95307391e-15  1.95307391e-15  1.94765061e-15\n",
      "  1.94765061e-15  1.89953010e-15  1.89953010e-15  1.89164021e-15\n",
      "  1.88677873e-15  1.88677873e-15  1.76609634e-15  1.76609634e-15\n",
      "  1.68325416e-15  1.68325416e-15  1.58270043e-15  1.58270043e-15\n",
      "  1.55657681e-15  1.55657681e-15  1.46897230e-15  1.45184104e-15\n",
      "  1.45184104e-15  1.43993985e-15  1.43993985e-15  1.41277204e-15\n",
      "  1.41277204e-15  1.35912744e-15  1.35912744e-15  1.31322300e-15\n",
      "  1.31322300e-15  1.28558202e-15  1.28558202e-15  1.14219440e-15\n",
      "  1.14219440e-15  1.09625444e-15  1.09625444e-15  1.04835908e-15\n",
      "  1.04835908e-15  1.03537573e-15  1.03537573e-15  9.96182901e-16\n",
      "  9.96182901e-16  9.82537387e-16  9.82537387e-16  8.36063767e-16\n",
      "  8.36063767e-16  7.79320601e-16  7.79320601e-16  7.16797334e-16\n",
      "  7.16797334e-16  6.71761363e-16  6.71761363e-16  6.45102638e-16\n",
      "  6.45102638e-16  6.33787006e-16  6.33787006e-16  6.12520416e-16\n",
      "  6.12520416e-16  5.89666039e-16  5.89666039e-16  5.58546930e-16\n",
      "  5.58546930e-16  4.98300549e-16  4.98300549e-16  4.82043473e-16\n",
      "  4.82043473e-16  4.09761018e-16  4.09761018e-16  3.85577774e-16\n",
      "  3.85577774e-16  3.71480316e-16  3.71480316e-16  2.79261619e-16\n",
      "  2.77499201e-16  2.77499201e-16  2.55055538e-16  2.55055538e-16\n",
      "  2.45331860e-16  2.45331860e-16  2.35184777e-16  2.35184777e-16\n",
      "  1.68890202e-16  1.68890202e-16  1.49808515e-16  1.49808515e-16\n",
      "  1.20243146e-16  1.20243146e-16  1.09306810e-16  1.09306810e-16\n",
      "  8.15881217e-17  8.15881217e-17  3.77480273e-17  3.77480273e-17\n",
      "  1.21716020e-17  1.21716020e-17 -4.15556996e-17 -4.15556996e-17\n",
      " -4.66427663e-17 -4.66427663e-17 -1.51713181e-16 -1.51713181e-16\n",
      " -1.57117259e-16 -1.57117259e-16 -1.60127421e-16 -1.60127421e-16\n",
      " -1.77273473e-16 -1.77273473e-16 -1.86920965e-16 -1.86920965e-16\n",
      " -2.19317973e-16 -2.19317973e-16 -3.63961051e-16 -3.63961051e-16\n",
      " -3.94386815e-16 -3.94386815e-16 -4.12995488e-16 -4.12995488e-16\n",
      " -4.83684980e-16 -4.83684980e-16 -5.16192461e-16 -5.22835027e-16\n",
      " -5.22835027e-16 -5.40972921e-16 -5.40972921e-16 -5.99359643e-16\n",
      " -5.99359643e-16 -6.03089398e-16 -6.03089398e-16 -6.04391332e-16\n",
      " -6.04391332e-16 -6.05006799e-16 -6.05006799e-16 -6.56656359e-16\n",
      " -6.56656359e-16 -7.53957187e-16 -7.53957187e-16 -7.83199523e-16\n",
      " -7.83199523e-16 -8.00316614e-16 -8.00316614e-16 -8.71633816e-16\n",
      " -9.03988626e-16 -9.03988626e-16 -9.86591546e-16 -9.86591546e-16\n",
      " -1.05886484e-15 -1.05886484e-15 -1.07103192e-15 -1.07103192e-15\n",
      " -1.07342077e-15 -1.09810963e-15 -1.09810963e-15 -1.10977042e-15\n",
      " -1.10977042e-15 -1.11444495e-15 -1.11444495e-15 -1.12767437e-15\n",
      " -1.12767437e-15 -1.39387396e-15 -1.39387396e-15 -1.42552874e-15\n",
      " -1.42552874e-15 -1.46792201e-15 -1.46792201e-15 -1.56037168e-15\n",
      " -1.56037168e-15 -1.65933556e-15 -1.72178482e-15 -1.72178482e-15\n",
      " -1.77705586e-15 -1.77705586e-15 -1.80999721e-15 -1.80999721e-15\n",
      " -1.88725151e-15 -1.88725151e-15 -1.91201093e-15 -1.91201093e-15\n",
      " -1.99745242e-15 -1.99745242e-15 -2.00051004e-15 -2.00051004e-15\n",
      " -2.03403596e-15 -2.03403596e-15 -2.08733371e-15 -2.08733371e-15\n",
      " -2.33700184e-15 -2.44686242e-15 -2.44686242e-15 -2.49245395e-15\n",
      " -2.53905424e-15 -2.53905424e-15 -2.56764327e-15 -2.56764327e-15\n",
      " -2.68455828e-15 -2.68455828e-15 -2.73143670e-15 -2.73143670e-15\n",
      " -2.85022788e-15 -2.85022788e-15 -2.85965348e-15 -2.85965348e-15\n",
      " -3.05056759e-15 -3.05056759e-15 -3.10133993e-15 -3.10133993e-15\n",
      " -3.22601346e-15 -3.22601346e-15 -3.23408828e-15 -3.23408828e-15\n",
      " -3.40091087e-15 -3.40091087e-15 -3.56965539e-15 -3.56965539e-15\n",
      " -3.67356818e-15 -3.68577812e-15 -3.68577812e-15 -3.78358698e-15\n",
      " -3.78358698e-15 -3.88708878e-15 -3.89060639e-15 -3.89060639e-15\n",
      " -4.88542445e-15 -4.88542445e-15 -5.00548215e-15 -5.17631342e-15\n",
      " -5.17631342e-15 -5.60111133e-15 -5.60111133e-15 -5.97349875e-15\n",
      " -5.97349875e-15 -6.37715963e-15 -6.37715963e-15 -7.37550343e-15\n",
      " -7.37550343e-15 -7.66851478e-15 -8.23361388e-15 -8.23361388e-15\n",
      " -9.59449836e-15 -9.59449836e-15 -1.10586064e-14 -1.51608626e-14\n",
      " -1.51608626e-14 -1.51709019e-14] (350,)\n"
     ]
    },
    {
     "data": {
      "image/png": "[encoded data removed]",
      "text/plain": [
       "<Figure size 432x288 with 3 Axes>"
      ]
     },
     "metadata": {
      "needs_background": "light"
     },
     "output_type": "display_data"
    },
    {
     "name": "stdout",
     "output_type": "stream",
     "text": [
      "[[ 0.01581309 -0.00703613  0.00550157 ... -0.00395168  0.00246221\n",
      "  -0.00629747]\n",
      " [ 0.00702386  0.00999271  0.01041875 ... -0.00417274  0.00379173\n",
      "   0.00150621]\n",
      " [-0.01333204  0.00442626 -0.00803769 ...  0.00216822  0.00471694\n",
      "  -0.00237641]\n",
      " ...\n",
      " [-0.07343256 -0.0411574  -0.00341291 ... -0.10773465  0.00577253\n",
      "  -0.06199917]\n",
      " [ 0.1926808  -0.08186464 -0.04556179 ... -0.09920313  0.01346901\n",
      "   0.08341649]\n",
      " [-0.07355276 -0.04814532 -0.04240626 ...  0.03891979  0.01458886\n",
      "  -0.0552599 ]] (350, 30)\n"
     ]
    }
   ],
   "source": [
    "#calculate Wlda\n",
    "#Get the generalised eigenvectors of LDA_matrix with largest Mlda eigenvalues\n",
    "eigvals_LDA, eigvecs_LDA = np.linalg.eig(LDA)\n",
    "\n",
    "# take real part of the eigenvalues (complex eigenvalues are the result of calculation rounding errors)\n",
    "eigvals_LDA = np.real(eigvals_LDA)\n",
    "eigvecs_LDA = np.real(eigvecs_LDA)\n",
    "\n",
    "#order eigenvectors and eigenvalues according to their size\n",
    "index_LDA = eigvals_LDA.argsort()[::-1]\n",
    "eigvals_LDA = eigvals_LDA[index_LDA]\n",
    "eigvecs_LDA = eigvecs_LDA[:,index_LDA]\n",
    "\n",
    "x = np.arange(0, 350)\n",
    "print (eigvals_LDA, eigvals_LDA.shape)\n",
    "\n",
    "# plot them\n",
    "plt.subplot(3, 1, 1)\n",
    "plt.plot(x, eigvals_LDA) # clearly out of scale, so let's just take the first 200 of them\n",
    "plt.title('All eigenvalues of the covariance matrix')\n",
    "\n",
    "plt.subplot(3, 1, 2)\n",
    "plt.plot(x[:200], eigvals_LDA[:200]) # still out of scale, so let's just take the first 20 of them\n",
    "plt.title('First 200 eigenvalues of the covariance matrix')\n",
    "\n",
    "plt.subplot(3, 1, 3)\n",
    "plt.plot(x[:20], eigvals_LDA[:20])\n",
    "plt.title('First 20 eigenvalues of the covariance matrix')\n",
    "plt.show()\n",
    "\n",
    "# We just keep the first Mlda eigenvectors and eigenvalues\n",
    "Mlda = 30 #<=51\n",
    "eigvecs_LDA_best = eigvecs_LDA[:, :Mlda]\n",
    "eigvals_LDA_best = eigvals_LDA[:Mlda]\n",
    "\n",
    "#Define Wpca\n",
    "Wlda = eigvecs_LDA_best\n",
    "\n",
    "print(Wlda, Wlda.shape)"
   ]
  },
  {
   "cell_type": "code",
   "execution_count": 11,
   "metadata": {},
   "outputs": [
    {
     "name": "stdout",
     "output_type": "stream",
     "text": [
      "[[ 2.01328758e-02  1.67226165e-02  1.09521004e-02 ...  3.14252485e-02\n",
      "   9.03948648e-03 -7.72550382e-05]\n",
      " [ 2.59416507e-02  8.22232353e-03 -1.85419928e-02 ...  3.42258170e-02\n",
      "   1.05449807e-02 -1.39903208e-02]\n",
      " [-1.72485721e-02  1.88967538e-02 -2.44544890e-03 ...  2.51657583e-02\n",
      "  -1.59057837e-03  6.37445617e-03]\n",
      " ...\n",
      " [-1.23606887e-02 -1.76801946e-02  2.96555193e-02 ...  5.83200904e-03\n",
      "  -6.87917392e-03  2.48326408e-02]\n",
      " [-2.07435578e-02 -1.54551107e-02  1.48274373e-02 ...  2.63358887e-03\n",
      "   1.47653645e-02  1.07730213e-02]\n",
      " [-4.72171570e-02 -3.97574139e-02  6.35962572e-03 ... -1.61133702e-02\n",
      "   1.83376862e-02 -1.20805932e-02]] (30, 2576)\n"
     ]
    },
    {
     "data": {
      "text/plain": [
       "<matplotlib.image.AxesImage at 0x1a2f72fba8>"
      ]
     },
     "execution_count": 11,
     "metadata": {},
     "output_type": "execute_result"
    },
    {
     "data": {
      "image/png": "[encoded data removed]",
      "text/plain": [
       "<Figure size 432x288 with 1 Axes>"
      ]
     },
     "metadata": {
      "needs_background": "light"
     },
     "output_type": "display_data"
    }
   ],
   "source": [
    "#Calculate Wopt\n",
    "Wopt_transposed = Wlda.T.dot(Wpca.T)\n",
    "print(Wopt_transposed,Wopt_transposed.shape)\n",
    "Wopt = Wopt_transposed.T\n",
    "plt.imshow(np.reshape(Wopt[:,0], (46,56)).T, cmap = 'gist_gray')"
   ]
  },
  {
   "cell_type": "code",
   "execution_count": 12,
   "metadata": {},
   "outputs": [
    {
     "data": {
      "text/plain": [
       "<matplotlib.image.AxesImage at 0x1a2f869da0>"
      ]
     },
     "execution_count": 12,
     "metadata": {},
     "output_type": "execute_result"
    },
    {
     "data": {
      "image/png": "[encoded data removed]",
      "text/plain": [
       "<Figure size 432x288 with 1 Axes>"
      ]
     },
     "metadata": {
      "needs_background": "light"
     },
     "output_type": "display_data"
    },
    {
     "data": {
      "image/png": "[encoded data removed]",
      "text/plain": [
       "<Figure size 432x288 with 1 Axes>"
      ]
     },
     "metadata": {
      "needs_background": "light"
     },
     "output_type": "display_data"
    }
   ],
   "source": [
    "#Reconstruction check\n",
    "plt.imshow(np.reshape(pca_train[0,:], (46,56)).T, cmap = 'gist_gray')\n",
    "pic_LDA = Wopt_transposed.dot((pca_train[0,:]-global_mean))\n",
    "pic_LDA_reconstructed = Wopt.dot(pic_LDA)+global_mean\n",
    "plt.figure()\n",
    "plt.imshow(np.reshape(pic_LDA_reconstructed, (46,56)).T, cmap = 'gist_gray')"
   ]
  },
  {
   "cell_type": "code",
   "execution_count": 13,
   "metadata": {},
   "outputs": [
    {
     "name": "stdout",
     "output_type": "stream",
     "text": [
      "[[ 7.93297213e+00  9.18817597e+00  8.49147382e+00  9.71456657e+00\n",
      "   8.36740010e+00  1.16739132e+01  1.03677193e+01  7.93097106e+00\n",
      "   8.15237331e+00  9.96445558e+00]\n",
      " [ 1.04908692e+01  9.59253380e+00  9.14650920e+00  9.51544198e+00\n",
      "   1.03366291e+01  1.17927352e+01  8.52523597e+00  9.12831563e+00\n",
      "   5.55324133e+00  9.80375514e+00]\n",
      " [-1.26624945e+01 -1.62346751e+01 -1.57940624e+01 -1.54149227e+01\n",
      "  -1.83106653e+01 -1.41984711e+01 -1.56992099e+01 -1.50926734e+01\n",
      "  -1.49138446e+01 -1.63669433e+01]\n",
      " [-1.03614130e+01 -1.51598443e+01 -1.31150459e+01 -1.47535358e+01\n",
      "  -1.48026310e+01 -1.53442395e+01 -1.31820495e+01 -1.60842083e+01\n",
      "  -1.31043439e+01 -1.32780594e+01]\n",
      " [-7.59324549e+00 -7.94058839e+00 -8.14382742e+00 -7.78366801e+00\n",
      "  -8.58443992e+00 -6.21831176e+00 -9.81239982e+00 -1.10570179e+01\n",
      "  -5.98417982e+00 -5.98434412e+00]\n",
      " [-2.63001414e+01 -2.81200164e+01 -2.90345996e+01 -2.78845469e+01\n",
      "  -2.97434689e+01 -2.54705323e+01 -3.07515753e+01 -2.78958157e+01\n",
      "  -2.38698651e+01 -2.93568436e+01]\n",
      " [-1.34800553e+01 -1.50666166e+01 -1.65901674e+01 -1.59441373e+01\n",
      "  -1.87818448e+01 -8.51177259e+00 -1.41625622e+01 -1.65473661e+01\n",
      "  -1.58111364e+01 -1.33695793e+01]\n",
      " [ 3.31287985e+01  3.24606618e+01  3.22532049e+01  3.23925493e+01\n",
      "   3.16262433e+01  3.39166617e+01  3.02937429e+01  3.39114737e+01\n",
      "   3.43307180e+01  3.19476419e+01]\n",
      " [-1.23795527e+02 -1.18038860e+02 -1.19712366e+02 -1.16784447e+02\n",
      "  -1.18058936e+02 -1.20925291e+02 -1.17834556e+02 -1.16551968e+02\n",
      "  -1.14970916e+02 -1.16603543e+02]\n",
      " [ 1.70305977e+01  1.83798033e+01  1.70103023e+01  2.20210029e+01\n",
      "   2.83285725e+01  1.73757478e+01  1.71258926e+01  1.46895084e+01\n",
      "   2.67158589e+01  1.71426144e+01]\n",
      " [-7.27120802e-01 -3.06230698e+00  4.79000935e+00 -1.08747439e+00\n",
      "  -4.14203327e+00  1.00401505e+00 -2.28409528e+00 -3.55016311e+00\n",
      "  -3.53057968e-01  4.39581235e+00]\n",
      " [ 5.95933259e+01  5.99696666e+01  6.17987796e+01  5.86242512e+01\n",
      "   6.70172361e+01  5.21426795e+01  5.91273848e+01  5.96835075e+01\n",
      "   5.71442081e+01  5.62080420e+01]\n",
      " [-6.33240503e+01 -5.91268967e+01 -6.26088018e+01 -5.97206553e+01\n",
      "  -5.67518551e+01 -6.71487076e+01 -6.69096504e+01 -6.14724976e+01\n",
      "  -5.90877621e+01 -5.84379331e+01]\n",
      " [-3.68592176e+01 -3.68655332e+01 -4.03691519e+01 -4.17974766e+01\n",
      "  -4.10555884e+01 -4.61790918e+01 -3.57781127e+01 -3.88412150e+01\n",
      "  -3.94494067e+01 -3.85775096e+01]\n",
      " [ 7.04497921e+00  9.65715360e+00  1.14855747e+01  1.16253315e+01\n",
      "   1.50036573e+01  1.48023371e+01  8.68218766e+00  1.53073908e+01\n",
      "   1.22100306e+01  8.71163199e+00]\n",
      " [-5.17918829e+00 -5.25373815e+00 -5.81742296e+00 -6.04034925e+00\n",
      "  -5.22954009e+00 -5.28433949e+00 -2.34750676e+00 -6.41974364e+00\n",
      "  -1.29151355e+01 -5.16149802e+00]\n",
      " [-5.00157575e+01 -4.55483102e+01 -5.25570272e+01 -4.60070085e+01\n",
      "  -5.08178896e+01 -3.37551932e+01 -4.34794419e+01 -4.67294492e+01\n",
      "  -4.70793926e+01 -5.00139489e+01]\n",
      " [-1.84825562e+01 -1.47489509e+01 -1.65116960e+01 -1.80236975e+01\n",
      "  -2.15334167e+01 -1.17406374e+01 -1.40613025e+01 -1.08962201e+01\n",
      "  -1.44566942e+01 -1.58678140e+01]\n",
      " [ 5.82773829e+01  6.00959522e+01  5.54897738e+01  6.27947215e+01\n",
      "   5.97297704e+01  5.76540147e+01  6.32117331e+01  5.83438212e+01\n",
      "   6.27241877e+01  5.82468773e+01]\n",
      " [ 6.39574493e+01  6.36548559e+01  6.16264618e+01  5.97859712e+01\n",
      "   5.77839123e+01  6.09251167e+01  5.82324534e+01  5.88328826e+01\n",
      "   4.11980901e+01  6.06127974e+01]\n",
      " [-3.14425440e+01 -3.78259090e+01 -3.18866715e+01 -3.26007435e+01\n",
      "  -3.06531367e+01 -2.92693099e+01 -4.04611839e+01 -3.33972724e+01\n",
      "  -3.84325022e+01 -3.11179516e+01]\n",
      " [-4.96406867e+00 -6.51212447e+00 -4.38450859e+00 -5.69091745e+00\n",
      "  -6.83484608e-02 -9.56571178e+00 -5.48843192e+00 -1.51529216e+01\n",
      "  -1.85711533e+00 -4.78400811e+00]\n",
      " [-1.07019693e+00 -3.92604880e+00 -3.11389105e+00 -6.51470556e+00\n",
      "  -1.92135413e+01  8.09786545e+00 -1.41349344e+00 -4.97517673e+00\n",
      "   2.05981759e+00 -3.56052862e+00]\n",
      " [ 1.72316915e+01  2.92493389e+01  3.25212952e+01  1.98071832e+01\n",
      "   3.55675912e+01  2.99508876e+01  2.91352767e+01  2.56641865e+01\n",
      "   1.11194541e+01  1.81066986e+01]\n",
      " [ 1.49703162e+01  2.00338291e+01  6.96690560e+00  2.16743660e+01\n",
      "   2.44734418e+01  1.28358106e+01  2.00115786e+01  7.60618476e+00\n",
      "   2.78048245e+01  1.43151860e+01]\n",
      " [-4.99004446e+00 -1.08061918e+00 -1.58588943e+00 -1.02481720e-01\n",
      "   8.27084636e-01 -5.64078262e+00  6.86696517e+00  6.81760850e+00\n",
      "  -8.86488016e-01  6.17600627e+00]\n",
      " [ 4.67835844e+01  4.19276469e+01  4.35153894e+01  4.13718411e+01\n",
      "   6.45731389e+01  2.93212323e+01  3.45259252e+01  4.54542395e+01\n",
      "   3.97711040e+01  4.01132357e+01]\n",
      " [-5.11595684e+01 -4.48105204e+01 -4.80720214e+01 -4.13937493e+01\n",
      "  -5.01028296e+01 -4.93420738e+01 -4.92113461e+01 -4.00329948e+01\n",
      "  -3.61731016e+01 -4.00388867e+01]\n",
      " [-3.05097095e+00 -1.48893374e+01 -8.44715703e+00 -9.79267137e+00\n",
      "  -1.14373201e+01 -5.38638958e+00 -1.36363299e+01 -1.14205818e+01\n",
      "  -1.52774425e+01 -1.72566272e+00]\n",
      " [-3.53420520e+01 -5.22986866e+01 -5.24332211e+01 -5.34447972e+01\n",
      "  -4.68981432e+01 -5.06426006e+01 -5.66373929e+01 -4.50885875e+01\n",
      "  -3.85942945e+01 -5.12212553e+01]] (30, 10)\n"
     ]
    }
   ],
   "source": [
    "#Nearest Neighbour Detection\n",
    "#Project all classes into the LDA-Space\n",
    "class_sets_LDA = []\n",
    "for c in class_sets:\n",
    "    class_sets_LDA.append(Wopt_transposed.dot((c-global_mean).T))\n",
    "\n",
    "print(class_sets_LDA[0], class_sets_LDA[0].shape)\n"
   ]
  },
  {
   "cell_type": "code",
   "execution_count": 17,
   "metadata": {},
   "outputs": [
    {
     "name": "stdout",
     "output_type": "stream",
     "text": [
      "(2576, 416)\n",
      "(30, 416)\n",
      "(2576, 104)\n",
      "(30, 104)\n",
      "(416, 104)\n",
      "[185 286  26  47 204 142 191  61  43 350 155 149 127 206 315  31 300 274\n",
      " 362 240 299 112  25  26 358 358 141 121 336 260  29 124 127 126  30  58\n",
      " 391 306 394 127  24 286 260 411 256  58 237  96 324 108 326  89 129  31\n",
      "  26 306 116  17 285  90 357 173  40 233  49  76 130 127 127  25 203 142\n",
      " 125  69 404 379  29 306 130 146 105  54  73 403  32 326 337 178  31 154\n",
      "  32 322 404 285  26 217  26 206 341  93 267 306  31 289]\n",
      "[[0 0 2 ... 0 0 0]\n",
      " [0 2 0 ... 0 0 0]\n",
      " [0 0 2 ... 0 0 0]\n",
      " ...\n",
      " [0 0 0 ... 1 0 0]\n",
      " [0 0 0 ... 0 3 0]\n",
      " [0 0 0 ... 0 0 1]]\n"
     ]
    },
    {
     "data": {
      "image/png": "[encoded data removed]",
      "text/plain": [
       "<Figure size 288x288 with 2 Axes>"
      ]
     },
     "metadata": {
      "needs_background": "light"
     },
     "output_type": "display_data"
    },
    {
     "name": "stdout",
     "output_type": "stream",
     "text": [
      "Percentage:  0.6923076923076923\n"
     ]
    }
   ],
   "source": [
    "#Predict the class for the test set\n",
    "#Project train data into LDA space\n",
    "train_norm = (training[:,:2576] - global_mean).T \n",
    "print(train_norm.shape) #each picture is a column\n",
    "train_LDA = Wopt_transposed.dot(train_norm)\n",
    "print(train_LDA.shape) #each picture is a column\n",
    "\n",
    "#Project test data into LDA space\n",
    "test_norm = (test[:,:2576] - global_mean).T \n",
    "print(test_norm.shape) #each picture is a column\n",
    "test_LDA = Wopt_transposed.dot(test_norm)\n",
    "print(test_LDA.shape) #each picture is a column\n",
    "\n",
    "train_LDA = np.repeat(train_LDA.reshape(30,416,1),104, axis=2) #axis-0: projected values, axis-1: training pictures, axis-2: repeated values\n",
    "test_LDA = np.repeat(test_LDA.reshape(30,1,104), 416, axis=1) #axis-0: projected values, axis-1: repeated values, axis-2: test pictures\n",
    "\n",
    "#Do nearest neighbours\n",
    "distances = np.linalg.norm(test_LDA-train_LDA, axis=0)\n",
    "print(distances.shape)\n",
    "\n",
    "#calculate the nearest training picture\n",
    "nearest_trainpicture = distances.argmin(axis=0)\n",
    "print(nearest_trainpicture)\n",
    "\n",
    "#determine the nearest classes\n",
    "classes_pred = training[nearest_trainpicture,2576]\n",
    "classes_act = test[:,2576]\n",
    "\n",
    "cm = confusion_matrix(classes_act, classes_pred)\n",
    "\n",
    "print(cm)\n",
    "plt.matshow(cm, cmap = 'Blues')\n",
    "plt.colorbar()\n",
    "plt.ylabel('Actual')\n",
    "plt.xlabel('Predicted')\n",
    "plt.show()\n",
    "\n",
    "percentage = np.sum(classes_pred==classes_act) / len(classes_act)\n",
    "print(\"Percentage: \",percentage)\n"
   ]
  },
  {
   "cell_type": "code",
   "execution_count": null,
   "metadata": {},
   "outputs": [],
   "source": []
  }
 ],
 "metadata": {
  "kernelspec": {
   "display_name": "Python 3",
   "language": "python",
   "name": "python3"
  },
  "language_info": {
   "codemirror_mode": {
    "name": "ipython",
    "version": 3
   },
   "file_extension": ".py",
   "mimetype": "text/x-python",
   "name": "python",
   "nbconvert_exporter": "python",
   "pygments_lexer": "ipython3",
   "version": "3.7.0"
  }
 },
 "nbformat": 4,
 "nbformat_minor": 2
}
