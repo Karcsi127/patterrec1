{
 "cells": [
  {
   "cell_type": "markdown",
   "metadata": {},
   "source": [
    "FACTS: <br>\n",
    "Number of images in training set: N = 416 <br>\n",
    "Number of Pixels per image: D = 2576 <br>\n",
    "Number of classes: c = 52 <br>\n",
    "-> <br>\n",
    "Sw: rank(Sw)= N-c = 364 -> Mpca <= 364 but afte <br>\n",
    "Sb: rank(Sb)= c-1 = 51 -> Mlda <= 51 <br>"
   ]
  },
  {
   "cell_type": "code",
   "execution_count": 1,
   "metadata": {},
   "outputs": [],
   "source": [
    "# Imports\n",
    "import scipy.io as sio\n",
    "import numpy as np\n",
    "import matplotlib.pyplot as plt\n",
    "\n",
    "# Load the source file with the face data\n",
    "mat_content = sio.loadmat('face.mat')"
   ]
  },
  {
   "cell_type": "code",
   "execution_count": 2,
   "metadata": {},
   "outputs": [],
   "source": [
    "# Store face data and classification\n",
    "face_data = mat_content['X']\n",
    "face_label = mat_content['l'] # Not actually used for PCA training, needed for testing\n",
    "\n",
    "# Append the matching data and labels into array 'faces': unnecessary for PCA training as the labels are not used (unsupervised learning)\n",
    "# But we need it later for assessing our algorithms during testing\n",
    "faces = np.append(face_data, face_label, axis=0)\n",
    "\n",
    "#Transpose in preparation for division into training and testing material\n",
    "faces_transposed = faces.T"
   ]
  },
  {
   "cell_type": "code",
   "execution_count": 3,
   "metadata": {},
   "outputs": [],
   "source": [
    "#Divide the data set into training and testing sets: 80% is training, 20% is testing\n",
    "np.random.shuffle(faces_transposed) # Shuffle the rows (This is why we transposed)\n",
    "training, test = faces_transposed[:416,:], faces_transposed[416:,:]\n"
   ]
  },
  {
   "cell_type": "markdown",
   "metadata": {},
   "source": [
    "training, testing: axis 0: pictures, axis 1: pixels + label"
   ]
  },
  {
   "cell_type": "code",
   "execution_count": 26,
   "metadata": {},
   "outputs": [
    {
     "name": "stdout",
     "output_type": "stream",
     "text": [
      "[[ 73  83 124 ...  33  30  26]\n",
      " [191 185 174 ...  22  19  17]\n",
      " [106 103 103 ...  37  36  41]\n",
      " ...\n",
      " [ 93  95  81 ...  88 100  91]\n",
      " [ 66  72  67 ... 167 166 163]\n",
      " [130 129 130 ...  40  36  35]] (8, 2576)\n",
      "[121.74278846 121.75240385 119.42788462 ...  87.45192308  85.14423077\n",
      "  82.85576923] (2576,)\n",
      "(2576, 2576)\n",
      "51\n"
     ]
    }
   ],
   "source": [
    "#order training data depending on their class\n",
    "training = training[np.argsort(training[:,-1]),:]\n",
    "\n",
    "# Create a list of arrays depending on the classes\n",
    "class_sets = []\n",
    "for i in range(52):\n",
    "    class_sets.append(training[i==(training[:,-1]-1),:2576])\n",
    "    \n",
    "print(class_sets[0],class_sets[0].shape)\n",
    "\n",
    "# Calculate the class means\n",
    "#class_means = []\n",
    "#for c in class_sets:\n",
    "#    class_means.append(np.mean(c, axis=0))\n",
    "#print(class_means[0],class_means[0].shape)\n",
    "\n",
    "class_means = np.zeros((52,2576))\n",
    "for i in range(52):\n",
    "    class_means[i,:] = np.mean(class_sets[i], axis=0)\n",
    "\n",
    "# Calculate the global mean\n",
    "global_mean = np.mean(training[:,:2576], axis=0)\n",
    "print(global_mean,global_mean.shape)\n",
    "\n",
    "#Calculate Sb\n",
    "class_means_norm = class_means - global_mean #make us of broadcasting\n",
    "Sb = np.dot(class_means_norm.T, class_means_norm)\n",
    "#print(np.linalg.matrix_rank(Sb)) # =c-1\n"
   ]
  },
  {
   "cell_type": "code",
   "execution_count": 27,
   "metadata": {},
   "outputs": [
    {
     "name": "stdout",
     "output_type": "stream",
     "text": [
      "(8, 2576)\n"
     ]
    }
   ],
   "source": [
    "#Calculate x-mi\n",
    "class_sets_norm = []\n",
    "for i in range(52):\n",
    "    class_sets_norm.append(class_sets[i]-class_means[i,:])\n",
    "print(class_sets_norm[0].shape)"
   ]
  },
  {
   "cell_type": "code",
   "execution_count": 30,
   "metadata": {},
   "outputs": [
    {
     "name": "stdout",
     "output_type": "stream",
     "text": [
      "364\n"
     ]
    }
   ],
   "source": [
    "#Calculate Sw\n",
    "Sw = np.zeros((2576,2576))\n",
    "for c in class_sets_norm:\n",
    "    Sw += np.dot(c.T,c)\n",
    "    \n",
    "#print(np.linalg.matrix_rank(Sw)) # = N-c"
   ]
  },
  {
   "cell_type": "code",
   "execution_count": null,
   "metadata": {},
   "outputs": [],
   "source": []
  }
 ],
 "metadata": {
  "kernelspec": {
   "display_name": "Python 3",
   "language": "python",
   "name": "python3"
  },
  "language_info": {
   "codemirror_mode": {
    "name": "ipython",
    "version": 3
   },
   "file_extension": ".py",
   "mimetype": "text/x-python",
   "name": "python",
   "nbconvert_exporter": "python",
   "pygments_lexer": "ipython3",
   "version": "3.7.0"
  }
 },
 "nbformat": 4,
 "nbformat_minor": 2
}
