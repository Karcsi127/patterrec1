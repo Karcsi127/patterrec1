{
 "cells": [
  {
   "cell_type": "markdown",
   "metadata": {},
   "source": [
    "FACTS: <br>\n",
    "Number of images in training set: N = 416 <br>\n",
    "Number of Pixels per image: D = 2576 <br>\n",
    "Number of classes: c = 52 <br>\n",
    "-> <br>\n",
    "Sw: rank(Sw)= N-c = 364 -> Mpca <= 364 <br>\n",
    "Sb: rank(Sb)= c-1 = 51 -> Mlda <= 51 <br>"
   ]
  },
  {
   "cell_type": "code",
   "execution_count": 1,
   "metadata": {},
   "outputs": [],
   "source": [
    "# Imports\n",
    "import scipy.io as sio\n",
    "import numpy as np\n",
    "import matplotlib.pyplot as plt\n",
    "from sklearn.metrics import confusion_matrix\n",
    "\n",
    "# Load the source file with the face data\n",
    "mat_content = sio.loadmat('face.mat')"
   ]
  },
  {
   "cell_type": "code",
   "execution_count": 2,
   "metadata": {},
   "outputs": [],
   "source": [
    "# Store face data and classification\n",
    "face_data = mat_content['X']\n",
    "face_label = mat_content['l'] # Not actually used for PCA training, needed for testing\n",
    "\n",
    "# Append the matching data and labels into array 'faces': unnecessary for PCA training as the labels are not used (unsupervised learning)\n",
    "# But we need it later for assessing our algorithms during testing\n",
    "faces = np.append(face_data, face_label, axis=0)\n",
    "\n",
    "#Transpose in preparation for division into training and testing material\n",
    "faces_transposed = faces.T"
   ]
  },
  {
   "cell_type": "code",
   "execution_count": 3,
   "metadata": {},
   "outputs": [
    {
     "name": "stdout",
     "output_type": "stream",
     "text": [
      "[[191. 185. 174. ...  19.  17.   1.]\n",
      " [ 96.  93.  95. ...  85. 121.   1.]\n",
      " [ 93.  95.  81. ... 100.  91.   1.]\n",
      " ...\n",
      " [176. 174. 164. ... 149. 140.  52.]\n",
      " [ 27.  29.  30. ... 127. 181.  52.]\n",
      " [188. 186. 195. ...  62.  58.  52.]] (416, 2577)\n",
      "[[ 73.  83. 124. ...  30.  26.   1.]\n",
      " [106. 103. 103. ...  36.  41.   1.]\n",
      " [130. 133. 124. ...  60.  47.   2.]\n",
      " ...\n",
      " [196. 194. 192. ...  22.  22.  51.]\n",
      " [ 70.  62.  83. ...  89.  94.  52.]\n",
      " [183. 250. 163. ...  95. 106.  52.]] (104, 2577)\n"
     ]
    }
   ],
   "source": [
    "#create training data by sampling over each class\n",
    "test_class = np.zeros((104,2577))\n",
    "train_class = np.zeros((416,2577))\n",
    "for i in range(52):\n",
    "    temp_class_set = faces_transposed[i==(faces_transposed[:,-1]-1),:]\n",
    "    np.random.shuffle(temp_class_set)\n",
    "    train_class[8*i:(8*i)+8,:] = temp_class_set[:8,:]\n",
    "    test_class[2*i:(2*i)+2,:]=temp_class_set[8:,:]\n",
    "    \n",
    "print(train_class, train_class.shape)\n",
    "print(test_class, test_class.shape)"
   ]
  },
  {
   "cell_type": "code",
   "execution_count": 4,
   "metadata": {},
   "outputs": [],
   "source": [
    "#Divide the data set into training and testing sets: 80% is training, 20% is testing\n",
    "np.random.shuffle(faces_transposed) # Shuffle the rows (This is why we transposed)\n",
    "#training, test = faces_transposed[:416,:], faces_transposed[416:,:]\n",
    "\n",
    "#make use of new test and training data\n",
    "training=train_class\n",
    "test = test_class"
   ]
  },
  {
   "cell_type": "markdown",
   "metadata": {},
   "source": [
    "training, testing: axis 0: pictures, axis 1: pixels + label"
   ]
  },
  {
   "cell_type": "code",
   "execution_count": 5,
   "metadata": {},
   "outputs": [
    {
     "name": "stdout",
     "output_type": "stream",
     "text": [
      "[[191. 185. 174. ...  22.  19.  17.]\n",
      " [ 96.  93.  95. ... 100.  85. 121.]\n",
      " [ 93.  95.  81. ...  88. 100.  91.]\n",
      " ...\n",
      " [ 65.  66.  65. ...  62.  75.  84.]\n",
      " [ 66.  72.  67. ... 167. 166. 163.]\n",
      " [161. 162. 160. ...  50.  47.  46.]] (8, 2576)\n",
      "[123.34134615 123.09134615 120.10817308 ...  86.52163462  85.1875\n",
      "  83.85336538] (2576,)\n"
     ]
    }
   ],
   "source": [
    "#order training data depending on their class\n",
    "training = training[np.argsort(training[:,-1]),:]\n",
    "\n",
    "# Create a list of arrays depending on the classes\n",
    "class_sets = []\n",
    "for i in range(52):\n",
    "    class_sets.append(training[i==(training[:,-1]-1),:2576])\n",
    "    \n",
    "print(class_sets[0],class_sets[0].shape)\n",
    "\n",
    "# Calculate the class means\n",
    "#class_means = []\n",
    "#for c in class_sets:\n",
    "#    class_means.append(np.mean(c, axis=0))\n",
    "#print(class_means[0],class_means[0].shape)\n",
    "\n",
    "class_means = np.zeros((52,2576))\n",
    "for i in range(52):\n",
    "    class_means[i,:] = np.mean(class_sets[i], axis=0)\n",
    "\n",
    "# Calculate the global mean\n",
    "global_mean = np.mean(training[:,:2576], axis=0)\n",
    "print(global_mean,global_mean.shape)\n",
    "\n",
    "#Calculate Sb\n",
    "class_means_norm = class_means - global_mean #make us of broadcasting\n",
    "Sb = np.dot(class_means_norm.T, class_means_norm)\n",
    "#print(np.linalg.matrix_rank(Sb)) # =c-1\n"
   ]
  },
  {
   "cell_type": "code",
   "execution_count": 6,
   "metadata": {},
   "outputs": [
    {
     "name": "stdout",
     "output_type": "stream",
     "text": [
      "(8, 2576)\n"
     ]
    }
   ],
   "source": [
    "#Calculate x-mi\n",
    "class_sets_norm = []\n",
    "for i in range(52):\n",
    "    class_sets_norm.append(class_sets[i]-class_means[i,:])\n",
    "print(class_sets_norm[0].shape)"
   ]
  },
  {
   "cell_type": "code",
   "execution_count": 7,
   "metadata": {},
   "outputs": [],
   "source": [
    "#Calculate Sw\n",
    "Sw = np.zeros((2576,2576))\n",
    "for c in class_sets_norm:\n",
    "    Sw += np.dot(c.T,c)\n",
    "    \n",
    "#print(np.linalg.matrix_rank(Sw)) # = N-c"
   ]
  },
  {
   "cell_type": "code",
   "execution_count": 8,
   "metadata": {},
   "outputs": [],
   "source": [
    "#Calculate St\n",
    "# Images are represented as rows of the array 'pca_train'\n",
    "pca_train = training [:, :2576]\n",
    "pca_train_norm = pca_train - global_mean\n",
    "St = np.dot(pca_train_norm.T, pca_train_norm)"
   ]
  },
  {
   "cell_type": "code",
   "execution_count": 9,
   "metadata": {},
   "outputs": [
    {
     "name": "stdout",
     "output_type": "stream",
     "text": [
      "[[-0.01241571 -0.01873676 -0.01570035 ... -0.00848411  0.00348115\n",
      "  -0.00692985]\n",
      " [-0.01376414 -0.01786878 -0.0162354  ...  0.00256262 -0.04914173\n",
      "   0.03618909]\n",
      " [-0.01483126 -0.01707531 -0.01748848 ...  0.0480787  -0.01483602\n",
      "  -0.02768748]\n",
      " ...\n",
      " [ 0.00707679  0.04921009 -0.00373016 ... -0.0002207  -0.02355313\n",
      "   0.09020419]\n",
      " [ 0.0081208   0.04919289 -0.00395102 ...  0.01140227  0.01050511\n",
      "   0.06043425]\n",
      " [ 0.0079928   0.05018298 -0.00155407 ...  0.01576721  0.01282209\n",
      "   0.04281286]] (2576, 350)\n"
     ]
    }
   ],
   "source": [
    "# Calculate Wpca\n",
    "eigvals_St, eigvecs_St = np.linalg.eig(St)\n",
    "\n",
    "# take real part of the eigenvalues (complex eigenvalues are the result of calculation rounding errors)\n",
    "eigvals_St = np.real(eigvals_St)\n",
    "eigvecs_St = np.real(eigvecs_St)\n",
    "\n",
    "#order eigenvectors and eigenvalues according to their size\n",
    "index_St = eigvals_St.argsort()[::-1]\n",
    "eigvals_St = eigvals_St[index_St]\n",
    "eigvecs_St = eigvecs_St[:,index_St]\n",
    "\n",
    "# We just keep the first n eigenvectors and eigenvalues\n",
    "Mpca = 350 #<=364\n",
    "eigvecs_St_best = eigvecs_St[:, :Mpca]\n",
    "eigvals_St_best = eigvals_St[:Mpca]\n",
    "\n",
    "#Define Wpca\n",
    "Wpca = eigvecs_St_best\n",
    "\n",
    "print(Wpca, Wpca.shape)"
   ]
  },
  {
   "cell_type": "code",
   "execution_count": 10,
   "metadata": {},
   "outputs": [
    {
     "name": "stdout",
     "output_type": "stream",
     "text": [
      "[[ 2.35516319e+01 -4.57044798e-01  5.10360701e+00 ...  2.79084675e-02\n",
      "  -5.27136008e-02  6.02396113e-05]\n",
      " [-8.13027329e-01  7.98715048e+00 -2.45243185e+00 ... -4.26901844e-02\n",
      "   2.16229890e-02 -8.51260483e-03]\n",
      " [ 1.13822498e+01 -3.07469090e+00  9.19636392e+00 ...  2.00022995e-02\n",
      "  -1.67900337e-02 -1.93032302e-03]\n",
      " ...\n",
      " [ 9.78517900e+01 -8.41423123e+01  3.14457402e+01 ...  1.13645081e+00\n",
      "  -7.84573576e-01  9.91684609e-02]\n",
      " [-1.86241363e+02  4.29460091e+01 -2.65983157e+01 ... -7.90595522e-01\n",
      "   1.35906999e+00 -2.98869678e-02]\n",
      " [ 2.14577950e-01 -1.70458644e+01 -3.08306039e+00 ...  1.00749690e-01\n",
      "  -3.01322338e-02  4.09153301e-01]] (350, 350)\n"
     ]
    }
   ],
   "source": [
    "#calculate inverse of Sw_reduced times Sb_reduced\n",
    "LDA = np.linalg.inv(Wpca.T.dot(Sw).dot(Wpca)).dot(Wpca.T.dot(Sb).dot(Wpca))\n",
    "\n",
    "print(LDA, LDA.shape)"
   ]
  },
  {
   "cell_type": "code",
   "execution_count": 11,
   "metadata": {},
   "outputs": [
    {
     "name": "stdout",
     "output_type": "stream",
     "text": [
      "[ 1.76660159e+02  1.58181060e+02  9.06650768e+01  5.46939081e+01\n",
      "  3.75428233e+01  3.15240953e+01  3.10506108e+01  2.47654031e+01\n",
      "  2.20202082e+01  1.79718917e+01  1.51784783e+01  1.45174920e+01\n",
      "  1.29149854e+01  1.18086202e+01  1.06779264e+01  1.02712196e+01\n",
      "  8.67715397e+00  7.50530215e+00  5.99779033e+00  5.71493755e+00\n",
      "  5.12364217e+00  5.02271121e+00  4.37289991e+00  4.02349915e+00\n",
      "  3.23410831e+00  3.04275059e+00  2.94408525e+00  2.72108284e+00\n",
      "  2.68188088e+00  2.46021249e+00  2.16983764e+00  1.97270271e+00\n",
      "  1.87036664e+00  1.76469367e+00  1.52662787e+00  1.37534325e+00\n",
      "  1.31429458e+00  1.22394369e+00  1.11336247e+00  1.02325210e+00\n",
      "  9.09798888e-01  8.62715650e-01  8.23110868e-01  6.56422467e-01\n",
      "  6.32225075e-01  5.91991566e-01  5.37426896e-01  4.65284157e-01\n",
      "  4.24241947e-01  3.39574966e-01  3.03996931e-01  1.47860843e-14\n",
      "  1.47860843e-14  1.07179224e-14  1.07179224e-14  1.02570858e-14\n",
      "  1.02570858e-14  8.95220368e-15  8.95220368e-15  6.98634878e-15\n",
      "  6.98634878e-15  6.91889462e-15  6.91889462e-15  6.33777090e-15\n",
      "  6.33777090e-15  5.67943981e-15  5.59458955e-15  5.59458955e-15\n",
      "  5.51266162e-15  5.51266162e-15  5.10732469e-15  5.10732469e-15\n",
      "  4.93616078e-15  4.28919803e-15  4.28919803e-15  4.08123519e-15\n",
      "  4.08123519e-15  3.98310517e-15  3.98310517e-15  3.96271863e-15\n",
      "  3.96271863e-15  3.72683035e-15  3.72683035e-15  3.70639949e-15\n",
      "  3.70639949e-15  3.67022908e-15  3.67022908e-15  3.66885892e-15\n",
      "  3.66885892e-15  3.51352036e-15  2.85455436e-15  2.85455436e-15\n",
      "  2.77751660e-15  2.77751660e-15  2.73957751e-15  2.73957751e-15\n",
      "  2.60461039e-15  2.60461039e-15  2.52055946e-15  2.52055946e-15\n",
      "  2.40720698e-15  2.40720698e-15  2.36238439e-15  2.36238439e-15\n",
      "  2.22980232e-15  2.22980232e-15  2.10848982e-15  2.10848982e-15\n",
      "  2.07135564e-15  2.07135564e-15  2.00120336e-15  2.00120336e-15\n",
      "  1.87618055e-15  1.87618055e-15  1.84246075e-15  1.84246075e-15\n",
      "  1.81783328e-15  1.81783328e-15  1.66643305e-15  1.66643305e-15\n",
      "  1.65281887e-15  1.64315703e-15  1.64315703e-15  1.55816180e-15\n",
      "  1.55816180e-15  1.49399414e-15  1.46724137e-15  1.46724137e-15\n",
      "  1.41892178e-15  1.41892178e-15  1.34029307e-15  1.28518837e-15\n",
      "  1.28518837e-15  1.27879138e-15  1.27879138e-15  1.25802525e-15\n",
      "  1.25802525e-15  1.22174915e-15  1.22174915e-15  1.19880563e-15\n",
      "  1.19880563e-15  1.17765608e-15  1.17765608e-15  1.16697212e-15\n",
      "  1.16697212e-15  1.16437673e-15  1.16437673e-15  1.12864466e-15\n",
      "  1.12418568e-15  1.12418568e-15  9.27294316e-16  8.36209732e-16\n",
      "  8.36209732e-16  8.33552230e-16  8.33552230e-16  8.03915321e-16\n",
      "  8.03915321e-16  7.49907939e-16  7.42407294e-16  7.42407294e-16\n",
      "  7.38832898e-16  7.38832898e-16  6.55667046e-16  6.55667046e-16\n",
      "  6.13233839e-16  6.13233839e-16  5.96768923e-16  5.96768923e-16\n",
      "  5.28884716e-16  5.28884716e-16  4.88642436e-16  4.88642436e-16\n",
      "  4.85024829e-16  4.85024829e-16  4.59164475e-16  3.98540424e-16\n",
      "  3.98540424e-16  3.91617399e-16  3.87289941e-16  3.87289941e-16\n",
      "  3.85914512e-16  3.85914512e-16  3.71574672e-16  3.71574672e-16\n",
      "  3.19168987e-16  3.19168987e-16  2.85611426e-16  2.85611426e-16\n",
      "  2.76971557e-16  2.76971557e-16  2.37394565e-16  2.06812564e-16\n",
      "  2.06812564e-16  1.50927961e-16  1.50927961e-16  1.49815459e-16\n",
      "  1.46647346e-16  1.46647346e-16  6.70980645e-17  6.70980645e-17\n",
      "  6.26775176e-17  6.26775176e-17 -5.96752318e-18 -2.00581261e-17\n",
      " -2.00581261e-17 -5.16796775e-17 -5.16796775e-17 -7.22988313e-17\n",
      " -7.22988313e-17 -1.07686813e-16 -1.07686813e-16 -1.49019692e-16\n",
      " -1.89519350e-16 -1.89519350e-16 -2.31086734e-16 -2.31086734e-16\n",
      " -3.03079213e-16 -3.60942862e-16 -3.60942862e-16 -3.74336353e-16\n",
      " -3.74336353e-16 -3.96447451e-16 -3.96447451e-16 -4.08662327e-16\n",
      " -4.08662327e-16 -4.18718575e-16 -4.18718575e-16 -4.30006208e-16\n",
      " -4.30006208e-16 -4.31203700e-16 -4.31203700e-16 -4.96295243e-16\n",
      " -4.96295243e-16 -5.28081162e-16 -5.28081162e-16 -5.55909980e-16\n",
      " -5.55909980e-16 -5.60319356e-16 -5.60319356e-16 -5.77521813e-16\n",
      " -5.77521813e-16 -6.05856990e-16 -6.56764224e-16 -6.56764224e-16\n",
      " -6.57195576e-16 -6.57195576e-16 -6.61328945e-16 -6.61328945e-16\n",
      " -7.41133973e-16 -7.41133973e-16 -7.58244160e-16 -7.58244160e-16\n",
      " -7.75843755e-16 -7.75843755e-16 -7.93563944e-16 -7.93563944e-16\n",
      " -8.30089754e-16 -8.30089754e-16 -8.99955250e-16 -8.99955250e-16\n",
      " -1.00157868e-15 -1.01309944e-15 -1.01309944e-15 -1.01318080e-15\n",
      " -1.01318080e-15 -1.04416944e-15 -1.04416944e-15 -1.05277628e-15\n",
      " -1.08907715e-15 -1.08907715e-15 -1.09656994e-15 -1.09656994e-15\n",
      " -1.11309061e-15 -1.11309061e-15 -1.29654856e-15 -1.31338025e-15\n",
      " -1.31338025e-15 -1.35243826e-15 -1.35243826e-15 -1.40947203e-15\n",
      " -1.40947203e-15 -1.44840187e-15 -1.56375830e-15 -1.56375830e-15\n",
      " -1.68721702e-15 -1.68721702e-15 -1.74384207e-15 -1.74384207e-15\n",
      " -1.83046822e-15 -1.83046822e-15 -1.86371256e-15 -1.86371256e-15\n",
      " -1.96861649e-15 -1.96861649e-15 -2.27118069e-15 -2.27118069e-15\n",
      " -2.30843047e-15 -2.30843047e-15 -2.32907917e-15 -2.32907917e-15\n",
      " -2.42877533e-15 -2.42877533e-15 -2.46721096e-15 -2.46721096e-15\n",
      " -2.61647761e-15 -2.61647761e-15 -2.61985294e-15 -2.61985294e-15\n",
      " -2.65375623e-15 -2.65375623e-15 -2.69007036e-15 -2.69007036e-15\n",
      " -2.70850527e-15 -3.17117686e-15 -3.17117686e-15 -3.19716647e-15\n",
      " -3.19716647e-15 -3.29075237e-15 -3.64923367e-15 -3.64923367e-15\n",
      " -3.84928013e-15 -3.84928013e-15 -3.94028029e-15 -3.94028029e-15\n",
      " -4.23620380e-15 -4.23620380e-15 -4.46603200e-15 -4.92565216e-15\n",
      " -4.92565216e-15 -5.00755935e-15 -5.00755935e-15 -5.21370686e-15\n",
      " -5.55870874e-15 -5.79830323e-15 -5.79830323e-15 -6.02697377e-15\n",
      " -6.02697377e-15 -6.96770365e-15 -6.96770365e-15 -7.76781772e-15\n",
      " -7.76781772e-15 -8.41925268e-15 -8.41925268e-15 -8.95663809e-15\n",
      " -8.95663809e-15 -1.06823898e-14 -1.06823898e-14 -1.15445970e-14\n",
      " -1.40810852e-14 -1.96158535e-14] (350,)\n"
     ]
    },
    {
     "data": {
      "image/png": "[encoded data removed]",
      "text/plain": [
       "<Figure size 432x288 with 3 Axes>"
      ]
     },
     "metadata": {
      "needs_background": "light"
     },
     "output_type": "display_data"
    },
    {
     "name": "stdout",
     "output_type": "stream",
     "text": [
      "[[-0.01510825  0.00358137  0.0063988  ... -0.00062128  0.00134457\n",
      "  -0.00182815]\n",
      " [ 0.00481263  0.01036138 -0.00204163 ...  0.00563237  0.00046791\n",
      "   0.00233026]\n",
      " [-0.01055178  0.00081649  0.00894476 ...  0.00058572  0.00438261\n",
      "   0.00030691]\n",
      " ...\n",
      " [-0.14618865 -0.14686686  0.04281386 ...  0.00162503 -0.10384685\n",
      "   0.00444415]\n",
      " [ 0.22136219  0.02628913  0.07015674 ... -0.02964901 -0.07692464\n",
      "   0.04732832]\n",
      " [-0.00022776 -0.04100678 -0.04350073 ...  0.06049035 -0.12094082\n",
      "  -0.02922364]] (350, 50)\n"
     ]
    }
   ],
   "source": [
    "#calculate Wlda\n",
    "#Get the generalised eigenvectors of LDA_matrix with largest Mlda eigenvalues\n",
    "eigvals_LDA, eigvecs_LDA = np.linalg.eig(LDA)\n",
    "\n",
    "# take real part of the eigenvalues (complex eigenvalues are the result of calculation rounding errors)\n",
    "eigvals_LDA = np.real(eigvals_LDA)\n",
    "eigvecs_LDA = np.real(eigvecs_LDA)\n",
    "\n",
    "#order eigenvectors and eigenvalues according to their size\n",
    "index_LDA = eigvals_LDA.argsort()[::-1]\n",
    "eigvals_LDA = eigvals_LDA[index_LDA]\n",
    "eigvecs_LDA = eigvecs_LDA[:,index_LDA]\n",
    "\n",
    "x = np.arange(0, 350)\n",
    "print (eigvals_LDA, eigvals_LDA.shape)\n",
    "\n",
    "# plot them\n",
    "plt.subplot(3, 1, 1)\n",
    "plt.plot(x, eigvals_LDA) # clearly out of scale, so let's just take the first 200 of them\n",
    "plt.title('All eigenvalues of the covariance matrix')\n",
    "\n",
    "plt.subplot(3, 1, 2)\n",
    "plt.plot(x[:200], eigvals_LDA[:200]) # still out of scale, so let's just take the first 20 of them\n",
    "plt.title('First 200 eigenvalues of the covariance matrix')\n",
    "\n",
    "plt.subplot(3, 1, 3)\n",
    "plt.plot(x[:20], eigvals_LDA[:20])\n",
    "plt.title('First 20 eigenvalues of the covariance matrix')\n",
    "plt.show()\n",
    "\n",
    "# We just keep the first Mlda eigenvectors and eigenvalues\n",
    "Mlda = 50 #<=51\n",
    "eigvecs_LDA_best = eigvecs_LDA[:, :Mlda]\n",
    "eigvals_LDA_best = eigvals_LDA[:Mlda]\n",
    "\n",
    "#Define Wpca\n",
    "Wlda = eigvecs_LDA_best\n",
    "\n",
    "print(Wlda, Wlda.shape)"
   ]
  },
  {
   "cell_type": "code",
   "execution_count": 12,
   "metadata": {},
   "outputs": [
    {
     "name": "stdout",
     "output_type": "stream",
     "text": [
      "[[ 0.02172858 -0.00755319  0.00939366 ... -0.02636943 -0.02264566\n",
      "  -0.01979938]\n",
      " [-0.02417494 -0.01208756 -0.01069084 ... -0.00305427 -0.02878624\n",
      "  -0.01562797]\n",
      " [ 0.02779114 -0.0167707  -0.0066237  ... -0.03189462 -0.04656201\n",
      "  -0.00421013]\n",
      " ...\n",
      " [ 0.03807641 -0.02388351 -0.00576221 ...  0.00894045 -0.03714128\n",
      "   0.00419491]\n",
      " [ 0.00268097  0.00179315 -0.00581883 ... -0.00581384  0.00027419\n",
      "  -0.01106839]\n",
      " [-0.02110172  0.00271772  0.05181026 ... -0.05717241 -0.03828591\n",
      "   0.00192976]] (50, 2576)\n"
     ]
    },
    {
     "data": {
      "text/plain": [
       "<matplotlib.image.AxesImage at 0x1a36ef7cf8>"
      ]
     },
     "execution_count": 12,
     "metadata": {},
     "output_type": "execute_result"
    },
    {
     "data": {
      "image/png": "[encoded data removed]",
      "text/plain": [
       "<Figure size 432x288 with 1 Axes>"
      ]
     },
     "metadata": {
      "needs_background": "light"
     },
     "output_type": "display_data"
    }
   ],
   "source": [
    "#Calculate Wopt\n",
    "Wopt_transposed = Wlda.T.dot(Wpca.T)\n",
    "print(Wopt_transposed,Wopt_transposed.shape)\n",
    "Wopt = Wopt_transposed.T\n",
    "plt.imshow(np.reshape(Wopt[:,0], (46,56)).T, cmap = 'gist_gray')"
   ]
  },
  {
   "cell_type": "code",
   "execution_count": 13,
   "metadata": {},
   "outputs": [
    {
     "data": {
      "text/plain": [
       "<matplotlib.image.AxesImage at 0x1a3702fe80>"
      ]
     },
     "execution_count": 13,
     "metadata": {},
     "output_type": "execute_result"
    },
    {
     "data": {
      "image/png": "[encoded data removed]",
      "text/plain": [
       "<Figure size 432x288 with 1 Axes>"
      ]
     },
     "metadata": {
      "needs_background": "light"
     },
     "output_type": "display_data"
    },
    {
     "data": {
      "image/png": "[encoded data removed]",
      "text/plain": [
       "<Figure size 432x288 with 1 Axes>"
      ]
     },
     "metadata": {
      "needs_background": "light"
     },
     "output_type": "display_data"
    }
   ],
   "source": [
    "#Reconstruction check\n",
    "plt.imshow(np.reshape(pca_train[0,:], (46,56)).T, cmap = 'gist_gray')\n",
    "pic_LDA = Wopt_transposed.dot((pca_train[0,:]-global_mean))\n",
    "pic_LDA_reconstructed = Wopt.dot(pic_LDA)+global_mean\n",
    "plt.figure()\n",
    "plt.imshow(np.reshape(pic_LDA_reconstructed, (46,56)).T, cmap = 'gist_gray')"
   ]
  },
  {
   "cell_type": "code",
   "execution_count": 14,
   "metadata": {},
   "outputs": [
    {
     "name": "stdout",
     "output_type": "stream",
     "text": [
      "(2576, 416)\n",
      "(50, 416)\n",
      "(2576, 104)\n",
      "(50, 104)\n",
      "(416, 104)\n",
      "[122   5  12  11  20  24  25  26  38 122  42  47  52  52  56  61  65  68\n",
      "  73  76  84  86  94  94  99 102 111 106 118 118 122 122 128  27 141 138\n",
      " 144 145 153 153 161 161 190 168 179 179  24 191 193 196 204 203 212 282\n",
      "  61 216 227 224 236 234 245 245 255 255 263 260 269 122  27 276 227 282\n",
      " 295 293 297 296 305 305 312 315 327 327 335 331 341 343 348 122 355 355\n",
      " 363 122 113 374 383 382 385 385 395 393 402 403 122 122]\n",
      "[[1 0 0 ... 0 0 0]\n",
      " [0 2 0 ... 0 0 0]\n",
      " [0 0 1 ... 0 0 0]\n",
      " ...\n",
      " [0 0 0 ... 2 0 0]\n",
      " [0 0 0 ... 0 2 0]\n",
      " [0 0 0 ... 0 0 0]]\n"
     ]
    },
    {
     "data": {
      "image/png": "[encoded data removed]",
      "text/plain": [
       "<Figure size 288x288 with 2 Axes>"
      ]
     },
     "metadata": {
      "needs_background": "light"
     },
     "output_type": "display_data"
    },
    {
     "name": "stdout",
     "output_type": "stream",
     "text": [
      "Percentage:  0.8461538461538461\n"
     ]
    }
   ],
   "source": [
    "#Predict the class for the test set\n",
    "#Project train data into LDA space\n",
    "train_norm = (training[:,:2576] - global_mean).T \n",
    "print(train_norm.shape) #each picture is a column\n",
    "train_LDA = Wopt_transposed.dot(train_norm)\n",
    "print(train_LDA.shape) #each picture is a column\n",
    "\n",
    "#Project test data into LDA space\n",
    "test_norm = (test[:,:2576] - global_mean).T \n",
    "print(test_norm.shape) #each picture is a column\n",
    "test_LDA = Wopt_transposed.dot(test_norm)\n",
    "print(test_LDA.shape) #each picture is a column\n",
    "\n",
    "train_LDA_reshape_1 = np.repeat(train_LDA.reshape(Mlda,416,1),104, axis=2) #axis-0: projected values, axis-1: training pictures, axis-2: repeated values\n",
    "test_LDA_reshape_1 = np.repeat(test_LDA.reshape(Mlda,1,104), 416, axis=1) #axis-0: projected values, axis-1: repeated values, axis-2: test pictures\n",
    "\n",
    "#Do nearest neighbours\n",
    "distances = np.linalg.norm(test_LDA_reshape_1-train_LDA_reshape_1, axis=0)\n",
    "print(distances.shape)\n",
    "\n",
    "#calculate the nearest training picture\n",
    "nearest_trainpicture = distances.argmin(axis=0)\n",
    "print(nearest_trainpicture)\n",
    "\n",
    "#determine the nearest classes\n",
    "classes_pred = training[nearest_trainpicture,2576]\n",
    "classes_act = test[:,2576]\n",
    "\n",
    "cm = confusion_matrix(classes_act, classes_pred)\n",
    "\n",
    "print(cm)\n",
    "plt.matshow(cm, cmap = 'Blues')\n",
    "plt.colorbar()\n",
    "plt.ylabel('Actual')\n",
    "plt.xlabel('Predicted')\n",
    "plt.show()\n",
    "\n",
    "percentage = np.sum(classes_pred==classes_act) / len(classes_act)\n",
    "print(\"Percentage: \",percentage)\n"
   ]
  },
  {
   "cell_type": "code",
   "execution_count": 15,
   "metadata": {},
   "outputs": [
    {
     "name": "stdout",
     "output_type": "stream",
     "text": [
      "[[-32.44902192 -32.57534265 -34.09255848 -33.47966201 -32.36741089\n",
      "  -33.7601359  -33.30543291 -33.50088686]\n",
      " [ 73.20021946  74.66996846  74.79722956  75.19708414  75.55638367\n",
      "   74.9384917   74.50197731  75.55906408]\n",
      " [-32.62068415 -30.43719468 -29.73843035 -28.01205865 -31.18312774\n",
      "  -28.61892791 -30.4824592  -28.80014559]\n",
      " [  5.67825527   7.61606651   8.36614514  11.20129598   9.37533235\n",
      "    8.88748328   8.46115328   7.51580009]\n",
      " [ 69.61164992  70.56921088  70.79922845  73.67792358  70.47865888\n",
      "   67.84345337  68.42890642  71.29286128]\n",
      " [-29.18636592 -30.20650619 -31.70752797 -30.51302024 -32.14376808\n",
      "  -29.98941463 -30.98569534 -33.37420824]\n",
      " [-60.4199785  -60.90665922 -60.01930599 -59.01458701 -61.09153988\n",
      "  -57.24946291 -62.68916821 -59.79128007]\n",
      " [-83.23605    -88.43867415 -87.43111089 -87.99981997 -90.71181359\n",
      "  -92.50016428 -87.37637137 -90.63973594]\n",
      " [-63.8708611  -54.51084124 -55.56467016 -49.8089021  -55.05573112\n",
      "  -50.14763838 -58.06574603 -55.96418503]\n",
      " [  7.30270629   4.65272057   1.71250495  10.83436354   3.43107913\n",
      "    6.44958177   3.9231719    9.12298875]\n",
      " [ 56.6149615   43.93773651  45.19651717  31.39339511  44.40746657\n",
      "   40.36856056  42.67758437  45.35653857]\n",
      " [-55.83676966 -58.61845764 -58.6094998  -49.59894849 -56.72799523\n",
      "  -61.76369208 -56.14246111 -53.77287349]\n",
      " [-28.98719333 -26.75410074 -26.05609358 -24.49706522 -25.3379755\n",
      "  -29.39217651 -21.97454556 -19.53111521]\n",
      " [ 29.92917132  35.67971696  36.77169279  40.02267366  33.95702396\n",
      "   33.83744834  33.71587209  29.40660549]\n",
      " [ -0.61947694  -3.65247779   1.26634722  -9.17878538  -2.98274211\n",
      "   -1.18593313   1.23201536  -4.15837139]\n",
      " [-52.24839802 -41.64789079 -44.45460853 -32.40025051 -41.76409952\n",
      "  -43.75433579 -46.21303064 -41.90199911]\n",
      " [ -9.46343743  -3.60296137  -6.4816515   -8.28516417  -1.54351008\n",
      "   -5.18669263   1.60164628  -3.1552152 ]\n",
      " [ 78.40012365  71.11950509  69.57504572  66.23649616  74.89628233\n",
      "   69.24187719  70.79196302  67.99579113]\n",
      " [-18.28602194 -19.22931715 -14.37300013  -9.71209073 -18.56619567\n",
      "  -18.91711644 -27.12678343 -26.64985222]\n",
      " [ 33.33937243  23.60012395  29.97426917  18.49891338  26.7714225\n",
      "   23.11988051  25.68157006  24.83360662]\n",
      " [ 33.82110725  32.96434702  30.63446846  24.91331727  36.99939728\n",
      "   38.10318313  37.24873182  42.43025149]\n",
      " [ 21.30467608  34.21823736  17.75699892  40.75558349  31.42045697\n",
      "   22.52146499  18.30796537  26.53181378]\n",
      " [-14.82349466 -10.53702046 -17.22919828   8.01727772 -17.35842799\n",
      "   -7.0959591  -16.42073485 -10.02267899]\n",
      " [-34.87783462 -26.23500132 -21.69208894 -33.34996211 -28.00797162\n",
      "  -23.02491492 -25.39655299 -26.52527792]\n",
      " [ 24.25430905  24.86465936  28.03116042  25.38361218  25.88152465\n",
      "   24.33708457  27.27485369  25.20327685]\n",
      " [-85.85659004 -88.50864054 -87.15846981 -86.48095919 -79.95506213\n",
      "  -77.18319082 -74.92435226 -80.96161937]\n",
      " [-11.64102224 -25.4926341  -16.93425423 -38.21055939 -23.28213356\n",
      "  -17.71763184 -21.12520571 -23.6875078 ]\n",
      " [  4.40011628   4.85939733   6.41959971  -3.0225011    6.29363497\n",
      "    6.9973163   -8.15446529   2.94983749]\n",
      " [  4.47517046  -8.00608158 -20.58698504 -20.99151958 -10.60562056\n",
      "   -5.79113023 -13.65589365 -24.34522366]\n",
      " [-43.56907537 -37.57300832 -41.82008541 -30.23973976 -40.10265288\n",
      "  -50.4422749  -33.71479433 -31.86876014]\n",
      " [  2.48055324   4.03215696  11.6133734   20.66117762   6.81092291\n",
      "   15.09693351   7.75110654  10.60319318]\n",
      " [ 20.13277309  24.05735906  17.08062957  33.25856636  21.97887765\n",
      "   30.91935343   8.220407    12.85039056]\n",
      " [ 14.87229721  25.14742353  25.47855709   6.77644045  22.0242375\n",
      "   18.23663123  26.64958418  21.40085017]\n",
      " [ 63.13348668  64.4127116   68.69339874  63.16848797  72.1060869\n",
      "   61.81995924  63.22836797  72.22729266]\n",
      " [-32.69199459 -30.8576099  -32.64585177 -18.06342312 -31.3558474\n",
      "  -31.20956825 -13.2832265  -23.36237605]\n",
      " [ 39.72577684  70.22728034  61.71330347  73.26396397  57.30912547\n",
      "   47.31476028  51.19990179  59.16971166]\n",
      " [-29.94756611 -26.11626389 -30.12679374 -28.33009241 -37.39562983\n",
      "  -31.89962891 -26.38753679 -48.7786193 ]\n",
      " [-70.91584307 -67.22418712 -65.53072515 -59.57128419 -72.78349362\n",
      "  -70.8952736  -48.00007108 -73.95748436]\n",
      " [-42.49281663 -35.13092854 -17.63077106 -12.32404342 -14.96779134\n",
      "  -43.06782055 -22.90285157 -25.16273295]\n",
      " [ 19.61282383  30.57862212  26.36706017  28.72034395  42.09209186\n",
      "   39.01151912  21.41741733  19.66862009]\n",
      " [ 36.83217597  58.59640021  43.93892568  52.13189594  58.58007585\n",
      "   54.69068123  53.01080178  48.58423954]\n",
      " [-11.58208231  -7.1773891  -11.90469758 -16.42155035 -12.8211978\n",
      "  -10.38501093  -8.5044811  -19.37125905]\n",
      " [ 18.77951897  36.56822163  42.54983368  30.81807495  29.16311402\n",
      "   24.44733029  37.95115688  45.71247179]\n",
      " [-49.66265549 -59.60250938 -29.44283484 -57.41514759 -50.08223172\n",
      "  -12.74213549 -53.56560574 -48.52760905]\n",
      " [-16.35448713   9.44943021   8.5748369   22.81342616  27.36393469\n",
      "   22.65320466   6.92336351  27.64628002]\n",
      " [ -5.75380953  -2.1207535    9.87131382  -7.26950854  -9.48327394\n",
      "    4.43577125 -14.08721831 -17.2622619 ]\n",
      " [-26.00274576 -29.80746002 -51.63083114 -32.95868016 -53.78952997\n",
      "  -26.11320494 -27.46864875 -35.65999849]\n",
      " [ -7.1225271   16.84195601  20.23834492  25.52844206  26.5686199\n",
      "   19.49884063  17.16511141  40.69334099]\n",
      " [ 27.65750941  51.23151782  31.16793545  18.33449174  34.72863598\n",
      "   18.29871426  -6.28432933  43.88942606]\n",
      " [ 21.68844718  28.4755904   27.16275147  11.84398398  42.3403053\n",
      "   25.64027423   2.50573894  31.17310123]] (50, 8)\n",
      "(52, 104)\n"
     ]
    }
   ],
   "source": [
    "#Predict the class for the test set (average nearest neighbours)\n",
    "#Project all classes into the LDA-Space\n",
    "class_sets_LDA = []\n",
    "for c in class_sets:\n",
    "    class_sets_LDA.append(Wopt_transposed.dot((c-global_mean).T))\n",
    "print(class_sets_LDA[0], class_sets_LDA[0].shape)\n",
    "\n",
    "#calculate the average distance to the class\n",
    "class_mean_distance = np.zeros((52,104))\n",
    "for i in range(52):\n",
    "    train_LDA_reshape_2 = np.repeat(class_sets_LDA[i].reshape(Mlda,class_sets_LDA[i].shape[1],1),104,axis=2)\n",
    "    test_LDA_reshape_2 = np.repeat(test_LDA.reshape(Mlda,1,104), class_sets_LDA[i].shape[1], axis=1)\n",
    "    d = np.linalg.norm(test_LDA_reshape_2-train_LDA_reshape_2, axis=0)\n",
    "    class_mean_distance[i,:]=np.average(d,axis=0)\n",
    "    \n",
    "#class_mean_distance is a matrix where each element stores the mean class difference of a test point to a certain class\n",
    "#axis-0: classes, axis-1: mean distance for each point\n",
    "print(class_mean_distance.shape)\n",
    "\n"
   ]
  },
  {
   "cell_type": "code",
   "execution_count": 16,
   "metadata": {},
   "outputs": [
    {
     "name": "stdout",
     "output_type": "stream",
     "text": [
      "[[2 0 0 ... 0 0 0]\n",
      " [0 2 0 ... 0 0 0]\n",
      " [0 0 1 ... 0 0 0]\n",
      " ...\n",
      " [0 0 0 ... 2 0 0]\n",
      " [0 0 0 ... 0 2 0]\n",
      " [0 0 0 ... 0 0 2]]\n"
     ]
    },
    {
     "data": {
      "image/png": "[encoded data removed]",
      "text/plain": [
       "<Figure size 288x288 with 2 Axes>"
      ]
     },
     "metadata": {
      "needs_background": "light"
     },
     "output_type": "display_data"
    },
    {
     "name": "stdout",
     "output_type": "stream",
     "text": [
      "Percentage:  0.9038461538461539\n"
     ]
    }
   ],
   "source": [
    "#determine the nearest classes\n",
    "classes_pred_1 = class_mean_distance.argmin(axis=0)+1 #python index starts from 0 -> add 1\n",
    "classes_act_1 = test[:,2576]\n",
    "\n",
    "cm = confusion_matrix(classes_act_1, classes_pred_1)\n",
    "\n",
    "print(cm)\n",
    "plt.matshow(cm, cmap = 'Blues')\n",
    "plt.colorbar()\n",
    "plt.ylabel('Actual')\n",
    "plt.xlabel('Predicted')\n",
    "plt.show()\n",
    "\n",
    "percentage_1 = np.sum(classes_pred_1==classes_act_1) / len(classes_act_1)\n",
    "print(\"Percentage: \",percentage_1)"
   ]
  },
  {
   "cell_type": "code",
   "execution_count": null,
   "metadata": {},
   "outputs": [],
   "source": []
  }
 ],
 "metadata": {
  "kernelspec": {
   "display_name": "Python 3",
   "language": "python",
   "name": "python3"
  },
  "language_info": {
   "codemirror_mode": {
    "name": "ipython",
    "version": 3
   },
   "file_extension": ".py",
   "mimetype": "text/x-python",
   "name": "python",
   "nbconvert_exporter": "python",
   "pygments_lexer": "ipython3",
   "version": "3.7.0"
  }
 },
 "nbformat": 4,
 "nbformat_minor": 2
}
