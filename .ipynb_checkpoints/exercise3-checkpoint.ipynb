{
 "cells": [
  {
   "cell_type": "code",
   "execution_count": 1,
   "metadata": {},
   "outputs": [
    {
     "data": {
      "text/plain": [
       "{'__header__': b'MATLAB 5.0 MAT-file, Platform: PCWIN, Created on: Sat May 27 02:07:24 2006',\n",
       " '__version__': '1.0',\n",
       " '__globals__': [],\n",
       " 'X': array([[106, 130, 191, ...,  70, 183,  77],\n",
       "        [103, 129, 185, ...,  62, 250,  72],\n",
       "        [103, 130, 174, ...,  83, 163,  68],\n",
       "        ...,\n",
       "        [ 37,  40,  22, ...,  87, 102,  93],\n",
       "        [ 36,  36,  19, ...,  89,  95, 103],\n",
       "        [ 41,  35,  17, ...,  94, 106, 110]], dtype=uint8),\n",
       " 'l': array([[ 1,  1,  1,  1,  1,  1,  1,  1,  1,  1,  2,  2,  2,  2,  2,  2,\n",
       "          2,  2,  2,  2,  3,  3,  3,  3,  3,  3,  3,  3,  3,  3,  4,  4,\n",
       "          4,  4,  4,  4,  4,  4,  4,  4,  5,  5,  5,  5,  5,  5,  5,  5,\n",
       "          5,  5,  6,  6,  6,  6,  6,  6,  6,  6,  6,  6,  7,  7,  7,  7,\n",
       "          7,  7,  7,  7,  7,  7,  8,  8,  8,  8,  8,  8,  8,  8,  8,  8,\n",
       "          9,  9,  9,  9,  9,  9,  9,  9,  9,  9, 10, 10, 10, 10, 10, 10,\n",
       "         10, 10, 10, 10, 11, 11, 11, 11, 11, 11, 11, 11, 11, 11, 12, 12,\n",
       "         12, 12, 12, 12, 12, 12, 12, 12, 13, 13, 13, 13, 13, 13, 13, 13,\n",
       "         13, 13, 14, 14, 14, 14, 14, 14, 14, 14, 14, 14, 15, 15, 15, 15,\n",
       "         15, 15, 15, 15, 15, 15, 16, 16, 16, 16, 16, 16, 16, 16, 16, 16,\n",
       "         17, 17, 17, 17, 17, 17, 17, 17, 17, 17, 18, 18, 18, 18, 18, 18,\n",
       "         18, 18, 18, 18, 19, 19, 19, 19, 19, 19, 19, 19, 19, 19, 20, 20,\n",
       "         20, 20, 20, 20, 20, 20, 20, 20, 21, 21, 21, 21, 21, 21, 21, 21,\n",
       "         21, 21, 22, 22, 22, 22, 22, 22, 22, 22, 22, 22, 23, 23, 23, 23,\n",
       "         23, 23, 23, 23, 23, 23, 24, 24, 24, 24, 24, 24, 24, 24, 24, 24,\n",
       "         25, 25, 25, 25, 25, 25, 25, 25, 25, 25, 26, 26, 26, 26, 26, 26,\n",
       "         26, 26, 26, 26, 27, 27, 27, 27, 27, 27, 27, 27, 27, 27, 28, 28,\n",
       "         28, 28, 28, 28, 28, 28, 28, 28, 29, 29, 29, 29, 29, 29, 29, 29,\n",
       "         29, 29, 30, 30, 30, 30, 30, 30, 30, 30, 30, 30, 31, 31, 31, 31,\n",
       "         31, 31, 31, 31, 31, 31, 32, 32, 32, 32, 32, 32, 32, 32, 32, 32,\n",
       "         33, 33, 33, 33, 33, 33, 33, 33, 33, 33, 34, 34, 34, 34, 34, 34,\n",
       "         34, 34, 34, 34, 35, 35, 35, 35, 35, 35, 35, 35, 35, 35, 36, 36,\n",
       "         36, 36, 36, 36, 36, 36, 36, 36, 37, 37, 37, 37, 37, 37, 37, 37,\n",
       "         37, 37, 38, 38, 38, 38, 38, 38, 38, 38, 38, 38, 39, 39, 39, 39,\n",
       "         39, 39, 39, 39, 39, 39, 40, 40, 40, 40, 40, 40, 40, 40, 40, 40,\n",
       "         41, 41, 41, 41, 41, 41, 41, 41, 41, 41, 42, 42, 42, 42, 42, 42,\n",
       "         42, 42, 42, 42, 43, 43, 43, 43, 43, 43, 43, 43, 43, 43, 44, 44,\n",
       "         44, 44, 44, 44, 44, 44, 44, 44, 45, 45, 45, 45, 45, 45, 45, 45,\n",
       "         45, 45, 46, 46, 46, 46, 46, 46, 46, 46, 46, 46, 47, 47, 47, 47,\n",
       "         47, 47, 47, 47, 47, 47, 48, 48, 48, 48, 48, 48, 48, 48, 48, 48,\n",
       "         49, 49, 49, 49, 49, 49, 49, 49, 49, 49, 50, 50, 50, 50, 50, 50,\n",
       "         50, 50, 50, 50, 51, 51, 51, 51, 51, 51, 51, 51, 51, 51, 52, 52,\n",
       "         52, 52, 52, 52, 52, 52, 52, 52]], dtype=uint8)}"
      ]
     },
     "execution_count": 1,
     "metadata": {},
     "output_type": "execute_result"
    }
   ],
   "source": [
    "# Imports\n",
    "import scipy.io as sio \n",
    "import numpy as np\n",
    "import matplotlib.pyplot as plt\n",
    "\n",
    "# Load the source file with the face data\n",
    "mat_content = sio.loadmat('face.mat')\n",
    "\n",
    "mat_content # Let's see the content... "
   ]
  },
  {
   "cell_type": "code",
   "execution_count": 2,
   "metadata": {},
   "outputs": [
    {
     "name": "stdout",
     "output_type": "stream",
     "text": [
      "[[106 130 191 ...  70 183  77]\n",
      " [103 129 185 ...  62 250  72]\n",
      " [103 130 174 ...  83 163  68]\n",
      " ...\n",
      " [ 37  40  22 ...  87 102  93]\n",
      " [ 36  36  19 ...  89  95 103]\n",
      " [ 41  35  17 ...  94 106 110]]\n",
      "(2576, 520)\n",
      "[[ 1  1  1  1  1  1  1  1  1  1  2  2  2  2  2  2  2  2  2  2  3  3  3  3\n",
      "   3  3  3  3  3  3  4  4  4  4  4  4  4  4  4  4  5  5  5  5  5  5  5  5\n",
      "   5  5  6  6  6  6  6  6  6  6  6  6  7  7  7  7  7  7  7  7  7  7  8  8\n",
      "   8  8  8  8  8  8  8  8  9  9  9  9  9  9  9  9  9  9 10 10 10 10 10 10\n",
      "  10 10 10 10 11 11 11 11 11 11 11 11 11 11 12 12 12 12 12 12 12 12 12 12\n",
      "  13 13 13 13 13 13 13 13 13 13 14 14 14 14 14 14 14 14 14 14 15 15 15 15\n",
      "  15 15 15 15 15 15 16 16 16 16 16 16 16 16 16 16 17 17 17 17 17 17 17 17\n",
      "  17 17 18 18 18 18 18 18 18 18 18 18 19 19 19 19 19 19 19 19 19 19 20 20\n",
      "  20 20 20 20 20 20 20 20 21 21 21 21 21 21 21 21 21 21 22 22 22 22 22 22\n",
      "  22 22 22 22 23 23 23 23 23 23 23 23 23 23 24 24 24 24 24 24 24 24 24 24\n",
      "  25 25 25 25 25 25 25 25 25 25 26 26 26 26 26 26 26 26 26 26 27 27 27 27\n",
      "  27 27 27 27 27 27 28 28 28 28 28 28 28 28 28 28 29 29 29 29 29 29 29 29\n",
      "  29 29 30 30 30 30 30 30 30 30 30 30 31 31 31 31 31 31 31 31 31 31 32 32\n",
      "  32 32 32 32 32 32 32 32 33 33 33 33 33 33 33 33 33 33 34 34 34 34 34 34\n",
      "  34 34 34 34 35 35 35 35 35 35 35 35 35 35 36 36 36 36 36 36 36 36 36 36\n",
      "  37 37 37 37 37 37 37 37 37 37 38 38 38 38 38 38 38 38 38 38 39 39 39 39\n",
      "  39 39 39 39 39 39 40 40 40 40 40 40 40 40 40 40 41 41 41 41 41 41 41 41\n",
      "  41 41 42 42 42 42 42 42 42 42 42 42 43 43 43 43 43 43 43 43 43 43 44 44\n",
      "  44 44 44 44 44 44 44 44 45 45 45 45 45 45 45 45 45 45 46 46 46 46 46 46\n",
      "  46 46 46 46 47 47 47 47 47 47 47 47 47 47 48 48 48 48 48 48 48 48 48 48\n",
      "  49 49 49 49 49 49 49 49 49 49 50 50 50 50 50 50 50 50 50 50 51 51 51 51\n",
      "  51 51 51 51 51 51 52 52 52 52 52 52 52 52 52 52]]\n",
      "(1, 520)\n",
      "[[106 130 191 ...  70 183  77]\n",
      " [103 129 185 ...  62 250  72]\n",
      " [103 130 174 ...  83 163  68]\n",
      " ...\n",
      " [ 36  36  19 ...  89  95 103]\n",
      " [ 41  35  17 ...  94 106 110]\n",
      " [  1   1   1 ...  52  52  52]]\n",
      "(2577, 520)\n",
      "[[106 103 103 ...  36  41   1]\n",
      " [130 129 130 ...  36  35   1]\n",
      " [191 185 174 ...  19  17   1]\n",
      " ...\n",
      " [ 70  62  83 ...  89  94  52]\n",
      " [183 250 163 ...  95 106  52]\n",
      " [ 77  72  68 ... 103 110  52]] (520, 2577)\n"
     ]
    }
   ],
   "source": [
    "# Store face data and classification\n",
    "face_data = mat_content['X']\n",
    "face_label = mat_content['l'] # Not actually used for PCA training, needed for testing\n",
    "\n",
    "# Append the matching data and labels to array 'faces'\n",
    "# But we need it later for assessing our algorithms during testing\n",
    "faces = np.append(face_data, face_label, axis=0)\n",
    "\n",
    "# Check data and correct dimensions\n",
    "print(face_data) # Each column represents one face image, each row a pixel value for a particular coordinate of the image\n",
    "print(face_data.shape) # 520 data points in 2576 dimensions\n",
    "print (face_label)\n",
    "print (face_label.shape) # 520 data points\n",
    "print(faces)\n",
    "print(faces.shape)\n",
    "\n",
    "#Transpose in preparation for division into training and testing material\n",
    "faces_transposed = faces.T\n",
    "print (faces_transposed, faces_transposed.shape)"
   ]
  },
  {
   "cell_type": "code",
   "execution_count": 3,
   "metadata": {},
   "outputs": [
    {
     "name": "stdout",
     "output_type": "stream",
     "text": [
      "[[ 98  84  81 ...  51  48  29]\n",
      " [160 164 165 ... 156 134  42]\n",
      " [251 249 239 ...  42  43   5]\n",
      " ...\n",
      " [113 113 116 ...  88  72  20]\n",
      " [116 121 122 ...  45  44  44]\n",
      " [ 62  59  59 ... 200 201  50]] (520, 2577)\n",
      "[[ 98  84  81 ...  51  48  29]\n",
      " [160 164 165 ... 156 134  42]\n",
      " [251 249 239 ...  42  43   5]\n",
      " ...\n",
      " [245 244 237 ...  62  46  48]\n",
      " [177 179 177 ...  36  32   5]\n",
      " [ 68  82  57 ... 213 185   4]] (416, 2577)\n",
      "[[164 162 163 ...  41  46   4]\n",
      " [221 125 104 ...  53  48  33]\n",
      " [116 117 117 ...  55  55  30]\n",
      " ...\n",
      " [113 113 116 ...  88  72  20]\n",
      " [116 121 122 ...  45  44  44]\n",
      " [ 62  59  59 ... 200 201  50]] (104, 2577)\n",
      "[173 158 163 ...  36  37  41] (2577,)\n",
      "[[173 158 163 ...  37  34  35]\n",
      " [177 155 153 ...  36  34  35]\n",
      " [140 135 155 ...  34  32  33]\n",
      " ...\n",
      " [170 159 155 ...  42  42  42]\n",
      " [181 173 178 ...  37  39  41]\n",
      " [176 177 181 ...  33  36  37]] (46, 56)\n"
     ]
    },
    {
     "data": {
      "text/plain": [
       "<matplotlib.image.AxesImage at 0xb2253ef60>"
      ]
     },
     "execution_count": 3,
     "metadata": {},
     "output_type": "execute_result"
    },
    {
     "data": {
      "image/png": "[encoded data removed]",
      "text/plain": [
       "<Figure size 432x288 with 1 Axes>"
      ]
     },
     "metadata": {
      "needs_background": "light"
     },
     "output_type": "display_data"
    }
   ],
   "source": [
    "#Divide the data set into training and testing sets: 80% is training, 20% is testing\n",
    "np.random.shuffle(faces_transposed) #Shuffles the rows!! (This is why we transposed)\n",
    "print(faces_transposed, faces_transposed.shape)\n",
    "training, test = faces_transposed[:416,:], faces_transposed[416:,:]\n",
    "print (training, training.shape)\n",
    "print (test, test.shape)\n",
    "image_99 = faces_transposed[99]\n",
    "print(image_99, image_99.shape)\n",
    "image_99 = np.reshape(image_99[:2576], (46, 56))\n",
    "print (image_99, image_99.shape)\n",
    "plt.imshow(image_99.T, cmap = 'gist_gray') # It is a person, so the data manipulation makes sense so far\n",
    "#plt.figure()\n",
    "#plt.imshow(np.reshape(faces_transposed[100, :2576], (46,56)).T, cmap = 'gist_gray') # print 100th image as a sanity check to make sure we have shuffled along the right dimension of the array"
   ]
  },
  {
   "cell_type": "code",
   "execution_count": 4,
   "metadata": {},
   "outputs": [
    {
     "name": "stdout",
     "output_type": "stream",
     "text": [
      "[[ 98  84  81 ...  53  51  48]\n",
      " [160 164 165 ... 194 156 134]\n",
      " [251 249 239 ...  40  42  43]\n",
      " ...\n",
      " [245 244 237 ... 109  62  46]\n",
      " [177 179 177 ...  44  36  32]\n",
      " [ 68  82  57 ... 150 213 185]] (416, 2576)\n",
      "[121.84615385 122.75240385 120.80048077 ...  86.04567308  83.75\n",
      "  82.27884615] (2576,)\n"
     ]
    },
    {
     "data": {
      "text/plain": [
       "<matplotlib.image.AxesImage at 0xb226e9390>"
      ]
     },
     "execution_count": 4,
     "metadata": {},
     "output_type": "execute_result"
    },
    {
     "data": {
      "image/png": "[encoded data removed]",
      "text/plain": [
       "<Figure size 432x288 with 1 Axes>"
      ]
     },
     "metadata": {
      "needs_background": "light"
     },
     "output_type": "display_data"
    },
    {
     "data": {
      "image/png": "[encoded data removed]",
      "text/plain": [
       "<Figure size 432x288 with 1 Axes>"
      ]
     },
     "metadata": {
      "needs_background": "light"
     },
     "output_type": "display_data"
    }
   ],
   "source": [
    "# Now let's start image recognition by PCA\n",
    "# We have face images that are CENTERED and they are of the SAME SIZE (needed for PCA)\n",
    "# They are normalised for scale, orientation and translation\n",
    "\n",
    "# First, we only need the training face set without the labels\n",
    "# Images are represented as rows of the array 'pca_train'\n",
    "pca_train = training [:, :2576]\n",
    "print (pca_train, pca_train.shape)\n",
    "plt.imshow(np.reshape(pca_train[0, :], (46,56)).T, cmap = 'gist_gray') # show the first face image\n",
    "\n",
    "# Let's compute the average face vector\n",
    "avg_face = np.mean(pca_train, axis=0)\n",
    "print (avg_face, avg_face.shape)\n",
    "plt.figure()\n",
    "plt.imshow(np.reshape(avg_face, (46,56)).T, cmap = 'gist_gray')"
   ]
  },
  {
   "cell_type": "code",
   "execution_count": 5,
   "metadata": {},
   "outputs": [
    {
     "name": "stdout",
     "output_type": "stream",
     "text": [
      "[[-23.84615385 -38.75240385 -39.80048077 ... -33.04567308 -32.75\n",
      "  -34.27884615]\n",
      " [ 38.15384615  41.24759615  44.19951923 ... 107.95432692  72.25\n",
      "   51.72115385]\n",
      " [129.15384615 126.24759615 118.19951923 ... -46.04567308 -41.75\n",
      "  -39.27884615]\n",
      " ...\n",
      " [123.15384615 121.24759615 116.19951923 ...  22.95432692 -21.75\n",
      "  -36.27884615]\n",
      " [ 55.15384615  56.24759615  56.19951923 ... -42.04567308 -47.75\n",
      "  -50.27884615]\n",
      " [-53.84615385 -40.75240385 -63.80048077 ...  63.95432692 129.25\n",
      "  102.72115385]] (416, 2576)\n",
      "[[1006964.15384615  952694.15384615  870485.23076923 ... -163674.07692308\n",
      "  -184111.         -189562.15384615]\n",
      " [ 952694.15384615 1068947.49759615 1007842.44951923 ... -162069.29567308\n",
      "  -176108.75       -185305.27884615]\n",
      " [ 870485.23076923 1007842.44951923 1057558.43990385 ... -172103.20913462\n",
      "  -184411.75       -194550.85576923]\n",
      " ...\n",
      " [-163674.07692308 -162069.29567308 -172103.20913462 ... 1140128.13221154\n",
      "  1078012.75       1030163.70192308]\n",
      " [-184111.         -176108.75       -184411.75       ... 1078012.75\n",
      "  1165128.         1123022.        ]\n",
      " [-189562.15384615 -185305.27884615 -194550.85576923 ... 1030163.70192308\n",
      "  1123022.         1185605.65384615]] (2576, 2576)\n",
      "[[2420.58690828 2290.13017751 2092.51257396 ... -393.4473003\n",
      "  -442.57451923 -455.67825444]\n",
      " [2290.13017751 2569.58533076 2422.69819596 ... -389.58965306\n",
      "  -423.33834135 -445.44538184]\n",
      " [2092.51257396 2422.69819596 2542.20778823 ... -413.70963734\n",
      "  -443.29747596 -467.67032637]\n",
      " ...\n",
      " [-393.4473003  -389.58965306 -413.70963734 ... 2740.69262551\n",
      "  2591.37680288 2476.3550527 ]\n",
      " [-442.57451923 -423.33834135 -443.29747596 ... 2591.37680288\n",
      "  2800.78846154 2699.57211538]\n",
      " [-455.67825444 -445.44538184 -467.67032637 ... 2476.3550527\n",
      "  2699.57211538 2850.01359098]] (2576, 2576)\n"
     ]
    },
    {
     "data": {
      "image/png": "[encoded data removed]",
      "text/plain": [
       "<Figure size 432x288 with 1 Axes>"
      ]
     },
     "metadata": {
      "needs_background": "light"
     },
     "output_type": "display_data"
    }
   ],
   "source": [
    "# Now let's subtract the mean face from all of our face images\n",
    "\n",
    "pca_train_norm = pca_train-avg_face # works because of broadcasting\n",
    "print (pca_train_norm, pca_train_norm.shape)\n",
    "plt.imshow(np.reshape(pca_train_norm[0, :], (46,56)).T, cmap = 'gist_gray') \n",
    "# show the first normalised face image and compare it to the previously printed image: not the same\n",
    "\n",
    "# Computing the covariance matrix\n",
    "cov = np.dot(pca_train_norm.T, pca_train_norm)\n",
    "print (cov, cov.shape)\n",
    "cov = cov/416\n",
    "print (cov, cov.shape)"
   ]
  },
  {
   "cell_type": "code",
   "execution_count": 6,
   "metadata": {},
   "outputs": [
    {
     "name": "stdout",
     "output_type": "stream",
     "text": [
      "[ 9.22367803e+05+0.j  5.19044769e+05+0.j  4.58975464e+05+0.j ...\n",
      " -2.28265492e-13+0.j  1.13174045e-13+0.j -7.68549625e-14+0.j] (2576,)\n",
      "[[-0.01494407+0.j  0.01312003+0.j  0.014233  +0.j ...  0.0042645 +0.j\n",
      "   0.00145791+0.j  0.00344342+0.j]\n",
      " [-0.01621579+0.j  0.0126119 +0.j  0.01594404+0.j ...  0.0005902 +0.j\n",
      "   0.00031378+0.j  0.00079622+0.j]\n",
      " [-0.01697116+0.j  0.01246552+0.j  0.01862578+0.j ...  0.0007891 +0.j\n",
      "   0.00038368+0.j  0.00084859+0.j]\n",
      " ...\n",
      " [ 0.00644411+0.j -0.04696671+0.j -0.00227439+0.j ...  0.00047855+0.j\n",
      "   0.00506246+0.j -0.00287286+0.j]\n",
      " [ 0.00633343+0.j -0.0455887 +0.j -0.00318864+0.j ...  0.01003813+0.j\n",
      "  -0.00043817+0.j -0.01095314+0.j]\n",
      " [ 0.00668768+0.j -0.04612969+0.j -0.00539455+0.j ... -0.00334537+0.j\n",
      "   0.00050602+0.j -0.00787091+0.j]] (2576, 2576)\n",
      "[ 9.22367803e+05  5.19044769e+05  4.58975464e+05 ... -2.28265492e-13\n",
      "  1.13174045e-13 -7.68549625e-14] (2576,)\n",
      "[419 420 421 ...   2   1   0] (2576,)\n",
      "[  0   1   2 ... 421 420 419] (2576,)\n",
      "[   0    1    2 ... 2573 2574 2575] (2576,)\n",
      "[ 9.22367803e+05  5.19044769e+05  4.58975464e+05 ... -3.55827134e-11\n",
      " -3.59533047e-11 -3.59533047e-11] (2576,)\n"
     ]
    },
    {
     "data": {
      "image/png": "[encoded data removed]",
      "text/plain": [
       "<Figure size 432x288 with 3 Axes>"
      ]
     },
     "metadata": {
      "needs_background": "light"
     },
     "output_type": "display_data"
    }
   ],
   "source": [
    "# Computing the eigenvalues and eigenvectors of the covariance matrix\n",
    "eigvals, eigvecs = np.linalg.eig(cov) # these are not ordered, so we order them and the corresponding eigenvalues\n",
    "print (eigvals, eigvals.shape)\n",
    "print (eigvecs, eigvecs.shape)\n",
    "\n",
    "# take absolute value of the complex eigenvalues so that ordering them makes sense\n",
    "eigvals = eigvals.real\n",
    "print (eigvals, eigvals.shape)\n",
    "\n",
    "# order them\n",
    "print (eigvals.argsort(), eigvals.argsort().shape)\n",
    "index = eigvals.argsort()[::-1] # argsort returns the indices that would sort an array (in this case the vector eigvals)\n",
    "print (index, index.shape)\n",
    "eigvals = eigvals[index]\n",
    "eigvecs = eigvecs[:,index]\n",
    "\n",
    "x = np.arange(0, 2576)\n",
    "print (x, x.shape)\n",
    "print (eigvals, eigvals.shape)\n",
    "\n",
    "# plot them\n",
    "plt.subplot(3, 1, 1)\n",
    "plt.plot(x, eigvals) # clearly out of scale, so let's just take the first 200 of them\n",
    "plt.title('All eigenvalues of the covariance matrix')\n",
    "\n",
    "plt.subplot(3, 1, 2)\n",
    "plt.plot(x[:200], eigvals[:200]) # still out of scale, so let's just take the first 20 of them\n",
    "plt.title('First 200 eigenvalues of the covariance matrix')\n",
    "\n",
    "plt.subplot(3, 1, 3)\n",
    "plt.plot(x[:20], eigvals[:20])\n",
    "plt.title('First 20 eigenvalues of the covariance matrix')\n",
    "plt.show()"
   ]
  },
  {
   "cell_type": "code",
   "execution_count": null,
   "metadata": {},
   "outputs": [],
   "source": []
  }
 ],
 "metadata": {
  "kernelspec": {
   "display_name": "Python 3",
   "language": "python",
   "name": "python3"
  },
  "language_info": {
   "codemirror_mode": {
    "name": "ipython",
    "version": 3
   },
   "file_extension": ".py",
   "mimetype": "text/x-python",
   "name": "python",
   "nbconvert_exporter": "python",
   "pygments_lexer": "ipython3",
   "version": "3.7.0"
  }
 },
 "nbformat": 4,
 "nbformat_minor": 2
}
