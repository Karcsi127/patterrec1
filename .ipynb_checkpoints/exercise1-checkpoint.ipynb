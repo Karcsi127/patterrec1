{
 "cells": [
  {
   "cell_type": "markdown",
   "metadata": {
    "collapsed": true
   },
   "source": [
    "# Exercise 1 Implementation"
   ]
  },
  {
   "cell_type": "code",
   "execution_count": 5,
   "metadata": {},
   "outputs": [
    {
     "data": {
      "text/plain": [
       "{'X': array([[106, 130, 191, ...,  70, 183,  77],\n",
       "        [103, 129, 185, ...,  62, 250,  72],\n",
       "        [103, 130, 174, ...,  83, 163,  68],\n",
       "        ...,\n",
       "        [ 37,  40,  22, ...,  87, 102,  93],\n",
       "        [ 36,  36,  19, ...,  89,  95, 103],\n",
       "        [ 41,  35,  17, ...,  94, 106, 110]], dtype=uint8),\n",
       " '__globals__': [],\n",
       " '__header__': b'MATLAB 5.0 MAT-file, Platform: PCWIN, Created on: Sat May 27 02:07:24 2006',\n",
       " '__version__': '1.0',\n",
       " 'l': array([[ 1,  1,  1,  1,  1,  1,  1,  1,  1,  1,  2,  2,  2,  2,  2,  2,\n",
       "          2,  2,  2,  2,  3,  3,  3,  3,  3,  3,  3,  3,  3,  3,  4,  4,\n",
       "          4,  4,  4,  4,  4,  4,  4,  4,  5,  5,  5,  5,  5,  5,  5,  5,\n",
       "          5,  5,  6,  6,  6,  6,  6,  6,  6,  6,  6,  6,  7,  7,  7,  7,\n",
       "          7,  7,  7,  7,  7,  7,  8,  8,  8,  8,  8,  8,  8,  8,  8,  8,\n",
       "          9,  9,  9,  9,  9,  9,  9,  9,  9,  9, 10, 10, 10, 10, 10, 10,\n",
       "         10, 10, 10, 10, 11, 11, 11, 11, 11, 11, 11, 11, 11, 11, 12, 12,\n",
       "         12, 12, 12, 12, 12, 12, 12, 12, 13, 13, 13, 13, 13, 13, 13, 13,\n",
       "         13, 13, 14, 14, 14, 14, 14, 14, 14, 14, 14, 14, 15, 15, 15, 15,\n",
       "         15, 15, 15, 15, 15, 15, 16, 16, 16, 16, 16, 16, 16, 16, 16, 16,\n",
       "         17, 17, 17, 17, 17, 17, 17, 17, 17, 17, 18, 18, 18, 18, 18, 18,\n",
       "         18, 18, 18, 18, 19, 19, 19, 19, 19, 19, 19, 19, 19, 19, 20, 20,\n",
       "         20, 20, 20, 20, 20, 20, 20, 20, 21, 21, 21, 21, 21, 21, 21, 21,\n",
       "         21, 21, 22, 22, 22, 22, 22, 22, 22, 22, 22, 22, 23, 23, 23, 23,\n",
       "         23, 23, 23, 23, 23, 23, 24, 24, 24, 24, 24, 24, 24, 24, 24, 24,\n",
       "         25, 25, 25, 25, 25, 25, 25, 25, 25, 25, 26, 26, 26, 26, 26, 26,\n",
       "         26, 26, 26, 26, 27, 27, 27, 27, 27, 27, 27, 27, 27, 27, 28, 28,\n",
       "         28, 28, 28, 28, 28, 28, 28, 28, 29, 29, 29, 29, 29, 29, 29, 29,\n",
       "         29, 29, 30, 30, 30, 30, 30, 30, 30, 30, 30, 30, 31, 31, 31, 31,\n",
       "         31, 31, 31, 31, 31, 31, 32, 32, 32, 32, 32, 32, 32, 32, 32, 32,\n",
       "         33, 33, 33, 33, 33, 33, 33, 33, 33, 33, 34, 34, 34, 34, 34, 34,\n",
       "         34, 34, 34, 34, 35, 35, 35, 35, 35, 35, 35, 35, 35, 35, 36, 36,\n",
       "         36, 36, 36, 36, 36, 36, 36, 36, 37, 37, 37, 37, 37, 37, 37, 37,\n",
       "         37, 37, 38, 38, 38, 38, 38, 38, 38, 38, 38, 38, 39, 39, 39, 39,\n",
       "         39, 39, 39, 39, 39, 39, 40, 40, 40, 40, 40, 40, 40, 40, 40, 40,\n",
       "         41, 41, 41, 41, 41, 41, 41, 41, 41, 41, 42, 42, 42, 42, 42, 42,\n",
       "         42, 42, 42, 42, 43, 43, 43, 43, 43, 43, 43, 43, 43, 43, 44, 44,\n",
       "         44, 44, 44, 44, 44, 44, 44, 44, 45, 45, 45, 45, 45, 45, 45, 45,\n",
       "         45, 45, 46, 46, 46, 46, 46, 46, 46, 46, 46, 46, 47, 47, 47, 47,\n",
       "         47, 47, 47, 47, 47, 47, 48, 48, 48, 48, 48, 48, 48, 48, 48, 48,\n",
       "         49, 49, 49, 49, 49, 49, 49, 49, 49, 49, 50, 50, 50, 50, 50, 50,\n",
       "         50, 50, 50, 50, 51, 51, 51, 51, 51, 51, 51, 51, 51, 51, 52, 52,\n",
       "         52, 52, 52, 52, 52, 52, 52, 52]], dtype=uint8)}"
      ]
     },
     "execution_count": 5,
     "metadata": {},
     "output_type": "execute_result"
    }
   ],
   "source": [
    "# Imports\n",
    "import scipy.io as sio # Check, might not need this!!\n",
    "import numpy as np\n",
    "import matplotlib.pyplot as plt\n",
    "\n",
    "#hello \n",
    "\n",
    "# Load the source file with the face data\n",
    "mat_content = sio.loadmat('face.mat')\n",
    "\n",
    "mat_content # Let's see the content... "
   ]
  },
  {
   "cell_type": "code",
   "execution_count": 6,
   "metadata": {},
   "outputs": [
    {
     "name": "stdout",
     "output_type": "stream",
     "text": [
      "[[106 130 191 ...  70 183  77]\n",
      " [103 129 185 ...  62 250  72]\n",
      " [103 130 174 ...  83 163  68]\n",
      " ...\n",
      " [ 37  40  22 ...  87 102  93]\n",
      " [ 36  36  19 ...  89  95 103]\n",
      " [ 41  35  17 ...  94 106 110]]\n",
      "(2576, 520)\n",
      "[[ 1  1  1  1  1  1  1  1  1  1  2  2  2  2  2  2  2  2  2  2  3  3  3  3\n",
      "   3  3  3  3  3  3  4  4  4  4  4  4  4  4  4  4  5  5  5  5  5  5  5  5\n",
      "   5  5  6  6  6  6  6  6  6  6  6  6  7  7  7  7  7  7  7  7  7  7  8  8\n",
      "   8  8  8  8  8  8  8  8  9  9  9  9  9  9  9  9  9  9 10 10 10 10 10 10\n",
      "  10 10 10 10 11 11 11 11 11 11 11 11 11 11 12 12 12 12 12 12 12 12 12 12\n",
      "  13 13 13 13 13 13 13 13 13 13 14 14 14 14 14 14 14 14 14 14 15 15 15 15\n",
      "  15 15 15 15 15 15 16 16 16 16 16 16 16 16 16 16 17 17 17 17 17 17 17 17\n",
      "  17 17 18 18 18 18 18 18 18 18 18 18 19 19 19 19 19 19 19 19 19 19 20 20\n",
      "  20 20 20 20 20 20 20 20 21 21 21 21 21 21 21 21 21 21 22 22 22 22 22 22\n",
      "  22 22 22 22 23 23 23 23 23 23 23 23 23 23 24 24 24 24 24 24 24 24 24 24\n",
      "  25 25 25 25 25 25 25 25 25 25 26 26 26 26 26 26 26 26 26 26 27 27 27 27\n",
      "  27 27 27 27 27 27 28 28 28 28 28 28 28 28 28 28 29 29 29 29 29 29 29 29\n",
      "  29 29 30 30 30 30 30 30 30 30 30 30 31 31 31 31 31 31 31 31 31 31 32 32\n",
      "  32 32 32 32 32 32 32 32 33 33 33 33 33 33 33 33 33 33 34 34 34 34 34 34\n",
      "  34 34 34 34 35 35 35 35 35 35 35 35 35 35 36 36 36 36 36 36 36 36 36 36\n",
      "  37 37 37 37 37 37 37 37 37 37 38 38 38 38 38 38 38 38 38 38 39 39 39 39\n",
      "  39 39 39 39 39 39 40 40 40 40 40 40 40 40 40 40 41 41 41 41 41 41 41 41\n",
      "  41 41 42 42 42 42 42 42 42 42 42 42 43 43 43 43 43 43 43 43 43 43 44 44\n",
      "  44 44 44 44 44 44 44 44 45 45 45 45 45 45 45 45 45 45 46 46 46 46 46 46\n",
      "  46 46 46 46 47 47 47 47 47 47 47 47 47 47 48 48 48 48 48 48 48 48 48 48\n",
      "  49 49 49 49 49 49 49 49 49 49 50 50 50 50 50 50 50 50 50 50 51 51 51 51\n",
      "  51 51 51 51 51 51 52 52 52 52 52 52 52 52 52 52]]\n",
      "(1, 520)\n",
      "[[106 130 191 ...  70 183  77]\n",
      " [103 129 185 ...  62 250  72]\n",
      " [103 130 174 ...  83 163  68]\n",
      " ...\n",
      " [ 36  36  19 ...  89  95 103]\n",
      " [ 41  35  17 ...  94 106 110]\n",
      " [  1   1   1 ...  52  52  52]]\n",
      "(2577, 520)\n",
      "[[106 103 103 ...  36  41   1]\n",
      " [130 129 130 ...  36  35   1]\n",
      " [191 185 174 ...  19  17   1]\n",
      " ...\n",
      " [ 70  62  83 ...  89  94  52]\n",
      " [183 250 163 ...  95 106  52]\n",
      " [ 77  72  68 ... 103 110  52]] (520, 2577)\n"
     ]
    }
   ],
   "source": [
    "# Store face data and classification\n",
    "face_data = mat_content['X']\n",
    "face_label = mat_content['l'] # Not actually used for PCA training, needed for testing\n",
    "\n",
    "# Append the matching data and labels to array 'faces': unnecessary for PCA training as the labels are not used (unsupervised learning)\n",
    "# But we need it later for assessing our algorithms during testing\n",
    "faces = np.append(face_data, face_label, axis=0)\n",
    "\n",
    "# Check data and correct dimensions\n",
    "print(face_data) # Each column represents one face image, each row a pixel value for a particular coordinate of the image\n",
    "print(face_data.shape) # 520 data points in 2576 dimensions\n",
    "print (face_label)\n",
    "print (face_label.shape) # 520 data points\n",
    "print(faces)\n",
    "print(faces.shape)\n",
    "\n",
    "#Transpose in preparation for division into training and testing material\n",
    "faces_transposed = faces.T\n",
    "print (faces_transposed, faces_transposed.shape)"
   ]
  },
  {
   "cell_type": "code",
   "execution_count": 8,
   "metadata": {},
   "outputs": [
    {
     "name": "stdout",
     "output_type": "stream",
     "text": [
      "[[116 116 119 ...  39  40  25]\n",
      " [ 57  56  56 ... 157 152  39]\n",
      " [254 253 253 ...  43  44  38]\n",
      " ...\n",
      " [148 143 116 ...  94  67  31]\n",
      " [ 62  67  59 ... 167 168  26]\n",
      " [ 74  75  68 ... 159 166   2]] (520, 2577)\n",
      "[[116 116 119 ...  39  40  25]\n",
      " [ 57  56  56 ... 157 152  39]\n",
      " [254 253 253 ...  43  44  38]\n",
      " ...\n",
      " [194 123 134 ... 237 231  42]\n",
      " [142  91  97 ...  51  35   3]\n",
      " [142 134 138 ...  74  69  31]] (416, 2577)\n",
      "[[121 111 145 ... 132 133  43]\n",
      " [ 86  88  82 ... 131 108  10]\n",
      " [ 19   9  11 ... 147 133   4]\n",
      " ...\n",
      " [148 143 116 ...  94  67  31]\n",
      " [ 62  67  59 ... 167 168  26]\n",
      " [ 74  75  68 ... 159 166   2]] (104, 2577)\n",
      "[113 116 116 ... 142 145  35] (2577,)\n",
      "[[113 116 116 ... 242 244 106]\n",
      " [117 116 116 ... 245 179  50]\n",
      " [118 117 117 ... 249 109  46]\n",
      " ...\n",
      " [126 127 125 ... 131 136 137]\n",
      " [130 130 126 ... 134 138 141]\n",
      " [132 131 132 ... 138 142 145]] (46, 56)\n"
     ]
    },
    {
     "data": {
      "text/plain": [
       "<matplotlib.image.AxesImage at 0x7f5c16a8d860>"
      ]
     },
     "execution_count": 8,
     "metadata": {},
     "output_type": "execute_result"
    },
    {
     "data": {
      "image/png": "[encoded data removed]",
      "text/plain": [
       "<matplotlib.figure.Figure at 0x7f5c16b8a668>"
      ]
     },
     "metadata": {},
     "output_type": "display_data"
    }
   ],
   "source": [
    "#Divide the data set into training and testing sets: 80% is training, 20% is testing\n",
    "np.random.shuffle(faces_transposed) #Shuffles the rows!! (This is why we transposed)\n",
    "print(faces_transposed, faces_transposed.shape)\n",
    "training, test = faces_transposed[:416,:], faces_transposed[416:,:]\n",
    "print (training, training.shape)\n",
    "print (test, test.shape)\n",
    "image_99 = faces_transposed[99]\n",
    "print(image_99, image_99.shape)\n",
    "image_99 = np.reshape(image_99[:2576], (46, 56))\n",
    "print (image_99, image_99.shape)\n",
    "plt.imshow(image_99.T, cmap = 'gist_gray') # It is a person, so the data manipulation makes sense so far\n",
    "#plt.figure()\n",
    "#plt.imshow(np.reshape(faces_transposed[100, :2576], (46,56)).T, cmap = 'gist_gray') # print 100th image as a sanity check to make sure we have shuffled along the right dimension of the array"
   ]
  },
  {
   "cell_type": "code",
   "execution_count": 10,
   "metadata": {},
   "outputs": [
    {
     "name": "stdout",
     "output_type": "stream",
     "text": [
      "[[116 116 119 ...  39  39  40]\n",
      " [ 57  56  56 ... 168 157 152]\n",
      " [254 253 253 ...  45  43  44]\n",
      " ...\n",
      " [194 123 134 ... 153 237 231]\n",
      " [142  91  97 ...  74  51  35]\n",
      " [142 134 138 ...  77  74  69]] (416, 2576)\n",
      "[124.33413462 124.125      121.80048077 ...  82.57211538  80.99519231\n",
      "  79.6875    ] (2576,)\n"
     ]
    },
    {
     "data": {
      "text/plain": [
       "<matplotlib.image.AxesImage at 0x7f5c163c49e8>"
      ]
     },
     "execution_count": 10,
     "metadata": {},
     "output_type": "execute_result"
    },
    {
     "data": {
      "image/png": "[encoded data removed]",
      "text/plain": [
       "<matplotlib.figure.Figure at 0x7f5c16a7e048>"
      ]
     },
     "metadata": {},
     "output_type": "display_data"
    },
    {
     "data": {
      "image/png": "[encoded data removed]",
      "text/plain": [
       "<matplotlib.figure.Figure at 0x7f5c16a7e3c8>"
      ]
     },
     "metadata": {},
     "output_type": "display_data"
    }
   ],
   "source": [
    "# Now let's start image recognition by PCA\n",
    "# We have face images that are CENTERED and they are of the SAME SIZE (needed for PCA)\n",
    "# They are normalised for scale, orientation and translation\n",
    "\n",
    "# First, we only need the training face set without the labels\n",
    "# Images are represented as rows of the array 'pca_train'\n",
    "pca_train = training [:, :2576]\n",
    "print (pca_train, pca_train.shape)\n",
    "plt.imshow(np.reshape(pca_train[0, :], (46,56)).T, cmap = 'gist_gray') # show the first face image\n",
    "\n",
    "# Let's compute the average face vector\n",
    "avg_face = np.mean(pca_train, axis=0)\n",
    "print (avg_face, avg_face.shape)\n",
    "plt.figure()\n",
    "plt.imshow(np.reshape(avg_face, (46,56)).T, cmap = 'gist_gray')"
   ]
  },
  {
   "cell_type": "code",
   "execution_count": 12,
   "metadata": {},
   "outputs": [
    {
     "name": "stdout",
     "output_type": "stream",
     "text": [
      "[[ -8.33413462  -8.125       -2.80048077 ... -43.57211538 -41.99519231\n",
      "  -39.6875    ]\n",
      " [-67.33413462 -68.125      -65.80048077 ...  85.42788462  76.00480769\n",
      "   72.3125    ]\n",
      " [129.66586538 128.875      131.19951923 ... -37.57211538 -37.99519231\n",
      "  -35.6875    ]\n",
      " ...\n",
      " [ 69.66586538  -1.125       12.19951923 ...  70.42788462 156.00480769\n",
      "  151.3125    ]\n",
      " [ 17.66586538 -33.125      -24.80048077 ...  -8.57211538 -29.99519231\n",
      "  -44.6875    ]\n",
      " [ 17.66586538   9.875       16.19951923 ...  -5.57211538  -6.99519231\n",
      "  -10.6875    ]] (416, 2576)\n",
      "[[1063468.55528846 1002144.625       907715.73317308 ... -170637.52403846\n",
      "  -196991.33173077 -189497.5625    ]\n",
      " [1002144.625      1113159.5        1047397.375      ... -179596.75\n",
      "  -213384.75       -207827.75      ]\n",
      " [ 907715.73317308 1047397.375      1108292.43990385 ... -192650.51442308\n",
      "  -220550.39903846 -215524.9375    ]\n",
      " ...\n",
      " [-170637.52403846 -179596.75       -192650.51442308 ... 1160919.83653846\n",
      "  1120333.14423077 1055300.375     ]\n",
      " [-196991.33173077 -213384.75       -220550.39903846 ... 1120333.14423077\n",
      "  1204267.99038461 1157405.375     ]\n",
      " [-189497.5625     -207827.75       -215524.9375     ... 1055300.375\n",
      "  1157405.375      1223411.375     ]] (2576, 2576)\n",
      "[[2556.41479637 2409.0015024  2182.00897397 ... -410.18635586\n",
      "  -473.53685512 -455.52298678]\n",
      " [2409.0015024  2675.86418269 2517.78215144 ... -431.72295673\n",
      "  -512.94411058 -499.5859375 ]\n",
      " [2182.00897397 2517.78215144 2664.164519   ... -463.10219813\n",
      "  -530.16922846 -518.08879207]\n",
      " ...\n",
      " [-410.18635586 -431.72295673 -463.10219813 ... 2790.67268399\n",
      "  2693.10851979 2536.7797476 ]\n",
      " [-473.53685512 -512.94411058 -530.16922846 ... 2693.10851979\n",
      "  2894.87497689 2782.22445913]\n",
      " [-455.52298678 -499.5859375  -518.08879207 ... 2536.7797476\n",
      "  2782.22445913 2940.89272837]] (2576, 2576)\n"
     ]
    },
    {
     "data": {
      "image/png": "[encoded data removed]",
      "text/plain": [
       "<matplotlib.figure.Figure at 0x7f5c163c4f28>"
      ]
     },
     "metadata": {},
     "output_type": "display_data"
    }
   ],
   "source": [
    "# Now let's subtract the mean face from all of our face images\n",
    "\n",
    "pca_train_norm = pca_train-avg_face # works because of broadcasting\n",
    "print (pca_train_norm, pca_train_norm.shape)\n",
    "plt.imshow(np.reshape(pca_train_norm[0, :], (46,56)).T, cmap = 'gist_gray') \n",
    "# show the first normalised face image and compare it to the previously printed image: not the same\n",
    "\n",
    "# Computing the covariance matrix\n",
    "cov = np.dot(pca_train_norm.T, pca_train_norm)\n",
    "print (cov, cov.shape)\n",
    "cov = cov/416\n",
    "print (cov, cov.shape)"
   ]
  },
  {
   "cell_type": "code",
   "execution_count": 13,
   "metadata": {},
   "outputs": [
    {
     "name": "stdout",
     "output_type": "stream",
     "text": [
      "[9.18996711e+05+0.0000000e+00j 5.30578418e+05+0.0000000e+00j\n",
      " 4.58138675e+05+0.0000000e+00j ... 3.25259842e-13-6.6777521e-14j\n",
      " 2.83885794e-13+0.0000000e+00j 1.83147187e-13+0.0000000e+00j] (2576,)\n",
      "[[ 1.12587501e-02+0.00000000e+00j -1.44934041e-02+0.00000000e+00j\n",
      "  -1.55265759e-02+0.00000000e+00j ... -1.24112799e-03-3.35729440e-04j\n",
      "  -1.01343955e-03+0.00000000e+00j -6.96234813e-04+0.00000000e+00j]\n",
      " [ 1.27822969e-02+0.00000000e+00j -1.47973615e-02+0.00000000e+00j\n",
      "  -1.71302391e-02+0.00000000e+00j ...  7.82406197e-04-6.07653994e-05j\n",
      "   7.61585074e-04+0.00000000e+00j  2.96421538e-04+0.00000000e+00j]\n",
      " [ 1.42266006e-02+0.00000000e+00j -1.48136952e-02+0.00000000e+00j\n",
      "  -1.92480708e-02+0.00000000e+00j ... -1.17404081e-04-2.63474131e-04j\n",
      "  -1.76380900e-04+0.00000000e+00j -5.81863186e-05+0.00000000e+00j]\n",
      " ...\n",
      " [-3.77383093e-03+0.00000000e+00j  4.75081532e-02+0.00000000e+00j\n",
      "   1.94152694e-04+0.00000000e+00j ... -7.31707315e-03-2.33151099e-03j\n",
      "  -1.32912717e-02+0.00000000e+00j  2.51809719e-03+0.00000000e+00j]\n",
      " [-3.33298152e-03+0.00000000e+00j  4.80219488e-02+0.00000000e+00j\n",
      "   1.06329689e-03+0.00000000e+00j ...  3.36318932e-06+1.75512626e-03j\n",
      "  -2.85222050e-03+0.00000000e+00j -9.13055538e-03+0.00000000e+00j]\n",
      " [-2.95196174e-03+0.00000000e+00j  4.87475920e-02+0.00000000e+00j\n",
      "   2.32307791e-03+0.00000000e+00j ... -8.14937880e-03-4.04852276e-03j\n",
      "  -1.08221449e-02+0.00000000e+00j -1.78703614e-02+0.00000000e+00j]] (2576, 2576)\n",
      "[9.18996711e+05 5.30578418e+05 4.58138675e+05 ... 3.32043977e-13\n",
      " 2.83885794e-13 1.83147187e-13] (2576,)\n",
      "[2571 2565 2566 ...    2    1    0] (2576,)\n",
      "[   0    1    2 ... 2566 2565 2571] (2576,)\n",
      "[   0    1    2 ... 2573 2574 2575] (2576,)\n",
      "[9.18996711e+05 5.30578418e+05 4.58138675e+05 ... 1.73168672e-13\n",
      " 1.73168672e-13 5.25825558e-14] (2576,)\n"
     ]
    },
    {
     "data": {
      "image/png": "[encoded data removed]",
      "text/plain": [
       "<matplotlib.figure.Figure at 0x7f5c16363fd0>"
      ]
     },
     "metadata": {},
     "output_type": "display_data"
    }
   ],
   "source": [
    "# Computing the eigenvalues and eigenvectors of the covariance matrix\n",
    "eigvals, eigvecs = np.linalg.eig(cov) # these are not ordered, so we order them and the corresponding eigenvalues\n",
    "print (eigvals, eigvals.shape)\n",
    "print (eigvecs, eigvecs.shape)\n",
    "\n",
    "# take absolute value of the complex eigenvalues so that ordering them makes sense\n",
    "eigvals = abs(eigvals)\n",
    "print (eigvals, eigvals.shape)\n",
    "\n",
    "# order them\n",
    "print (eigvals.argsort(), eigvals.argsort().shape)\n",
    "index = eigvals.argsort()[::-1] # argsort returns the indices that would sort an array (in this case the vector eigvals)\n",
    "print (index, index.shape)\n",
    "eigvals = eigvals[index]\n",
    "eigvecs = eigvecs[:,index]\n",
    "\n",
    "x = np.arange(0, 2576)\n",
    "print (x, x.shape)\n",
    "print (eigvals, eigvals.shape)\n",
    "\n",
    "# plot them\n",
    "plt.subplot(3, 1, 1)\n",
    "plt.plot(x, eigvals) # clearly out of scale, so let's just take the first 200 of them\n",
    "plt.title('All eigenvalues of the covariance matrix')\n",
    "\n",
    "plt.subplot(3, 1, 2)\n",
    "plt.plot(x[:200], eigvals[:200]) # still out of scale, so let's just take the first 20 of them\n",
    "plt.title('First 200 eigenvalues of the covariance matrix')\n",
    "\n",
    "plt.subplot(3, 1, 3)\n",
    "plt.plot(x[:20], eigvals[:20])\n",
    "plt.title('First 20 eigenvalues of the covariance matrix')\n",
    "plt.show()"
   ]
  },
  {
   "cell_type": "code",
   "execution_count": 40,
   "metadata": {},
   "outputs": [
    {
     "name": "stdout",
     "output_type": "stream",
     "text": [
      "[[-0.01184111+0.j          0.01179055+0.j         -0.01671317+0.j\n",
      "  ...  0.00258776-0.00252627j  0.00258776+0.00252627j\n",
      "  -0.00643122+0.0033974j ]\n",
      " [-0.01311302+0.j          0.01115454+0.j         -0.01747608+0.j\n",
      "  ... -0.00287677-0.00403543j -0.00287677+0.00403543j\n",
      "  -0.00265865+0.00121782j]\n",
      " [-0.01369716+0.j          0.01014372+0.j         -0.01956419+0.j\n",
      "  ... -0.00365036+0.00210883j -0.00365036-0.00210883j\n",
      "  -0.003983  -0.00068367j]\n",
      " ...\n",
      " [ 0.00588387+0.j         -0.04832684+0.j          0.00896897+0.j\n",
      "  ...  0.00229572+0.00444414j  0.00229572-0.00444414j\n",
      "   0.00807314+0.03070791j]\n",
      " [ 0.00619546+0.j         -0.04737536+0.j          0.0097198 +0.j\n",
      "  ...  0.01308205+0.01032753j  0.01308205-0.01032753j\n",
      "  -0.00635302+0.01524286j]\n",
      " [ 0.00598211+0.j         -0.04689749+0.j          0.01125619+0.j\n",
      "  ... -0.00493942+0.04500044j -0.00493942-0.04500044j\n",
      "  -0.00478409-0.02906701j]] (2576, 500)\n",
      "[9.20413403e+05 5.46717154e+05 4.62295788e+05 2.50827480e+05\n",
      " 2.02555191e+05 1.50025145e+05 1.24460941e+05 1.07448169e+05\n",
      " 9.26274689e+04 8.55767423e+04 6.31466611e+04 5.75277700e+04\n",
      " 5.30126926e+04 4.70481350e+04 4.51110739e+04 4.37116193e+04\n",
      " 3.63572883e+04 3.45486721e+04 3.32435970e+04 3.07416584e+04\n",
      " 2.91754728e+04 2.64505811e+04 2.45537943e+04 2.35354653e+04\n",
      " 2.27951994e+04 2.20449568e+04 2.14783443e+04 1.98342646e+04\n",
      " 1.85321591e+04 1.75045163e+04 1.68586869e+04 1.64526917e+04\n",
      " 1.57671358e+04 1.57220851e+04 1.42949483e+04 1.40598964e+04\n",
      " 1.36503006e+04 1.32513570e+04 1.26937741e+04 1.22932076e+04\n",
      " 1.20588322e+04 1.17221033e+04 1.14708179e+04 1.07359870e+04\n",
      " 1.04078852e+04 1.00143634e+04 9.86538780e+03 9.45660813e+03\n",
      " 9.29963622e+03 8.97962877e+03 8.78182259e+03 8.57210493e+03\n",
      " 8.23881454e+03 7.96891877e+03 7.91390911e+03 7.72369018e+03\n",
      " 7.67484089e+03 7.34996281e+03 7.30539998e+03 7.16802465e+03\n",
      " 6.94064800e+03 6.58330983e+03 6.41271832e+03 6.37611809e+03\n",
      " 6.11669041e+03 6.08729327e+03 5.96507154e+03 5.71492506e+03\n",
      " 5.63804107e+03 5.52488918e+03 5.38506090e+03 5.21951378e+03\n",
      " 5.12890902e+03 5.04199665e+03 4.92590131e+03 4.86386698e+03\n",
      " 4.81115746e+03 4.74179671e+03 4.64461472e+03 4.58265897e+03\n",
      " 4.42832715e+03 4.32483915e+03 4.25359517e+03 4.20976369e+03\n",
      " 4.18658750e+03 4.12538547e+03 3.98775477e+03 3.91454948e+03\n",
      " 3.90866733e+03 3.78949464e+03 3.76207126e+03 3.63307223e+03\n",
      " 3.58244599e+03 3.55157951e+03 3.51697819e+03 3.45844006e+03\n",
      " 3.40213943e+03 3.33724782e+03 3.26906789e+03 3.22599658e+03\n",
      " 3.20664352e+03 3.10857620e+03 3.04998194e+03 2.99345912e+03\n",
      " 2.95452745e+03 2.89180221e+03 2.87550396e+03 2.84297727e+03\n",
      " 2.79194873e+03 2.74737438e+03 2.73095987e+03 2.69702025e+03\n",
      " 2.66616620e+03 2.61987452e+03 2.59132261e+03 2.56414777e+03\n",
      " 2.52170077e+03 2.48974468e+03 2.47718510e+03 2.43896398e+03\n",
      " 2.42199242e+03 2.38510773e+03 2.33207635e+03 2.30469035e+03\n",
      " 2.28185249e+03 2.24444616e+03 2.22951832e+03 2.22027967e+03\n",
      " 2.18527300e+03 2.16697899e+03 2.13146255e+03 2.11510850e+03\n",
      " 2.09542248e+03 2.06604223e+03 2.05235487e+03 2.00760928e+03\n",
      " 1.97490721e+03 1.94391224e+03 1.92941692e+03 1.91003799e+03\n",
      " 1.88055484e+03 1.86063462e+03 1.83827158e+03 1.82456610e+03\n",
      " 1.81224459e+03 1.80145880e+03 1.77166375e+03 1.76625702e+03\n",
      " 1.73244284e+03 1.71506622e+03 1.68955849e+03 1.66719703e+03\n",
      " 1.63993208e+03 1.62046164e+03 1.60945328e+03 1.59275681e+03\n",
      " 1.58268053e+03 1.55104136e+03 1.52230288e+03 1.48829983e+03\n",
      " 1.48495313e+03 1.47149833e+03 1.46121387e+03 1.44061068e+03\n",
      " 1.42663238e+03 1.40783811e+03 1.39771365e+03 1.39170747e+03\n",
      " 1.38128126e+03 1.36393323e+03 1.33798163e+03 1.31108360e+03\n",
      " 1.30984197e+03 1.30137344e+03 1.29439638e+03 1.28679566e+03\n",
      " 1.25644598e+03 1.23944711e+03 1.22632236e+03 1.20967726e+03\n",
      " 1.20508834e+03 1.19583773e+03 1.17759594e+03 1.17126906e+03\n",
      " 1.16659206e+03 1.16162527e+03 1.14826441e+03 1.12425457e+03\n",
      " 1.11671731e+03 1.10227890e+03 1.09107456e+03 1.08270239e+03\n",
      " 1.07955511e+03 1.07090699e+03 1.05995831e+03 1.04719559e+03\n",
      " 1.03630350e+03 1.02246705e+03 1.01639463e+03 1.01194548e+03\n",
      " 1.00163919e+03 9.90674879e+02 9.75002812e+02 9.71149253e+02\n",
      " 9.58248556e+02 9.52981245e+02 9.49903394e+02 9.38225430e+02\n",
      " 9.30800107e+02 9.20467029e+02 9.16352701e+02 9.09455305e+02\n",
      " 9.02864116e+02 8.93795608e+02 8.85356993e+02 8.82531552e+02\n",
      " 8.75771322e+02 8.65564691e+02 8.59021457e+02 8.47812336e+02\n",
      " 8.45362313e+02 8.38691947e+02 8.33677003e+02 8.28257717e+02\n",
      " 8.13769402e+02 8.05305024e+02 7.96272713e+02 7.89258618e+02\n",
      " 7.80436571e+02 7.75370643e+02 7.69317063e+02 7.61584377e+02\n",
      " 7.51251999e+02 7.48075930e+02 7.46825235e+02 7.34797051e+02\n",
      " 7.23959645e+02 7.19861729e+02 7.14470430e+02 7.12578534e+02\n",
      " 7.02346887e+02 6.94544621e+02 6.92181083e+02 6.84671006e+02\n",
      " 6.76215368e+02 6.71480260e+02 6.66671481e+02 6.62207692e+02\n",
      " 6.57414964e+02 6.54281265e+02 6.47821762e+02 6.38982828e+02\n",
      " 6.26053684e+02 6.24782646e+02 6.19894421e+02 6.12054207e+02\n",
      " 6.08474275e+02 6.06954737e+02 6.02844137e+02 5.88501889e+02\n",
      " 5.86830452e+02 5.84836125e+02 5.77558567e+02 5.75963559e+02\n",
      " 5.69496900e+02 5.65763865e+02 5.61738942e+02 5.58299482e+02\n",
      " 5.49503619e+02 5.47727679e+02 5.40795951e+02 5.38300740e+02\n",
      " 5.32493903e+02 5.22548906e+02 5.19305920e+02 5.16236479e+02\n",
      " 5.12764447e+02 5.12125700e+02 5.03816264e+02 4.96989371e+02\n",
      " 4.93733857e+02 4.85268128e+02 4.83332789e+02 4.74734236e+02\n",
      " 4.72549025e+02 4.72014922e+02 4.66094797e+02 4.64953100e+02\n",
      " 4.62696882e+02 4.55980363e+02 4.50906491e+02 4.42309282e+02\n",
      " 4.37738414e+02 4.34569904e+02 4.33556247e+02 4.29646295e+02\n",
      " 4.26463687e+02 4.21783563e+02 4.20102407e+02 4.16892780e+02\n",
      " 4.11784244e+02 4.07736319e+02 4.04316621e+02 4.01491692e+02\n",
      " 4.01032020e+02 3.96164293e+02 3.94128333e+02 3.87790785e+02\n",
      " 3.82894451e+02 3.80292226e+02 3.76281561e+02 3.75117331e+02\n",
      " 3.72360030e+02 3.71094233e+02 3.65609413e+02 3.61823013e+02\n",
      " 3.59157470e+02 3.54319663e+02 3.53601013e+02 3.52862627e+02\n",
      " 3.47941805e+02 3.42905335e+02 3.38607219e+02 3.34820756e+02\n",
      " 3.30507096e+02 3.25156180e+02 3.24978519e+02 3.21635925e+02\n",
      " 3.14465314e+02 3.11670838e+02 3.08953315e+02 3.07738766e+02\n",
      " 3.05399084e+02 3.02009394e+02 3.00717775e+02 2.95630358e+02\n",
      " 2.94526944e+02 2.90447931e+02 2.89401044e+02 2.86868233e+02\n",
      " 2.85100906e+02 2.83490674e+02 2.78943966e+02 2.74627646e+02\n",
      " 2.72820849e+02 2.70108885e+02 2.67816673e+02 2.64543474e+02\n",
      " 2.61924772e+02 2.60554143e+02 2.56254280e+02 2.55977502e+02\n",
      " 2.51896381e+02 2.50165705e+02 2.44187801e+02 2.43638276e+02\n",
      " 2.40910211e+02 2.38975028e+02 2.36887909e+02 2.35293390e+02\n",
      " 2.32379884e+02 2.30658560e+02 2.27314607e+02 2.23482868e+02\n",
      " 2.22216144e+02 2.19990117e+02 2.18475905e+02 2.16835199e+02\n",
      " 2.14455389e+02 2.11239781e+02 2.09140100e+02 2.07611299e+02\n",
      " 2.04152816e+02 1.99532100e+02 1.97826719e+02 1.96455503e+02\n",
      " 1.93003707e+02 1.91897132e+02 1.90573977e+02 1.88472752e+02\n",
      " 1.82974663e+02 1.82285951e+02 1.81836070e+02 1.78078559e+02\n",
      " 1.75054994e+02 1.71691540e+02 1.70898733e+02 1.68889572e+02\n",
      " 1.64968047e+02 1.64166180e+02 1.62150952e+02 1.60449647e+02\n",
      " 1.57651321e+02 1.53997811e+02 1.52486219e+02 1.50513067e+02\n",
      " 1.48051244e+02 1.45125586e+02 1.39963367e+02 1.39309288e+02\n",
      " 1.36774782e+02 1.34570006e+02 1.33235319e+02 1.28787188e+02\n",
      " 1.26549653e+02 1.21718692e+02 1.21098430e+02 1.19939780e+02\n",
      " 1.17016726e+02 1.11065427e+02 1.08479823e+02 1.05296307e+02\n",
      " 9.80372268e+01 9.23904793e+01 8.75422078e+01 3.96176964e-11\n",
      " 3.92624121e-11 3.49212554e-11 3.46741761e-11 3.13190280e-11\n",
      " 2.97384976e-11 2.65613039e-11 2.59381257e-11 2.47760715e-11\n",
      " 2.36337437e-11 2.35608362e-11 2.35608362e-11 2.34094077e-11\n",
      " 2.24580579e-11 2.22076409e-11 2.15092149e-11 2.15092149e-11\n",
      " 2.10645149e-11 2.10645149e-11 2.08930226e-11 2.06300765e-11\n",
      " 2.06300765e-11 2.04756060e-11 2.04756060e-11 2.04412305e-11\n",
      " 2.04412305e-11 1.97692642e-11 1.97692642e-11 1.97338421e-11\n",
      " 1.97338421e-11 1.95814392e-11 1.92539506e-11 1.92539506e-11\n",
      " 1.88878111e-11 1.88878111e-11 1.87287153e-11 1.87287153e-11\n",
      " 1.85488125e-11 1.85488125e-11 1.84811784e-11 1.84811784e-11\n",
      " 1.82870768e-11 1.82870768e-11 1.78651667e-11 1.78651667e-11\n",
      " 1.77134138e-11 1.77134138e-11 1.76817392e-11 1.76817392e-11\n",
      " 1.76166814e-11 1.76166814e-11 1.75713722e-11 1.74466854e-11\n",
      " 1.74466854e-11 1.73925842e-11 1.73925842e-11 1.71613015e-11\n",
      " 1.71613015e-11 1.70563003e-11 1.70563003e-11 1.69382219e-11\n",
      " 1.69382219e-11 1.68681143e-11 1.68681143e-11 1.67286318e-11\n",
      " 1.67286318e-11 1.65857919e-11 1.64984312e-11 1.64984312e-11\n",
      " 1.64423627e-11 1.64423627e-11 1.63279700e-11 1.63279700e-11\n",
      " 1.61563497e-11 1.59869294e-11 1.59869294e-11 1.59168462e-11\n",
      " 1.59168462e-11 1.58849587e-11 1.58849587e-11 1.58837556e-11\n",
      " 1.58837556e-11 1.58811811e-11 1.58811811e-11 1.57995141e-11] (500,)\n"
     ]
    },
    {
     "name": "stdout",
     "output_type": "stream",
     "text": [
      "[[  285.23792789   592.62794074    64.78034571 ...   377.11289153\n",
      "    377.11289153   361.86482208]\n",
      " [ -822.63967068 -1165.55527394  -829.84500159 ...  -956.73792068\n",
      "   -956.73792068  -965.3816653 ]\n",
      " [  382.31650794   446.08376111   432.9754115  ...   387.96091848\n",
      "    387.96091848   431.94900242]\n",
      " ...\n",
      " [ 1558.46577147   328.29846939   824.12772503 ...  1109.56917774\n",
      "   1109.56917774  1100.50141246]\n",
      " [-1093.56674657  -914.55256134  -199.05595384 ...  -920.08223419\n",
      "   -920.08223419  -961.79751446]\n",
      " [ 1710.56465907  1420.75788436  1010.66722525 ...  1544.00905512\n",
      "   1544.00905512  1585.35832144]] (416, 500)\n"
     ]
    }
   ],
   "source": [
    "# We just keep the first n eigenvectors and eigenvalues\n",
    "\n",
    "n = 500\n",
    "eigvecs_best = eigvecs[:, :n]\n",
    "eigvals_best = eigvals[:n]\n",
    "print (eigvecs_best, eigvecs_best.shape)\n",
    "print (eigvals_best, eigvals_best.shape)\n",
    "\n",
    "# Projecting each training data point to the space spanned by the eigenvectors\n",
    "proj_pca_train_norm = np.zeros((416, n))\n",
    "for i in range(416):\n",
    "    proj_pca_train_norm [i, :] = np.dot(pca_train_norm[i, :], abs(eigvecs_best))\n",
    "    \n",
    "print (proj_pca_train_norm, proj_pca_train_norm.shape)\n",
    "\n",
    "# Now in array proj_pca_train_norm, in each row, we have the projected coordinates for each face image"
   ]
  },
  {
   "cell_type": "code",
   "execution_count": 42,
   "metadata": {},
   "outputs": [
    {
     "name": "stdout",
     "output_type": "stream",
     "text": [
      "[-9429.96492628 -8517.91779197 -8056.35814756 ... -8744.89748707\n",
      " -9178.01254147 -9991.98989702] (2576,)\n"
     ]
    },
    {
     "data": {
      "text/plain": [
       "<matplotlib.image.AxesImage at 0x7f2fa0a835f8>"
      ]
     },
     "execution_count": 42,
     "metadata": {},
     "output_type": "execute_result"
    },
    {
     "data": {
      "image/png": "[encoded data removed]",
      "text/plain": [
       "<matplotlib.figure.Figure at 0x7f2fa12a5668>"
      ]
     },
     "metadata": {},
     "output_type": "display_data"
    }
   ],
   "source": [
    "# Let's try to reconstruct one face image, just as a sanity check to see if it is still the same face (worse quality of course, because we did a lossy transformation on it)\n",
    "face_check = avg_face + np.dot(abs(eigvecs_best), proj_pca_train_norm[414, :])\n",
    "print (face_check, face_check.shape)\n",
    "plt.imshow(np.reshape(face_check, (46,56)).T, cmap = 'gist_gray')"
   ]
  },
  {
   "cell_type": "code",
   "execution_count": 30,
   "metadata": {},
   "outputs": [
    {
     "name": "stdout",
     "output_type": "stream",
     "text": [
      "(2576,)\n",
      "[ 55  55  54 ... 168 168 174]\n"
     ]
    }
   ],
   "source": [
    "face_157 = face_data[:,157]\n",
    "\n",
    "print(face_157.shape)\n",
    "print(face_157)"
   ]
  },
  {
   "cell_type": "code",
   "execution_count": null,
   "metadata": {},
   "outputs": [],
   "source": []
  },
  {
   "cell_type": "code",
   "execution_count": 5,
   "metadata": {},
   "outputs": [
    {
     "data": {
      "text/plain": [
       "<matplotlib.image.AxesImage at 0x7f6493c92470>"
      ]
     },
     "execution_count": 5,
     "metadata": {},
     "output_type": "execute_result"
    },
    {
     "data": {
      "image/png": "[encoded data removed]",
      "text/plain": [
       "<matplotlib.figure.Figure at 0x7f649409ab38>"
      ]
     },
     "metadata": {},
     "output_type": "display_data"
    }
   ],
   "source": [
    "# face data is in 46x56 format\n",
    "\n",
    "face_157 = np.reshape(face_157,(46,56))\n",
    "\n",
    "plt.imshow(face_157, cmap = 'gist_gray')"
   ]
  },
  {
   "cell_type": "code",
   "execution_count": 6,
   "metadata": {},
   "outputs": [
    {
     "data": {
      "text/plain": [
       "<matplotlib.image.AxesImage at 0x7f64939e3ba8>"
      ]
     },
     "execution_count": 6,
     "metadata": {},
     "output_type": "execute_result"
    },
    {
     "data": {
      "image/png": "[encoded data removed]",
      "text/plain": [
       "<matplotlib.figure.Figure at 0x7f649407a400>"
      ]
     },
     "metadata": {},
     "output_type": "display_data"
    }
   ],
   "source": [
    "face_157 = face_157.T\n",
    "plt.imshow(face_157,cmap = 'gist_gray')"
   ]
  },
  {
   "cell_type": "code",
   "execution_count": 7,
   "metadata": {},
   "outputs": [
    {
     "name": "stdout",
     "output_type": "stream",
     "text": [
      "16\n"
     ]
    }
   ],
   "source": [
    "face_labels = mat_content['l']\n",
    "print(face_labels[0,157])"
   ]
  },
  {
   "cell_type": "code",
   "execution_count": 8,
   "metadata": {},
   "outputs": [
    {
     "name": "stdout",
     "output_type": "stream",
     "text": [
      "[[ 55  53  56 ...  70  69  75]\n",
      " [ 55  54  54 ...  70  69  66]\n",
      " [ 54  55  55 ...  69  70  69]\n",
      " ...\n",
      " [188 185 176 ... 172 172 168]\n",
      " [184 185 180 ... 178 179 168]\n",
      " [182 184 184 ... 181 181 174]]\n",
      "(56, 46)\n"
     ]
    }
   ],
   "source": [
    "print(face_157)\n",
    "print(face_157.shape)"
   ]
  },
  {
   "cell_type": "code",
   "execution_count": 9,
   "metadata": {},
   "outputs": [
    {
     "name": "stdout",
     "output_type": "stream",
     "text": [
      "104\n"
     ]
    }
   ],
   "source": [
    "pixel_row = 21\n",
    "pixel_column = 33\n",
    "print(face_157[pixel_row,pixel_column])"
   ]
  },
  {
   "cell_type": "code",
   "execution_count": 10,
   "metadata": {},
   "outputs": [
    {
     "name": "stdout",
     "output_type": "stream",
     "text": [
      "[105. 108. 122. ...  83.  67.  58.]\n"
     ]
    },
    {
     "data": {
      "image/png": "[encoded data removed]",
      "text/plain": [
       "<matplotlib.figure.Figure at 0x7f64939f9a58>"
      ]
     },
     "metadata": {},
     "output_type": "display_data"
    }
   ],
   "source": [
    "face_1 = face_data[:,5]\n",
    "face_2 = face_data[:,180]\n",
    "\n",
    "avg_face = (0.5*face_1 + 0.5*face_2)\n",
    "\n",
    "plt.subplot(311),plt.imshow(np.reshape(face_1,(46,56)).T, cmap = 'gist_gray')\n",
    "plt.title('Face 1'), plt.xticks([]), plt.yticks([])\n",
    "plt.subplot(312),plt.imshow(np.reshape(face_2,(46,56)).T, cmap = 'gist_gray')\n",
    "plt.title('Face 2'), plt.xticks([]), plt.yticks([])\n",
    "plt.subplot(313),plt.imshow(np.reshape(avg_face,(46,56)).T, cmap = 'gist_gray')\n",
    "plt.title('Face 2'), plt.xticks([]), plt.yticks([])\n",
    "\n",
    "print(avg_face)\n",
    "plt.show()"
   ]
  },
  {
   "cell_type": "code",
   "execution_count": 11,
   "metadata": {},
   "outputs": [
    {
     "name": "stdout",
     "output_type": "stream",
     "text": [
      "(2576,)\n",
      "(2, 2576)\n"
     ]
    },
    {
     "data": {
      "text/plain": [
       "<matplotlib.image.AxesImage at 0x7f6493885908>"
      ]
     },
     "execution_count": 11,
     "metadata": {},
     "output_type": "execute_result"
    },
    {
     "data": {
      "image/png": "[encoded data removed]",
      "text/plain": [
       "<matplotlib.figure.Figure at 0x7f64939f34a8>"
      ]
     },
     "metadata": {},
     "output_type": "display_data"
    }
   ],
   "source": [
    "face_stack = np.vstack((face_1,face_2))\n",
    "print(face_1.shape)\n",
    "print(face_stack.shape)\n",
    "\n",
    "avg_face_numpy = np.mean(face_stack, axis = 0)\n",
    "plt.imshow(np.reshape(avg_face_numpy,(46,56)).T, cmap = 'gist_gray')"
   ]
  },
  {
   "cell_type": "code",
   "execution_count": null,
   "metadata": {},
   "outputs": [],
   "source": []
  }
 ],
 "metadata": {
  "kernelspec": {
   "display_name": "Python 3",
   "language": "python",
   "name": "python3"
  },
  "language_info": {
   "codemirror_mode": {
    "name": "ipython",
    "version": 3
   },
   "file_extension": ".py",
   "mimetype": "text/x-python",
   "name": "python",
   "nbconvert_exporter": "python",
   "pygments_lexer": "ipython3",
   "version": "3.7.0"
  }
 },
 "nbformat": 4,
 "nbformat_minor": 2
}
